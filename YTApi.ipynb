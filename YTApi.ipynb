{
 "cells": [
  {
   "attachments": {},
   "cell_type": "markdown",
   "metadata": {},
   "source": [
    "# Importaciones"
   ]
  },
  {
   "cell_type": "code",
   "execution_count": 135,
   "metadata": {},
   "outputs": [],
   "source": [
    "import json \n",
    "import datetime\n",
    "import re\n",
    "\n",
    "import pandas as pd \n",
    "from googleapiclient.errors import HttpError\n",
    "from Google import Create_Service"
   ]
  },
  {
   "attachments": {},
   "cell_type": "markdown",
   "metadata": {},
   "source": [
    "# Obtención de datos"
   ]
  },
  {
   "attachments": {},
   "cell_type": "markdown",
   "metadata": {},
   "source": [
    "## Llamamiento a la API de YouTube"
   ]
  },
  {
   "attachments": {},
   "cell_type": "markdown",
   "metadata": {},
   "source": [
    "Para obtener los datos vamos a usar las descripciones en cada video de las mañaneras. Pues nos provee de un resumen del video del día. De esta manera ya no tenemos que lidiar con conversaciones del presidente cuando usamos las transcripciones."
   ]
  },
  {
   "attachments": {},
   "cell_type": "markdown",
   "metadata": {},
   "source": [
    "Función que utiliza expresiones regulares para obtener los segundos totales de una duración dada."
   ]
  },
  {
   "cell_type": "code",
   "execution_count": 136,
   "metadata": {},
   "outputs": [],
   "source": [
    "def convert_duration(duration):\n",
    "    try:\n",
    "        h = int(re.search('\\d+H', duration)[0][:-1]) * 60**2  if re.search('\\d+H', duration) else 0 # hour\n",
    "        m = int(re.search('\\d+M', duration)[0][:-1]) * 60  if re.search('\\d+M', duration) else 0 # minute\n",
    "        s = int(re.search('\\d+S', duration)[0][:-1])  if re.search('\\d+S', duration) else 0 # second\n",
    "        return h + m + s\n",
    "    except Exception as e:\n",
    "        print(e)\n",
    "        return 0 "
   ]
  },
  {
   "cell_type": "code",
   "execution_count": 137,
   "metadata": {},
   "outputs": [],
   "source": [
    "def retrieve_playlists(service, channelId):\n",
    "    playlists =[]\n",
    "    try:\n",
    "        response = service.playlists().list(\n",
    "            part = 'contentDetails, snippet, status',\n",
    "            channelId = channelId,\n",
    "            maxResults = 50\n",
    "        ).execute()\n",
    "\n",
    "        playlists.extend(response.get('items'))\n",
    "        nextPageToken = response.get('nextPageToken')\n",
    "\n",
    "        while nextPageToken:\n",
    "            response = service.playlists().list(\n",
    "                part = 'contentDetails, snippet, status',\n",
    "                channelId = channelId,\n",
    "                maxResults = 50,\n",
    "                pageToken = nextPageToken\n",
    "            ).execute()\n",
    "\n",
    "            playlists.extend(response.get('items'))\n",
    "            nextPageToken = response.get('nextPageToken')\n",
    "\n",
    "        return playlists\n",
    "\n",
    "    except HttpError as e:\n",
    "        errMsg = json.loads(e.content)\n",
    "        print(\"HTTP Error: \")\n",
    "        print(errMsg['error']['message'])\n",
    "        return []"
   ]
  },
  {
   "attachments": {},
   "cell_type": "markdown",
   "metadata": {},
   "source": [
    "Función que hace la petición a la API de youtube"
   ]
  },
  {
   "cell_type": "code",
   "execution_count": 138,
   "metadata": {},
   "outputs": [],
   "source": [
    "def retrieve_playlists_items(service, playlistId):\n",
    "    items =[]\n",
    "    try:\n",
    "        response = service.playlistItems().list(\n",
    "            part = 'contentDetails, snippet, status',\n",
    "            playlistId = playlistId,\n",
    "            maxResults = 5\n",
    "        ).execute()\n",
    "\n",
    "        items.extend(response.get('items'))\n",
    "        nextPageToken = response.get('nextPageToken')\n",
    "\n",
    "        while nextPageToken:\n",
    "            response = service.playlistItems().list(\n",
    "                part = 'contentDetails, snippet, status',\n",
    "                playlistId = playlistId,\n",
    "                maxResults = 5,\n",
    "                pageToken = nextPageToken\n",
    "            ).execute()\n",
    "\n",
    "            items.extend(response.get('items'))\n",
    "            nextPageToken = response.get('nextPageToken')\n",
    "\n",
    "        return items\n",
    "\n",
    "    except HttpError as e:\n",
    "        errMsg = json.loads(e.content)\n",
    "        print(\"HTTP Error: \")\n",
    "        print(errMsg['error']['message'])\n",
    "        return []"
   ]
  },
  {
   "attachments": {},
   "cell_type": "markdown",
   "metadata": {},
   "source": [
    "Creando constantes para llamar a la API"
   ]
  },
  {
   "cell_type": "code",
   "execution_count": 139,
   "metadata": {},
   "outputs": [
    {
     "name": "stdout",
     "output_type": "stream",
     "text": [
      "client_secret.json-youtube-v3-(['https://www.googleapis.com/auth/youtube.readonly'],)\n",
      "['https://www.googleapis.com/auth/youtube.readonly']\n",
      "youtube service created successfully\n"
     ]
    }
   ],
   "source": [
    "CLIENT_SECRETS_FILE = 'client_secret.json'  # Archivo .json que se obtiene al crear las credenciales OAuth en https://console.cloud.google.com/\n",
    "API_NAME = 'youtube'\n",
    "API_VERSION = 'v3'\n",
    "SCOPES = ['https://www.googleapis.com/auth/youtube.readonly']\n",
    "\n",
    "service = Create_Service(CLIENT_SECRETS_FILE, API_NAME, API_VERSION, SCOPES)"
   ]
  },
  {
   "attachments": {},
   "cell_type": "markdown",
   "metadata": {},
   "source": [
    "El objeto <code>service</code> nos da accesos a todos los recursos de la API"
   ]
  },
  {
   "cell_type": "code",
   "execution_count": 140,
   "metadata": {},
   "outputs": [
    {
     "data": {
      "text/plain": [
       "['__class__', '__delattr__', '__dict__', '__dir__', '__doc__', '__enter__', '__eq__', '__exit__', '__format__', '__ge__', '__getattribute__', '__getstate__', '__gt__', '__hash__', '__init__', '__init_subclass__', '__le__', '__lt__', '__module__', '__ne__', '__new__', '__reduce__', '__reduce_ex__', '__repr__', '__setattr__', '__setstate__', '__sizeof__', '__str__', '__subclasshook__', '__weakref__', '_add_basic_methods', '_add_nested_resources', '_add_next_methods', '_baseUrl', '_developerKey', '_dynamic_attrs', '_http', '_model', '_requestBuilder', '_resourceDesc', '_rootDesc', '_schema', '_set_dynamic_attr', '_set_service_methods', 'abuseReports', 'activities', 'captions', 'channelBanners', 'channelSections', 'channels', 'close', 'commentThreads', 'comments', 'i18nLanguages', 'i18nRegions', 'liveBroadcasts', 'liveChatBans', 'liveChatMessages', 'liveChatModerators', 'liveStreams', 'members', 'membershipsLevels', 'new_batch_http_request', 'playlistItems', 'playlists', 'search', 'subscriptions', 'superChatEvents', 'tests', 'thirdPartyLinks', 'thumbnails', 'videoAbuseReportReasons', 'videoCategories', 'videos', 'watermarks', 'youtube']"
      ]
     },
     "execution_count": 140,
     "metadata": {},
     "output_type": "execute_result"
    }
   ],
   "source": [
    "dir(service)"
   ]
  },
  {
   "attachments": {},
   "cell_type": "markdown",
   "metadata": {},
   "source": [
    "Hacemos una llamada a a función de <code>retrieve_playlists_items</code> para obtener todos los videos una playlist especifica "
   ]
  },
  {
   "cell_type": "code",
   "execution_count": 141,
   "metadata": {},
   "outputs": [],
   "source": [
    "playlistId = 'PLRnlRGar-_296KTsVL0R6MEbpwJzD8ppA' # id de la playlist de las mañaneras\n",
    "playlists_items = retrieve_playlists_items(service, playlistId)"
   ]
  },
  {
   "cell_type": "code",
   "execution_count": 142,
   "metadata": {},
   "outputs": [
    {
     "data": {
      "text/plain": [
       "{'kind': 'youtube#playlistItem', 'etag': '8WJEXuec_liHMLQ3MWFIqoEQmWs', 'id': 'UExSbmxSR2FyLV8yOTZLVHNWTDBSNk1FYnB3SnpEOHBwQS4zRDNFM0Q1MzY2NTYwMTJC', 'snippet': {'publishedAt': '2023-04-24T12:44:41Z', 'channelId': 'UCxEgOKuI-n-WOJaNcisHvSg', 'title': 'Conferencia de prensa matutina desde Palacio Nacional. Lunes 24 de abril 2023 | Presidente AMLO', 'description': 'Conferencia de prensa matutina, desde Palacio Nacional. Lunes 24 de abril 2023 | Presidente AMLO.\\n\\n0:00 Inicio de transmisión\\n15:15 Comienza la conferencia de prensa del presidente Andrés Manuel López Obrador\\n16:48 Comparativo de marcas y precios de combustibles\\n25:07 Comparativo de marcas y precios de productos de primera necesidad\\n28:30 Reporte de construcción del Tren Maya en tramo Escárcega-Calkiní\\n32:57 Informe del consorcio Carso FCC en el Tramo 2 del Tren Maya\\n34:14 Salvamento arqueológico en el proyecto del Tren Maya\\n40:26 Informe de la Semarnat en el Tramo 2 del Tren Maya\\n42:33 Informe de la Secretaría del Bienestar en el Tramo 2 del Tren Maya\\n42:51 Informe de los Programas para el Bienestar\\n1:10:05 Sesión de preguntas y respuestas\\n\\nSigue las actividades del presidente de México:\\n\\nSitio web:\\nhttp://presidente.gob.mx\\n\\nYouTube:\\nhttps://www.youtube.com/lopezobrador\\n\\nFacebook:\\nhttps://facebook.com/lopezobrador.org.mx\\n\\nTwitter:\\nhttps://twitter.com/lopezobrador_\\n\\nInstagram:\\nhttps://www.instagram.com/lopezobrador/\\n\\nTelegram: \\nhttps://t.me/PresidenteAMLO\\n\\nSpotify:\\nhttps://spoti.fi/3QocikN', 'thumbnails': {'default': {'url': 'https://i.ytimg.com/vi/uW-UISq5YLY/default.jpg', 'width': 120, 'height': 90}, 'medium': {'url': 'https://i.ytimg.com/vi/uW-UISq5YLY/mqdefault.jpg', 'width': 320, 'height': 180}, 'high': {'url': 'https://i.ytimg.com/vi/uW-UISq5YLY/hqdefault.jpg', 'width': 480, 'height': 360}, 'standard': {'url': 'https://i.ytimg.com/vi/uW-UISq5YLY/sddefault.jpg', 'width': 640, 'height': 480}, 'maxres': {'url': 'https://i.ytimg.com/vi/uW-UISq5YLY/maxresdefault.jpg', 'width': 1280, 'height': 720}}, 'channelTitle': 'Andrés Manuel López Obrador', 'playlistId': 'PLRnlRGar-_296KTsVL0R6MEbpwJzD8ppA', 'position': 0, 'resourceId': {'kind': 'youtube#video', 'videoId': 'uW-UISq5YLY'}, 'videoOwnerChannelTitle': 'Andrés Manuel López Obrador', 'videoOwnerChannelId': 'UCxEgOKuI-n-WOJaNcisHvSg'}, 'contentDetails': {'videoId': 'uW-UISq5YLY', 'videoPublishedAt': '2023-04-24T15:21:52Z'}, 'status': {'privacyStatus': 'public'}}"
      ]
     },
     "execution_count": 142,
     "metadata": {},
     "output_type": "execute_result"
    }
   ],
   "source": [
    "playlists_items[0] # El último video agregado a la playlist"
   ]
  },
  {
   "attachments": {},
   "cell_type": "markdown",
   "metadata": {},
   "source": [
    "## Guardando los datos en un DataFrame"
   ]
  },
  {
   "attachments": {},
   "cell_type": "markdown",
   "metadata": {},
   "source": [
    "Podemos obtener cada elemento de la variable utilizando las posiciones."
   ]
  },
  {
   "cell_type": "code",
   "execution_count": 152,
   "metadata": {},
   "outputs": [
    {
     "data": {
      "text/plain": [
       "{'publishedAt': '2023-04-24T12:44:41Z', 'channelId': 'UCxEgOKuI-n-WOJaNcisHvSg', 'title': 'Conferencia de prensa matutina desde Palacio Nacional. Lunes 24 de abril 2023 | Presidente AMLO', 'description': 'Conferencia de prensa matutina, desde Palacio Nacional. Lunes 24 de abril 2023 | Presidente AMLO.\\n\\n0:00 Inicio de transmisión\\n15:15 Comienza la conferencia de prensa del presidente Andrés Manuel López Obrador\\n16:48 Comparativo de marcas y precios de combustibles\\n25:07 Comparativo de marcas y precios de productos de primera necesidad\\n28:30 Reporte de construcción del Tren Maya en tramo Escárcega-Calkiní\\n32:57 Informe del consorcio Carso FCC en el Tramo 2 del Tren Maya\\n34:14 Salvamento arqueológico en el proyecto del Tren Maya\\n40:26 Informe de la Semarnat en el Tramo 2 del Tren Maya\\n42:33 Informe de la Secretaría del Bienestar en el Tramo 2 del Tren Maya\\n42:51 Informe de los Programas para el Bienestar\\n1:10:05 Sesión de preguntas y respuestas\\n\\nSigue las actividades del presidente de México:\\n\\nSitio web:\\nhttp://presidente.gob.mx\\n\\nYouTube:\\nhttps://www.youtube.com/lopezobrador\\n\\nFacebook:\\nhttps://facebook.com/lopezobrador.org.mx\\n\\nTwitter:\\nhttps://twitter.com/lopezobrador_\\n\\nInstagram:\\nhttps://www.instagram.com/lopezobrador/\\n\\nTelegram: \\nhttps://t.me/PresidenteAMLO\\n\\nSpotify:\\nhttps://spoti.fi/3QocikN', 'thumbnails': {'default': {'url': 'https://i.ytimg.com/vi/uW-UISq5YLY/default.jpg', 'width': 120, 'height': 90}, 'medium': {'url': 'https://i.ytimg.com/vi/uW-UISq5YLY/mqdefault.jpg', 'width': 320, 'height': 180}, 'high': {'url': 'https://i.ytimg.com/vi/uW-UISq5YLY/hqdefault.jpg', 'width': 480, 'height': 360}, 'standard': {'url': 'https://i.ytimg.com/vi/uW-UISq5YLY/sddefault.jpg', 'width': 640, 'height': 480}, 'maxres': {'url': 'https://i.ytimg.com/vi/uW-UISq5YLY/maxresdefault.jpg', 'width': 1280, 'height': 720}}, 'channelTitle': 'Andrés Manuel López Obrador', 'playlistId': 'PLRnlRGar-_296KTsVL0R6MEbpwJzD8ppA', 'position': 0, 'resourceId': {'kind': 'youtube#video', 'videoId': 'uW-UISq5YLY'}, 'videoOwnerChannelTitle': 'Andrés Manuel López Obrador', 'videoOwnerChannelId': 'UCxEgOKuI-n-WOJaNcisHvSg'}"
      ]
     },
     "execution_count": 152,
     "metadata": {},
     "output_type": "execute_result"
    }
   ],
   "source": [
    "playlists_items[0]['snippet']"
   ]
  },
  {
   "attachments": {},
   "cell_type": "markdown",
   "metadata": {},
   "source": [
    "Hay que crear un dataframe con la información necesaria para hacer el entrenamiento. Estos datos son: EL título, la descrición y la fecha de publicación"
   ]
  },
  {
   "cell_type": "code",
   "execution_count": 150,
   "metadata": {},
   "outputs": [
    {
     "name": "stdout",
     "output_type": "stream",
     "text": [
      "              published_at                                              title   \n",
      "0     2023-04-24T12:44:41Z  Conferencia de prensa matutina desde Palacio N...  \\\n",
      "1     2023-04-21T05:16:34Z  Seguridad y bienestar mejoran en Veracruz. Con...   \n",
      "2     2023-04-20T11:50:16Z  Recursos de venta de avión serán para construi...   \n",
      "3     2023-04-19T12:49:04Z  Postura ante resolución de la SCJN sobre Guard...   \n",
      "4     2023-04-18T12:45:45Z  Padres y madres pueden ayudar a prevenir adicc...   \n",
      "...                    ...                                                ...   \n",
      "1080  2019-03-08T21:59:25Z  Conferencia matutina: Avances del Gabinete de ...   \n",
      "1081  2019-03-08T21:59:25Z  Hoy anunciamos la terna de candidatos a minist...   \n",
      "1082  2019-03-08T21:59:25Z  Tercera conferencia de prensa matutina desde P...   \n",
      "1083  2019-03-08T21:59:25Z     Diálogo con periodistas desde Palacio Nacional   \n",
      "1084  2019-03-08T21:59:25Z  Primera conferencia de prensa matutina desde P...   \n",
      "\n",
      "                                            description  \n",
      "0     Conferencia de prensa matutina, desde Palacio ...  \n",
      "1     Conferencia de prensa matutina, desde Palacio ...  \n",
      "2     Conferencia de prensa matutina, desde Palacio ...  \n",
      "3     Conferencia de prensa matutina, desde Palacio ...  \n",
      "4     Conferencia de prensa matutina, desde Palacio ...  \n",
      "...                                                 ...  \n",
      "1080  Conferencia de prensa matutina, desde Palacio ...  \n",
      "1081  Cuarta conferencia de prensa matutina desde el...  \n",
      "1082  Tercera conferencia de prensa matutina desde e...  \n",
      "1083  Segunda conferencia de prensa matutina del pre...  \n",
      "1084  Andrés Manuel López Obrador ofrece su primera ...  \n",
      "\n",
      "[1085 rows x 3 columns]\n"
     ]
    }
   ],
   "source": [
    "\n",
    "data = []\n",
    "\n",
    "for item in playlists_items:\n",
    "    snippet = item['snippet']\n",
    "    published_at = snippet['publishedAt']\n",
    "    title = snippet['title']\n",
    "    description = snippet['description']\n",
    "    \n",
    "    data.append([published_at, title, description])\n",
    "    \n",
    "df = pd.DataFrame(data, columns=['published_at', 'title', 'description'])\n",
    "df = df.head(1085)\n",
    "\n",
    "print(df)\n"
   ]
  },
  {
   "attachments": {},
   "cell_type": "markdown",
   "metadata": {},
   "source": [
    "## Una primera limpieza"
   ]
  },
  {
   "cell_type": "markdown",
   "metadata": {},
   "source": []
  },
  {
   "cell_type": "code",
   "execution_count": 156,
   "metadata": {},
   "outputs": [
    {
     "data": {
      "text/plain": [
       "'Conferencia de prensa matutina, desde Palacio Nacional. Lunes 24 de abril 2023 | Presidente AMLO.\\n\\n0:00 Inicio de transmisión\\n15:15 Comienza la conferencia de prensa del presidente Andrés Manuel López Obrador\\n16:48 Comparativo de marcas y precios de combustibles\\n25:07 Comparativo de marcas y precios de productos de primera necesidad\\n28:30 Reporte de construcción del Tren Maya en tramo Escárcega-Calkiní\\n32:57 Informe del consorcio Carso FCC en el Tramo 2 del Tren Maya\\n34:14 Salvamento arqueológico en el proyecto del Tren Maya\\n40:26 Informe de la Semarnat en el Tramo 2 del Tren Maya\\n42:33 Informe de la Secretaría del Bienestar en el Tramo 2 del Tren Maya\\n42:51 Informe de los Programas para el Bienestar\\n1:10:05 Sesión de preguntas y respuestas\\n\\nSigue las actividades del presidente de México:\\n\\nSitio web:\\nhttp://presidente.gob.mx\\n\\nYouTube:\\nhttps://www.youtube.com/lopezobrador\\n\\nFacebook:\\nhttps://facebook.com/lopezobrador.org.mx\\n\\nTwitter:\\nhttps://twitter.com/lopezobrador_\\n\\nInstagram:\\nhttps://www.instagram.com/lopezobrador/\\n\\nTelegram: \\nhttps://t.me/PresidenteAMLO\\n\\nSpotify:\\nhttps://spoti.fi/3QocikN'"
      ]
     },
     "execution_count": 156,
     "metadata": {},
     "output_type": "execute_result"
    }
   ],
   "source": [
    "df['description'][0]"
   ]
  },
  {
   "cell_type": "code",
   "execution_count": 158,
   "metadata": {},
   "outputs": [],
   "source": [
    "def replace_newlines(string):\n",
    "    pattern = r'\\n'\n",
    "    replace_with = ' '\n",
    "    return re.sub(pattern, replace_with, string)"
   ]
  },
  {
   "cell_type": "code",
   "execution_count": 165,
   "metadata": {},
   "outputs": [],
   "source": [
    "def replace_minutes(string):\n",
    "    pattern = r'[0-9]?[0-9]:[0-9][0-9]'\n",
    "    replace_with = ''\n",
    "    return re.sub(pattern, replace_with, string)"
   ]
  },
  {
   "cell_type": "code",
   "execution_count": 173,
   "metadata": {},
   "outputs": [],
   "source": [
    "def remove_links(string):\n",
    "    pattern = r\"(?i)\\b((?:https?://|www\\d{0,3}[.]|[a-z0-9.\\-]+[.][a-z]{2,4}/)(?:[^\\s()<>]+|\\(([^\\s()<>]+|(\\([^\\s()<>]+\\)))*\\))+(?:\\(([^\\s()<>]+|(\\([^\\s()<>]+\\)))*\\)|[^\\s`!()\\[\\]{};:'\\\".,<>?«»“”‘’]))\"\n",
    "    replace_with = ''\n",
    "    return re.sub(pattern, replace_with, string)"
   ]
  },
  {
   "cell_type": "code",
   "execution_count": 183,
   "metadata": {},
   "outputs": [],
   "source": [
    "def remove_extra_words(string):\n",
    "    pattern = r'Sigue las actividades del presidente de México:  Sitio web:   YouTube:   Facebook:   Twitter:   Instagram:   Telegram:    Spotify: '\n",
    "    replace_with = ''\n",
    "    return re.sub(pattern, replace_with, string)"
   ]
  },
  {
   "cell_type": "code",
   "execution_count": 185,
   "metadata": {},
   "outputs": [],
   "source": [
    "df['description'] = df['description'].apply(replace_newlines).apply(replace_minutes).apply(remove_links).apply(remove_extra_words)\n"
   ]
  },
  {
   "cell_type": "code",
   "execution_count": 187,
   "metadata": {},
   "outputs": [
    {
     "data": {
      "text/plain": [
       "'Conferencia de prensa matutina, desde Palacio Nacional. Martes 07 de febrero 2023 | Presidente AMLO.   Inicio de transmisión  Comienza la conferencia de prensa del presidente Andrés Manuel López Obrador  Informe de seguridad  Informe Cero Impunidad 1: Informe sobre regularización de vehículos de procedencia extranjera 1: Informe sobre preliberaciones y amnistías 1: Informe del Tianguis del Bienestar 1: Informe sobre las capacidades del Aeropuerto Internacional Felipe Ángeles 1: Informe caso Genaro García Luna 1: Sesión de preguntas y respuestas  Informamos sobre las capacidades del Aeropuerto Internacional Felipe Ángeles en cuanto al transporte de carga y pasajeros. Es el más moderno, equipado y seguro del sistema aeroportuario del país.   El AIFA puede recibir hasta 443 mil toneladas al año, a diferencia del AICM, que en 2022 registró la llegada de un promedio de 250 mil toneladas en aviones dedicados a la carga internacional.  De conformidad con su programa maestro, el Aeropuerto Internacional Felipe Ángeles tendrá en el largo plazo la posibilidad de ampliar la infraestructura a fin de atender hasta 3 millones de toneladas de mercancías al año.  Trabajamos en mejorar accesos para las y los usuarios. Próximamente se inaugurará una ruta libre de peaje en el Estado de México rumbo al Aeropuerto Internacional Felipe Ángeles.\\xa0  Esta carretera adicional partirá del Puente de Fierro, en Ecatepec, donde se encuentra la bifurcación de la autopista México-Pachuca con el Circuito Exterior Mexiquense.\\xa0Gracias a este proyecto se llegará en un promedio de 10 minutos a las instalaciones del aeropuerto.\\xa0  Simultáneamente, continúan los 19 puntos entre el Estado de México y la Ciudad de México para salir y llegar al AIFA en transporte público con precios desde 70 hasta 150 pesos. Además, está la línea 1 del Mexibús como otra alternativa.\\xa0\\xa0  Como todos los proyectos estratégicos que impulsamos, el AIFA tiene efecto multiplicador: orientará el desarrollo del Valle de México hacia Hidalgo, donde hay viabilidad de suelo y agua; ya hay empresas que quieren instalarse en esa entidad, lo que generará más empleos.  La entrada en operaciones de la nueva aerolínea del Estado, Mexicana de Aviación, contribuirá a reducir los costos del pasaje.\\xa0  En el reporte quincenal de seguridad destacó el resultado positivo de las preliberaciones y amnistías; se dio acceso a la justicia a más de 4 mil personas.  Infraestructura del AIFA tiene capacidad para recibir más de 400 mil toneladas de carga:    Presidente inaugurará ruta libre hacia el AIFA en el Estado de México:   Más de 4 mil personas acceden a preliberaciones y amnistías:   '"
      ]
     },
     "execution_count": 187,
     "metadata": {},
     "output_type": "execute_result"
    }
   ],
   "source": [
    "df['description'][50]"
   ]
  },
  {
   "cell_type": "code",
   "execution_count": 178,
   "metadata": {},
   "outputs": [
    {
     "data": {
      "text/html": [
       "<div>\n",
       "<style scoped>\n",
       "    .dataframe tbody tr th:only-of-type {\n",
       "        vertical-align: middle;\n",
       "    }\n",
       "\n",
       "    .dataframe tbody tr th {\n",
       "        vertical-align: top;\n",
       "    }\n",
       "\n",
       "    .dataframe thead th {\n",
       "        text-align: right;\n",
       "    }\n",
       "</style>\n",
       "<table border=\"1\" class=\"dataframe\">\n",
       "  <thead>\n",
       "    <tr style=\"text-align: right;\">\n",
       "      <th></th>\n",
       "      <th>published_at</th>\n",
       "      <th>title</th>\n",
       "      <th>description</th>\n",
       "    </tr>\n",
       "  </thead>\n",
       "  <tbody>\n",
       "    <tr>\n",
       "      <th>0</th>\n",
       "      <td>2023-04-24T12:44:41Z</td>\n",
       "      <td>Conferencia de prensa matutina desde Palacio N...</td>\n",
       "      <td>Conferencia de prensa matutina, desde Palacio ...</td>\n",
       "    </tr>\n",
       "    <tr>\n",
       "      <th>1</th>\n",
       "      <td>2023-04-21T05:16:34Z</td>\n",
       "      <td>Seguridad y bienestar mejoran en Veracruz. Con...</td>\n",
       "      <td>Conferencia de prensa matutina, desde Palacio ...</td>\n",
       "    </tr>\n",
       "    <tr>\n",
       "      <th>2</th>\n",
       "      <td>2023-04-20T11:50:16Z</td>\n",
       "      <td>Recursos de venta de avión serán para construi...</td>\n",
       "      <td>Conferencia de prensa matutina, desde Palacio ...</td>\n",
       "    </tr>\n",
       "    <tr>\n",
       "      <th>3</th>\n",
       "      <td>2023-04-19T12:49:04Z</td>\n",
       "      <td>Postura ante resolución de la SCJN sobre Guard...</td>\n",
       "      <td>Conferencia de prensa matutina, desde Palacio ...</td>\n",
       "    </tr>\n",
       "    <tr>\n",
       "      <th>4</th>\n",
       "      <td>2023-04-18T12:45:45Z</td>\n",
       "      <td>Padres y madres pueden ayudar a prevenir adicc...</td>\n",
       "      <td>Conferencia de prensa matutina, desde Palacio ...</td>\n",
       "    </tr>\n",
       "    <tr>\n",
       "      <th>...</th>\n",
       "      <td>...</td>\n",
       "      <td>...</td>\n",
       "      <td>...</td>\n",
       "    </tr>\n",
       "    <tr>\n",
       "      <th>1080</th>\n",
       "      <td>2019-03-08T21:59:25Z</td>\n",
       "      <td>Conferencia matutina: Avances del Gabinete de ...</td>\n",
       "      <td>Conferencia de prensa matutina, desde Palacio ...</td>\n",
       "    </tr>\n",
       "    <tr>\n",
       "      <th>1081</th>\n",
       "      <td>2019-03-08T21:59:25Z</td>\n",
       "      <td>Hoy anunciamos la terna de candidatos a minist...</td>\n",
       "      <td>Cuarta conferencia de prensa matutina desde el...</td>\n",
       "    </tr>\n",
       "    <tr>\n",
       "      <th>1082</th>\n",
       "      <td>2019-03-08T21:59:25Z</td>\n",
       "      <td>Tercera conferencia de prensa matutina desde P...</td>\n",
       "      <td>Tercera conferencia de prensa matutina desde e...</td>\n",
       "    </tr>\n",
       "    <tr>\n",
       "      <th>1083</th>\n",
       "      <td>2019-03-08T21:59:25Z</td>\n",
       "      <td>Diálogo con periodistas desde Palacio Nacional</td>\n",
       "      <td>Segunda conferencia de prensa matutina del pre...</td>\n",
       "    </tr>\n",
       "    <tr>\n",
       "      <th>1084</th>\n",
       "      <td>2019-03-08T21:59:25Z</td>\n",
       "      <td>Primera conferencia de prensa matutina desde P...</td>\n",
       "      <td>Andrés Manuel López Obrador ofrece su primera ...</td>\n",
       "    </tr>\n",
       "  </tbody>\n",
       "</table>\n",
       "<p>1085 rows × 3 columns</p>\n",
       "</div>"
      ],
      "text/plain": [
       "              published_at                                              title   \n",
       "0     2023-04-24T12:44:41Z  Conferencia de prensa matutina desde Palacio N...  \\\n",
       "1     2023-04-21T05:16:34Z  Seguridad y bienestar mejoran en Veracruz. Con...   \n",
       "2     2023-04-20T11:50:16Z  Recursos de venta de avión serán para construi...   \n",
       "3     2023-04-19T12:49:04Z  Postura ante resolución de la SCJN sobre Guard...   \n",
       "4     2023-04-18T12:45:45Z  Padres y madres pueden ayudar a prevenir adicc...   \n",
       "...                    ...                                                ...   \n",
       "1080  2019-03-08T21:59:25Z  Conferencia matutina: Avances del Gabinete de ...   \n",
       "1081  2019-03-08T21:59:25Z  Hoy anunciamos la terna de candidatos a minist...   \n",
       "1082  2019-03-08T21:59:25Z  Tercera conferencia de prensa matutina desde P...   \n",
       "1083  2019-03-08T21:59:25Z     Diálogo con periodistas desde Palacio Nacional   \n",
       "1084  2019-03-08T21:59:25Z  Primera conferencia de prensa matutina desde P...   \n",
       "\n",
       "                                            description  \n",
       "0     Conferencia de prensa matutina, desde Palacio ...  \n",
       "1     Conferencia de prensa matutina, desde Palacio ...  \n",
       "2     Conferencia de prensa matutina, desde Palacio ...  \n",
       "3     Conferencia de prensa matutina, desde Palacio ...  \n",
       "4     Conferencia de prensa matutina, desde Palacio ...  \n",
       "...                                                 ...  \n",
       "1080  Conferencia de prensa matutina, desde Palacio ...  \n",
       "1081  Cuarta conferencia de prensa matutina desde el...  \n",
       "1082  Tercera conferencia de prensa matutina desde e...  \n",
       "1083  Segunda conferencia de prensa matutina del pre...  \n",
       "1084  Andrés Manuel López Obrador ofrece su primera ...  \n",
       "\n",
       "[1085 rows x 3 columns]"
      ]
     },
     "execution_count": 178,
     "metadata": {},
     "output_type": "execute_result"
    }
   ],
   "source": [
    "df"
   ]
  }
 ],
 "metadata": {
  "kernelspec": {
   "display_name": "Python 3",
   "language": "python",
   "name": "python3"
  },
  "language_info": {
   "codemirror_mode": {
    "name": "ipython",
    "version": 3
   },
   "file_extension": ".py",
   "mimetype": "text/x-python",
   "name": "python",
   "nbconvert_exporter": "python",
   "pygments_lexer": "ipython3",
   "version": "3.11.2"
  },
  "orig_nbformat": 4
 },
 "nbformat": 4,
 "nbformat_minor": 2
}
