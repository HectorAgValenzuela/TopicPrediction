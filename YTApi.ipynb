{
 "cells": [
  {
   "attachments": {},
   "cell_type": "markdown",
   "metadata": {},
   "source": [
    "# Obtención de datos"
   ]
  },
  {
   "attachments": {},
   "cell_type": "markdown",
   "metadata": {},
   "source": [
    "Para obtener los datos vamos a usar las descripciones en cada video de las mañaneras. Pues nos provee de un resumen del video del día. De esta manera ya no tenemos que lidiar con conversaciones del presidente cuando usamos las transcripciones."
   ]
  },
  {
   "attachments": {},
   "cell_type": "markdown",
   "metadata": {},
   "source": [
    "## Importaciones"
   ]
  },
  {
   "cell_type": "code",
   "execution_count": 63,
   "metadata": {},
   "outputs": [],
   "source": [
    "import json \n",
    "from datetime import datetime\n",
    "import re\n",
    "\n",
    "import pandas as pd \n",
    "import numpy as np\n",
    "\n",
    "from googleapiclient.errors import HttpError\n",
    "from Google import Create_Service"
   ]
  },
  {
   "attachments": {},
   "cell_type": "markdown",
   "metadata": {},
   "source": [
    "## Llamamiento a la API de YouTube"
   ]
  },
  {
   "attachments": {},
   "cell_type": "markdown",
   "metadata": {},
   "source": [
    "<code>retrieve_playlists_items</code> Función que hace la petición a la API de youtube. Se le da un objeto <code>service</code> que es la información sobre el tipo de API y la autenticación. También recibe <code>playlistId</code> que es el ID de la playlist que queremos."
   ]
  },
  {
   "cell_type": "code",
   "execution_count": 64,
   "metadata": {},
   "outputs": [],
   "source": [
    "def retrieve_playlists_items(service, playlistId):\n",
    "    items =[]\n",
    "    try:\n",
    "        response = service.playlistItems().list(\n",
    "            part = 'contentDetails, snippet, status',\n",
    "            playlistId = playlistId,\n",
    "            maxResults = 5\n",
    "        ).execute()\n",
    "\n",
    "        items.extend(response.get('items'))\n",
    "        nextPageToken = response.get('nextPageToken')\n",
    "\n",
    "        while nextPageToken:\n",
    "            response = service.playlistItems().list(\n",
    "                part = 'contentDetails, snippet, status',\n",
    "                playlistId = playlistId,\n",
    "                maxResults = 5,\n",
    "                pageToken = nextPageToken\n",
    "            ).execute()\n",
    "\n",
    "            items.extend(response.get('items'))\n",
    "            nextPageToken = response.get('nextPageToken')\n",
    "\n",
    "        return items\n",
    "\n",
    "    except HttpError as e:\n",
    "        errMsg = json.loads(e.content)\n",
    "        print(\"HTTP Error: \")\n",
    "        print(errMsg['error']['message'])\n",
    "        return []"
   ]
  },
  {
   "attachments": {},
   "cell_type": "markdown",
   "metadata": {},
   "source": [
    "Creando constantes para llamar a la API. Toda esta es información sobre el tipo de API y los archivos necesarios para hacer la conexión con Google Cloud"
   ]
  },
  {
   "cell_type": "code",
   "execution_count": 65,
   "metadata": {},
   "outputs": [
    {
     "name": "stdout",
     "output_type": "stream",
     "text": [
      "client_secret.json-youtube-v3-(['https://www.googleapis.com/auth/youtube.readonly'],)\n",
      "['https://www.googleapis.com/auth/youtube.readonly']\n",
      "youtube service created successfully\n"
     ]
    }
   ],
   "source": [
    "CLIENT_SECRETS_FILE = 'client_secret.json'  # Archivo .json que se obtiene al crear las credenciales OAuth en https://console.cloud.google.com/\n",
    "API_NAME = 'youtube'\n",
    "API_VERSION = 'v3'\n",
    "SCOPES = ['https://www.googleapis.com/auth/youtube.readonly']\n",
    "\n",
    "service = Create_Service(CLIENT_SECRETS_FILE, API_NAME, API_VERSION, SCOPES)"
   ]
  },
  {
   "attachments": {},
   "cell_type": "markdown",
   "metadata": {},
   "source": [
    "El objeto <code>service</code> nos da accesos a todos los recursos de la API"
   ]
  },
  {
   "cell_type": "code",
   "execution_count": 66,
   "metadata": {},
   "outputs": [
    {
     "data": {
      "text/plain": [
       "['__class__',\n",
       " '__delattr__',\n",
       " '__dict__',\n",
       " '__dir__',\n",
       " '__doc__',\n",
       " '__enter__',\n",
       " '__eq__',\n",
       " '__exit__',\n",
       " '__format__',\n",
       " '__ge__',\n",
       " '__getattribute__',\n",
       " '__getstate__',\n",
       " '__gt__',\n",
       " '__hash__',\n",
       " '__init__',\n",
       " '__init_subclass__',\n",
       " '__le__',\n",
       " '__lt__',\n",
       " '__module__',\n",
       " '__ne__',\n",
       " '__new__',\n",
       " '__reduce__',\n",
       " '__reduce_ex__',\n",
       " '__repr__',\n",
       " '__setattr__',\n",
       " '__setstate__',\n",
       " '__sizeof__',\n",
       " '__str__',\n",
       " '__subclasshook__',\n",
       " '__weakref__',\n",
       " '_add_basic_methods',\n",
       " '_add_nested_resources',\n",
       " '_add_next_methods',\n",
       " '_baseUrl',\n",
       " '_developerKey',\n",
       " '_dynamic_attrs',\n",
       " '_http',\n",
       " '_model',\n",
       " '_requestBuilder',\n",
       " '_resourceDesc',\n",
       " '_rootDesc',\n",
       " '_schema',\n",
       " '_set_dynamic_attr',\n",
       " '_set_service_methods',\n",
       " 'abuseReports',\n",
       " 'activities',\n",
       " 'captions',\n",
       " 'channelBanners',\n",
       " 'channelSections',\n",
       " 'channels',\n",
       " 'close',\n",
       " 'commentThreads',\n",
       " 'comments',\n",
       " 'i18nLanguages',\n",
       " 'i18nRegions',\n",
       " 'liveBroadcasts',\n",
       " 'liveChatBans',\n",
       " 'liveChatMessages',\n",
       " 'liveChatModerators',\n",
       " 'liveStreams',\n",
       " 'members',\n",
       " 'membershipsLevels',\n",
       " 'new_batch_http_request',\n",
       " 'playlistItems',\n",
       " 'playlists',\n",
       " 'search',\n",
       " 'subscriptions',\n",
       " 'superChatEvents',\n",
       " 'tests',\n",
       " 'thirdPartyLinks',\n",
       " 'thumbnails',\n",
       " 'videoAbuseReportReasons',\n",
       " 'videoCategories',\n",
       " 'videos',\n",
       " 'watermarks',\n",
       " 'youtube']"
      ]
     },
     "execution_count": 66,
     "metadata": {},
     "output_type": "execute_result"
    }
   ],
   "source": [
    "dir(service)"
   ]
  },
  {
   "attachments": {},
   "cell_type": "markdown",
   "metadata": {},
   "source": [
    "Hacemos una llamada a a función de <code>retrieve_playlists_items</code> para obtener todos los videos una playlist especifica. En este caso, los videos de la mañaneras"
   ]
  },
  {
   "cell_type": "code",
   "execution_count": 67,
   "metadata": {},
   "outputs": [],
   "source": [
    "playlistId = 'PLRnlRGar-_296KTsVL0R6MEbpwJzD8ppA' # id de la playlist de las mañaneras\n",
    "playlists_items = retrieve_playlists_items(service, playlistId)"
   ]
  },
  {
   "cell_type": "code",
   "execution_count": 68,
   "metadata": {},
   "outputs": [
    {
     "data": {
      "text/plain": [
       "{'kind': 'youtube#playlistItem',\n",
       " 'etag': 'MjXbq6j_REbkn9jBqTZjh4dAtuE',\n",
       " 'id': 'UExSbmxSR2FyLV8yOTZLVHNWTDBSNk1FYnB3SnpEOHBwQS42NkYzMkU0NDQ2MTM5NzVE',\n",
       " 'snippet': {'publishedAt': '2023-05-16T12:45:50Z',\n",
       "  'channelId': 'UCxEgOKuI-n-WOJaNcisHvSg',\n",
       "  'title': 'Gobierno federal atiende demandas del magisterio; diálogo es permanente. Conferencia presidente AMLO',\n",
       "  'description': 'Conferencia de prensa matutina, desde Palacio Nacional. Martes 16 de mayo 2023 | Presidente AMLO.\\n\\n0:00 Inicio de transmisión\\n16:33 Comienza la conferencia de prensa del presidente Andrés Manuel López Obrador\\n21:15 Informe Cero Impunidad\\n34:05 Informe de seguridad \\n55:23 Informe sobre regularización de vehículos de procedencia extranjera \\n58:22 Prevención de adicciones. Cocaína\\n1:11:52 Sesión de preguntas y respuestas\\n\\nCada quince días informamos sobre los daños de las drogas como parte de la atención a las causas de las adicciones. Lo mejor es prevenir el consumo, fortalecer valores, fomentar la unión familiar, que todas y todos tengan oportunidades de trabajo y estudio, acceso al deporte, para no optar por el camino de las conductas antisociales.\\xa0\\n\\nLa cocaína, droga altamente adictiva elaborada con hojas de la planta de coca, es un fuerte estimulante que crea rápida dependencia y síndrome de abstinencia, características que inducen la violencia desde el grupo familiar hasta el conjunto de la sociedad.\\xa0\\n\\nAdemás de los daños severos a la salud, esta sustancia genera graves perjuicios sociales, como el involucramiento con el crimen, el bajo rendimiento y el abandono escolar, además del rompimiento de lazos familiares.\\n\\nLa exposición a entornos con armas de fuego, un hogar con violencia entre padre y madre, excesivo consumo de alcohol en el seno familiar o social y relacionarse con grupo de amistades que ya consumen cocaína, son factores de riesgo para iniciar la adicción a la cocaína.\\xa0\\n\\nComo parte de las acciones contra el tráfico de drogas, el comandante de la Guardia Nacional, David Córdova Campos, expuso los avances del aseguramiento de cocaína, metanfetamina y fentanilo, sustancias nocivas que no llegarán a las calles ni a las manos de la juventud.\\xa0\\n\\nEn el informe mensual de seguridad, destacamos que el mes pasado fue el abril con menor incidencia delictiva de los últimos seis años. Las cifras positivas son resultado del trabajo del Gabinete de Seguridad, de las Mesas de Paz y del despliegue de las Fuerzas Armadas y de la Guardia Nacional.\\xa0\\n\\nEl feminicidio cayó 40.6 por ciento en comparación con diciembre de 2018 debido a que se intensifica la persecución y sanción por este delito.\\n\\nEl Gobierno de México está en diálogo permanente con el magisterio. Exaltamos su importancia en la sociedad, reconocemos el esfuerzo con salarios justos y resolvemos sus demandas. No permitiremos que la desinformación perjudique nuestra buena relación.\\n\\nAclaramos que la educación indígena continuará en la Secretaría de Educación Pública y que no hay maestros presos ni despedidos por protestas derivadas de la reforma educativa, impuesta en el sexenio anterior.\\n\\nGracias al trato digno y respetuoso, desde el inicio del Gobierno de la Cuarta Transformación no hay paros. Reiteramos que la federación no reprimirá a ningún manifestante y escuchará sus solicitudes.\\n\\nMéxico está viviendo un buen momento para la inversión en México; existe un auténtico Estado de derecho,  gobernabilidad, estabilidad económica y financiera, lo que convierte al país en uno de los más atractivos para la inversión extranjera.\\xa0\\n\\nContinuamos el rescate del ISSSTE, que privatizaron por completo a través de la subrogación de servicios médicos. Simultáneamente, el modelo IMSS Bienestar protege a quienes no tienen seguridad social, nuestro compromiso es garantizar el derecho del pueblo a la salud.\\n\\nHomicidio doloso baja 16.1 por ciento en abril; presentan informe mensual de seguridad: https://bit.ly/3BuMjkH\\n\\nGobierno de México mantiene diálogo con maestros y atiende demandas: https://bit.ly/3pPzTla\\n\\nSecretaría de Salud alerta sobre daños por consumir cocaína; estilos de vida saludables abonan a prevención: https://bit.ly/435BcuB\\n\\nhttps://bit.ly/3pPzTla\\n\\nSigue las actividades del presidente de México:\\n\\nSitio web:\\nhttp://presidente.gob.mx\\n\\nYouTube:\\nhttps://www.youtube.com/lopezobrador\\n\\nFacebook:\\nhttps://facebook.com/lopezobrador.org.mx\\n\\nTwitter:\\nhttps://twitter.com/lopezobrador_\\n\\nInstagram:\\nhttps://www.instagram.com/lopezobrador/\\n\\nTelegram: \\nhttps://t.me/PresidenteAMLO\\n\\nSpotify:\\nhttps://spoti.fi/3QocikN',\n",
       "  'thumbnails': {'default': {'url': 'https://i.ytimg.com/vi/CXNv_e6gxU0/default.jpg',\n",
       "    'width': 120,\n",
       "    'height': 90},\n",
       "   'medium': {'url': 'https://i.ytimg.com/vi/CXNv_e6gxU0/mqdefault.jpg',\n",
       "    'width': 320,\n",
       "    'height': 180},\n",
       "   'high': {'url': 'https://i.ytimg.com/vi/CXNv_e6gxU0/hqdefault.jpg',\n",
       "    'width': 480,\n",
       "    'height': 360},\n",
       "   'standard': {'url': 'https://i.ytimg.com/vi/CXNv_e6gxU0/sddefault.jpg',\n",
       "    'width': 640,\n",
       "    'height': 480},\n",
       "   'maxres': {'url': 'https://i.ytimg.com/vi/CXNv_e6gxU0/maxresdefault.jpg',\n",
       "    'width': 1280,\n",
       "    'height': 720}},\n",
       "  'channelTitle': 'Andrés Manuel López Obrador',\n",
       "  'playlistId': 'PLRnlRGar-_296KTsVL0R6MEbpwJzD8ppA',\n",
       "  'position': 0,\n",
       "  'resourceId': {'kind': 'youtube#video', 'videoId': 'CXNv_e6gxU0'},\n",
       "  'videoOwnerChannelTitle': 'Andrés Manuel López Obrador',\n",
       "  'videoOwnerChannelId': 'UCxEgOKuI-n-WOJaNcisHvSg'},\n",
       " 'contentDetails': {'videoId': 'CXNv_e6gxU0',\n",
       "  'videoPublishedAt': '2023-05-16T16:27:00Z'},\n",
       " 'status': {'privacyStatus': 'public'}}"
      ]
     },
     "execution_count": 68,
     "metadata": {},
     "output_type": "execute_result"
    }
   ],
   "source": [
    "playlists_items[0] # El último video agregado a la playlist"
   ]
  },
  {
   "attachments": {},
   "cell_type": "markdown",
   "metadata": {},
   "source": [
    "## Guardando los datos en un DataFrame"
   ]
  },
  {
   "attachments": {},
   "cell_type": "markdown",
   "metadata": {},
   "source": [
    "Los datos están guardados en un json. Podemos obtener cada elemento de la variable utilizando las posiciones."
   ]
  },
  {
   "cell_type": "code",
   "execution_count": 69,
   "metadata": {},
   "outputs": [
    {
     "data": {
      "text/plain": [
       "{'publishedAt': '2023-05-16T12:45:50Z',\n",
       " 'channelId': 'UCxEgOKuI-n-WOJaNcisHvSg',\n",
       " 'title': 'Gobierno federal atiende demandas del magisterio; diálogo es permanente. Conferencia presidente AMLO',\n",
       " 'description': 'Conferencia de prensa matutina, desde Palacio Nacional. Martes 16 de mayo 2023 | Presidente AMLO.\\n\\n0:00 Inicio de transmisión\\n16:33 Comienza la conferencia de prensa del presidente Andrés Manuel López Obrador\\n21:15 Informe Cero Impunidad\\n34:05 Informe de seguridad \\n55:23 Informe sobre regularización de vehículos de procedencia extranjera \\n58:22 Prevención de adicciones. Cocaína\\n1:11:52 Sesión de preguntas y respuestas\\n\\nCada quince días informamos sobre los daños de las drogas como parte de la atención a las causas de las adicciones. Lo mejor es prevenir el consumo, fortalecer valores, fomentar la unión familiar, que todas y todos tengan oportunidades de trabajo y estudio, acceso al deporte, para no optar por el camino de las conductas antisociales.\\xa0\\n\\nLa cocaína, droga altamente adictiva elaborada con hojas de la planta de coca, es un fuerte estimulante que crea rápida dependencia y síndrome de abstinencia, características que inducen la violencia desde el grupo familiar hasta el conjunto de la sociedad.\\xa0\\n\\nAdemás de los daños severos a la salud, esta sustancia genera graves perjuicios sociales, como el involucramiento con el crimen, el bajo rendimiento y el abandono escolar, además del rompimiento de lazos familiares.\\n\\nLa exposición a entornos con armas de fuego, un hogar con violencia entre padre y madre, excesivo consumo de alcohol en el seno familiar o social y relacionarse con grupo de amistades que ya consumen cocaína, son factores de riesgo para iniciar la adicción a la cocaína.\\xa0\\n\\nComo parte de las acciones contra el tráfico de drogas, el comandante de la Guardia Nacional, David Córdova Campos, expuso los avances del aseguramiento de cocaína, metanfetamina y fentanilo, sustancias nocivas que no llegarán a las calles ni a las manos de la juventud.\\xa0\\n\\nEn el informe mensual de seguridad, destacamos que el mes pasado fue el abril con menor incidencia delictiva de los últimos seis años. Las cifras positivas son resultado del trabajo del Gabinete de Seguridad, de las Mesas de Paz y del despliegue de las Fuerzas Armadas y de la Guardia Nacional.\\xa0\\n\\nEl feminicidio cayó 40.6 por ciento en comparación con diciembre de 2018 debido a que se intensifica la persecución y sanción por este delito.\\n\\nEl Gobierno de México está en diálogo permanente con el magisterio. Exaltamos su importancia en la sociedad, reconocemos el esfuerzo con salarios justos y resolvemos sus demandas. No permitiremos que la desinformación perjudique nuestra buena relación.\\n\\nAclaramos que la educación indígena continuará en la Secretaría de Educación Pública y que no hay maestros presos ni despedidos por protestas derivadas de la reforma educativa, impuesta en el sexenio anterior.\\n\\nGracias al trato digno y respetuoso, desde el inicio del Gobierno de la Cuarta Transformación no hay paros. Reiteramos que la federación no reprimirá a ningún manifestante y escuchará sus solicitudes.\\n\\nMéxico está viviendo un buen momento para la inversión en México; existe un auténtico Estado de derecho,  gobernabilidad, estabilidad económica y financiera, lo que convierte al país en uno de los más atractivos para la inversión extranjera.\\xa0\\n\\nContinuamos el rescate del ISSSTE, que privatizaron por completo a través de la subrogación de servicios médicos. Simultáneamente, el modelo IMSS Bienestar protege a quienes no tienen seguridad social, nuestro compromiso es garantizar el derecho del pueblo a la salud.\\n\\nHomicidio doloso baja 16.1 por ciento en abril; presentan informe mensual de seguridad: https://bit.ly/3BuMjkH\\n\\nGobierno de México mantiene diálogo con maestros y atiende demandas: https://bit.ly/3pPzTla\\n\\nSecretaría de Salud alerta sobre daños por consumir cocaína; estilos de vida saludables abonan a prevención: https://bit.ly/435BcuB\\n\\nhttps://bit.ly/3pPzTla\\n\\nSigue las actividades del presidente de México:\\n\\nSitio web:\\nhttp://presidente.gob.mx\\n\\nYouTube:\\nhttps://www.youtube.com/lopezobrador\\n\\nFacebook:\\nhttps://facebook.com/lopezobrador.org.mx\\n\\nTwitter:\\nhttps://twitter.com/lopezobrador_\\n\\nInstagram:\\nhttps://www.instagram.com/lopezobrador/\\n\\nTelegram: \\nhttps://t.me/PresidenteAMLO\\n\\nSpotify:\\nhttps://spoti.fi/3QocikN',\n",
       " 'thumbnails': {'default': {'url': 'https://i.ytimg.com/vi/CXNv_e6gxU0/default.jpg',\n",
       "   'width': 120,\n",
       "   'height': 90},\n",
       "  'medium': {'url': 'https://i.ytimg.com/vi/CXNv_e6gxU0/mqdefault.jpg',\n",
       "   'width': 320,\n",
       "   'height': 180},\n",
       "  'high': {'url': 'https://i.ytimg.com/vi/CXNv_e6gxU0/hqdefault.jpg',\n",
       "   'width': 480,\n",
       "   'height': 360},\n",
       "  'standard': {'url': 'https://i.ytimg.com/vi/CXNv_e6gxU0/sddefault.jpg',\n",
       "   'width': 640,\n",
       "   'height': 480},\n",
       "  'maxres': {'url': 'https://i.ytimg.com/vi/CXNv_e6gxU0/maxresdefault.jpg',\n",
       "   'width': 1280,\n",
       "   'height': 720}},\n",
       " 'channelTitle': 'Andrés Manuel López Obrador',\n",
       " 'playlistId': 'PLRnlRGar-_296KTsVL0R6MEbpwJzD8ppA',\n",
       " 'position': 0,\n",
       " 'resourceId': {'kind': 'youtube#video', 'videoId': 'CXNv_e6gxU0'},\n",
       " 'videoOwnerChannelTitle': 'Andrés Manuel López Obrador',\n",
       " 'videoOwnerChannelId': 'UCxEgOKuI-n-WOJaNcisHvSg'}"
      ]
     },
     "execution_count": 69,
     "metadata": {},
     "output_type": "execute_result"
    }
   ],
   "source": [
    "playlists_items[0]['snippet']"
   ]
  },
  {
   "attachments": {},
   "cell_type": "markdown",
   "metadata": {},
   "source": [
    "Extraeremos sólo la información necesaria para hacer el entrenamiento. Estos datos son: título, descripción y la fecha de publicación"
   ]
  },
  {
   "attachments": {},
   "cell_type": "markdown",
   "metadata": {},
   "source": [
    "Visualizando los datos que vienen en el <code>.json</code> vemos que la columna <code>'publishedAt'</code> no se refiere a la fecha de publicación del video, sino a la fecha en la que el video se agregó en la playlist. Este es un problema porque los primeros videos tienen todos la misma fecha en esta sección, esto no nos interesa, necesitamos la fecha de publicación del video. Para corregir esto se tiene que llamar de nuevo a la API usando la ID del video que se nos da en el <code>.json</code>. "
   ]
  },
  {
   "cell_type": "code",
   "execution_count": 350,
   "metadata": {},
   "outputs": [
    {
     "name": "stdout",
     "output_type": "stream",
     "text": [
      "              published_at                                              title   \n",
      "0     2023-05-16T12:45:50Z  Gobierno federal atiende demandas del magister...  \\\n",
      "1     2023-05-15T12:44:53Z  Maestras y maestros recibirán aumento de 8.2 p...   \n",
      "2     2023-05-12T03:54:24Z  Gobierno no permitirá insultos de republicanos...   \n",
      "3     2023-05-11T12:44:34Z  Sueldos de magistrados y jueces deben bajar pa...   \n",
      "4     2023-05-10T12:50:23Z  Homenaje a las madres de México en su día. Con...   \n",
      "...                    ...                                                ...   \n",
      "1096  2018-12-07T14:42:27Z  Conferencia matutina: Avances del Gabinete de ...   \n",
      "1097  2018-12-06T14:54:35Z  Hoy anunciamos la terna de candidatos a minist...   \n",
      "1098  2018-12-05T14:17:13Z  Tercera conferencia de prensa matutina desde P...   \n",
      "1099  2018-12-04T14:21:56Z     Diálogo con periodistas desde Palacio Nacional   \n",
      "1100  2018-12-03T15:03:24Z  Primera conferencia de prensa matutina desde P...   \n",
      "\n",
      "                                            description  \n",
      "0     Conferencia de prensa matutina, desde Palacio ...  \n",
      "1     Conferencia de prensa matutina, desde Palacio ...  \n",
      "2     Conferencia de prensa matutina, desde Palacio ...  \n",
      "3     Conferencia de prensa matutina, desde Palacio ...  \n",
      "4     Conferencia de prensa matutina, desde Palacio ...  \n",
      "...                                                 ...  \n",
      "1096  Conferencia de prensa matutina, desde Palacio ...  \n",
      "1097  Cuarta conferencia de prensa matutina desde el...  \n",
      "1098  Tercera conferencia de prensa matutina desde e...  \n",
      "1099  Segunda conferencia de prensa matutina del pre...  \n",
      "1100  Andrés Manuel López Obrador ofrece su primera ...  \n",
      "\n",
      "[1101 rows x 3 columns]\n"
     ]
    }
   ],
   "source": [
    "data = []\n",
    "\n",
    "for i, item in enumerate(playlists_items):\n",
    "    snippet = item['snippet']\n",
    "    published_at = snippet['publishedAt']\n",
    "    title = snippet['title']\n",
    "    description = snippet['description']\n",
    "    video_id = item['contentDetails']['videoId']\n",
    "\n",
    "    # Son los últimos 94 son los afectados aquí, así que son los que seleccionamos\n",
    "    if i >= len(playlists_items) - 94:\n",
    "        try:\n",
    "            # Realiza una petición a la API de videos para obtener la fecha de publicación original\n",
    "            response = service.videos().list(\n",
    "                part='snippet',\n",
    "                id=video_id\n",
    "            ).execute()\n",
    "\n",
    "            video_info = response.get('items', [])\n",
    "            if video_info:\n",
    "                published_at = video_info[0]['snippet']['publishedAt']\n",
    "\n",
    "        except HttpError as e:\n",
    "            errMsg = json.loads(e.content)\n",
    "            print(\"HTTP Error: \")\n",
    "            print(errMsg['error']['message'])\n",
    "\n",
    "    data.append([published_at, title, description])\n",
    "    \n",
    "df = pd.DataFrame(data, columns=['published_at', 'title', 'description'])\n",
    "df = df.head(1101)\n",
    "\n",
    "print(df)"
   ]
  },
  {
   "attachments": {},
   "cell_type": "markdown",
   "metadata": {},
   "source": [
    "## Una primera limpieza"
   ]
  },
  {
   "attachments": {},
   "cell_type": "markdown",
   "metadata": {},
   "source": [
    "Los datos que llegan de la API están contaminados con información como minutos de YouTube en formato <code>00:00</code>, links, saltos de línea <code>\\n</code> y palabras específicas como nombres redes sociales o frases que no aportan nada.\n",
    "Para mejor ejemplo, tomemos un elemento."
   ]
  },
  {
   "cell_type": "code",
   "execution_count": 351,
   "metadata": {},
   "outputs": [
    {
     "data": {
      "text/plain": [
       "'Conferencia de prensa matutina, desde Palacio Nacional. Miércoles 21 de abril 2021 | Presidente AMLO.\\n\\n0:00 Inicio de transmisión\\n20:03 Comienza la conferencia de prensa del presidente Andrés Manuel López Obrador\\n22:25 Informe mensual de seguridad\\n1:04:19 Sesión de preguntas y respuestas\\n\\nEl Gobierno de la Cuarta Transformación trabaja para garantizar la paz en el país. Como cada mes, dimos a conocer las acciones, avances y retos en materia de seguridad pública. \\n\\nLa percepción de la inseguridad disminuyó y aumentó la confianza de la población en las fuerzas de seguridad. Además, 9 de 11 delitos del fuero federal se mantienen a la baja. Al prevenir la violencia y atender sus causas, impulsamos el desarrollo del país.\\n\\nDurante el primer trimestre de 2021 se presentaron 4.6 por ciento menos homicidios dolosos respecto al mismo periodo del año anterior. \\n\\nEn el acumulado de enero a marzo del 2021, Baja California, Chihuahua, Estado de México, Guanajuato, Jalisco y Michoacán concentraron el 50.7 por ciento de las víctimas de este delito. \\n\\nEl delito de feminicidio logró contenerse en los primeros tres meses del año al bajar 2.4 por ciento respecto al primer trimestre del año anterior. \\n\\nLos robos se redujeron en 17.8 por ciento en comparación con el primer trimestre de 2020. El secuestro se mantiene en las cifras más bajas en los últimos años; en el primer trimestre de 2021 disminuyó 36.8 por ciento respecto al mismo periodo de 2020. \\n\\nLa Secretaría de Seguridad y Protección Ciudadana dio a conocer que diariamente se ahorran 163 millones 929 mil 774 por el combate al delito de robo de hidrocarburos. \\n\\nLa prevención de toma de casetas evitó la pérdida de 3 mil 488 millones de pesos de enero a marzo de este año y de 2020 a 2021, de 13 mil 85 millones de pesos. \\n\\nLa Unidad de Inteligencia Financiera ha impactado en las fianzas del crimen organizado con el bloqueo de 36 mil 148 cuentas con 13 mil 31 millones de pesos.\\n\\nLa Guardia Nacional reporta que la corporación cuenta con 99 mil 608 elementos operativos en 200 coordinaciones regionales, de los cuales 84 mil 666 están desplegados y 14 mil 942 en apoyo a las operaciones. \\n\\nHay mil 903 efectivos en diversas situaciones administrativas, entre las que destacan el cuidado a candidatas y candidatos a puestos de elección popular.\\n\\nActualmente tenemos 164 cuarteles construidos y 84 en proceso de edificación. Al final de 2021 habrá 248 en total en el territorio nacional.\\n\\nReafirmamos que se fortalecerá la vigilancia en la frontera sur para proteger a las y los niños migrantes. No permitiremos el tráfico de personas ni el uso de menores, esta práctica es inhumana y cruel.\\n\\nEn una semana tendremos listo el plan en el que participarán las secretarías de Relaciones Exteriores, de Marina, de la Defensa Nacional, de Bienestar, de Salud y de Medio Ambiente y Recursos Naturales, además de la Guardia Nacional y el Sistema Nacional para el Desarrollo Integral de las Familias (DIF). \\n\\nEn la migración lo importante es atender, no contener y en eso estamos trabajando. Para nosotros, todo lo que tiene que ver con el principal de los derechos humanos, que es el derecho a la vida, siempre será una prioridad y no habrá techo financiero, destinaremos todos los recursos necesarios.\\n\\nMás información: https://bit.ly/3tGi4lk\\n\\nSigue las actividades del presidente de México: \\n\\nSitio web:\\nhttp://presidente.gob.mx\\n\\nYouTube:\\nhttps://www.youtube.com/lopezobrador\\n\\nFacebook:\\nhttps://facebook.com/lopezobrador.org.mx\\n\\nTwitter:\\nhttps://twitter.com/lopezobrador_\\n\\nInstagram:\\nhttps://www.instagram.com/lopezobrador/\\n\\nTelegram: \\nhttps://t.me/PresidenteAMLO\\n\\nSpotify:\\nhttps://spoti.fi/2C7jUmx'"
      ]
     },
     "execution_count": 351,
     "metadata": {},
     "output_type": "execute_result"
    }
   ],
   "source": [
    "df['description'][500]"
   ]
  },
  {
   "attachments": {},
   "cell_type": "markdown",
   "metadata": {},
   "source": [
    "Declararemos una función <code>replace_patterns</code>que recibirá una row y una serie de patrones que contendrán el regex a buscar y con lo que se va a reeemplazar"
   ]
  },
  {
   "cell_type": "code",
   "execution_count": 352,
   "metadata": {},
   "outputs": [],
   "source": [
    "def replace_patterns(row, patterns):\n",
    "    text = row['description']\n",
    "    for pattern, replacement in patterns.items():\n",
    "        regex = re.compile(pattern, re.IGNORECASE | re.DOTALL)\n",
    "        text = regex.sub(replacement, text)\n",
    "    return text\n"
   ]
  },
  {
   "attachments": {},
   "cell_type": "markdown",
   "metadata": {},
   "source": [
    "La función <code>remove_beginning</code> se creó principamente porque el regex estaba dando problemas si no se colocaba en una función, por su complejidad probablemente."
   ]
  },
  {
   "cell_type": "code",
   "execution_count": 353,
   "metadata": {},
   "outputs": [],
   "source": [
    "def remove_beginning(string):\n",
    "    pattern = r'Conferencia\\s+de\\s+prensa\\s+(matutina|en vivo),?(\\s+desde\\s+\\b(\\b\\w+\\b,?\\s)?\\b\\b\\w+\\b)(,? ([\\wáéíóúÁÉÍÓÚ]+\\s?)+)?\\.\\s+\\b(Lunes|Martes|Miércoles|Jueves|Viernes|Sábado|Domingo)\\b [0-3]?[0-9]\\s+de\\s+\\b(enero|febrero|marzo|abril|mayo|junio|julio|agosto|septiembre|octubre|noviembre|diciembre)\\b\\s+20[0-9][0-9]\\.?'\n",
    "    replace_with = ''\n",
    "    return re.sub(pattern, replace_with, string)"
   ]
  },
  {
   "attachments": {},
   "cell_type": "markdown",
   "metadata": {},
   "source": [
    "La función <code>remove_flags</code> este regex también se puso en una función por su complejidad. Este detecta los enlaces de marcade tiempo (<code>00:00</code>)"
   ]
  },
  {
   "cell_type": "code",
   "execution_count": 354,
   "metadata": {},
   "outputs": [],
   "source": [
    "def remove_flags(string):\n",
    "    pattern = r'(\\d{1,2}:\\d{2}(:\\d{2})?)\\s(.+)'\n",
    "    replace_with = ''\n",
    "    return re.sub(pattern, replace_with, string)"
   ]
  },
  {
   "attachments": {},
   "cell_type": "markdown",
   "metadata": {},
   "source": [
    "La función <code>remove_line</code> este regex quita los saltos de línea <code>\\n</code>, es importante que esta fucnión se aplique al final para la limpieza correcta del dataframe"
   ]
  },
  {
   "cell_type": "code",
   "execution_count": 355,
   "metadata": {},
   "outputs": [],
   "source": [
    "def remove_line(string):\n",
    "    pattern = r'\\n'\n",
    "    replace_with = ''\n",
    "    return re.sub(pattern, replace_with, string)"
   ]
  },
  {
   "cell_type": "markdown",
   "metadata": {},
   "source": [
    "Aquí está los patrones que se buscarán y con lo que se va a reemplazar"
   ]
  },
  {
   "cell_type": "code",
   "execution_count": 356,
   "metadata": {},
   "outputs": [],
   "source": [
    "patterns = {\n",
    "\n",
    "    # Borrar separadores\n",
    "    \"\\|\": \"\", \n",
    "    \n",
    "    \"Presidente AMLO.\": \"\",\n",
    "\n",
    "    # Borra cualquier link de internet:\n",
    "    \"http(s)?://[a-zA-Z0-9./?=_-]+\": \"\",\n",
    "\n",
    "    \"\\s+Más información:\": \"\",\n",
    "\n",
    "    \"lopezobrador\": \"\",\n",
    "\n",
    "    \"Sigue las actividades del presidente de México:\": \"\",\n",
    "    \"Sitio web:\\s+\": \"\",\n",
    "    \"YouTube:\\s+\": \"\",\n",
    "    \"Facebook:\\s+\": \"\",\n",
    "    \"Twitter:\\s+\": \"\",\n",
    "    \"Instagram:\\s+\": \"\",\n",
    "    \"Telegram:\\s+\": \"\",\n",
    "    \"Spotify:\": \"\",\n",
    "\n",
    "    # Elemina todos los # (hashtags)\n",
    "    \"#\\w+\": \"\",\n",
    "\n",
    "    #Elimina todas las palabras con @ al principio\n",
    "    \"@\\w+\": \"\",\n",
    "\n",
    "    \"\\w+@\\w+.com.mx\": \"\",\n",
    "\n",
    "    \"facebook.com/.org.mx\": \"\",\n",
    "}   "
   ]
  },
  {
   "attachments": {},
   "cell_type": "markdown",
   "metadata": {},
   "source": [
    "Aplicamos las funciones y vemos los resultados"
   ]
  },
  {
   "cell_type": "code",
   "execution_count": 357,
   "metadata": {},
   "outputs": [],
   "source": [
    "df['description'] = df.apply(replace_patterns, patterns=patterns, axis=1).apply(remove_beginning).apply(remove_flags).apply(remove_line)"
   ]
  },
  {
   "cell_type": "code",
   "execution_count": 358,
   "metadata": {},
   "outputs": [
    {
     "data": {
      "text/plain": [
       "'  El Gobierno de la Cuarta Transformación trabaja para garantizar la paz en el país. Como cada mes, dimos a conocer las acciones, avances y retos en materia de seguridad pública. La percepción de la inseguridad disminuyó y aumentó la confianza de la población en las fuerzas de seguridad. Además, 9 de 11 delitos del fuero federal se mantienen a la baja. Al prevenir la violencia y atender sus causas, impulsamos el desarrollo del país.Durante el primer trimestre de 2021 se presentaron 4.6 por ciento menos homicidios dolosos respecto al mismo periodo del año anterior. En el acumulado de enero a marzo del 2021, Baja California, Chihuahua, Estado de México, Guanajuato, Jalisco y Michoacán concentraron el 50.7 por ciento de las víctimas de este delito. El delito de feminicidio logró contenerse en los primeros tres meses del año al bajar 2.4 por ciento respecto al primer trimestre del año anterior. Los robos se redujeron en 17.8 por ciento en comparación con el primer trimestre de 2020. El secuestro se mantiene en las cifras más bajas en los últimos años; en el primer trimestre de 2021 disminuyó 36.8 por ciento respecto al mismo periodo de 2020. La Secretaría de Seguridad y Protección Ciudadana dio a conocer que diariamente se ahorran 163 millones 929 mil 774 por el combate al delito de robo de hidrocarburos. La prevención de toma de casetas evitó la pérdida de 3 mil 488 millones de pesos de enero a marzo de este año y de 2020 a 2021, de 13 mil 85 millones de pesos. La Unidad de Inteligencia Financiera ha impactado en las fianzas del crimen organizado con el bloqueo de 36 mil 148 cuentas con 13 mil 31 millones de pesos.La Guardia Nacional reporta que la corporación cuenta con 99 mil 608 elementos operativos en 200 coordinaciones regionales, de los cuales 84 mil 666 están desplegados y 14 mil 942 en apoyo a las operaciones. Hay mil 903 efectivos en diversas situaciones administrativas, entre las que destacan el cuidado a candidatas y candidatos a puestos de elección popular.Actualmente tenemos 164 cuarteles construidos y 84 en proceso de edificación. Al final de 2021 habrá 248 en total en el territorio nacional.Reafirmamos que se fortalecerá la vigilancia en la frontera sur para proteger a las y los niños migrantes. No permitiremos el tráfico de personas ni el uso de menores, esta práctica es inhumana y cruel.En una semana tendremos listo el plan en el que participarán las secretarías de Relaciones Exteriores, de Marina, de la Defensa Nacional, de Bienestar, de Salud y de Medio Ambiente y Recursos Naturales, además de la Guardia Nacional y el Sistema Nacional para el Desarrollo Integral de las Familias (DIF). En la migración lo importante es atender, no contener y en eso estamos trabajando. Para nosotros, todo lo que tiene que ver con el principal de los derechos humanos, que es el derecho a la vida, siempre será una prioridad y no habrá techo financiero, destinaremos todos los recursos necesarios.  '"
      ]
     },
     "execution_count": 358,
     "metadata": {},
     "output_type": "execute_result"
    }
   ],
   "source": [
    "df['description'][500]"
   ]
  },
  {
   "attachments": {},
   "cell_type": "markdown",
   "metadata": {},
   "source": [
    "## Separación por semana"
   ]
  },
  {
   "attachments": {},
   "cell_type": "markdown",
   "metadata": {},
   "source": [
    "Ahora necesitamos separar por semana, es decir, juntar todas las descripciones de una semana. De esta manera cada renglón del dataframe reprensentará una semana en específico.\n",
    "Lo primero que debemos hacer es limpiar el apartado de la fecha y convertirlo a datetime."
   ]
  },
  {
   "cell_type": "code",
   "execution_count": 359,
   "metadata": {},
   "outputs": [
    {
     "data": {
      "text/plain": [
       "0       2023-05-16T12:45:50Z\n",
       "1       2023-05-15T12:44:53Z\n",
       "2       2023-05-12T03:54:24Z\n",
       "3       2023-05-11T12:44:34Z\n",
       "4       2023-05-10T12:50:23Z\n",
       "                ...         \n",
       "1096    2018-12-07T14:42:27Z\n",
       "1097    2018-12-06T14:54:35Z\n",
       "1098    2018-12-05T14:17:13Z\n",
       "1099    2018-12-04T14:21:56Z\n",
       "1100    2018-12-03T15:03:24Z\n",
       "Name: published_at, Length: 1101, dtype: object"
      ]
     },
     "execution_count": 359,
     "metadata": {},
     "output_type": "execute_result"
    }
   ],
   "source": [
    "df['published_at']"
   ]
  },
  {
   "attachments": {},
   "cell_type": "markdown",
   "metadata": {},
   "source": [
    "Lo que se haces es: tomar los primeros 10 digitos de cada elemento de la columna y convertirlo al tipo datetime con la función <code>datetime.strptime</code>. Son los primeros 10 digitos porque son los que representan la fecha de ese día, no nos importan las horas, minutos o segundos así que lo descartamos"
   ]
  },
  {
   "cell_type": "code",
   "execution_count": 360,
   "metadata": {},
   "outputs": [],
   "source": [
    "clean_dates = []\n",
    "\n",
    "for dates in df['published_at']:\n",
    "    clean_dates.append( datetime.strptime(dates[:10], '%Y-%m-%d') )\n",
    "df['clean_dates'] = clean_dates"
   ]
  },
  {
   "cell_type": "code",
   "execution_count": 361,
   "metadata": {},
   "outputs": [],
   "source": [
    "df = df.drop('published_at', axis=1) # Ahorra borramos las fechas que no nos sirven"
   ]
  },
  {
   "cell_type": "code",
   "execution_count": 362,
   "metadata": {},
   "outputs": [],
   "source": [
    "df['clean_dates'] = pd.to_datetime(df['clean_dates'])"
   ]
  },
  {
   "attachments": {},
   "cell_type": "markdown",
   "metadata": {},
   "source": [
    "Ya tenemos los datos como fechas tipo <code>datetime</code>"
   ]
  },
  {
   "cell_type": "code",
   "execution_count": 363,
   "metadata": {},
   "outputs": [
    {
     "data": {
      "text/html": [
       "<div>\n",
       "<style scoped>\n",
       "    .dataframe tbody tr th:only-of-type {\n",
       "        vertical-align: middle;\n",
       "    }\n",
       "\n",
       "    .dataframe tbody tr th {\n",
       "        vertical-align: top;\n",
       "    }\n",
       "\n",
       "    .dataframe thead th {\n",
       "        text-align: right;\n",
       "    }\n",
       "</style>\n",
       "<table border=\"1\" class=\"dataframe\">\n",
       "  <thead>\n",
       "    <tr style=\"text-align: right;\">\n",
       "      <th></th>\n",
       "      <th>title</th>\n",
       "      <th>description</th>\n",
       "      <th>clean_dates</th>\n",
       "    </tr>\n",
       "  </thead>\n",
       "  <tbody>\n",
       "    <tr>\n",
       "      <th>0</th>\n",
       "      <td>Gobierno federal atiende demandas del magister...</td>\n",
       "      <td>Cada quince días informamos sobre los daños ...</td>\n",
       "      <td>2023-05-16</td>\n",
       "    </tr>\n",
       "    <tr>\n",
       "      <th>1</th>\n",
       "      <td>Maestras y maestros recibirán aumento de 8.2 p...</td>\n",
       "      <td>Felicitamos a las y los maestros en su día; ...</td>\n",
       "      <td>2023-05-15</td>\n",
       "    </tr>\n",
       "    <tr>\n",
       "      <th>2</th>\n",
       "      <td>Gobierno no permitirá insultos de republicanos...</td>\n",
       "      <td>El Gobierno de México mantendrá una política...</td>\n",
       "      <td>2023-05-12</td>\n",
       "    </tr>\n",
       "    <tr>\n",
       "      <th>3</th>\n",
       "      <td>Sueldos de magistrados y jueces deben bajar pa...</td>\n",
       "      <td>En cuatro años de Gobierno de la Cuarta Tran...</td>\n",
       "      <td>2023-05-11</td>\n",
       "    </tr>\n",
       "    <tr>\n",
       "      <th>4</th>\n",
       "      <td>Homenaje a las madres de México en su día. Con...</td>\n",
       "      <td>Enviamos una cariñosa felicitación a todas l...</td>\n",
       "      <td>2023-05-10</td>\n",
       "    </tr>\n",
       "    <tr>\n",
       "      <th>...</th>\n",
       "      <td>...</td>\n",
       "      <td>...</td>\n",
       "      <td>...</td>\n",
       "    </tr>\n",
       "    <tr>\n",
       "      <th>1096</th>\n",
       "      <td>Conferencia matutina: Avances del Gabinete de ...</td>\n",
       "      <td>Hoy destacamos la conformación de un sistema...</td>\n",
       "      <td>2018-12-07</td>\n",
       "    </tr>\n",
       "    <tr>\n",
       "      <th>1097</th>\n",
       "      <td>Hoy anunciamos la terna de candidatos a minist...</td>\n",
       "      <td>Cuarta conferencia de prensa matutina desde el...</td>\n",
       "      <td>2018-12-06</td>\n",
       "    </tr>\n",
       "    <tr>\n",
       "      <th>1098</th>\n",
       "      <td>Tercera conferencia de prensa matutina desde P...</td>\n",
       "      <td>Tercera conferencia de prensa matutina desde e...</td>\n",
       "      <td>2018-12-05</td>\n",
       "    </tr>\n",
       "    <tr>\n",
       "      <th>1099</th>\n",
       "      <td>Diálogo con periodistas desde Palacio Nacional</td>\n",
       "      <td>Segunda conferencia de prensa matutina del pre...</td>\n",
       "      <td>2018-12-04</td>\n",
       "    </tr>\n",
       "    <tr>\n",
       "      <th>1100</th>\n",
       "      <td>Primera conferencia de prensa matutina desde P...</td>\n",
       "      <td>Andrés Manuel López Obrador ofrece su primera ...</td>\n",
       "      <td>2018-12-03</td>\n",
       "    </tr>\n",
       "  </tbody>\n",
       "</table>\n",
       "<p>1101 rows × 3 columns</p>\n",
       "</div>"
      ],
      "text/plain": [
       "                                                  title   \n",
       "0     Gobierno federal atiende demandas del magister...  \\\n",
       "1     Maestras y maestros recibirán aumento de 8.2 p...   \n",
       "2     Gobierno no permitirá insultos de republicanos...   \n",
       "3     Sueldos de magistrados y jueces deben bajar pa...   \n",
       "4     Homenaje a las madres de México en su día. Con...   \n",
       "...                                                 ...   \n",
       "1096  Conferencia matutina: Avances del Gabinete de ...   \n",
       "1097  Hoy anunciamos la terna de candidatos a minist...   \n",
       "1098  Tercera conferencia de prensa matutina desde P...   \n",
       "1099     Diálogo con periodistas desde Palacio Nacional   \n",
       "1100  Primera conferencia de prensa matutina desde P...   \n",
       "\n",
       "                                            description clean_dates  \n",
       "0       Cada quince días informamos sobre los daños ...  2023-05-16  \n",
       "1       Felicitamos a las y los maestros en su día; ...  2023-05-15  \n",
       "2       El Gobierno de México mantendrá una política...  2023-05-12  \n",
       "3       En cuatro años de Gobierno de la Cuarta Tran...  2023-05-11  \n",
       "4       Enviamos una cariñosa felicitación a todas l...  2023-05-10  \n",
       "...                                                 ...         ...  \n",
       "1096    Hoy destacamos la conformación de un sistema...  2018-12-07  \n",
       "1097  Cuarta conferencia de prensa matutina desde el...  2018-12-06  \n",
       "1098  Tercera conferencia de prensa matutina desde e...  2018-12-05  \n",
       "1099  Segunda conferencia de prensa matutina del pre...  2018-12-04  \n",
       "1100  Andrés Manuel López Obrador ofrece su primera ...  2018-12-03  \n",
       "\n",
       "[1101 rows x 3 columns]"
      ]
     },
     "execution_count": 363,
     "metadata": {},
     "output_type": "execute_result"
    }
   ],
   "source": [
    "df"
   ]
  },
  {
   "cell_type": "code",
   "execution_count": 364,
   "metadata": {},
   "outputs": [
    {
     "data": {
      "text/plain": [
       "0      2023-05-16\n",
       "1      2023-05-15\n",
       "2      2023-05-12\n",
       "3      2023-05-11\n",
       "4      2023-05-10\n",
       "          ...    \n",
       "1096   2018-12-07\n",
       "1097   2018-12-06\n",
       "1098   2018-12-05\n",
       "1099   2018-12-04\n",
       "1100   2018-12-03\n",
       "Name: clean_dates, Length: 1101, dtype: datetime64[ns]"
      ]
     },
     "execution_count": 364,
     "metadata": {},
     "output_type": "execute_result"
    }
   ],
   "source": [
    "df['clean_dates']"
   ]
  },
  {
   "attachments": {},
   "cell_type": "markdown",
   "metadata": {},
   "source": [
    "La mejor manera de manipular datos con fechas es creando una serie de tiempo, para estos se utiliza la libería <code>datetime</code>. Convertimos el Data Frame en una serie de tiempo con <code>pd.set_index</code>.\n",
    "De esta manera las fechas ahora serán los índices de el dataframe"
   ]
  },
  {
   "cell_type": "code",
   "execution_count": 365,
   "metadata": {},
   "outputs": [],
   "source": [
    "df.set_index('clean_dates', inplace=True)"
   ]
  },
  {
   "cell_type": "code",
   "execution_count": 366,
   "metadata": {},
   "outputs": [],
   "source": [
    "df = df.drop('title', axis=1)"
   ]
  },
  {
   "cell_type": "code",
   "execution_count": 367,
   "metadata": {},
   "outputs": [
    {
     "data": {
      "text/html": [
       "<div>\n",
       "<style scoped>\n",
       "    .dataframe tbody tr th:only-of-type {\n",
       "        vertical-align: middle;\n",
       "    }\n",
       "\n",
       "    .dataframe tbody tr th {\n",
       "        vertical-align: top;\n",
       "    }\n",
       "\n",
       "    .dataframe thead th {\n",
       "        text-align: right;\n",
       "    }\n",
       "</style>\n",
       "<table border=\"1\" class=\"dataframe\">\n",
       "  <thead>\n",
       "    <tr style=\"text-align: right;\">\n",
       "      <th></th>\n",
       "      <th>description</th>\n",
       "    </tr>\n",
       "    <tr>\n",
       "      <th>clean_dates</th>\n",
       "      <th></th>\n",
       "    </tr>\n",
       "  </thead>\n",
       "  <tbody>\n",
       "    <tr>\n",
       "      <th>2023-05-16</th>\n",
       "      <td>Cada quince días informamos sobre los daños ...</td>\n",
       "    </tr>\n",
       "    <tr>\n",
       "      <th>2023-05-15</th>\n",
       "      <td>Felicitamos a las y los maestros en su día; ...</td>\n",
       "    </tr>\n",
       "    <tr>\n",
       "      <th>2023-05-12</th>\n",
       "      <td>El Gobierno de México mantendrá una política...</td>\n",
       "    </tr>\n",
       "    <tr>\n",
       "      <th>2023-05-11</th>\n",
       "      <td>En cuatro años de Gobierno de la Cuarta Tran...</td>\n",
       "    </tr>\n",
       "    <tr>\n",
       "      <th>2023-05-10</th>\n",
       "      <td>Enviamos una cariñosa felicitación a todas l...</td>\n",
       "    </tr>\n",
       "    <tr>\n",
       "      <th>...</th>\n",
       "      <td>...</td>\n",
       "    </tr>\n",
       "    <tr>\n",
       "      <th>2018-12-07</th>\n",
       "      <td>Hoy destacamos la conformación de un sistema...</td>\n",
       "    </tr>\n",
       "    <tr>\n",
       "      <th>2018-12-06</th>\n",
       "      <td>Cuarta conferencia de prensa matutina desde el...</td>\n",
       "    </tr>\n",
       "    <tr>\n",
       "      <th>2018-12-05</th>\n",
       "      <td>Tercera conferencia de prensa matutina desde e...</td>\n",
       "    </tr>\n",
       "    <tr>\n",
       "      <th>2018-12-04</th>\n",
       "      <td>Segunda conferencia de prensa matutina del pre...</td>\n",
       "    </tr>\n",
       "    <tr>\n",
       "      <th>2018-12-03</th>\n",
       "      <td>Andrés Manuel López Obrador ofrece su primera ...</td>\n",
       "    </tr>\n",
       "  </tbody>\n",
       "</table>\n",
       "<p>1101 rows × 1 columns</p>\n",
       "</div>"
      ],
      "text/plain": [
       "                                                   description\n",
       "clean_dates                                                   \n",
       "2023-05-16     Cada quince días informamos sobre los daños ...\n",
       "2023-05-15     Felicitamos a las y los maestros en su día; ...\n",
       "2023-05-12     El Gobierno de México mantendrá una política...\n",
       "2023-05-11     En cuatro años de Gobierno de la Cuarta Tran...\n",
       "2023-05-10     Enviamos una cariñosa felicitación a todas l...\n",
       "...                                                        ...\n",
       "2018-12-07     Hoy destacamos la conformación de un sistema...\n",
       "2018-12-06   Cuarta conferencia de prensa matutina desde el...\n",
       "2018-12-05   Tercera conferencia de prensa matutina desde e...\n",
       "2018-12-04   Segunda conferencia de prensa matutina del pre...\n",
       "2018-12-03   Andrés Manuel López Obrador ofrece su primera ...\n",
       "\n",
       "[1101 rows x 1 columns]"
      ]
     },
     "execution_count": 367,
     "metadata": {},
     "output_type": "execute_result"
    }
   ],
   "source": [
    "df"
   ]
  },
  {
   "cell_type": "code",
   "execution_count": 368,
   "metadata": {},
   "outputs": [],
   "source": [
    "df['description'].to_csv('dataframe.csv')"
   ]
  },
  {
   "cell_type": "code",
   "execution_count": 369,
   "metadata": {},
   "outputs": [
    {
     "data": {
      "text/html": [
       "<div>\n",
       "<style scoped>\n",
       "    .dataframe tbody tr th:only-of-type {\n",
       "        vertical-align: middle;\n",
       "    }\n",
       "\n",
       "    .dataframe tbody tr th {\n",
       "        vertical-align: top;\n",
       "    }\n",
       "\n",
       "    .dataframe thead th {\n",
       "        text-align: right;\n",
       "    }\n",
       "</style>\n",
       "<table border=\"1\" class=\"dataframe\">\n",
       "  <thead>\n",
       "    <tr style=\"text-align: right;\">\n",
       "      <th></th>\n",
       "      <th>description</th>\n",
       "    </tr>\n",
       "    <tr>\n",
       "      <th>clean_dates</th>\n",
       "      <th></th>\n",
       "    </tr>\n",
       "  </thead>\n",
       "  <tbody>\n",
       "    <tr>\n",
       "      <th>2018-12-09</th>\n",
       "      <td>Andrés Manuel López Obrador ofrece su primera ...</td>\n",
       "    </tr>\n",
       "    <tr>\n",
       "      <th>2018-12-16</th>\n",
       "      <td>Esta mañana dimos a conocer el trabajo coordin...</td>\n",
       "    </tr>\n",
       "    <tr>\n",
       "      <th>2018-12-23</th>\n",
       "      <td>El presupuesto 2019 está planeado para cumplir...</td>\n",
       "    </tr>\n",
       "    <tr>\n",
       "      <th>2018-12-30</th>\n",
       "      <td>Celebramos la aprobación del Presupuesto de Eg...</td>\n",
       "    </tr>\n",
       "    <tr>\n",
       "      <th>2019-01-06</th>\n",
       "      <td>En la primera conferencia matutina del año pre...</td>\n",
       "    </tr>\n",
       "    <tr>\n",
       "      <th>...</th>\n",
       "      <td>...</td>\n",
       "    </tr>\n",
       "    <tr>\n",
       "      <th>2023-04-23</th>\n",
       "      <td>En el informe semanal del avance de la const...</td>\n",
       "    </tr>\n",
       "    <tr>\n",
       "      <th>2023-04-30</th>\n",
       "      <td>Gracias al pueblo de México por su a...</td>\n",
       "    </tr>\n",
       "    <tr>\n",
       "      <th>2023-05-07</th>\n",
       "      <td>En el informe semanal del Tren Maya reafirma...</td>\n",
       "    </tr>\n",
       "    <tr>\n",
       "      <th>2023-05-14</th>\n",
       "      <td>El pueblo y las autoridades de los estados r...</td>\n",
       "    </tr>\n",
       "    <tr>\n",
       "      <th>2023-05-21</th>\n",
       "      <td>Felicitamos a las y los maestros en su día; ...</td>\n",
       "    </tr>\n",
       "  </tbody>\n",
       "</table>\n",
       "<p>233 rows × 1 columns</p>\n",
       "</div>"
      ],
      "text/plain": [
       "                                                   description\n",
       "clean_dates                                                   \n",
       "2018-12-09   Andrés Manuel López Obrador ofrece su primera ...\n",
       "2018-12-16   Esta mañana dimos a conocer el trabajo coordin...\n",
       "2018-12-23   El presupuesto 2019 está planeado para cumplir...\n",
       "2018-12-30   Celebramos la aprobación del Presupuesto de Eg...\n",
       "2019-01-06   En la primera conferencia matutina del año pre...\n",
       "...                                                        ...\n",
       "2023-04-23     En el informe semanal del avance de la const...\n",
       "2023-04-30             Gracias al pueblo de México por su a...\n",
       "2023-05-07     En el informe semanal del Tren Maya reafirma...\n",
       "2023-05-14     El pueblo y las autoridades de los estados r...\n",
       "2023-05-21     Felicitamos a las y los maestros en su día; ...\n",
       "\n",
       "[233 rows x 1 columns]"
      ]
     },
     "execution_count": 369,
     "metadata": {},
     "output_type": "execute_result"
    }
   ],
   "source": [
    "df.resample('W').sum()"
   ]
  },
  {
   "attachments": {},
   "cell_type": "markdown",
   "metadata": {},
   "source": [
    "Ahora le decimos que separe, con respecto a las fechas, semanalmente. De esta manera va a concatenar los contenidos de las descripciones y los títulos."
   ]
  },
  {
   "cell_type": "code",
   "execution_count": 370,
   "metadata": {},
   "outputs": [],
   "source": [
    "weekly_ts = df.resample('W').sum()"
   ]
  },
  {
   "attachments": {},
   "cell_type": "markdown",
   "metadata": {},
   "source": [
    "Se muestra el dataframe"
   ]
  },
  {
   "cell_type": "code",
   "execution_count": 371,
   "metadata": {},
   "outputs": [
    {
     "data": {
      "text/html": [
       "<div>\n",
       "<style scoped>\n",
       "    .dataframe tbody tr th:only-of-type {\n",
       "        vertical-align: middle;\n",
       "    }\n",
       "\n",
       "    .dataframe tbody tr th {\n",
       "        vertical-align: top;\n",
       "    }\n",
       "\n",
       "    .dataframe thead th {\n",
       "        text-align: right;\n",
       "    }\n",
       "</style>\n",
       "<table border=\"1\" class=\"dataframe\">\n",
       "  <thead>\n",
       "    <tr style=\"text-align: right;\">\n",
       "      <th></th>\n",
       "      <th>description</th>\n",
       "    </tr>\n",
       "    <tr>\n",
       "      <th>clean_dates</th>\n",
       "      <th></th>\n",
       "    </tr>\n",
       "  </thead>\n",
       "  <tbody>\n",
       "    <tr>\n",
       "      <th>2018-12-09</th>\n",
       "      <td>Andrés Manuel López Obrador ofrece su primera ...</td>\n",
       "    </tr>\n",
       "    <tr>\n",
       "      <th>2018-12-16</th>\n",
       "      <td>Esta mañana dimos a conocer el trabajo coordin...</td>\n",
       "    </tr>\n",
       "    <tr>\n",
       "      <th>2018-12-23</th>\n",
       "      <td>El presupuesto 2019 está planeado para cumplir...</td>\n",
       "    </tr>\n",
       "    <tr>\n",
       "      <th>2018-12-30</th>\n",
       "      <td>Celebramos la aprobación del Presupuesto de Eg...</td>\n",
       "    </tr>\n",
       "    <tr>\n",
       "      <th>2019-01-06</th>\n",
       "      <td>En la primera conferencia matutina del año pre...</td>\n",
       "    </tr>\n",
       "    <tr>\n",
       "      <th>...</th>\n",
       "      <td>...</td>\n",
       "    </tr>\n",
       "    <tr>\n",
       "      <th>2023-04-23</th>\n",
       "      <td>En el informe semanal del avance de la const...</td>\n",
       "    </tr>\n",
       "    <tr>\n",
       "      <th>2023-04-30</th>\n",
       "      <td>Gracias al pueblo de México por su a...</td>\n",
       "    </tr>\n",
       "    <tr>\n",
       "      <th>2023-05-07</th>\n",
       "      <td>En el informe semanal del Tren Maya reafirma...</td>\n",
       "    </tr>\n",
       "    <tr>\n",
       "      <th>2023-05-14</th>\n",
       "      <td>El pueblo y las autoridades de los estados r...</td>\n",
       "    </tr>\n",
       "    <tr>\n",
       "      <th>2023-05-21</th>\n",
       "      <td>Felicitamos a las y los maestros en su día; ...</td>\n",
       "    </tr>\n",
       "  </tbody>\n",
       "</table>\n",
       "<p>233 rows × 1 columns</p>\n",
       "</div>"
      ],
      "text/plain": [
       "                                                   description\n",
       "clean_dates                                                   \n",
       "2018-12-09   Andrés Manuel López Obrador ofrece su primera ...\n",
       "2018-12-16   Esta mañana dimos a conocer el trabajo coordin...\n",
       "2018-12-23   El presupuesto 2019 está planeado para cumplir...\n",
       "2018-12-30   Celebramos la aprobación del Presupuesto de Eg...\n",
       "2019-01-06   En la primera conferencia matutina del año pre...\n",
       "...                                                        ...\n",
       "2023-04-23     En el informe semanal del avance de la const...\n",
       "2023-04-30             Gracias al pueblo de México por su a...\n",
       "2023-05-07     En el informe semanal del Tren Maya reafirma...\n",
       "2023-05-14     El pueblo y las autoridades de los estados r...\n",
       "2023-05-21     Felicitamos a las y los maestros en su día; ...\n",
       "\n",
       "[233 rows x 1 columns]"
      ]
     },
     "execution_count": 371,
     "metadata": {},
     "output_type": "execute_result"
    }
   ],
   "source": [
    "weekly_ts"
   ]
  },
  {
   "cell_type": "code",
   "execution_count": 372,
   "metadata": {},
   "outputs": [
    {
     "data": {
      "text/html": [
       "<div>\n",
       "<style scoped>\n",
       "    .dataframe tbody tr th:only-of-type {\n",
       "        vertical-align: middle;\n",
       "    }\n",
       "\n",
       "    .dataframe tbody tr th {\n",
       "        vertical-align: top;\n",
       "    }\n",
       "\n",
       "    .dataframe thead th {\n",
       "        text-align: right;\n",
       "    }\n",
       "</style>\n",
       "<table border=\"1\" class=\"dataframe\">\n",
       "  <thead>\n",
       "    <tr style=\"text-align: right;\">\n",
       "      <th></th>\n",
       "      <th>description</th>\n",
       "    </tr>\n",
       "    <tr>\n",
       "      <th>clean_dates</th>\n",
       "      <th></th>\n",
       "    </tr>\n",
       "  </thead>\n",
       "  <tbody>\n",
       "    <tr>\n",
       "      <th>2018-12-09</th>\n",
       "      <td>Andrés Manuel López Obrador ofrece su primera ...</td>\n",
       "    </tr>\n",
       "    <tr>\n",
       "      <th>2018-12-16</th>\n",
       "      <td>Esta mañana dimos a conocer el trabajo coordin...</td>\n",
       "    </tr>\n",
       "    <tr>\n",
       "      <th>2018-12-23</th>\n",
       "      <td>El presupuesto 2019 está planeado para cumplir...</td>\n",
       "    </tr>\n",
       "    <tr>\n",
       "      <th>2018-12-30</th>\n",
       "      <td>Celebramos la aprobación del Presupuesto de Eg...</td>\n",
       "    </tr>\n",
       "    <tr>\n",
       "      <th>2019-01-06</th>\n",
       "      <td>En la primera conferencia matutina del año pre...</td>\n",
       "    </tr>\n",
       "    <tr>\n",
       "      <th>...</th>\n",
       "      <td>...</td>\n",
       "    </tr>\n",
       "    <tr>\n",
       "      <th>2023-04-23</th>\n",
       "      <td>En el informe semanal del avance de la const...</td>\n",
       "    </tr>\n",
       "    <tr>\n",
       "      <th>2023-04-30</th>\n",
       "      <td>Gracias al pueblo de México por su a...</td>\n",
       "    </tr>\n",
       "    <tr>\n",
       "      <th>2023-05-07</th>\n",
       "      <td>En el informe semanal del Tren Maya reafirma...</td>\n",
       "    </tr>\n",
       "    <tr>\n",
       "      <th>2023-05-14</th>\n",
       "      <td>El pueblo y las autoridades de los estados r...</td>\n",
       "    </tr>\n",
       "    <tr>\n",
       "      <th>2023-05-21</th>\n",
       "      <td>Felicitamos a las y los maestros en su día; ...</td>\n",
       "    </tr>\n",
       "  </tbody>\n",
       "</table>\n",
       "<p>233 rows × 1 columns</p>\n",
       "</div>"
      ],
      "text/plain": [
       "                                                   description\n",
       "clean_dates                                                   \n",
       "2018-12-09   Andrés Manuel López Obrador ofrece su primera ...\n",
       "2018-12-16   Esta mañana dimos a conocer el trabajo coordin...\n",
       "2018-12-23   El presupuesto 2019 está planeado para cumplir...\n",
       "2018-12-30   Celebramos la aprobación del Presupuesto de Eg...\n",
       "2019-01-06   En la primera conferencia matutina del año pre...\n",
       "...                                                        ...\n",
       "2023-04-23     En el informe semanal del avance de la const...\n",
       "2023-04-30             Gracias al pueblo de México por su a...\n",
       "2023-05-07     En el informe semanal del Tren Maya reafirma...\n",
       "2023-05-14     El pueblo y las autoridades de los estados r...\n",
       "2023-05-21     Felicitamos a las y los maestros en su día; ...\n",
       "\n",
       "[233 rows x 1 columns]"
      ]
     },
     "execution_count": 372,
     "metadata": {},
     "output_type": "execute_result"
    }
   ],
   "source": [
    "weekly_ts"
   ]
  },
  {
   "attachments": {},
   "cell_type": "markdown",
   "metadata": {},
   "source": [
    "Ahora se guarda el dataframe en un .txt para que el preprocesamiento pueda llamarlo y utlizarlo"
   ]
  },
  {
   "cell_type": "code",
   "execution_count": 373,
   "metadata": {},
   "outputs": [],
   "source": [
    "weekly_ts['description'].to_csv('mañaneras.csv')"
   ]
  },
  {
   "attachments": {},
   "cell_type": "markdown",
   "metadata": {},
   "source": [
    "Así es como se termina la obtención de datos, ya tenemos nuesto dataframe listo para mandar al preprocesamiento. Como se observó, a los datos se les hizo una primera limpieza, la razón de esto fue para que en el preprocesamiento se hicieran los pasos fundamentales y no pasos extras, como fue este caso de quitar ciertos patrones que estorbaban."
   ]
  }
 ],
 "metadata": {
  "kernelspec": {
   "display_name": "Python 3",
   "language": "python",
   "name": "python3"
  },
  "language_info": {
   "codemirror_mode": {
    "name": "ipython",
    "version": 3
   },
   "file_extension": ".py",
   "mimetype": "text/x-python",
   "name": "python",
   "nbconvert_exporter": "python",
   "pygments_lexer": "ipython3",
   "version": "3.11.2"
  },
  "orig_nbformat": 4
 },
 "nbformat": 4,
 "nbformat_minor": 2
}
