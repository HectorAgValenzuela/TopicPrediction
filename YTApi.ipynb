{
 "cells": [
  {
   "attachments": {},
   "cell_type": "markdown",
   "metadata": {},
   "source": [
    "# Importaciones"
   ]
  },
  {
   "cell_type": "code",
   "execution_count": 3,
   "metadata": {},
   "outputs": [],
   "source": [
    "import json \n",
    "from datetime import datetime\n",
    "import re\n",
    "\n",
    "import pandas as pd \n",
    "import numpy as np\n",
    "\n",
    "from googleapiclient.errors import HttpError\n",
    "from Google import Create_Service"
   ]
  },
  {
   "attachments": {},
   "cell_type": "markdown",
   "metadata": {},
   "source": [
    "# Obtención de datos"
   ]
  },
  {
   "attachments": {},
   "cell_type": "markdown",
   "metadata": {},
   "source": [
    "## Llamamiento a la API de YouTube"
   ]
  },
  {
   "attachments": {},
   "cell_type": "markdown",
   "metadata": {},
   "source": [
    "Para obtener los datos vamos a usar las descripciones en cada video de las mañaneras. Pues nos provee de un resumen del video del día. De esta manera ya no tenemos que lidiar con conversaciones del presidente cuando usamos las transcripciones."
   ]
  },
  {
   "attachments": {},
   "cell_type": "markdown",
   "metadata": {},
   "source": [
    "Función que utiliza expresiones regulares para obtener los segundos totales de una duración dada."
   ]
  },
  {
   "cell_type": "code",
   "execution_count": 3,
   "metadata": {},
   "outputs": [],
   "source": [
    "def convert_duration(duration):\n",
    "    try:\n",
    "        h = int(re.search('\\d+H', duration)[0][:-1]) * 60**2  if re.search('\\d+H', duration) else 0 # hour\n",
    "        m = int(re.search('\\d+M', duration)[0][:-1]) * 60  if re.search('\\d+M', duration) else 0 # minute\n",
    "        s = int(re.search('\\d+S', duration)[0][:-1])  if re.search('\\d+S', duration) else 0 # second\n",
    "        return h + m + s\n",
    "    except Exception as e:\n",
    "        print(e)\n",
    "        return 0 "
   ]
  },
  {
   "cell_type": "code",
   "execution_count": 4,
   "metadata": {},
   "outputs": [],
   "source": [
    "def retrieve_playlists(service, channelId):\n",
    "    playlists =[]\n",
    "    try:\n",
    "        response = service.playlists().list(\n",
    "            part = 'contentDetails, snippet, status',\n",
    "            channelId = channelId,\n",
    "            maxResults = 50\n",
    "        ).execute()\n",
    "\n",
    "        playlists.extend(response.get('items'))\n",
    "        nextPageToken = response.get('nextPageToken')\n",
    "\n",
    "        while nextPageToken:\n",
    "            response = service.playlists().list(\n",
    "                part = 'contentDetails, snippet, status',\n",
    "                channelId = channelId,\n",
    "                maxResults = 50,\n",
    "                pageToken = nextPageToken\n",
    "            ).execute()\n",
    "\n",
    "            playlists.extend(response.get('items'))\n",
    "            nextPageToken = response.get('nextPageToken')\n",
    "\n",
    "        return playlists\n",
    "\n",
    "    except HttpError as e:\n",
    "        errMsg = json.loads(e.content)\n",
    "        print(\"HTTP Error: \")\n",
    "        print(errMsg['error']['message'])\n",
    "        return []"
   ]
  },
  {
   "attachments": {},
   "cell_type": "markdown",
   "metadata": {},
   "source": [
    "Función que hace la petición a la API de youtube"
   ]
  },
  {
   "cell_type": "code",
   "execution_count": 5,
   "metadata": {},
   "outputs": [],
   "source": [
    "def retrieve_playlists_items(service, playlistId):\n",
    "    items =[]\n",
    "    try:\n",
    "        response = service.playlistItems().list(\n",
    "            part = 'contentDetails, snippet, status',\n",
    "            playlistId = playlistId,\n",
    "            maxResults = 5\n",
    "        ).execute()\n",
    "\n",
    "        items.extend(response.get('items'))\n",
    "        nextPageToken = response.get('nextPageToken')\n",
    "\n",
    "        while nextPageToken:\n",
    "            response = service.playlistItems().list(\n",
    "                part = 'contentDetails, snippet, status',\n",
    "                playlistId = playlistId,\n",
    "                maxResults = 5,\n",
    "                pageToken = nextPageToken\n",
    "            ).execute()\n",
    "\n",
    "            items.extend(response.get('items'))\n",
    "            nextPageToken = response.get('nextPageToken')\n",
    "\n",
    "        return items\n",
    "\n",
    "    except HttpError as e:\n",
    "        errMsg = json.loads(e.content)\n",
    "        print(\"HTTP Error: \")\n",
    "        print(errMsg['error']['message'])\n",
    "        return []"
   ]
  },
  {
   "attachments": {},
   "cell_type": "markdown",
   "metadata": {},
   "source": [
    "Creando constantes para llamar a la API"
   ]
  },
  {
   "cell_type": "code",
   "execution_count": 6,
   "metadata": {},
   "outputs": [
    {
     "name": "stdout",
     "output_type": "stream",
     "text": [
      "client_secret.json-youtube-v3-(['https://www.googleapis.com/auth/youtube.readonly'],)\n",
      "['https://www.googleapis.com/auth/youtube.readonly']\n",
      "youtube service created successfully\n"
     ]
    }
   ],
   "source": [
    "CLIENT_SECRETS_FILE = 'client_secret.json'  # Archivo .json que se obtiene al crear las credenciales OAuth en https://console.cloud.google.com/\n",
    "API_NAME = 'youtube'\n",
    "API_VERSION = 'v3'\n",
    "SCOPES = ['https://www.googleapis.com/auth/youtube.readonly']\n",
    "\n",
    "service = Create_Service(CLIENT_SECRETS_FILE, API_NAME, API_VERSION, SCOPES)"
   ]
  },
  {
   "attachments": {},
   "cell_type": "markdown",
   "metadata": {},
   "source": [
    "El objeto <code>service</code> nos da accesos a todos los recursos de la API"
   ]
  },
  {
   "cell_type": "code",
   "execution_count": 7,
   "metadata": {},
   "outputs": [
    {
     "data": {
      "text/plain": [
       "['__class__',\n",
       " '__delattr__',\n",
       " '__dict__',\n",
       " '__dir__',\n",
       " '__doc__',\n",
       " '__enter__',\n",
       " '__eq__',\n",
       " '__exit__',\n",
       " '__format__',\n",
       " '__ge__',\n",
       " '__getattribute__',\n",
       " '__getstate__',\n",
       " '__gt__',\n",
       " '__hash__',\n",
       " '__init__',\n",
       " '__init_subclass__',\n",
       " '__le__',\n",
       " '__lt__',\n",
       " '__module__',\n",
       " '__ne__',\n",
       " '__new__',\n",
       " '__reduce__',\n",
       " '__reduce_ex__',\n",
       " '__repr__',\n",
       " '__setattr__',\n",
       " '__setstate__',\n",
       " '__sizeof__',\n",
       " '__str__',\n",
       " '__subclasshook__',\n",
       " '__weakref__',\n",
       " '_add_basic_methods',\n",
       " '_add_nested_resources',\n",
       " '_add_next_methods',\n",
       " '_baseUrl',\n",
       " '_developerKey',\n",
       " '_dynamic_attrs',\n",
       " '_http',\n",
       " '_model',\n",
       " '_requestBuilder',\n",
       " '_resourceDesc',\n",
       " '_rootDesc',\n",
       " '_schema',\n",
       " '_set_dynamic_attr',\n",
       " '_set_service_methods',\n",
       " 'abuseReports',\n",
       " 'activities',\n",
       " 'captions',\n",
       " 'channelBanners',\n",
       " 'channelSections',\n",
       " 'channels',\n",
       " 'close',\n",
       " 'commentThreads',\n",
       " 'comments',\n",
       " 'i18nLanguages',\n",
       " 'i18nRegions',\n",
       " 'liveBroadcasts',\n",
       " 'liveChatBans',\n",
       " 'liveChatMessages',\n",
       " 'liveChatModerators',\n",
       " 'liveStreams',\n",
       " 'members',\n",
       " 'membershipsLevels',\n",
       " 'new_batch_http_request',\n",
       " 'playlistItems',\n",
       " 'playlists',\n",
       " 'search',\n",
       " 'subscriptions',\n",
       " 'superChatEvents',\n",
       " 'tests',\n",
       " 'thirdPartyLinks',\n",
       " 'thumbnails',\n",
       " 'videoAbuseReportReasons',\n",
       " 'videoCategories',\n",
       " 'videos',\n",
       " 'watermarks',\n",
       " 'youtube']"
      ]
     },
     "execution_count": 7,
     "metadata": {},
     "output_type": "execute_result"
    }
   ],
   "source": [
    "dir(service)"
   ]
  },
  {
   "attachments": {},
   "cell_type": "markdown",
   "metadata": {},
   "source": [
    "Hacemos una llamada a a función de <code>retrieve_playlists_items</code> para obtener todos los videos una playlist especifica "
   ]
  },
  {
   "cell_type": "code",
   "execution_count": 47,
   "metadata": {},
   "outputs": [],
   "source": [
    "playlistId = 'PLRnlRGar-_296KTsVL0R6MEbpwJzD8ppA' # id de la playlist de las mañaneras\n",
    "playlists_items = retrieve_playlists_items(service, playlistId)"
   ]
  },
  {
   "cell_type": "code",
   "execution_count": 9,
   "metadata": {},
   "outputs": [
    {
     "data": {
      "text/plain": [
       "{'kind': 'youtube#playlistItem',\n",
       " 'etag': 'c_spoCV2wb1dgyoY8MZpxa_qqb8',\n",
       " 'id': 'UExSbmxSR2FyLV8yOTZLVHNWTDBSNk1FYnB3SnpEOHBwQS43OEJDMUVGM0VCNUQwREIw',\n",
       " 'snippet': {'publishedAt': '2023-04-26T06:07:35Z',\n",
       "  'channelId': 'UCxEgOKuI-n-WOJaNcisHvSg',\n",
       "  'title': 'Conferencia de prensa matutina, desde Palacio Nacional. Miércoles 26 de abril 2023 | Presidente AMLO',\n",
       "  'description': 'Conferencia de prensa matutina, desde Palacio Nacional. Miércoles 26 de abril 2023 | Presidente AMLO.\\n\\nSigue las actividades del presidente de México:\\n\\nSitio web:\\nhttp://presidente.gob.mx\\n\\nYouTube:\\nhttps://www.youtube.com/lopezobrador\\n\\nFacebook:\\nhttps://facebook.com/lopezobrador.org.mx\\n\\nTwitter:\\nhttps://twitter.com/lopezobrador_\\n\\nInstagram:\\nhttps://www.instagram.com/lopezobrador/\\n\\nTelegram: \\nhttps://t.me/PresidenteAMLO\\n\\nSpotify:\\nhttps://spoti.fi/3QocikN',\n",
       "  'thumbnails': {'default': {'url': 'https://i.ytimg.com/vi/25tJB6UoTzo/default.jpg',\n",
       "    'width': 120,\n",
       "    'height': 90},\n",
       "   'medium': {'url': 'https://i.ytimg.com/vi/25tJB6UoTzo/mqdefault.jpg',\n",
       "    'width': 320,\n",
       "    'height': 180},\n",
       "   'high': {'url': 'https://i.ytimg.com/vi/25tJB6UoTzo/hqdefault.jpg',\n",
       "    'width': 480,\n",
       "    'height': 360},\n",
       "   'standard': {'url': 'https://i.ytimg.com/vi/25tJB6UoTzo/sddefault.jpg',\n",
       "    'width': 640,\n",
       "    'height': 480},\n",
       "   'maxres': {'url': 'https://i.ytimg.com/vi/25tJB6UoTzo/maxresdefault.jpg',\n",
       "    'width': 1280,\n",
       "    'height': 720}},\n",
       "  'channelTitle': 'Andrés Manuel López Obrador',\n",
       "  'playlistId': 'PLRnlRGar-_296KTsVL0R6MEbpwJzD8ppA',\n",
       "  'position': 0,\n",
       "  'resourceId': {'kind': 'youtube#video', 'videoId': '25tJB6UoTzo'},\n",
       "  'videoOwnerChannelTitle': 'Andrés Manuel López Obrador',\n",
       "  'videoOwnerChannelId': 'UCxEgOKuI-n-WOJaNcisHvSg'},\n",
       " 'contentDetails': {'videoId': '25tJB6UoTzo',\n",
       "  'videoPublishedAt': '2023-04-26T15:15:33Z'},\n",
       " 'status': {'privacyStatus': 'public'}}"
      ]
     },
     "execution_count": 9,
     "metadata": {},
     "output_type": "execute_result"
    }
   ],
   "source": [
    "playlists_items[0] # El último video agregado a la playlist"
   ]
  },
  {
   "attachments": {},
   "cell_type": "markdown",
   "metadata": {},
   "source": [
    "## Guardando los datos en un DataFrame"
   ]
  },
  {
   "attachments": {},
   "cell_type": "markdown",
   "metadata": {},
   "source": [
    "Podemos obtener cada elemento de la variable utilizando las posiciones."
   ]
  },
  {
   "cell_type": "code",
   "execution_count": 10,
   "metadata": {},
   "outputs": [
    {
     "data": {
      "text/plain": [
       "{'publishedAt': '2023-04-26T06:07:35Z',\n",
       " 'channelId': 'UCxEgOKuI-n-WOJaNcisHvSg',\n",
       " 'title': 'Conferencia de prensa matutina, desde Palacio Nacional. Miércoles 26 de abril 2023 | Presidente AMLO',\n",
       " 'description': 'Conferencia de prensa matutina, desde Palacio Nacional. Miércoles 26 de abril 2023 | Presidente AMLO.\\n\\nSigue las actividades del presidente de México:\\n\\nSitio web:\\nhttp://presidente.gob.mx\\n\\nYouTube:\\nhttps://www.youtube.com/lopezobrador\\n\\nFacebook:\\nhttps://facebook.com/lopezobrador.org.mx\\n\\nTwitter:\\nhttps://twitter.com/lopezobrador_\\n\\nInstagram:\\nhttps://www.instagram.com/lopezobrador/\\n\\nTelegram: \\nhttps://t.me/PresidenteAMLO\\n\\nSpotify:\\nhttps://spoti.fi/3QocikN',\n",
       " 'thumbnails': {'default': {'url': 'https://i.ytimg.com/vi/25tJB6UoTzo/default.jpg',\n",
       "   'width': 120,\n",
       "   'height': 90},\n",
       "  'medium': {'url': 'https://i.ytimg.com/vi/25tJB6UoTzo/mqdefault.jpg',\n",
       "   'width': 320,\n",
       "   'height': 180},\n",
       "  'high': {'url': 'https://i.ytimg.com/vi/25tJB6UoTzo/hqdefault.jpg',\n",
       "   'width': 480,\n",
       "   'height': 360},\n",
       "  'standard': {'url': 'https://i.ytimg.com/vi/25tJB6UoTzo/sddefault.jpg',\n",
       "   'width': 640,\n",
       "   'height': 480},\n",
       "  'maxres': {'url': 'https://i.ytimg.com/vi/25tJB6UoTzo/maxresdefault.jpg',\n",
       "   'width': 1280,\n",
       "   'height': 720}},\n",
       " 'channelTitle': 'Andrés Manuel López Obrador',\n",
       " 'playlistId': 'PLRnlRGar-_296KTsVL0R6MEbpwJzD8ppA',\n",
       " 'position': 0,\n",
       " 'resourceId': {'kind': 'youtube#video', 'videoId': '25tJB6UoTzo'},\n",
       " 'videoOwnerChannelTitle': 'Andrés Manuel López Obrador',\n",
       " 'videoOwnerChannelId': 'UCxEgOKuI-n-WOJaNcisHvSg'}"
      ]
     },
     "execution_count": 10,
     "metadata": {},
     "output_type": "execute_result"
    }
   ],
   "source": [
    "playlists_items[0]['snippet']"
   ]
  },
  {
   "attachments": {},
   "cell_type": "markdown",
   "metadata": {},
   "source": [
    "Hay que crear un dataframe con la información necesaria para hacer el entrenamiento. Estos datos son: EL título, la descrición y la fecha de publicación"
   ]
  },
  {
   "cell_type": "code",
   "execution_count": 48,
   "metadata": {},
   "outputs": [
    {
     "name": "stdout",
     "output_type": "stream",
     "text": [
      "              published_at                                              title   \n",
      "0     2023-04-26T06:07:35Z  Conferencia de prensa matutina, desde Palacio ...  \\\n",
      "1     2023-04-25T04:45:24Z  Conferencia de prensa matutina, desde Palacio ...   \n",
      "2     2023-04-24T12:44:41Z  Conferencia de prensa matutina desde Palacio N...   \n",
      "3     2023-04-21T05:16:34Z  Seguridad y bienestar mejoran en Veracruz. Con...   \n",
      "4     2023-04-20T11:50:16Z  Recursos de venta de avión serán para construi...   \n",
      "...                    ...                                                ...   \n",
      "1082  2019-03-08T21:59:25Z  Conferencia matutina: Avances del Gabinete de ...   \n",
      "1083  2019-03-08T21:59:25Z  Hoy anunciamos la terna de candidatos a minist...   \n",
      "1084  2019-03-08T21:59:25Z  Tercera conferencia de prensa matutina desde P...   \n",
      "1085  2019-03-08T21:59:25Z     Diálogo con periodistas desde Palacio Nacional   \n",
      "1086  2019-03-08T21:59:25Z  Primera conferencia de prensa matutina desde P...   \n",
      "\n",
      "                                            description  \n",
      "0     Conferencia de prensa matutina, desde Palacio ...  \n",
      "1     Conferencia de prensa matutina, desde Palacio ...  \n",
      "2     Conferencia de prensa matutina, desde Palacio ...  \n",
      "3     Conferencia de prensa matutina, desde Palacio ...  \n",
      "4     Conferencia de prensa matutina, desde Palacio ...  \n",
      "...                                                 ...  \n",
      "1082  Conferencia de prensa matutina, desde Palacio ...  \n",
      "1083  Cuarta conferencia de prensa matutina desde el...  \n",
      "1084  Tercera conferencia de prensa matutina desde e...  \n",
      "1085  Segunda conferencia de prensa matutina del pre...  \n",
      "1086  Andrés Manuel López Obrador ofrece su primera ...  \n",
      "\n",
      "[1087 rows x 3 columns]\n"
     ]
    }
   ],
   "source": [
    "\n",
    "data = []\n",
    "\n",
    "for item in playlists_items:\n",
    "    snippet = item['snippet']\n",
    "    published_at = snippet['publishedAt']\n",
    "    title = snippet['title']\n",
    "    description = snippet['description']\n",
    "    \n",
    "    data.append([published_at, title, description])\n",
    "    \n",
    "df = pd.DataFrame(data, columns=['published_at', 'title', 'description'])\n",
    "df = df.head(1087)\n",
    "\n",
    "print(df)\n"
   ]
  },
  {
   "attachments": {},
   "cell_type": "markdown",
   "metadata": {},
   "source": [
    "## Una primera limpieza"
   ]
  },
  {
   "attachments": {},
   "cell_type": "markdown",
   "metadata": {},
   "source": [
    "Los datos que llegan de la API están contaminados con datos como minutos de YouTube en formato <code>00:00</code>, links de youtube y palabras específicas como nombres redes sociales y frases que no aportan nada.\n",
    "Para mejor ejemplo, tomemos un elemento."
   ]
  },
  {
   "cell_type": "code",
   "execution_count": 39,
   "metadata": {},
   "outputs": [
    {
     "data": {
      "text/plain": [
       "'Conferencia de prensa matutina, desde Campeche. Jueves 25 de marzo 2021 | Presidente AMLO.\\n\\n0:00 Inicio de transmisión\\n11:27 Comienza la conferencia de prensa del presidente Andrés Manuel López Obrador\\n26:21 Informe de seguridad del estado de Campeche\\n48:41 Sesión de preguntas y respuestas\\n\\nRealizamos la conferencia de prensa matutina y la reunión del Gabinete de Seguridad en Campeche, la entidad federativa con menor incidencia delictiva del país. Esto se debe al trabajo de gobierno, al apoyo de la población, a la coordinación entre autoridades y a la atención a las causas de la violencia e inseguridad.\\n\\nDe acuerdo con el análisis del último año, en Campeche disminuyó la incidencia delictiva total en 14.41 por ciento, el feminicidio en 57.14 por ciento, la extorsión en 48 por ciento, el robo de vehículo en 38.89 por ciento, la violencia familiar en 31.58 por ciento, el robo a transeúnte en 2.44 por ciento y la trata de personas en un 100 por ciento. \\n\\nEn los delitos del fuero federal, en el periodo enero-febrero de 2021 disminuyeron delitos financieros, contra la salud, en materia de hidrocarburos y patrimoniales, respecto al mismo periodo del año anterior. La secretaria dijo que el robo a casa habitación representa un reto en el estado.\\n\\nEn la entidad hay 916 elementos de la Guardia Nacional. Están desplegados en dos coordinaciones regionales ubicadas en la capital y en Ciudad del Carmen, donde se construirá un cuartel en este año. \\n\\nEsta corporación tiene un batallón especializado en el cuidado ambiental; 35 elementos resguardan la Reserva de la biósfera en Calakmul.\\n\\nEl subsecretario de Marina, Eduardo Redondo Arámburo, resaltó que en Campeche, de 2019 a 2020 se redujeron en un 92.3 por ciento los robos a plataformas petroleras.\\n\\nDe abril de 2020 a febrero de 2021 se realizaron inspecciones a embarcaciones mayores y menores para garantizar el mantenimiento del Estado de derecho en Campeche.\\n\\nHay condiciones para que reinicien las clases presenciales en este estado con protocolos sanitarios y toda la población adulta mayor vacunada en el estado. Fortaleceremos la vacunación en la Ciudad de México y el Estado de México para prevenir efectos de una posible tercera ola de la epidemia de COVID-19.\\n\\nVamos a la baja de la segunda ola, las hospitalizaciones disminuyeron y no queremos un repunte. Si seguimos vacunando a las personas de más de 60 años se reduce la mortalidad en un 80 por ciento.\\n\\nReafirmamos que en la vacunación debe prevalecer la fraternidad universal, no el acaparamiento de las naciones con más posibilidades económicas. \\n\\n\\nDurante el informe, el secretario de la Defensa Nacional, Luis Cresencio Sandoval, expuso las acciones para atender el incendio forestal en la Sierra de Arteaga, en Coahuila y de Santiago, en Nuevo León. \\n\\nResaltó la evacuación de 150 personas en Coahuila y 300 en Nuevo León. En ambas entidades se dispusieron refugios. \\n\\nSeis dependencias del gobierno federal se desplegaron en el área: la Secretaría de Medio Ambiente y Recursos Naturales, la Comisión Nacional Forestal, la Coordinación Nacional de Protección Civil, la Guardia Nacional, la Secretaría de Marina y la Secretaría de la Defensa Nacional. Las instituciones colaboran con voluntarios civiles y autoridades estatales.\\n\\nInformó que han resultado afectadas 3 mil hectáreas en Coahuila. En esta entidad el control es del 55 por ciento y una liquidación del 30 por ciento. De las 3 mil 100 hectáreas con afectación en Nuevo León, el control es del 71 por ciento con liquidación del 40 por ciento. \\n\\nEn total, hay un 63 por ciento de control del incendio con una liquidación del 35 por ciento.\\n\\nMás información: https://bit.ly/3cjVNDO \\n\\nSigue las actividades del presidente de México: \\n\\nSitio web:\\nhttp://presidente.gob.mx\\n\\nYouTube:\\nhttps://www.youtube.com/lopezobrador\\n\\nFacebook:\\nhttps://facebook.com/lopezobrador.org.mx\\n\\nTwitter:\\nhttps://twitter.com/lopezobrador_\\n\\nInstagram:\\nhttps://www.instagram.com/lopezobrador/\\n\\nTelegram: \\nhttps://t.me/PresidenteAMLO\\n\\nSpotify:\\nhttps://spoti.fi/2C7jUmx'"
      ]
     },
     "execution_count": 39,
     "metadata": {},
     "output_type": "execute_result"
    }
   ],
   "source": [
    "df['description'][500]"
   ]
  },
  {
   "attachments": {},
   "cell_type": "markdown",
   "metadata": {},
   "source": [
    "Declararemos una serie de funciones que utilizarán regex para limpiar esta basura."
   ]
  },
  {
   "attachments": {},
   "cell_type": "markdown",
   "metadata": {},
   "source": [
    "<code>replace_newlines(string)</code> es una función que elimina los patrones de salto de línea (<code>\\n</code>) y coloca un espacio en blanco"
   ]
  },
  {
   "cell_type": "code",
   "execution_count": 31,
   "metadata": {},
   "outputs": [],
   "source": [
    "def replace_newlines(string):\n",
    "    pattern = r'\\n'\n",
    "    replace_with = ' '\n",
    "    return re.sub(pattern, replace_with, string)"
   ]
  },
  {
   "attachments": {},
   "cell_type": "markdown",
   "metadata": {},
   "source": [
    "<code>replace_minutes(string)</code> es una función que elimina los patrones de formato de minuto (<code>00:00</code>)"
   ]
  },
  {
   "cell_type": "code",
   "execution_count": 32,
   "metadata": {},
   "outputs": [],
   "source": [
    "def remove_minutes(string):\n",
    "    pattern = r'[0-9]?[0-9]:[0-9][0-9]'\n",
    "    replace_with = ''\n",
    "    return re.sub(pattern, replace_with, string)"
   ]
  },
  {
   "cell_type": "markdown",
   "metadata": {},
   "source": [
    "<code>replace_minutes(string)</code> es una función que elimina los patrones de formato de minuto (<code>00:00</code>)"
   ]
  },
  {
   "cell_type": "code",
   "execution_count": 15,
   "metadata": {},
   "outputs": [],
   "source": [
    "def remove_links(string):\n",
    "    pattern = r\"(?i)\\b((?:https?://|www\\d{0,3}[.]|[a-z0-9.\\-]+[.][a-z]{2,4}/)(?:[^\\s()<>]+|\\(([^\\s()<>]+|(\\([^\\s()<>]+\\)))*\\))+(?:\\(([^\\s()<>]+|(\\([^\\s()<>]+\\)))*\\)|[^\\s`!()\\[\\]{};:'\\\".,<>?«»“”‘’]))\"\n",
    "    replace_with = ''\n",
    "    return re.sub(pattern, replace_with, string)"
   ]
  },
  {
   "attachments": {},
   "cell_type": "markdown",
   "metadata": {},
   "source": [
    "<code>remove_extra_words(string)</code> es una función que elimina los patrones de palabras especícas, pues estas sólo pueden afectar el entrenamiento"
   ]
  },
  {
   "cell_type": "code",
   "execution_count": 16,
   "metadata": {},
   "outputs": [],
   "source": [
    "def remove_extra_words(string):\n",
    "    pattern = r' Sigue las actividades del presidente de México:  Sitio web:   YouTube:   Facebook:   Twitter:   Instagram:   Telegram:    Spotify: '\n",
    "    replace_with = ''\n",
    "    return re.sub(pattern, replace_with, string)"
   ]
  },
  {
   "attachments": {},
   "cell_type": "markdown",
   "metadata": {},
   "source": [
    "Aplicamos las funciones y vemos los resultados"
   ]
  },
  {
   "cell_type": "code",
   "execution_count": 56,
   "metadata": {},
   "outputs": [],
   "source": [
    "df['description'] = df['description'].apply(replace_newlines).apply(remove_minutes).apply(remove_links).apply(remove_extra_words)\n"
   ]
  },
  {
   "cell_type": "code",
   "execution_count": 41,
   "metadata": {},
   "outputs": [
    {
     "data": {
      "text/plain": [
       "'Conferencia de prensa matutina, desde Campeche. Jueves 25 de marzo 2021 | Presidente AMLO.   Inicio de transmisión  Comienza la conferencia de prensa del presidente Andrés Manuel López Obrador  Informe de seguridad del estado de Campeche  Sesión de preguntas y respuestas  Realizamos la conferencia de prensa matutina y la reunión del Gabinete de Seguridad en Campeche, la entidad federativa con menor incidencia delictiva del país. Esto se debe al trabajo de gobierno, al apoyo de la población, a la coordinación entre autoridades y a la atención a las causas de la violencia e inseguridad.  De acuerdo con el análisis del último año, en Campeche disminuyó la incidencia delictiva total en 14.41 por ciento, el feminicidio en 57.14 por ciento, la extorsión en 48 por ciento, el robo de vehículo en 38.89 por ciento, la violencia familiar en 31.58 por ciento, el robo a transeúnte en 2.44 por ciento y la trata de personas en un 100 por ciento.   En los delitos del fuero federal, en el periodo enero-febrero de 2021 disminuyeron delitos financieros, contra la salud, en materia de hidrocarburos y patrimoniales, respecto al mismo periodo del año anterior. La secretaria dijo que el robo a casa habitación representa un reto en el estado.  En la entidad hay 916 elementos de la Guardia Nacional. Están desplegados en dos coordinaciones regionales ubicadas en la capital y en Ciudad del Carmen, donde se construirá un cuartel en este año.   Esta corporación tiene un batallón especializado en el cuidado ambiental; 35 elementos resguardan la Reserva de la biósfera en Calakmul.  El subsecretario de Marina, Eduardo Redondo Arámburo, resaltó que en Campeche, de 2019 a 2020 se redujeron en un 92.3 por ciento los robos a plataformas petroleras.  De abril de 2020 a febrero de 2021 se realizaron inspecciones a embarcaciones mayores y menores para garantizar el mantenimiento del Estado de derecho en Campeche.  Hay condiciones para que reinicien las clases presenciales en este estado con protocolos sanitarios y toda la población adulta mayor vacunada en el estado. Fortaleceremos la vacunación en la Ciudad de México y el Estado de México para prevenir efectos de una posible tercera ola de la epidemia de COVID-19.  Vamos a la baja de la segunda ola, las hospitalizaciones disminuyeron y no queremos un repunte. Si seguimos vacunando a las personas de más de 60 años se reduce la mortalidad en un 80 por ciento.  Reafirmamos que en la vacunación debe prevalecer la fraternidad universal, no el acaparamiento de las naciones con más posibilidades económicas.    Durante el informe, el secretario de la Defensa Nacional, Luis Cresencio Sandoval, expuso las acciones para atender el incendio forestal en la Sierra de Arteaga, en Coahuila y de Santiago, en Nuevo León.   Resaltó la evacuación de 150 personas en Coahuila y 300 en Nuevo León. En ambas entidades se dispusieron refugios.   Seis dependencias del gobierno federal se desplegaron en el área: la Secretaría de Medio Ambiente y Recursos Naturales, la Comisión Nacional Forestal, la Coordinación Nacional de Protección Civil, la Guardia Nacional, la Secretaría de Marina y la Secretaría de la Defensa Nacional. Las instituciones colaboran con voluntarios civiles y autoridades estatales.  Informó que han resultado afectadas 3 mil hectáreas en Coahuila. En esta entidad el control es del 55 por ciento y una liquidación del 30 por ciento. De las 3 mil 100 hectáreas con afectación en Nuevo León, el control es del 71 por ciento con liquidación del 40 por ciento.   En total, hay un 63 por ciento de control del incendio con una liquidación del 35 por ciento.  Más información:    Sigue las actividades del presidente de México:   Sitio web:   YouTube:   Facebook:   Twitter:   Instagram:   Telegram:    Spotify: '"
      ]
     },
     "execution_count": 41,
     "metadata": {},
     "output_type": "execute_result"
    }
   ],
   "source": [
    "df['description'][500]"
   ]
  },
  {
   "cell_type": "code",
   "execution_count": 35,
   "metadata": {},
   "outputs": [
    {
     "data": {
      "text/html": [
       "<div>\n",
       "<style scoped>\n",
       "    .dataframe tbody tr th:only-of-type {\n",
       "        vertical-align: middle;\n",
       "    }\n",
       "\n",
       "    .dataframe tbody tr th {\n",
       "        vertical-align: top;\n",
       "    }\n",
       "\n",
       "    .dataframe thead th {\n",
       "        text-align: right;\n",
       "    }\n",
       "</style>\n",
       "<table border=\"1\" class=\"dataframe\">\n",
       "  <thead>\n",
       "    <tr style=\"text-align: right;\">\n",
       "      <th></th>\n",
       "      <th>published_at</th>\n",
       "      <th>title</th>\n",
       "      <th>description</th>\n",
       "    </tr>\n",
       "  </thead>\n",
       "  <tbody>\n",
       "    <tr>\n",
       "      <th>0</th>\n",
       "      <td>2023-04-26T06:07:35Z</td>\n",
       "      <td>Conferencia de prensa matutina, desde Palacio ...</td>\n",
       "      <td>Conferencia de prensa matutina, desde Palacio ...</td>\n",
       "    </tr>\n",
       "    <tr>\n",
       "      <th>1</th>\n",
       "      <td>2023-04-25T04:45:24Z</td>\n",
       "      <td>Conferencia de prensa matutina, desde Palacio ...</td>\n",
       "      <td>Conferencia de prensa matutina, desde Palacio ...</td>\n",
       "    </tr>\n",
       "    <tr>\n",
       "      <th>2</th>\n",
       "      <td>2023-04-24T12:44:41Z</td>\n",
       "      <td>Conferencia de prensa matutina desde Palacio N...</td>\n",
       "      <td>Conferencia de prensa matutina, desde Palacio ...</td>\n",
       "    </tr>\n",
       "    <tr>\n",
       "      <th>3</th>\n",
       "      <td>2023-04-21T05:16:34Z</td>\n",
       "      <td>Seguridad y bienestar mejoran en Veracruz. Con...</td>\n",
       "      <td>Conferencia de prensa matutina, desde Palacio ...</td>\n",
       "    </tr>\n",
       "    <tr>\n",
       "      <th>4</th>\n",
       "      <td>2023-04-20T11:50:16Z</td>\n",
       "      <td>Recursos de venta de avión serán para construi...</td>\n",
       "      <td>Conferencia de prensa matutina, desde Palacio ...</td>\n",
       "    </tr>\n",
       "    <tr>\n",
       "      <th>...</th>\n",
       "      <td>...</td>\n",
       "      <td>...</td>\n",
       "      <td>...</td>\n",
       "    </tr>\n",
       "    <tr>\n",
       "      <th>1082</th>\n",
       "      <td>2019-03-08T21:59:25Z</td>\n",
       "      <td>Conferencia matutina: Avances del Gabinete de ...</td>\n",
       "      <td>Conferencia de prensa matutina, desde Palacio ...</td>\n",
       "    </tr>\n",
       "    <tr>\n",
       "      <th>1083</th>\n",
       "      <td>2019-03-08T21:59:25Z</td>\n",
       "      <td>Hoy anunciamos la terna de candidatos a minist...</td>\n",
       "      <td>Cuarta conferencia de prensa matutina desde el...</td>\n",
       "    </tr>\n",
       "    <tr>\n",
       "      <th>1084</th>\n",
       "      <td>2019-03-08T21:59:25Z</td>\n",
       "      <td>Tercera conferencia de prensa matutina desde P...</td>\n",
       "      <td>Tercera conferencia de prensa matutina desde e...</td>\n",
       "    </tr>\n",
       "    <tr>\n",
       "      <th>1085</th>\n",
       "      <td>2019-03-08T21:59:25Z</td>\n",
       "      <td>Diálogo con periodistas desde Palacio Nacional</td>\n",
       "      <td>Segunda conferencia de prensa matutina del pre...</td>\n",
       "    </tr>\n",
       "    <tr>\n",
       "      <th>1086</th>\n",
       "      <td>2019-03-08T21:59:25Z</td>\n",
       "      <td>Primera conferencia de prensa matutina desde P...</td>\n",
       "      <td>Andrés Manuel López Obrador ofrece su primera ...</td>\n",
       "    </tr>\n",
       "  </tbody>\n",
       "</table>\n",
       "<p>1087 rows × 3 columns</p>\n",
       "</div>"
      ],
      "text/plain": [
       "              published_at                                              title   \n",
       "0     2023-04-26T06:07:35Z  Conferencia de prensa matutina, desde Palacio ...  \\\n",
       "1     2023-04-25T04:45:24Z  Conferencia de prensa matutina, desde Palacio ...   \n",
       "2     2023-04-24T12:44:41Z  Conferencia de prensa matutina desde Palacio N...   \n",
       "3     2023-04-21T05:16:34Z  Seguridad y bienestar mejoran en Veracruz. Con...   \n",
       "4     2023-04-20T11:50:16Z  Recursos de venta de avión serán para construi...   \n",
       "...                    ...                                                ...   \n",
       "1082  2019-03-08T21:59:25Z  Conferencia matutina: Avances del Gabinete de ...   \n",
       "1083  2019-03-08T21:59:25Z  Hoy anunciamos la terna de candidatos a minist...   \n",
       "1084  2019-03-08T21:59:25Z  Tercera conferencia de prensa matutina desde P...   \n",
       "1085  2019-03-08T21:59:25Z     Diálogo con periodistas desde Palacio Nacional   \n",
       "1086  2019-03-08T21:59:25Z  Primera conferencia de prensa matutina desde P...   \n",
       "\n",
       "                                            description  \n",
       "0     Conferencia de prensa matutina, desde Palacio ...  \n",
       "1     Conferencia de prensa matutina, desde Palacio ...  \n",
       "2     Conferencia de prensa matutina, desde Palacio ...  \n",
       "3     Conferencia de prensa matutina, desde Palacio ...  \n",
       "4     Conferencia de prensa matutina, desde Palacio ...  \n",
       "...                                                 ...  \n",
       "1082  Conferencia de prensa matutina, desde Palacio ...  \n",
       "1083  Cuarta conferencia de prensa matutina desde el...  \n",
       "1084  Tercera conferencia de prensa matutina desde e...  \n",
       "1085  Segunda conferencia de prensa matutina del pre...  \n",
       "1086  Andrés Manuel López Obrador ofrece su primera ...  \n",
       "\n",
       "[1087 rows x 3 columns]"
      ]
     },
     "execution_count": 35,
     "metadata": {},
     "output_type": "execute_result"
    }
   ],
   "source": [
    "df"
   ]
  },
  {
   "attachments": {},
   "cell_type": "markdown",
   "metadata": {},
   "source": [
    "## Separación por semana"
   ]
  },
  {
   "attachments": {},
   "cell_type": "markdown",
   "metadata": {},
   "source": [
    "Se recorre el data frame"
   ]
  },
  {
   "cell_type": "code",
   "execution_count": 49,
   "metadata": {},
   "outputs": [
    {
     "data": {
      "text/plain": [
       "0       2023-04-26T06:07:35Z\n",
       "1       2023-04-25T04:45:24Z\n",
       "2       2023-04-24T12:44:41Z\n",
       "3       2023-04-21T05:16:34Z\n",
       "4       2023-04-20T11:50:16Z\n",
       "                ...         \n",
       "1082    2019-03-08T21:59:25Z\n",
       "1083    2019-03-08T21:59:25Z\n",
       "1084    2019-03-08T21:59:25Z\n",
       "1085    2019-03-08T21:59:25Z\n",
       "1086    2019-03-08T21:59:25Z\n",
       "Name: published_at, Length: 1087, dtype: object"
      ]
     },
     "execution_count": 49,
     "metadata": {},
     "output_type": "execute_result"
    }
   ],
   "source": [
    "df['published_at']"
   ]
  },
  {
   "cell_type": "code",
   "execution_count": 50,
   "metadata": {},
   "outputs": [],
   "source": [
    "clean_dates = []\n",
    "\n",
    "for dates in df['published_at']:\n",
    "    clean_dates.append( datetime.strptime(dates[:10], '%Y-%m-%d') )\n",
    "df['clean_dates'] = clean_dates"
   ]
  },
  {
   "cell_type": "code",
   "execution_count": 52,
   "metadata": {},
   "outputs": [],
   "source": [
    "df = df.drop('published_at', axis=1) # Ahorra borramos las fechas que no nos sirven"
   ]
  },
  {
   "cell_type": "code",
   "execution_count": 60,
   "metadata": {},
   "outputs": [],
   "source": [
    "df['clean_dates'] = pd.to_datetime(df['clean_dates'])"
   ]
  },
  {
   "attachments": {},
   "cell_type": "markdown",
   "metadata": {},
   "source": [
    "Ya tenemso los datos como fechas tipo <code>datetime</code>"
   ]
  },
  {
   "cell_type": "code",
   "execution_count": 66,
   "metadata": {},
   "outputs": [],
   "source": [
    "df = pd.read_csv('mañaneras.csv')"
   ]
  },
  {
   "cell_type": "code",
   "execution_count": 69,
   "metadata": {},
   "outputs": [
    {
     "data": {
      "text/html": [
       "<div>\n",
       "<style scoped>\n",
       "    .dataframe tbody tr th:only-of-type {\n",
       "        vertical-align: middle;\n",
       "    }\n",
       "\n",
       "    .dataframe tbody tr th {\n",
       "        vertical-align: top;\n",
       "    }\n",
       "\n",
       "    .dataframe thead th {\n",
       "        text-align: right;\n",
       "    }\n",
       "</style>\n",
       "<table border=\"1\" class=\"dataframe\">\n",
       "  <thead>\n",
       "    <tr style=\"text-align: right;\">\n",
       "      <th></th>\n",
       "      <th>title</th>\n",
       "      <th>description</th>\n",
       "      <th>clean_dates</th>\n",
       "    </tr>\n",
       "  </thead>\n",
       "  <tbody>\n",
       "    <tr>\n",
       "      <th>0</th>\n",
       "      <td>Conferencia de prensa matutina, desde Palacio ...</td>\n",
       "      <td>Conferencia de prensa matutina, desde Palacio ...</td>\n",
       "      <td>2023-04-26</td>\n",
       "    </tr>\n",
       "    <tr>\n",
       "      <th>1</th>\n",
       "      <td>Conferencia de prensa matutina, desde Palacio ...</td>\n",
       "      <td>Conferencia de prensa matutina, desde Palacio ...</td>\n",
       "      <td>2023-04-25</td>\n",
       "    </tr>\n",
       "    <tr>\n",
       "      <th>2</th>\n",
       "      <td>Conferencia de prensa matutina desde Palacio N...</td>\n",
       "      <td>Conferencia de prensa matutina, desde Palacio ...</td>\n",
       "      <td>2023-04-24</td>\n",
       "    </tr>\n",
       "    <tr>\n",
       "      <th>3</th>\n",
       "      <td>Seguridad y bienestar mejoran en Veracruz. Con...</td>\n",
       "      <td>Conferencia de prensa matutina, desde Palacio ...</td>\n",
       "      <td>2023-04-21</td>\n",
       "    </tr>\n",
       "    <tr>\n",
       "      <th>4</th>\n",
       "      <td>Recursos de venta de avión serán para construi...</td>\n",
       "      <td>Conferencia de prensa matutina, desde Palacio ...</td>\n",
       "      <td>2023-04-20</td>\n",
       "    </tr>\n",
       "    <tr>\n",
       "      <th>...</th>\n",
       "      <td>...</td>\n",
       "      <td>...</td>\n",
       "      <td>...</td>\n",
       "    </tr>\n",
       "    <tr>\n",
       "      <th>1082</th>\n",
       "      <td>Conferencia matutina: Avances del Gabinete de ...</td>\n",
       "      <td>Conferencia de prensa matutina, desde Palacio ...</td>\n",
       "      <td>2019-03-08</td>\n",
       "    </tr>\n",
       "    <tr>\n",
       "      <th>1083</th>\n",
       "      <td>Hoy anunciamos la terna de candidatos a minist...</td>\n",
       "      <td>Cuarta conferencia de prensa matutina desde el...</td>\n",
       "      <td>2019-03-08</td>\n",
       "    </tr>\n",
       "    <tr>\n",
       "      <th>1084</th>\n",
       "      <td>Tercera conferencia de prensa matutina desde P...</td>\n",
       "      <td>Tercera conferencia de prensa matutina desde e...</td>\n",
       "      <td>2019-03-08</td>\n",
       "    </tr>\n",
       "    <tr>\n",
       "      <th>1085</th>\n",
       "      <td>Diálogo con periodistas desde Palacio Nacional</td>\n",
       "      <td>Segunda conferencia de prensa matutina del pre...</td>\n",
       "      <td>2019-03-08</td>\n",
       "    </tr>\n",
       "    <tr>\n",
       "      <th>1086</th>\n",
       "      <td>Primera conferencia de prensa matutina desde P...</td>\n",
       "      <td>Andrés Manuel López Obrador ofrece su primera ...</td>\n",
       "      <td>2019-03-08</td>\n",
       "    </tr>\n",
       "  </tbody>\n",
       "</table>\n",
       "<p>1087 rows × 3 columns</p>\n",
       "</div>"
      ],
      "text/plain": [
       "                                                  title   \n",
       "0     Conferencia de prensa matutina, desde Palacio ...  \\\n",
       "1     Conferencia de prensa matutina, desde Palacio ...   \n",
       "2     Conferencia de prensa matutina desde Palacio N...   \n",
       "3     Seguridad y bienestar mejoran en Veracruz. Con...   \n",
       "4     Recursos de venta de avión serán para construi...   \n",
       "...                                                 ...   \n",
       "1082  Conferencia matutina: Avances del Gabinete de ...   \n",
       "1083  Hoy anunciamos la terna de candidatos a minist...   \n",
       "1084  Tercera conferencia de prensa matutina desde P...   \n",
       "1085     Diálogo con periodistas desde Palacio Nacional   \n",
       "1086  Primera conferencia de prensa matutina desde P...   \n",
       "\n",
       "                                            description clean_dates  \n",
       "0     Conferencia de prensa matutina, desde Palacio ...  2023-04-26  \n",
       "1     Conferencia de prensa matutina, desde Palacio ...  2023-04-25  \n",
       "2     Conferencia de prensa matutina, desde Palacio ...  2023-04-24  \n",
       "3     Conferencia de prensa matutina, desde Palacio ...  2023-04-21  \n",
       "4     Conferencia de prensa matutina, desde Palacio ...  2023-04-20  \n",
       "...                                                 ...         ...  \n",
       "1082  Conferencia de prensa matutina, desde Palacio ...  2019-03-08  \n",
       "1083  Cuarta conferencia de prensa matutina desde el...  2019-03-08  \n",
       "1084  Tercera conferencia de prensa matutina desde e...  2019-03-08  \n",
       "1085  Segunda conferencia de prensa matutina del pre...  2019-03-08  \n",
       "1086  Andrés Manuel López Obrador ofrece su primera ...  2019-03-08  \n",
       "\n",
       "[1087 rows x 3 columns]"
      ]
     },
     "execution_count": 69,
     "metadata": {},
     "output_type": "execute_result"
    }
   ],
   "source": [
    "df"
   ]
  },
  {
   "cell_type": "code",
   "execution_count": 68,
   "metadata": {},
   "outputs": [],
   "source": [
    "df = df.drop('Unnamed: 0', axis=1)"
   ]
  },
  {
   "cell_type": "code",
   "execution_count": 39,
   "metadata": {},
   "outputs": [],
   "source": [
    "df.to_csv('mañaneras.csv')"
   ]
  },
  {
   "cell_type": "code",
   "execution_count": 43,
   "metadata": {},
   "outputs": [
    {
     "data": {
      "text/plain": [
       "0       2023-04-26\n",
       "1       2023-04-25\n",
       "2       2023-04-24\n",
       "3       2023-04-21\n",
       "4       2023-04-20\n",
       "           ...    \n",
       "1082    2019-03-08\n",
       "1083    2019-03-08\n",
       "1084    2019-03-08\n",
       "1085    2019-03-08\n",
       "1086    2019-03-08\n",
       "Name: clean_dates, Length: 1087, dtype: object"
      ]
     },
     "execution_count": 43,
     "metadata": {},
     "output_type": "execute_result"
    }
   ],
   "source": [
    "df['clean_dates']"
   ]
  },
  {
   "attachments": {},
   "cell_type": "markdown",
   "metadata": {},
   "source": [
    "Convertimos el Data Frame en una serie de tiempo con <code>pd.set_index</code>.\n",
    "De esta manera las fechas ahora serán los índices de el dataframe"
   ]
  },
  {
   "cell_type": "code",
   "execution_count": 71,
   "metadata": {},
   "outputs": [],
   "source": [
    "df.set_index('clean_dates', inplace=True)"
   ]
  },
  {
   "cell_type": "code",
   "execution_count": 75,
   "metadata": {},
   "outputs": [
    {
     "data": {
      "text/html": [
       "<div>\n",
       "<style scoped>\n",
       "    .dataframe tbody tr th:only-of-type {\n",
       "        vertical-align: middle;\n",
       "    }\n",
       "\n",
       "    .dataframe tbody tr th {\n",
       "        vertical-align: top;\n",
       "    }\n",
       "\n",
       "    .dataframe thead th {\n",
       "        text-align: right;\n",
       "    }\n",
       "</style>\n",
       "<table border=\"1\" class=\"dataframe\">\n",
       "  <thead>\n",
       "    <tr style=\"text-align: right;\">\n",
       "      <th></th>\n",
       "      <th>title</th>\n",
       "      <th>description</th>\n",
       "    </tr>\n",
       "    <tr>\n",
       "      <th>clean_dates</th>\n",
       "      <th></th>\n",
       "      <th></th>\n",
       "    </tr>\n",
       "  </thead>\n",
       "  <tbody>\n",
       "    <tr>\n",
       "      <th>2023-04-26</th>\n",
       "      <td>Conferencia de prensa matutina, desde Palacio ...</td>\n",
       "      <td>Conferencia de prensa matutina, desde Palacio ...</td>\n",
       "    </tr>\n",
       "    <tr>\n",
       "      <th>2023-04-25</th>\n",
       "      <td>Conferencia de prensa matutina, desde Palacio ...</td>\n",
       "      <td>Conferencia de prensa matutina, desde Palacio ...</td>\n",
       "    </tr>\n",
       "    <tr>\n",
       "      <th>2023-04-24</th>\n",
       "      <td>Conferencia de prensa matutina desde Palacio N...</td>\n",
       "      <td>Conferencia de prensa matutina, desde Palacio ...</td>\n",
       "    </tr>\n",
       "    <tr>\n",
       "      <th>2023-04-21</th>\n",
       "      <td>Seguridad y bienestar mejoran en Veracruz. Con...</td>\n",
       "      <td>Conferencia de prensa matutina, desde Palacio ...</td>\n",
       "    </tr>\n",
       "    <tr>\n",
       "      <th>2023-04-20</th>\n",
       "      <td>Recursos de venta de avión serán para construi...</td>\n",
       "      <td>Conferencia de prensa matutina, desde Palacio ...</td>\n",
       "    </tr>\n",
       "    <tr>\n",
       "      <th>...</th>\n",
       "      <td>...</td>\n",
       "      <td>...</td>\n",
       "    </tr>\n",
       "    <tr>\n",
       "      <th>2019-03-08</th>\n",
       "      <td>Conferencia matutina: Avances del Gabinete de ...</td>\n",
       "      <td>Conferencia de prensa matutina, desde Palacio ...</td>\n",
       "    </tr>\n",
       "    <tr>\n",
       "      <th>2019-03-08</th>\n",
       "      <td>Hoy anunciamos la terna de candidatos a minist...</td>\n",
       "      <td>Cuarta conferencia de prensa matutina desde el...</td>\n",
       "    </tr>\n",
       "    <tr>\n",
       "      <th>2019-03-08</th>\n",
       "      <td>Tercera conferencia de prensa matutina desde P...</td>\n",
       "      <td>Tercera conferencia de prensa matutina desde e...</td>\n",
       "    </tr>\n",
       "    <tr>\n",
       "      <th>2019-03-08</th>\n",
       "      <td>Diálogo con periodistas desde Palacio Nacional</td>\n",
       "      <td>Segunda conferencia de prensa matutina del pre...</td>\n",
       "    </tr>\n",
       "    <tr>\n",
       "      <th>2019-03-08</th>\n",
       "      <td>Primera conferencia de prensa matutina desde P...</td>\n",
       "      <td>Andrés Manuel López Obrador ofrece su primera ...</td>\n",
       "    </tr>\n",
       "  </tbody>\n",
       "</table>\n",
       "<p>1087 rows × 2 columns</p>\n",
       "</div>"
      ],
      "text/plain": [
       "                                                         title   \n",
       "clean_dates                                                      \n",
       "2023-04-26   Conferencia de prensa matutina, desde Palacio ...  \\\n",
       "2023-04-25   Conferencia de prensa matutina, desde Palacio ...   \n",
       "2023-04-24   Conferencia de prensa matutina desde Palacio N...   \n",
       "2023-04-21   Seguridad y bienestar mejoran en Veracruz. Con...   \n",
       "2023-04-20   Recursos de venta de avión serán para construi...   \n",
       "...                                                        ...   \n",
       "2019-03-08   Conferencia matutina: Avances del Gabinete de ...   \n",
       "2019-03-08   Hoy anunciamos la terna de candidatos a minist...   \n",
       "2019-03-08   Tercera conferencia de prensa matutina desde P...   \n",
       "2019-03-08      Diálogo con periodistas desde Palacio Nacional   \n",
       "2019-03-08   Primera conferencia de prensa matutina desde P...   \n",
       "\n",
       "                                                   description  \n",
       "clean_dates                                                     \n",
       "2023-04-26   Conferencia de prensa matutina, desde Palacio ...  \n",
       "2023-04-25   Conferencia de prensa matutina, desde Palacio ...  \n",
       "2023-04-24   Conferencia de prensa matutina, desde Palacio ...  \n",
       "2023-04-21   Conferencia de prensa matutina, desde Palacio ...  \n",
       "2023-04-20   Conferencia de prensa matutina, desde Palacio ...  \n",
       "...                                                        ...  \n",
       "2019-03-08   Conferencia de prensa matutina, desde Palacio ...  \n",
       "2019-03-08   Cuarta conferencia de prensa matutina desde el...  \n",
       "2019-03-08   Tercera conferencia de prensa matutina desde e...  \n",
       "2019-03-08   Segunda conferencia de prensa matutina del pre...  \n",
       "2019-03-08   Andrés Manuel López Obrador ofrece su primera ...  \n",
       "\n",
       "[1087 rows x 2 columns]"
      ]
     },
     "execution_count": 75,
     "metadata": {},
     "output_type": "execute_result"
    }
   ],
   "source": [
    "df"
   ]
  },
  {
   "cell_type": "code",
   "execution_count": 72,
   "metadata": {},
   "outputs": [],
   "source": [
    "weekly_ts = df.resample('W').sum()"
   ]
  },
  {
   "cell_type": "code",
   "execution_count": 80,
   "metadata": {},
   "outputs": [],
   "source": [
    "weekly_ts['description'].to_csv('mañaneras.csv')"
   ]
  }
 ],
 "metadata": {
  "kernelspec": {
   "display_name": "Python 3",
   "language": "python",
   "name": "python3"
  },
  "language_info": {
   "codemirror_mode": {
    "name": "ipython",
    "version": 3
   },
   "file_extension": ".py",
   "mimetype": "text/x-python",
   "name": "python",
   "nbconvert_exporter": "python",
   "pygments_lexer": "ipython3",
   "version": "3.11.2"
  },
  "orig_nbformat": 4
 },
 "nbformat": 4,
 "nbformat_minor": 2
}
