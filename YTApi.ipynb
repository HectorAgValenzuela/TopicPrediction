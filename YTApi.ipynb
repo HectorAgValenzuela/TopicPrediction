{
 "cells": [
  {
   "attachments": {},
   "cell_type": "markdown",
   "metadata": {},
   "source": [
    "# Importaciones"
   ]
  },
  {
   "cell_type": "code",
   "execution_count": 1,
   "metadata": {},
   "outputs": [],
   "source": [
    "import json \n",
    "import datetime\n",
    "import re\n",
    "\n",
    "import pandas as pd \n",
    "from googleapiclient.errors import HttpError\n",
    "from Google import Create_Service"
   ]
  },
  {
   "attachments": {},
   "cell_type": "markdown",
   "metadata": {},
   "source": [
    "Función que utiliza expresiones regulares para obtener los segundos totales de una duración dada."
   ]
  },
  {
   "cell_type": "code",
   "execution_count": 6,
   "metadata": {},
   "outputs": [],
   "source": [
    "def convert_duration(duration):\n",
    "    try:\n",
    "        h = int(re.search('\\d+H', duration)[0][:-1]) * 60**2  if re.search('\\d+H', duration) else 0 # hour\n",
    "        m = int(re.search('\\d+M', duration)[0][:-1]) * 60  if re.search('\\d+M', duration) else 0 # minute\n",
    "        s = int(re.search('\\d+S', duration)[0][:-1])  if re.search('\\d+S', duration) else 0 # second\n",
    "        return h + m + s\n",
    "    except Exception as e:\n",
    "        print(e)\n",
    "        return 0 "
   ]
  },
  {
   "cell_type": "code",
   "execution_count": 22,
   "metadata": {},
   "outputs": [],
   "source": [
    "def retrieve_playlists(service, channelId):\n",
    "    playlists =[]\n",
    "    try:\n",
    "        response = service.playlists().list(\n",
    "            part = 'contentDetails, snippet, status',\n",
    "            channelId = channelId,\n",
    "            maxResults = 50\n",
    "        ).execute()\n",
    "\n",
    "        playlists.extend(response.get('items'))\n",
    "        nextPageToken = response.get('nextPageToken')\n",
    "\n",
    "        while nextPageToken:\n",
    "            response = service.playlists().list(\n",
    "                part = 'contentDetails, snippet, status',\n",
    "                channelId = channelId,\n",
    "                maxResults = 50,\n",
    "                pageToken = nextPageToken\n",
    "            ).execute()\n",
    "\n",
    "            playlists.extend(response.get('items'))\n",
    "            nextPageToken = response.get('nextPageToken')\n",
    "\n",
    "        return playlists\n",
    "\n",
    "    except HttpError as e:\n",
    "        errMsg = json.loads(e.content)\n",
    "        print(\"HTTP Error: \")\n",
    "        print(errMsg['error']['message'])\n",
    "        return []"
   ]
  },
  {
   "cell_type": "code",
   "execution_count": 70,
   "metadata": {},
   "outputs": [],
   "source": [
    "def retrieve_playlists_items(service, playlistId):\n",
    "    items =[]\n",
    "    try:\n",
    "        response = service.playlistItems().list(\n",
    "            part = 'contentDetails, snippet, status',\n",
    "            playlistId = playlistId,\n",
    "            maxResults = 5\n",
    "        ).execute()\n",
    "\n",
    "        items.extend(response.get('items'))\n",
    "        nextPageToken = response.get('nextPageToken')\n",
    "\n",
    "        while nextPageToken:\n",
    "            response = service.playlistItems().list(\n",
    "                part = 'contentDetails, snippet, status',\n",
    "                playlistId = playlistId,\n",
    "                maxResults = 5,\n",
    "                pageToken = nextPageToken\n",
    "            ).execute()\n",
    "\n",
    "            items.extend(response.get('items'))\n",
    "            nextPageToken = response.get('nextPageToken')\n",
    "\n",
    "        return items\n",
    "\n",
    "    except HttpError as e:\n",
    "        errMsg = json.loads(e.content)\n",
    "        print(\"HTTP Error: \")\n",
    "        print(errMsg['error']['message'])\n",
    "        return []"
   ]
  },
  {
   "attachments": {},
   "cell_type": "markdown",
   "metadata": {},
   "source": [
    "Creando constantes para llamar a la API"
   ]
  },
  {
   "cell_type": "code",
   "execution_count": 17,
   "metadata": {},
   "outputs": [
    {
     "name": "stdout",
     "output_type": "stream",
     "text": [
      "client_secret.json-youtube-v3-(['https://www.googleapis.com/auth/youtube.readonly'],)\n",
      "['https://www.googleapis.com/auth/youtube.readonly']\n",
      "youtube service created successfully\n"
     ]
    }
   ],
   "source": [
    "CLIENT_SECRETS_FILE = 'client_secret.json'\n",
    "API_NAME = 'youtube'\n",
    "API_VERSION = 'v3'\n",
    "SCOPES = ['https://www.googleapis.com/auth/youtube.readonly']\n",
    "\n",
    "service = Create_Service(CLIENT_SECRETS_FILE, API_NAME, API_VERSION, SCOPES)"
   ]
  },
  {
   "attachments": {},
   "cell_type": "markdown",
   "metadata": {},
   "source": [
    "El objeto <code>service</code> nos da accesos a todos los recursos de la API"
   ]
  },
  {
   "cell_type": "code",
   "execution_count": 18,
   "metadata": {},
   "outputs": [
    {
     "data": {
      "text/plain": [
       "['__class__',\n",
       " '__delattr__',\n",
       " '__dict__',\n",
       " '__dir__',\n",
       " '__doc__',\n",
       " '__enter__',\n",
       " '__eq__',\n",
       " '__exit__',\n",
       " '__format__',\n",
       " '__ge__',\n",
       " '__getattribute__',\n",
       " '__getstate__',\n",
       " '__gt__',\n",
       " '__hash__',\n",
       " '__init__',\n",
       " '__init_subclass__',\n",
       " '__le__',\n",
       " '__lt__',\n",
       " '__module__',\n",
       " '__ne__',\n",
       " '__new__',\n",
       " '__reduce__',\n",
       " '__reduce_ex__',\n",
       " '__repr__',\n",
       " '__setattr__',\n",
       " '__setstate__',\n",
       " '__sizeof__',\n",
       " '__str__',\n",
       " '__subclasshook__',\n",
       " '__weakref__',\n",
       " '_add_basic_methods',\n",
       " '_add_nested_resources',\n",
       " '_add_next_methods',\n",
       " '_baseUrl',\n",
       " '_developerKey',\n",
       " '_dynamic_attrs',\n",
       " '_http',\n",
       " '_model',\n",
       " '_requestBuilder',\n",
       " '_resourceDesc',\n",
       " '_rootDesc',\n",
       " '_schema',\n",
       " '_set_dynamic_attr',\n",
       " '_set_service_methods',\n",
       " 'abuseReports',\n",
       " 'activities',\n",
       " 'captions',\n",
       " 'channelBanners',\n",
       " 'channelSections',\n",
       " 'channels',\n",
       " 'close',\n",
       " 'commentThreads',\n",
       " 'comments',\n",
       " 'i18nLanguages',\n",
       " 'i18nRegions',\n",
       " 'liveBroadcasts',\n",
       " 'liveChatBans',\n",
       " 'liveChatMessages',\n",
       " 'liveChatModerators',\n",
       " 'liveStreams',\n",
       " 'members',\n",
       " 'membershipsLevels',\n",
       " 'new_batch_http_request',\n",
       " 'playlistItems',\n",
       " 'playlists',\n",
       " 'search',\n",
       " 'subscriptions',\n",
       " 'superChatEvents',\n",
       " 'tests',\n",
       " 'thirdPartyLinks',\n",
       " 'thumbnails',\n",
       " 'videoAbuseReportReasons',\n",
       " 'videoCategories',\n",
       " 'videos',\n",
       " 'watermarks',\n",
       " 'youtube']"
      ]
     },
     "execution_count": 18,
     "metadata": {},
     "output_type": "execute_result"
    }
   ],
   "source": [
    "dir(service)"
   ]
  },
  {
   "attachments": {},
   "cell_type": "markdown",
   "metadata": {},
   "source": [
    "Ahora llamemos a la fución que nos provee de las playlists"
   ]
  },
  {
   "cell_type": "code",
   "execution_count": 58,
   "metadata": {},
   "outputs": [],
   "source": [
    "channel_id = 'UCxEgOKuI-n-WOJaNcisHvSg' # ID del canal de el presidente\n",
    "playlists = retrieve_playlists(service, channel_id)"
   ]
  },
  {
   "attachments": {},
   "cell_type": "markdown",
   "metadata": {},
   "source": [
    "Obtenemos la playlist de las conferencias matutinas"
   ]
  },
  {
   "cell_type": "code",
   "execution_count": 43,
   "metadata": {},
   "outputs": [
    {
     "data": {
      "text/plain": [
       "{'kind': 'youtube#playlist', 'etag': 'yFdEtWGvpytKuVfVI0pO98jWwEE', 'id': 'PLRnlRGar-_296KTsVL0R6MEbpwJzD8ppA', 'snippet': {'publishedAt': '2019-03-08T21:50:49Z', 'channelId': 'UCxEgOKuI-n-WOJaNcisHvSg', 'title': 'Conferencias de prensa matutinas', 'description': 'De lunes a viernes, a las 7:00 horas, mantenemos un diálogo circular con representantes de los medios de comunicación al término de la reunión con Gabinete de Seguridad.', 'thumbnails': {'default': {'url': 'https://i.ytimg.com/vi/uW-UISq5YLY/default.jpg', 'width': 120, 'height': 90}, 'medium': {'url': 'https://i.ytimg.com/vi/uW-UISq5YLY/mqdefault.jpg', 'width': 320, 'height': 180}, 'high': {'url': 'https://i.ytimg.com/vi/uW-UISq5YLY/hqdefault.jpg', 'width': 480, 'height': 360}, 'standard': {'url': 'https://i.ytimg.com/vi/uW-UISq5YLY/sddefault.jpg', 'width': 640, 'height': 480}, 'maxres': {'url': 'https://i.ytimg.com/vi/uW-UISq5YLY/maxresdefault.jpg', 'width': 1280, 'height': 720}}, 'channelTitle': 'Andrés Manuel López Obrador', 'localized': {'title': 'Conferencias de prensa matutinas', 'description': 'De lunes a viernes, a las 7:00 horas, mantenemos un diálogo circular con representantes de los medios de comunicación al término de la reunión con Gabinete de Seguridad.'}}, 'status': {'privacyStatus': 'public'}, 'contentDetails': {'itemCount': 1101}}"
      ]
     },
     "execution_count": 43,
     "metadata": {},
     "output_type": "execute_result"
    }
   ],
   "source": [
    "playlists[-1]"
   ]
  },
  {
   "cell_type": "code",
   "execution_count": 71,
   "metadata": {},
   "outputs": [],
   "source": [
    "playlistId = 'PLRnlRGar-_296KTsVL0R6MEbpwJzD8ppA'\n",
    "playlists_items = retrieve_playlists_items(service, playlistId)"
   ]
  },
  {
   "cell_type": "code",
   "execution_count": 73,
   "metadata": {},
   "outputs": [
    {
     "data": {
      "text/plain": [
       "{'kind': 'youtube#playlistItem', 'etag': '8WJEXuec_liHMLQ3MWFIqoEQmWs', 'id': 'UExSbmxSR2FyLV8yOTZLVHNWTDBSNk1FYnB3SnpEOHBwQS4zRDNFM0Q1MzY2NTYwMTJC', 'snippet': {'publishedAt': '2023-04-24T12:44:41Z', 'channelId': 'UCxEgOKuI-n-WOJaNcisHvSg', 'title': 'Conferencia de prensa matutina desde Palacio Nacional. Lunes 24 de abril 2023 | Presidente AMLO', 'description': 'Conferencia de prensa matutina, desde Palacio Nacional. Lunes 24 de abril 2023 | Presidente AMLO.\\n\\n0:00 Inicio de transmisión\\n15:15 Comienza la conferencia de prensa del presidente Andrés Manuel López Obrador\\n16:48 Comparativo de marcas y precios de combustibles\\n25:07 Comparativo de marcas y precios de productos de primera necesidad\\n28:30 Reporte de construcción del Tren Maya en tramo Escárcega-Calkiní\\n32:57 Informe del consorcio Carso FCC en el Tramo 2 del Tren Maya\\n34:14 Salvamento arqueológico en el proyecto del Tren Maya\\n40:26 Informe de la Semarnat en el Tramo 2 del Tren Maya\\n42:33 Informe de la Secretaría del Bienestar en el Tramo 2 del Tren Maya\\n42:51 Informe de los Programas para el Bienestar\\n1:10:05 Sesión de preguntas y respuestas\\n\\nSigue las actividades del presidente de México:\\n\\nSitio web:\\nhttp://presidente.gob.mx\\n\\nYouTube:\\nhttps://www.youtube.com/lopezobrador\\n\\nFacebook:\\nhttps://facebook.com/lopezobrador.org.mx\\n\\nTwitter:\\nhttps://twitter.com/lopezobrador_\\n\\nInstagram:\\nhttps://www.instagram.com/lopezobrador/\\n\\nTelegram: \\nhttps://t.me/PresidenteAMLO\\n\\nSpotify:\\nhttps://spoti.fi/3QocikN', 'thumbnails': {'default': {'url': 'https://i.ytimg.com/vi/uW-UISq5YLY/default.jpg', 'width': 120, 'height': 90}, 'medium': {'url': 'https://i.ytimg.com/vi/uW-UISq5YLY/mqdefault.jpg', 'width': 320, 'height': 180}, 'high': {'url': 'https://i.ytimg.com/vi/uW-UISq5YLY/hqdefault.jpg', 'width': 480, 'height': 360}, 'standard': {'url': 'https://i.ytimg.com/vi/uW-UISq5YLY/sddefault.jpg', 'width': 640, 'height': 480}, 'maxres': {'url': 'https://i.ytimg.com/vi/uW-UISq5YLY/maxresdefault.jpg', 'width': 1280, 'height': 720}}, 'channelTitle': 'Andrés Manuel López Obrador', 'playlistId': 'PLRnlRGar-_296KTsVL0R6MEbpwJzD8ppA', 'position': 0, 'resourceId': {'kind': 'youtube#video', 'videoId': 'uW-UISq5YLY'}, 'videoOwnerChannelTitle': 'Andrés Manuel López Obrador', 'videoOwnerChannelId': 'UCxEgOKuI-n-WOJaNcisHvSg'}, 'contentDetails': {'videoId': 'uW-UISq5YLY', 'videoPublishedAt': '2023-04-24T15:21:52Z'}, 'status': {'privacyStatus': 'public'}}"
      ]
     },
     "execution_count": 73,
     "metadata": {},
     "output_type": "execute_result"
    }
   ],
   "source": [
    "playlists_items[0]"
   ]
  }
 ],
 "metadata": {
  "kernelspec": {
   "display_name": "Python 3",
   "language": "python",
   "name": "python3"
  },
  "language_info": {
   "codemirror_mode": {
    "name": "ipython",
    "version": 3
   },
   "file_extension": ".py",
   "mimetype": "text/x-python",
   "name": "python",
   "nbconvert_exporter": "python",
   "pygments_lexer": "ipython3",
   "version": "3.11.2"
  },
  "orig_nbformat": 4
 },
 "nbformat": 4,
 "nbformat_minor": 2
}
