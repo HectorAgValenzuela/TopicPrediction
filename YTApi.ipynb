{
 "cells": [
  {
   "attachments": {},
   "cell_type": "markdown",
   "metadata": {},
   "source": [
    "# Importaciones"
   ]
  },
  {
   "cell_type": "code",
   "execution_count": 3,
   "metadata": {},
   "outputs": [],
   "source": [
    "import json \n",
    "import datetime\n",
    "import re\n",
    "\n",
    "import pandas as pd \n",
    "from googleapiclient.errors import HttpError\n",
    "from Google import Create_Service"
   ]
  },
  {
   "attachments": {},
   "cell_type": "markdown",
   "metadata": {},
   "source": [
    "Función que utiliza expresiones regulares para obtener los segundos totales de una duración dada."
   ]
  },
  {
   "cell_type": "code",
   "execution_count": 9,
   "metadata": {},
   "outputs": [],
   "source": [
    "def convert_duration(duration):\n",
    "    try:\n",
    "        h = int(re.search('\\d+H', duration)[0][:-1]) * 60**2  if re.search('\\d+H', duration) else 0 # hour\n",
    "        m = int(re.search('\\d+M', duration)[0][:-1]) * 60  if re.search('\\d+M', duration) else 0 # minute\n",
    "        s = int(re.search('\\d+S', duration)[0][:-1])  if re.search('\\d+S', duration) else 0 # second\n",
    "        return h + m + s\n",
    "    except Exception as e:\n",
    "        print(e)\n",
    "        return 0 "
   ]
  },
  {
   "cell_type": "code",
   "execution_count": null,
   "metadata": {},
   "outputs": [],
   "source": [
    "def retrieve_playlists(service, partString, channelId):\n",
    "    playlists =[]\n",
    "    try:\n",
    "        response = service.playlists().list(\n",
    "            part = 'snippet',\n",
    "            channelId = channelId,\n",
    "            maxResults = 50\n",
    "        ).execute()\n",
    "\n",
    "        playlists.extend(response.get('items'))\n",
    "        nextPageToken = response.get('nextPageToken')\n",
    "\n",
    "        while nextPageToken:\n",
    "            response = service.playlists().list(\n",
    "                part = 'snippet',\n",
    "                channelId = channelId,\n",
    "                maxResults = 50,\n",
    "                pageToken = nextPageToken\n",
    "            ).execute()\n",
    "\n",
    "            playlists.extend(response.get('items'))\n",
    "            nextPageToken = response.get('nextPageToken')\n",
    "\n",
    "    except HttpError as e:\n",
    "        errMsg = json.loads(e.content)\n",
    "        print(\"HTTP Error: \")\n",
    "        print(errMsg['error']['message'])\n",
    "        return []"
   ]
  },
  {
   "attachments": {},
   "cell_type": "markdown",
   "metadata": {},
   "source": [
    "Creando constantes para llamar a la API"
   ]
  },
  {
   "cell_type": "code",
   "execution_count": null,
   "metadata": {},
   "outputs": [],
   "source": [
    "CLIENT_SECRETS_FILE = 'client_secret.json'\n",
    "API_NAME = 'youtube'\n",
    "API_VERSION = 'v3'\n",
    "SCOPES = ['https://www.googleapis.com/auth/youtube']\n",
    "\n",
    "service = Create_Service(CLIENT_SECRETS_FILE, API_NAME, API_VERSION, SCOPES)"
   ]
  }
 ],
 "metadata": {
  "kernelspec": {
   "display_name": "Python 3",
   "language": "python",
   "name": "python3"
  },
  "language_info": {
   "codemirror_mode": {
    "name": "ipython",
    "version": 3
   },
   "file_extension": ".py",
   "mimetype": "text/x-python",
   "name": "python",
   "nbconvert_exporter": "python",
   "pygments_lexer": "ipython3",
   "version": "3.11.2"
  },
  "orig_nbformat": 4
 },
 "nbformat": 4,
 "nbformat_minor": 2
}
