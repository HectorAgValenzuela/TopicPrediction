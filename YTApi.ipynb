{
 "cells": [
  {
   "attachments": {},
   "cell_type": "markdown",
   "metadata": {},
   "source": [
    "# Obtención de datos"
   ]
  },
  {
   "attachments": {},
   "cell_type": "markdown",
   "metadata": {},
   "source": [
    "Para obtener los datos vamos a usar las descripciones en cada video de las mañaneras. Pues nos provee de un resumen del video del día. De esta manera ya no tenemos que lidiar con conversaciones del presidente cuando usamos las transcripciones."
   ]
  },
  {
   "attachments": {},
   "cell_type": "markdown",
   "metadata": {},
   "source": [
    "## Importaciones"
   ]
  },
  {
   "cell_type": "code",
   "execution_count": 9,
   "metadata": {},
   "outputs": [],
   "source": [
    "import json \n",
    "from datetime import datetime\n",
    "import re\n",
    "\n",
    "import pandas as pd \n",
    "import numpy as np\n",
    "\n",
    "from googleapiclient.errors import HttpError\n",
    "from Google import Create_Service"
   ]
  },
  {
   "attachments": {},
   "cell_type": "markdown",
   "metadata": {},
   "source": [
    "## Llamamiento a la API de YouTube"
   ]
  },
  {
   "attachments": {},
   "cell_type": "markdown",
   "metadata": {},
   "source": [
    "<code>retrieve_playlists_items</code> Función que hace la petición a la API de youtube. Se le da un objeto <code>service</code> que es la información sobre el tipo de API y la autenticación. También recibe <code>playlistId</code> que es el ID de la playlist que queremos."
   ]
  },
  {
   "cell_type": "code",
   "execution_count": 10,
   "metadata": {},
   "outputs": [],
   "source": [
    "def retrieve_playlists_items(service, playlistId):\n",
    "    items =[]\n",
    "    try:\n",
    "        response = service.playlistItems().list(\n",
    "            part = 'contentDetails, snippet, status',\n",
    "            playlistId = playlistId,\n",
    "            maxResults = 5\n",
    "        ).execute()\n",
    "\n",
    "        items.extend(response.get('items'))\n",
    "        nextPageToken = response.get('nextPageToken')\n",
    "\n",
    "        while nextPageToken:\n",
    "            response = service.playlistItems().list(\n",
    "                part = 'contentDetails, snippet, status',\n",
    "                playlistId = playlistId,\n",
    "                maxResults = 5,\n",
    "                pageToken = nextPageToken\n",
    "            ).execute()\n",
    "\n",
    "            items.extend(response.get('items'))\n",
    "            nextPageToken = response.get('nextPageToken')\n",
    "\n",
    "        return items\n",
    "\n",
    "    except HttpError as e:\n",
    "        errMsg = json.loads(e.content)\n",
    "        print(\"HTTP Error: \")\n",
    "        print(errMsg['error']['message'])\n",
    "        return []"
   ]
  },
  {
   "attachments": {},
   "cell_type": "markdown",
   "metadata": {},
   "source": [
    "Creando constantes para llamar a la API. Toda esta es información sobre el tipo de API y los archivos necesarios para hacer la conexión con Google Cloud"
   ]
  },
  {
   "cell_type": "code",
   "execution_count": 11,
   "metadata": {},
   "outputs": [
    {
     "name": "stdout",
     "output_type": "stream",
     "text": [
      "client_secret.json-youtube-v3-(['https://www.googleapis.com/auth/youtube.readonly'],)\n",
      "['https://www.googleapis.com/auth/youtube.readonly']\n",
      "youtube service created successfully\n"
     ]
    }
   ],
   "source": [
    "CLIENT_SECRETS_FILE = 'client_secret.json'  # Archivo .json que se obtiene al crear las credenciales OAuth en https://console.cloud.google.com/\n",
    "API_NAME = 'youtube'\n",
    "API_VERSION = 'v3'\n",
    "SCOPES = ['https://www.googleapis.com/auth/youtube.readonly']\n",
    "\n",
    "service = Create_Service(CLIENT_SECRETS_FILE, API_NAME, API_VERSION, SCOPES)"
   ]
  },
  {
   "attachments": {},
   "cell_type": "markdown",
   "metadata": {},
   "source": [
    "El objeto <code>service</code> nos da accesos a todos los recursos de la API"
   ]
  },
  {
   "cell_type": "code",
   "execution_count": 12,
   "metadata": {},
   "outputs": [
    {
     "data": {
      "text/plain": [
       "['__class__',\n",
       " '__delattr__',\n",
       " '__dict__',\n",
       " '__dir__',\n",
       " '__doc__',\n",
       " '__enter__',\n",
       " '__eq__',\n",
       " '__exit__',\n",
       " '__format__',\n",
       " '__ge__',\n",
       " '__getattribute__',\n",
       " '__getstate__',\n",
       " '__gt__',\n",
       " '__hash__',\n",
       " '__init__',\n",
       " '__init_subclass__',\n",
       " '__le__',\n",
       " '__lt__',\n",
       " '__module__',\n",
       " '__ne__',\n",
       " '__new__',\n",
       " '__reduce__',\n",
       " '__reduce_ex__',\n",
       " '__repr__',\n",
       " '__setattr__',\n",
       " '__setstate__',\n",
       " '__sizeof__',\n",
       " '__str__',\n",
       " '__subclasshook__',\n",
       " '__weakref__',\n",
       " '_add_basic_methods',\n",
       " '_add_nested_resources',\n",
       " '_add_next_methods',\n",
       " '_baseUrl',\n",
       " '_developerKey',\n",
       " '_dynamic_attrs',\n",
       " '_http',\n",
       " '_model',\n",
       " '_requestBuilder',\n",
       " '_resourceDesc',\n",
       " '_rootDesc',\n",
       " '_schema',\n",
       " '_set_dynamic_attr',\n",
       " '_set_service_methods',\n",
       " 'abuseReports',\n",
       " 'activities',\n",
       " 'captions',\n",
       " 'channelBanners',\n",
       " 'channelSections',\n",
       " 'channels',\n",
       " 'close',\n",
       " 'commentThreads',\n",
       " 'comments',\n",
       " 'i18nLanguages',\n",
       " 'i18nRegions',\n",
       " 'liveBroadcasts',\n",
       " 'liveChatBans',\n",
       " 'liveChatMessages',\n",
       " 'liveChatModerators',\n",
       " 'liveStreams',\n",
       " 'members',\n",
       " 'membershipsLevels',\n",
       " 'new_batch_http_request',\n",
       " 'playlistItems',\n",
       " 'playlists',\n",
       " 'search',\n",
       " 'subscriptions',\n",
       " 'superChatEvents',\n",
       " 'tests',\n",
       " 'thirdPartyLinks',\n",
       " 'thumbnails',\n",
       " 'videoAbuseReportReasons',\n",
       " 'videoCategories',\n",
       " 'videos',\n",
       " 'watermarks',\n",
       " 'youtube']"
      ]
     },
     "execution_count": 12,
     "metadata": {},
     "output_type": "execute_result"
    }
   ],
   "source": [
    "dir(service)"
   ]
  },
  {
   "attachments": {},
   "cell_type": "markdown",
   "metadata": {},
   "source": [
    "Hacemos una llamada a a función de <code>retrieve_playlists_items</code> para obtener todos los videos una playlist especifica. En este caso, los videos de la mañaneras"
   ]
  },
  {
   "cell_type": "code",
   "execution_count": 13,
   "metadata": {},
   "outputs": [],
   "source": [
    "playlistId = 'PLRnlRGar-_296KTsVL0R6MEbpwJzD8ppA' # id de la playlist de las mañaneras\n",
    "playlists_items = retrieve_playlists_items(service, playlistId)"
   ]
  },
  {
   "cell_type": "code",
   "execution_count": 14,
   "metadata": {},
   "outputs": [
    {
     "data": {
      "text/plain": [
       "{'kind': 'youtube#playlistItem',\n",
       " 'etag': 'X0Tqu-wq5dbVcs7e5vqC1zegOc0',\n",
       " 'id': 'UExSbmxSR2FyLV8yOTZLVHNWTDBSNk1FYnB3SnpEOHBwQS45MDgzMzhDRDVDMzYwNDZE',\n",
       " 'snippet': {'publishedAt': '2023-05-11T12:44:34Z',\n",
       "  'channelId': 'UCxEgOKuI-n-WOJaNcisHvSg',\n",
       "  'title': 'Sueldos de magistrados y jueces deben bajar para beneficiar al pueblo. Conferencia presidente AMLO',\n",
       "  'description': \"Conferencia de prensa matutina, desde Palacio Nacional. Jueves 11 de mayo 2023 | Presidente AMLO.\\n\\n0:00 Inicio de transmisión\\n29:06 Comienza la conferencia de prensa del presidente Andrés Manuel López Obrador\\n31:57 Fomento al deporte a través del Programa de Mejoramiento Urbano de la Sedatu\\n46:13 Salvamento arqueológico en el proyecto del Tren Maya\\n1:01:41 Sesión de preguntas y respuestas\\n\\nEn cuatro años de Gobierno de la Cuarta Transformación, a través del Programa de Mejoramiento Urbano, se han construido más espacios deportivos. La actividad física contribuye a tener una vida saludable y a reducir problemas sociales en las colonias.\\xa0\\n\\nLa estrategia de fomento al deporte suma hasta el momento 896 espacios en el país en beneficio de más de 5 millones de personas. Esta iniciativa atiende a 65.7 por ciento de la población que prefiere ejercitarse en espacios públicos como parte de una rutina saludable.\\xa0\\n\\nLas Academias de Béisbol 'Héctor Espino' y 'Tomás Oroz Gaytán' en Sonora tienen capacidad para 200 alumnos en un internado de 100 camas cada uno. Estos sitios, que previamente se pondrían a la venta, se recuperaron y rehabilitaron a favor de la población.\\n\\nSeguimos recuperando nuestro patrimonio cultural; Estados Unidos devolverá en los próximos días una pieza de la cultura olmeca.\\xa0\\n\\nLa Fiscalía de Nueva York entregará formalmente el Monumento 9 de Chalcatzingo arrebatado de su sitio original por traficantes de bienes arqueológicos a mediados del siglo XX.\\n\\nEsta figura olmeca muestra la destreza y la cosmovisión de esta cultura primigenia de Mesoamérica; posiblemente fue realizada entre el siglo VIII y el siglo VI antes de Cristo.\\xa0\\n\\nA partir de la devolución, la escultura estará una temporada en el Palacio de Cortés, ahora el Museo Regional de los Pueblos de Morelos, reabierto al público. Posteriormente, será reubicado en Chalcatzingo, Morelos.\\n\\nParalelamente, avanzan las acciones de rescate de vestigios en la construcción del Tren Maya. Además, se protege a Xcalumkín, antigua ciudad maya ubicada en Campeche, mediante el Programa de Mejoramiento de Zonas Arqueológicas (Promeza), por lo que se profundizará la investigación y conservación en el sitio.\\xa0\\n\\nLa política de austeridad y cero corrupción del Gobierno de la Cuarta Transformación permite financiar más obras con recursos públicos —sin recurrir a contratar deuda— y, sobre todo, distribuir el ingreso con justicia a la población que más lo necesita.\\xa0\\n\\nVamos a que se reduzcan fideicomisos, sueldos y privilegios en el Poder Judicial. Los ahorros podrían convertirse en más becas para estudiantes de familias pobres o recursos que fortalezcan al sector salud.\\n\\nExpusimos 40 privilegios que mantienen altos funcionarios del Poder Judicial, que se pagan con el erario público y contradicen a la Ley Federal de Austeridad Republicana.\\xa0\\n\\nLa reciente decisión de ministros de la Suprema Corte de Justicia de la Nación respecto a la cancelación de las modificaciones en materia electoral que promovió el Poder Ejecutivo, no representa la voluntad del pueblo.\\n\\nAnte la culminación del Título 42 en Estados Unidos, cooperaremos para que no haya caos y violencia en la frontera con México; estamos protegiendo a migrantes frente al tráfico ilegal de personas. Continuamos con la difusión de las vías legales de ingreso al mercado laboral en el país vecino.\\xa0\\n\\nFestejaremos en Palacio Nacional el día del maestro y la maestra, donde anunciaremos una buena noticia para el gremio magisterial.\\xa0\\n\\nMañana informaremos al pueblo de México sobre la economía nacional; vamos muy bien.\\n\\nEspacios deportivos fomentan actividad física en beneficio de más de 5 millones de personas en México: https://bit.ly/44U6K86\\n\\nPresidente anuncia recuperación de otra pieza arqueológica del patrimonio cultural; Estados Unidos regresará escultura olmeca: https://bit.ly/3pALqo0\\n\\nSigue las actividades del presidente de México:\\n\\nSitio web:\\nhttp://presidente.gob.mx\\n\\nYouTube:\\nhttps://www.youtube.com/lopezobrador\\n\\nFacebook:\\nhttps://facebook.com/lopezobrador.org.mx\\n\\nTwitter:\\nhttps://twitter.com/lopezobrador_\\n\\nInstagram:\\nhttps://www.instagram.com/lopezobrador/\\n\\nTelegram: \\nhttps://t.me/PresidenteAMLO\\n\\nSpotify:\\nhttps://spoti.fi/3QocikN\",\n",
       "  'thumbnails': {'default': {'url': 'https://i.ytimg.com/vi/Ne6UsSrTXZA/default.jpg',\n",
       "    'width': 120,\n",
       "    'height': 90},\n",
       "   'medium': {'url': 'https://i.ytimg.com/vi/Ne6UsSrTXZA/mqdefault.jpg',\n",
       "    'width': 320,\n",
       "    'height': 180},\n",
       "   'high': {'url': 'https://i.ytimg.com/vi/Ne6UsSrTXZA/hqdefault.jpg',\n",
       "    'width': 480,\n",
       "    'height': 360},\n",
       "   'standard': {'url': 'https://i.ytimg.com/vi/Ne6UsSrTXZA/sddefault.jpg',\n",
       "    'width': 640,\n",
       "    'height': 480},\n",
       "   'maxres': {'url': 'https://i.ytimg.com/vi/Ne6UsSrTXZA/maxresdefault.jpg',\n",
       "    'width': 1280,\n",
       "    'height': 720}},\n",
       "  'channelTitle': 'Andrés Manuel López Obrador',\n",
       "  'playlistId': 'PLRnlRGar-_296KTsVL0R6MEbpwJzD8ppA',\n",
       "  'position': 0,\n",
       "  'resourceId': {'kind': 'youtube#video', 'videoId': 'Ne6UsSrTXZA'},\n",
       "  'videoOwnerChannelTitle': 'Andrés Manuel López Obrador',\n",
       "  'videoOwnerChannelId': 'UCxEgOKuI-n-WOJaNcisHvSg'},\n",
       " 'contentDetails': {'videoId': 'Ne6UsSrTXZA',\n",
       "  'videoPublishedAt': '2023-05-11T16:15:35Z'},\n",
       " 'status': {'privacyStatus': 'public'}}"
      ]
     },
     "execution_count": 14,
     "metadata": {},
     "output_type": "execute_result"
    }
   ],
   "source": [
    "playlists_items[0] # El último video agregado a la playlist"
   ]
  },
  {
   "attachments": {},
   "cell_type": "markdown",
   "metadata": {},
   "source": [
    "## Guardando los datos en un DataFrame"
   ]
  },
  {
   "attachments": {},
   "cell_type": "markdown",
   "metadata": {},
   "source": [
    "Los datos están guardados en un json. Podemos obtener cada elemento de la variable utilizando las posiciones."
   ]
  },
  {
   "cell_type": "code",
   "execution_count": 15,
   "metadata": {},
   "outputs": [
    {
     "data": {
      "text/plain": [
       "{'publishedAt': '2023-05-11T12:44:34Z',\n",
       " 'channelId': 'UCxEgOKuI-n-WOJaNcisHvSg',\n",
       " 'title': 'Sueldos de magistrados y jueces deben bajar para beneficiar al pueblo. Conferencia presidente AMLO',\n",
       " 'description': \"Conferencia de prensa matutina, desde Palacio Nacional. Jueves 11 de mayo 2023 | Presidente AMLO.\\n\\n0:00 Inicio de transmisión\\n29:06 Comienza la conferencia de prensa del presidente Andrés Manuel López Obrador\\n31:57 Fomento al deporte a través del Programa de Mejoramiento Urbano de la Sedatu\\n46:13 Salvamento arqueológico en el proyecto del Tren Maya\\n1:01:41 Sesión de preguntas y respuestas\\n\\nEn cuatro años de Gobierno de la Cuarta Transformación, a través del Programa de Mejoramiento Urbano, se han construido más espacios deportivos. La actividad física contribuye a tener una vida saludable y a reducir problemas sociales en las colonias.\\xa0\\n\\nLa estrategia de fomento al deporte suma hasta el momento 896 espacios en el país en beneficio de más de 5 millones de personas. Esta iniciativa atiende a 65.7 por ciento de la población que prefiere ejercitarse en espacios públicos como parte de una rutina saludable.\\xa0\\n\\nLas Academias de Béisbol 'Héctor Espino' y 'Tomás Oroz Gaytán' en Sonora tienen capacidad para 200 alumnos en un internado de 100 camas cada uno. Estos sitios, que previamente se pondrían a la venta, se recuperaron y rehabilitaron a favor de la población.\\n\\nSeguimos recuperando nuestro patrimonio cultural; Estados Unidos devolverá en los próximos días una pieza de la cultura olmeca.\\xa0\\n\\nLa Fiscalía de Nueva York entregará formalmente el Monumento 9 de Chalcatzingo arrebatado de su sitio original por traficantes de bienes arqueológicos a mediados del siglo XX.\\n\\nEsta figura olmeca muestra la destreza y la cosmovisión de esta cultura primigenia de Mesoamérica; posiblemente fue realizada entre el siglo VIII y el siglo VI antes de Cristo.\\xa0\\n\\nA partir de la devolución, la escultura estará una temporada en el Palacio de Cortés, ahora el Museo Regional de los Pueblos de Morelos, reabierto al público. Posteriormente, será reubicado en Chalcatzingo, Morelos.\\n\\nParalelamente, avanzan las acciones de rescate de vestigios en la construcción del Tren Maya. Además, se protege a Xcalumkín, antigua ciudad maya ubicada en Campeche, mediante el Programa de Mejoramiento de Zonas Arqueológicas (Promeza), por lo que se profundizará la investigación y conservación en el sitio.\\xa0\\n\\nLa política de austeridad y cero corrupción del Gobierno de la Cuarta Transformación permite financiar más obras con recursos públicos —sin recurrir a contratar deuda— y, sobre todo, distribuir el ingreso con justicia a la población que más lo necesita.\\xa0\\n\\nVamos a que se reduzcan fideicomisos, sueldos y privilegios en el Poder Judicial. Los ahorros podrían convertirse en más becas para estudiantes de familias pobres o recursos que fortalezcan al sector salud.\\n\\nExpusimos 40 privilegios que mantienen altos funcionarios del Poder Judicial, que se pagan con el erario público y contradicen a la Ley Federal de Austeridad Republicana.\\xa0\\n\\nLa reciente decisión de ministros de la Suprema Corte de Justicia de la Nación respecto a la cancelación de las modificaciones en materia electoral que promovió el Poder Ejecutivo, no representa la voluntad del pueblo.\\n\\nAnte la culminación del Título 42 en Estados Unidos, cooperaremos para que no haya caos y violencia en la frontera con México; estamos protegiendo a migrantes frente al tráfico ilegal de personas. Continuamos con la difusión de las vías legales de ingreso al mercado laboral en el país vecino.\\xa0\\n\\nFestejaremos en Palacio Nacional el día del maestro y la maestra, donde anunciaremos una buena noticia para el gremio magisterial.\\xa0\\n\\nMañana informaremos al pueblo de México sobre la economía nacional; vamos muy bien.\\n\\nEspacios deportivos fomentan actividad física en beneficio de más de 5 millones de personas en México: https://bit.ly/44U6K86\\n\\nPresidente anuncia recuperación de otra pieza arqueológica del patrimonio cultural; Estados Unidos regresará escultura olmeca: https://bit.ly/3pALqo0\\n\\nSigue las actividades del presidente de México:\\n\\nSitio web:\\nhttp://presidente.gob.mx\\n\\nYouTube:\\nhttps://www.youtube.com/lopezobrador\\n\\nFacebook:\\nhttps://facebook.com/lopezobrador.org.mx\\n\\nTwitter:\\nhttps://twitter.com/lopezobrador_\\n\\nInstagram:\\nhttps://www.instagram.com/lopezobrador/\\n\\nTelegram: \\nhttps://t.me/PresidenteAMLO\\n\\nSpotify:\\nhttps://spoti.fi/3QocikN\",\n",
       " 'thumbnails': {'default': {'url': 'https://i.ytimg.com/vi/Ne6UsSrTXZA/default.jpg',\n",
       "   'width': 120,\n",
       "   'height': 90},\n",
       "  'medium': {'url': 'https://i.ytimg.com/vi/Ne6UsSrTXZA/mqdefault.jpg',\n",
       "   'width': 320,\n",
       "   'height': 180},\n",
       "  'high': {'url': 'https://i.ytimg.com/vi/Ne6UsSrTXZA/hqdefault.jpg',\n",
       "   'width': 480,\n",
       "   'height': 360},\n",
       "  'standard': {'url': 'https://i.ytimg.com/vi/Ne6UsSrTXZA/sddefault.jpg',\n",
       "   'width': 640,\n",
       "   'height': 480},\n",
       "  'maxres': {'url': 'https://i.ytimg.com/vi/Ne6UsSrTXZA/maxresdefault.jpg',\n",
       "   'width': 1280,\n",
       "   'height': 720}},\n",
       " 'channelTitle': 'Andrés Manuel López Obrador',\n",
       " 'playlistId': 'PLRnlRGar-_296KTsVL0R6MEbpwJzD8ppA',\n",
       " 'position': 0,\n",
       " 'resourceId': {'kind': 'youtube#video', 'videoId': 'Ne6UsSrTXZA'},\n",
       " 'videoOwnerChannelTitle': 'Andrés Manuel López Obrador',\n",
       " 'videoOwnerChannelId': 'UCxEgOKuI-n-WOJaNcisHvSg'}"
      ]
     },
     "execution_count": 15,
     "metadata": {},
     "output_type": "execute_result"
    }
   ],
   "source": [
    "playlists_items[0]['snippet']"
   ]
  },
  {
   "attachments": {},
   "cell_type": "markdown",
   "metadata": {},
   "source": [
    "Extraeremos sólo la información necesaria para hacer el entrenamiento. Estos datos son: título, descripción y la fecha de publicación"
   ]
  },
  {
   "cell_type": "code",
   "execution_count": 16,
   "metadata": {},
   "outputs": [
    {
     "name": "stdout",
     "output_type": "stream",
     "text": [
      "              published_at                                              title   \n",
      "0     2023-05-11T12:44:34Z  Sueldos de magistrados y jueces deben bajar pa...  \\\n",
      "1     2023-05-10T12:50:23Z  Homenaje a las madres de México en su día. Con...   \n",
      "2     2023-05-09T12:47:41Z  Fin de la emergencia sanitaria por COVID-19 en...   \n",
      "3     2023-05-08T12:45:24Z  Primer convoy del Tren Maya llegará el 8 de ju...   \n",
      "4     2023-05-05T12:40:09Z  Alternativas legales para trabajar en Estados ...   \n",
      "...                    ...                                                ...   \n",
      "1082  2020-11-24T17:20:12Z  Presupuesto 2019 hará justicia social y dará c...   \n",
      "1083  2019-03-08T21:59:25Z  Afores reducen comisiones. Fija Gobierno de Mé...   \n",
      "1084  2019-03-08T21:59:25Z  Acuerdo de recompra de bonos del Aeropuerto ab...   \n",
      "1085  2019-03-08T21:59:25Z  Gobierno reducirá gastos para garantizar presu...   \n",
      "1086  2019-03-08T21:59:25Z  Devuelve parte de su salario el Presidente Lóp...   \n",
      "\n",
      "                                            description  \n",
      "0     Conferencia de prensa matutina, desde Palacio ...  \n",
      "1     Conferencia de prensa matutina, desde Palacio ...  \n",
      "2     Conferencia de prensa matutina, desde Palacio ...  \n",
      "3     Conferencia de prensa matutina, desde Palacio ...  \n",
      "4     Conferencia de prensa matutina, desde Puebla. ...  \n",
      "...                                                 ...  \n",
      "1082  Celebramos la aprobación del Presupuesto de Eg...  \n",
      "1083  Reiteramos el compromiso de cuidar los ahorros...  \n",
      "1084  Celebramos el acuerdo que  logró la SHCP para ...  \n",
      "1085  Hoy dimos a conocer que los gastos operativos ...  \n",
      "1086  Hoy informamos sobre la devolución de 22 mil 3...  \n",
      "\n",
      "[1087 rows x 3 columns]\n"
     ]
    }
   ],
   "source": [
    "\n",
    "data = []\n",
    "\n",
    "for item in playlists_items:\n",
    "    snippet = item['snippet']\n",
    "    published_at = snippet['publishedAt']\n",
    "    title = snippet['title']\n",
    "    description = snippet['description']\n",
    "    \n",
    "    data.append([published_at, title, description])\n",
    "    \n",
    "df = pd.DataFrame(data, columns=['published_at', 'title', 'description'])\n",
    "df = df.head(1087)\n",
    "\n",
    "print(df)\n"
   ]
  },
  {
   "attachments": {},
   "cell_type": "markdown",
   "metadata": {},
   "source": [
    "## Una primera limpieza"
   ]
  },
  {
   "attachments": {},
   "cell_type": "markdown",
   "metadata": {},
   "source": [
    "Los datos que llegan de la API están contaminados con información como minutos de YouTube en formato <code>00:00</code>, links, saltos de línea <code>\\n</code> y palabras específicas como nombres redes sociales o frases que no aportan nada.\n",
    "Para mejor ejemplo, tomemos un elemento."
   ]
  },
  {
   "cell_type": "code",
   "execution_count": 17,
   "metadata": {},
   "outputs": [
    {
     "data": {
      "text/plain": [
       "\"Conferencia de prensa matutina, desde Palacio Nacional. Martes 13 de abril 2021 | Presidente AMLO.\\n\\n0:00 Inicio de transmisión\\n11:52 Comienza la conferencia de prensa del presidente Andrés Manuel López Obrador\\n13:14 Pulso de la Salud\\n32:48 Desarrollo de la vacuna mexicana 'Patria' contra COVID-19 \\n48:23 Sesión de preguntas y respuestas\\n2:23:42 Informe sobre la atención a menores migrantes no acompañados\\n\\nInformamos los avances del desarrollo de la vacuna mexicana 'Patria' contra COVID-19. Iniciarán los ensayos clínicos y, si todo sale bien, al final de 2021 se pondría a disposición de la Cofepris. Vamos hacia la soberanía en la producción de vacunas, un aspecto estratégico para el país.\\n\\nEn caso de tener éxito en las distintas fases de prueba, la vacuna permitirá ahorros económicos de hasta 855 por ciento respecto a la adquisición en el exterior.\\n\\nLa inversión hasta este día es de 150 millones de pesos, de los cuales, 135 millones de pesos provienen del Conacyt y 15 millones de pesos de la alianza establecida con la Agencia Mexicana de Cooperación Internacional para el Desarrollo (Amexcid) y la Secretaría de Relaciones Exteriores (SRE).\\n\\nDurante el proceso de prueba solo participarán personas adultas. Serán 90 voluntarios de 18 a 55 años de edad con buena salud para constatar la seguridad y la respuesta inmunogénica.\\n\\nLa empresa Avimex comprometió dos de sus plantas para que, en su momento, se dediquen exclusivamente a la producción de las vacunas. También se contempla el escalamiento industrial y la transferencia tecnológica de Laboratorios de Biológicos y Reactivos de México (Birmex). Participarán algunas empresas nacionales comprometidas con el bienestar de la población. \\n\\nEl director general del Instituto Politécnico Nacional (IPN), Arturo Reyes Sandoval, sostuvo que la vacuna 'Patria' es una de las más prometedoras por su diseño y estrategia de producción cuidadosos. Aseguró que, si se tiene éxito en los ensayos clínicos, México se colocaría como potencia mundial en la producción de vacunas. \\n\\nAnunciamos que la vacunación a personas de 50 a 59 años de edad iniciará en la última semana de abril. Este grupo poblacional se compone por alrededor de 12 millones de personas. \\n\\nAl mismo tiempo se terminará de aplicar dosis a adultos mayores y personal médico. Al final de abril se completará la vacunación a personal de salud de primera línea de atención a pacientes COVID y a las 15 millones de personas adultas mayores. Actualmente el avance de la cobertura potencial nacional a este último grupo es del 82 por ciento.\\n\\nLa SEP, el IMSS, ISSSTE, la Sedena y la Semar participarán en el operativo especial para vacunar a trabajadores de la educación de estados con bajo riesgo epidémico.\\n\\nSe aplicarán vacunas a maestras, maestros y personal administrativo que trabaje en los planteles de Tamaulipas, Veracruz, Coahuila, Nayarit y Chiapas. Serán aproximadamente 529 mil 989 trabajadoras y trabajadores. En todo el país se estima que serán 3 millones de integrantes del sector educativo. \\n\\nDesde el 23 de diciembre de 2020, México ha recibido 16 millones 900 mil 850 dosis de las cinco diferentes vacunas aprobadas por la Comisión Federal para la Protección contra Riesgos Sanitarios (Cofepris).\\n\\nDe estas, 6 millones 971 mil 250 son Pfizer BioNTech, 3 millones 589 mil 300 son AstraZeneca, 4 millones de Sinovac, 900 mil de Sputnik V y un millón 440 mil 300 de CanSino Biologics.\\n\\nMás información: https://bit.ly/3wPLsaR \\n\\nSigue las actividades del presidente de México: \\n\\nSitio web:\\nhttp://presidente.gob.mx\\n\\nYouTube:\\nhttps://www.youtube.com/lopezobrador\\n\\nFacebook:\\nhttps://facebook.com/lopezobrador.org.mx\\n\\nTwitter:\\nhttps://twitter.com/lopezobrador_\\n\\nInstagram:\\nhttps://www.instagram.com/lopezobrador/\\n\\nTelegram: \\nhttps://t.me/PresidenteAMLO\\n\\nSpotify:\\nhttps://spoti.fi/2C7jUmx\""
      ]
     },
     "execution_count": 17,
     "metadata": {},
     "output_type": "execute_result"
    }
   ],
   "source": [
    "df['description'][500]"
   ]
  },
  {
   "attachments": {},
   "cell_type": "markdown",
   "metadata": {},
   "source": [
    "Declararemos una serie de funciones que utilizarán regex para limpiar esta basura."
   ]
  },
  {
   "attachments": {},
   "cell_type": "markdown",
   "metadata": {},
   "source": [
    "<code>replace_newlines(string)</code> es una función que elimina los patrones de salto de línea (<code>\\n</code>) y coloca un espacio en blanco"
   ]
  },
  {
   "cell_type": "code",
   "execution_count": 18,
   "metadata": {},
   "outputs": [],
   "source": [
    "def replace_newlines(string):\n",
    "    pattern = r'\\n'\n",
    "    replace_with = ' '\n",
    "    return re.sub(pattern, replace_with, string)"
   ]
  },
  {
   "attachments": {},
   "cell_type": "markdown",
   "metadata": {},
   "source": [
    "<code>replace_minutes(string)</code> es una función que elimina los patrones de formato de minuto (<code>00:00</code>)"
   ]
  },
  {
   "cell_type": "code",
   "execution_count": 19,
   "metadata": {},
   "outputs": [],
   "source": [
    "def remove_minutes(string):\n",
    "    pattern = r'[0-9]?[0-9]:[0-9][0-9]'\n",
    "    replace_with = ''\n",
    "    return re.sub(pattern, replace_with, string)"
   ]
  },
  {
   "attachments": {},
   "cell_type": "markdown",
   "metadata": {},
   "source": [
    "<code>remove_links(string)</code> es una función que elimina los patrones de los links de internet"
   ]
  },
  {
   "cell_type": "code",
   "execution_count": 20,
   "metadata": {},
   "outputs": [],
   "source": [
    "def remove_links(string):\n",
    "    pattern = r\"(?i)\\b((?:https?://|www\\d{0,3}[.]|[a-z0-9.\\-]+[.][a-z]{2,4}/)(?:[^\\s()<>]+|\\(([^\\s()<>]+|(\\([^\\s()<>]+\\)))*\\))+(?:\\(([^\\s()<>]+|(\\([^\\s()<>]+\\)))*\\)|[^\\s`!()\\[\\]{};:'\\\".,<>?«»“”‘’]))\"\n",
    "    replace_with = ''\n",
    "    return re.sub(pattern, replace_with, string)"
   ]
  },
  {
   "attachments": {},
   "cell_type": "markdown",
   "metadata": {},
   "source": [
    "<code>remove_extra_words(string)</code> es una función que elimina los patrones de palabras específicas, pues estas sólo pueden afectar el entrenamiento"
   ]
  },
  {
   "cell_type": "code",
   "execution_count": 21,
   "metadata": {},
   "outputs": [],
   "source": [
    "def remove_extra_words(string):\n",
    "    pattern = r' Sigue las actividades del presidente de México:  Sitio web:   YouTube:   Facebook:   Twitter:   Instagram:   Telegram:    Spotify: '\n",
    "    replace_with = ''\n",
    "    return re.sub(pattern, replace_with, string)"
   ]
  },
  {
   "attachments": {},
   "cell_type": "markdown",
   "metadata": {},
   "source": [
    "Aplicamos las funciones y vemos los resultados"
   ]
  },
  {
   "cell_type": "code",
   "execution_count": 22,
   "metadata": {},
   "outputs": [],
   "source": [
    "df['description'] = df['description'].apply(replace_newlines).apply(remove_minutes).apply(remove_links).apply(remove_extra_words)\n"
   ]
  },
  {
   "cell_type": "code",
   "execution_count": 23,
   "metadata": {},
   "outputs": [
    {
     "data": {
      "text/plain": [
       "\"Conferencia de prensa matutina, desde Palacio Nacional. Martes 13 de abril 2021 | Presidente AMLO.   Inicio de transmisión  Comienza la conferencia de prensa del presidente Andrés Manuel López Obrador  Pulso de la Salud  Desarrollo de la vacuna mexicana 'Patria' contra COVID-19   Sesión de preguntas y respuestas :42 Informe sobre la atención a menores migrantes no acompañados  Informamos los avances del desarrollo de la vacuna mexicana 'Patria' contra COVID-19. Iniciarán los ensayos clínicos y, si todo sale bien, al final de 2021 se pondría a disposición de la Cofepris. Vamos hacia la soberanía en la producción de vacunas, un aspecto estratégico para el país.  En caso de tener éxito en las distintas fases de prueba, la vacuna permitirá ahorros económicos de hasta 855 por ciento respecto a la adquisición en el exterior.  La inversión hasta este día es de 150 millones de pesos, de los cuales, 135 millones de pesos provienen del Conacyt y 15 millones de pesos de la alianza establecida con la Agencia Mexicana de Cooperación Internacional para el Desarrollo (Amexcid) y la Secretaría de Relaciones Exteriores (SRE).  Durante el proceso de prueba solo participarán personas adultas. Serán 90 voluntarios de 18 a 55 años de edad con buena salud para constatar la seguridad y la respuesta inmunogénica.  La empresa Avimex comprometió dos de sus plantas para que, en su momento, se dediquen exclusivamente a la producción de las vacunas. También se contempla el escalamiento industrial y la transferencia tecnológica de Laboratorios de Biológicos y Reactivos de México (Birmex). Participarán algunas empresas nacionales comprometidas con el bienestar de la población.   El director general del Instituto Politécnico Nacional (IPN), Arturo Reyes Sandoval, sostuvo que la vacuna 'Patria' es una de las más prometedoras por su diseño y estrategia de producción cuidadosos. Aseguró que, si se tiene éxito en los ensayos clínicos, México se colocaría como potencia mundial en la producción de vacunas.   Anunciamos que la vacunación a personas de 50 a 59 años de edad iniciará en la última semana de abril. Este grupo poblacional se compone por alrededor de 12 millones de personas.   Al mismo tiempo se terminará de aplicar dosis a adultos mayores y personal médico. Al final de abril se completará la vacunación a personal de salud de primera línea de atención a pacientes COVID y a las 15 millones de personas adultas mayores. Actualmente el avance de la cobertura potencial nacional a este último grupo es del 82 por ciento.  La SEP, el IMSS, ISSSTE, la Sedena y la Semar participarán en el operativo especial para vacunar a trabajadores de la educación de estados con bajo riesgo epidémico.  Se aplicarán vacunas a maestras, maestros y personal administrativo que trabaje en los planteles de Tamaulipas, Veracruz, Coahuila, Nayarit y Chiapas. Serán aproximadamente 529 mil 989 trabajadoras y trabajadores. En todo el país se estima que serán 3 millones de integrantes del sector educativo.   Desde el 23 de diciembre de 2020, México ha recibido 16 millones 900 mil 850 dosis de las cinco diferentes vacunas aprobadas por la Comisión Federal para la Protección contra Riesgos Sanitarios (Cofepris).  De estas, 6 millones 971 mil 250 son Pfizer BioNTech, 3 millones 589 mil 300 son AstraZeneca, 4 millones de Sinovac, 900 mil de Sputnik V y un millón 440 mil 300 de CanSino Biologics.  Más información:    Sigue las actividades del presidente de México:   Sitio web:   YouTube:   Facebook:   Twitter:   Instagram:   Telegram:    Spotify: \""
      ]
     },
     "execution_count": 23,
     "metadata": {},
     "output_type": "execute_result"
    }
   ],
   "source": [
    "df['description'][500]"
   ]
  },
  {
   "cell_type": "code",
   "execution_count": 24,
   "metadata": {},
   "outputs": [
    {
     "data": {
      "text/html": [
       "<div>\n",
       "<style scoped>\n",
       "    .dataframe tbody tr th:only-of-type {\n",
       "        vertical-align: middle;\n",
       "    }\n",
       "\n",
       "    .dataframe tbody tr th {\n",
       "        vertical-align: top;\n",
       "    }\n",
       "\n",
       "    .dataframe thead th {\n",
       "        text-align: right;\n",
       "    }\n",
       "</style>\n",
       "<table border=\"1\" class=\"dataframe\">\n",
       "  <thead>\n",
       "    <tr style=\"text-align: right;\">\n",
       "      <th></th>\n",
       "      <th>published_at</th>\n",
       "      <th>title</th>\n",
       "      <th>description</th>\n",
       "    </tr>\n",
       "  </thead>\n",
       "  <tbody>\n",
       "    <tr>\n",
       "      <th>0</th>\n",
       "      <td>2023-05-11T12:44:34Z</td>\n",
       "      <td>Sueldos de magistrados y jueces deben bajar pa...</td>\n",
       "      <td>Conferencia de prensa matutina, desde Palacio ...</td>\n",
       "    </tr>\n",
       "    <tr>\n",
       "      <th>1</th>\n",
       "      <td>2023-05-10T12:50:23Z</td>\n",
       "      <td>Homenaje a las madres de México en su día. Con...</td>\n",
       "      <td>Conferencia de prensa matutina, desde Palacio ...</td>\n",
       "    </tr>\n",
       "    <tr>\n",
       "      <th>2</th>\n",
       "      <td>2023-05-09T12:47:41Z</td>\n",
       "      <td>Fin de la emergencia sanitaria por COVID-19 en...</td>\n",
       "      <td>Conferencia de prensa matutina, desde Palacio ...</td>\n",
       "    </tr>\n",
       "    <tr>\n",
       "      <th>3</th>\n",
       "      <td>2023-05-08T12:45:24Z</td>\n",
       "      <td>Primer convoy del Tren Maya llegará el 8 de ju...</td>\n",
       "      <td>Conferencia de prensa matutina, desde Palacio ...</td>\n",
       "    </tr>\n",
       "    <tr>\n",
       "      <th>4</th>\n",
       "      <td>2023-05-05T12:40:09Z</td>\n",
       "      <td>Alternativas legales para trabajar en Estados ...</td>\n",
       "      <td>Conferencia de prensa matutina, desde Puebla. ...</td>\n",
       "    </tr>\n",
       "    <tr>\n",
       "      <th>...</th>\n",
       "      <td>...</td>\n",
       "      <td>...</td>\n",
       "      <td>...</td>\n",
       "    </tr>\n",
       "    <tr>\n",
       "      <th>1082</th>\n",
       "      <td>2020-11-24T17:20:12Z</td>\n",
       "      <td>Presupuesto 2019 hará justicia social y dará c...</td>\n",
       "      <td>Celebramos la aprobación del Presupuesto de Eg...</td>\n",
       "    </tr>\n",
       "    <tr>\n",
       "      <th>1083</th>\n",
       "      <td>2019-03-08T21:59:25Z</td>\n",
       "      <td>Afores reducen comisiones. Fija Gobierno de Mé...</td>\n",
       "      <td>Reiteramos el compromiso de cuidar los ahorros...</td>\n",
       "    </tr>\n",
       "    <tr>\n",
       "      <th>1084</th>\n",
       "      <td>2019-03-08T21:59:25Z</td>\n",
       "      <td>Acuerdo de recompra de bonos del Aeropuerto ab...</td>\n",
       "      <td>Celebramos el acuerdo que  logró la SHCP para ...</td>\n",
       "    </tr>\n",
       "    <tr>\n",
       "      <th>1085</th>\n",
       "      <td>2019-03-08T21:59:25Z</td>\n",
       "      <td>Gobierno reducirá gastos para garantizar presu...</td>\n",
       "      <td>Hoy dimos a conocer que los gastos operativos ...</td>\n",
       "    </tr>\n",
       "    <tr>\n",
       "      <th>1086</th>\n",
       "      <td>2019-03-08T21:59:25Z</td>\n",
       "      <td>Devuelve parte de su salario el Presidente Lóp...</td>\n",
       "      <td>Hoy informamos sobre la devolución de 22 mil 3...</td>\n",
       "    </tr>\n",
       "  </tbody>\n",
       "</table>\n",
       "<p>1087 rows × 3 columns</p>\n",
       "</div>"
      ],
      "text/plain": [
       "              published_at                                              title   \n",
       "0     2023-05-11T12:44:34Z  Sueldos de magistrados y jueces deben bajar pa...  \\\n",
       "1     2023-05-10T12:50:23Z  Homenaje a las madres de México en su día. Con...   \n",
       "2     2023-05-09T12:47:41Z  Fin de la emergencia sanitaria por COVID-19 en...   \n",
       "3     2023-05-08T12:45:24Z  Primer convoy del Tren Maya llegará el 8 de ju...   \n",
       "4     2023-05-05T12:40:09Z  Alternativas legales para trabajar en Estados ...   \n",
       "...                    ...                                                ...   \n",
       "1082  2020-11-24T17:20:12Z  Presupuesto 2019 hará justicia social y dará c...   \n",
       "1083  2019-03-08T21:59:25Z  Afores reducen comisiones. Fija Gobierno de Mé...   \n",
       "1084  2019-03-08T21:59:25Z  Acuerdo de recompra de bonos del Aeropuerto ab...   \n",
       "1085  2019-03-08T21:59:25Z  Gobierno reducirá gastos para garantizar presu...   \n",
       "1086  2019-03-08T21:59:25Z  Devuelve parte de su salario el Presidente Lóp...   \n",
       "\n",
       "                                            description  \n",
       "0     Conferencia de prensa matutina, desde Palacio ...  \n",
       "1     Conferencia de prensa matutina, desde Palacio ...  \n",
       "2     Conferencia de prensa matutina, desde Palacio ...  \n",
       "3     Conferencia de prensa matutina, desde Palacio ...  \n",
       "4     Conferencia de prensa matutina, desde Puebla. ...  \n",
       "...                                                 ...  \n",
       "1082  Celebramos la aprobación del Presupuesto de Eg...  \n",
       "1083  Reiteramos el compromiso de cuidar los ahorros...  \n",
       "1084  Celebramos el acuerdo que  logró la SHCP para ...  \n",
       "1085  Hoy dimos a conocer que los gastos operativos ...  \n",
       "1086  Hoy informamos sobre la devolución de 22 mil 3...  \n",
       "\n",
       "[1087 rows x 3 columns]"
      ]
     },
     "execution_count": 24,
     "metadata": {},
     "output_type": "execute_result"
    }
   ],
   "source": [
    "df"
   ]
  },
  {
   "attachments": {},
   "cell_type": "markdown",
   "metadata": {},
   "source": [
    "## Separación por semana"
   ]
  },
  {
   "attachments": {},
   "cell_type": "markdown",
   "metadata": {},
   "source": [
    "Ahora necesitamos separar por semana, es decir, juntar todas las descripciones de una semana. De esta manera cada renglón del dataframe reprensentará una semana en específico.\n",
    "Lo primero que debemos hacer es limpiar el apartado de la fecha y convertirlo a datetime."
   ]
  },
  {
   "cell_type": "code",
   "execution_count": 25,
   "metadata": {},
   "outputs": [
    {
     "data": {
      "text/plain": [
       "0       2023-05-11T12:44:34Z\n",
       "1       2023-05-10T12:50:23Z\n",
       "2       2023-05-09T12:47:41Z\n",
       "3       2023-05-08T12:45:24Z\n",
       "4       2023-05-05T12:40:09Z\n",
       "                ...         \n",
       "1082    2020-11-24T17:20:12Z\n",
       "1083    2019-03-08T21:59:25Z\n",
       "1084    2019-03-08T21:59:25Z\n",
       "1085    2019-03-08T21:59:25Z\n",
       "1086    2019-03-08T21:59:25Z\n",
       "Name: published_at, Length: 1087, dtype: object"
      ]
     },
     "execution_count": 25,
     "metadata": {},
     "output_type": "execute_result"
    }
   ],
   "source": [
    "df['published_at']"
   ]
  },
  {
   "attachments": {},
   "cell_type": "markdown",
   "metadata": {},
   "source": [
    "Lo que se haces es: tomar los primeros 10 digitos de cada elemento de la columna y convertirlo al tipo datetime con la función <code>datetime.strptime</code>. Son los primeros 10 digitos porque son los que representan la fecha de ese día, no nos importan las horas, minutos o segundos así que lo descartamos"
   ]
  },
  {
   "cell_type": "code",
   "execution_count": 26,
   "metadata": {},
   "outputs": [],
   "source": [
    "clean_dates = []\n",
    "\n",
    "for dates in df['published_at']:\n",
    "    clean_dates.append( datetime.strptime(dates[:10], '%Y-%m-%d') )\n",
    "df['clean_dates'] = clean_dates"
   ]
  },
  {
   "cell_type": "code",
   "execution_count": 27,
   "metadata": {},
   "outputs": [],
   "source": [
    "df = df.drop('published_at', axis=1) # Ahorra borramos las fechas que no nos sirven"
   ]
  },
  {
   "cell_type": "code",
   "execution_count": 28,
   "metadata": {},
   "outputs": [],
   "source": [
    "df['clean_dates'] = pd.to_datetime(df['clean_dates'])"
   ]
  },
  {
   "attachments": {},
   "cell_type": "markdown",
   "metadata": {},
   "source": [
    "Ya tenemos los datos como fechas tipo <code>datetime</code>"
   ]
  },
  {
   "cell_type": "code",
   "execution_count": 29,
   "metadata": {},
   "outputs": [
    {
     "data": {
      "text/html": [
       "<div>\n",
       "<style scoped>\n",
       "    .dataframe tbody tr th:only-of-type {\n",
       "        vertical-align: middle;\n",
       "    }\n",
       "\n",
       "    .dataframe tbody tr th {\n",
       "        vertical-align: top;\n",
       "    }\n",
       "\n",
       "    .dataframe thead th {\n",
       "        text-align: right;\n",
       "    }\n",
       "</style>\n",
       "<table border=\"1\" class=\"dataframe\">\n",
       "  <thead>\n",
       "    <tr style=\"text-align: right;\">\n",
       "      <th></th>\n",
       "      <th>title</th>\n",
       "      <th>description</th>\n",
       "      <th>clean_dates</th>\n",
       "    </tr>\n",
       "  </thead>\n",
       "  <tbody>\n",
       "    <tr>\n",
       "      <th>0</th>\n",
       "      <td>Sueldos de magistrados y jueces deben bajar pa...</td>\n",
       "      <td>Conferencia de prensa matutina, desde Palacio ...</td>\n",
       "      <td>2023-05-11</td>\n",
       "    </tr>\n",
       "    <tr>\n",
       "      <th>1</th>\n",
       "      <td>Homenaje a las madres de México en su día. Con...</td>\n",
       "      <td>Conferencia de prensa matutina, desde Palacio ...</td>\n",
       "      <td>2023-05-10</td>\n",
       "    </tr>\n",
       "    <tr>\n",
       "      <th>2</th>\n",
       "      <td>Fin de la emergencia sanitaria por COVID-19 en...</td>\n",
       "      <td>Conferencia de prensa matutina, desde Palacio ...</td>\n",
       "      <td>2023-05-09</td>\n",
       "    </tr>\n",
       "    <tr>\n",
       "      <th>3</th>\n",
       "      <td>Primer convoy del Tren Maya llegará el 8 de ju...</td>\n",
       "      <td>Conferencia de prensa matutina, desde Palacio ...</td>\n",
       "      <td>2023-05-08</td>\n",
       "    </tr>\n",
       "    <tr>\n",
       "      <th>4</th>\n",
       "      <td>Alternativas legales para trabajar en Estados ...</td>\n",
       "      <td>Conferencia de prensa matutina, desde Puebla. ...</td>\n",
       "      <td>2023-05-05</td>\n",
       "    </tr>\n",
       "    <tr>\n",
       "      <th>...</th>\n",
       "      <td>...</td>\n",
       "      <td>...</td>\n",
       "      <td>...</td>\n",
       "    </tr>\n",
       "    <tr>\n",
       "      <th>1082</th>\n",
       "      <td>Presupuesto 2019 hará justicia social y dará c...</td>\n",
       "      <td>Celebramos la aprobación del Presupuesto de Eg...</td>\n",
       "      <td>2020-11-24</td>\n",
       "    </tr>\n",
       "    <tr>\n",
       "      <th>1083</th>\n",
       "      <td>Afores reducen comisiones. Fija Gobierno de Mé...</td>\n",
       "      <td>Reiteramos el compromiso de cuidar los ahorros...</td>\n",
       "      <td>2019-03-08</td>\n",
       "    </tr>\n",
       "    <tr>\n",
       "      <th>1084</th>\n",
       "      <td>Acuerdo de recompra de bonos del Aeropuerto ab...</td>\n",
       "      <td>Celebramos el acuerdo que  logró la SHCP para ...</td>\n",
       "      <td>2019-03-08</td>\n",
       "    </tr>\n",
       "    <tr>\n",
       "      <th>1085</th>\n",
       "      <td>Gobierno reducirá gastos para garantizar presu...</td>\n",
       "      <td>Hoy dimos a conocer que los gastos operativos ...</td>\n",
       "      <td>2019-03-08</td>\n",
       "    </tr>\n",
       "    <tr>\n",
       "      <th>1086</th>\n",
       "      <td>Devuelve parte de su salario el Presidente Lóp...</td>\n",
       "      <td>Hoy informamos sobre la devolución de 22 mil 3...</td>\n",
       "      <td>2019-03-08</td>\n",
       "    </tr>\n",
       "  </tbody>\n",
       "</table>\n",
       "<p>1087 rows × 3 columns</p>\n",
       "</div>"
      ],
      "text/plain": [
       "                                                  title   \n",
       "0     Sueldos de magistrados y jueces deben bajar pa...  \\\n",
       "1     Homenaje a las madres de México en su día. Con...   \n",
       "2     Fin de la emergencia sanitaria por COVID-19 en...   \n",
       "3     Primer convoy del Tren Maya llegará el 8 de ju...   \n",
       "4     Alternativas legales para trabajar en Estados ...   \n",
       "...                                                 ...   \n",
       "1082  Presupuesto 2019 hará justicia social y dará c...   \n",
       "1083  Afores reducen comisiones. Fija Gobierno de Mé...   \n",
       "1084  Acuerdo de recompra de bonos del Aeropuerto ab...   \n",
       "1085  Gobierno reducirá gastos para garantizar presu...   \n",
       "1086  Devuelve parte de su salario el Presidente Lóp...   \n",
       "\n",
       "                                            description clean_dates  \n",
       "0     Conferencia de prensa matutina, desde Palacio ...  2023-05-11  \n",
       "1     Conferencia de prensa matutina, desde Palacio ...  2023-05-10  \n",
       "2     Conferencia de prensa matutina, desde Palacio ...  2023-05-09  \n",
       "3     Conferencia de prensa matutina, desde Palacio ...  2023-05-08  \n",
       "4     Conferencia de prensa matutina, desde Puebla. ...  2023-05-05  \n",
       "...                                                 ...         ...  \n",
       "1082  Celebramos la aprobación del Presupuesto de Eg...  2020-11-24  \n",
       "1083  Reiteramos el compromiso de cuidar los ahorros...  2019-03-08  \n",
       "1084  Celebramos el acuerdo que  logró la SHCP para ...  2019-03-08  \n",
       "1085  Hoy dimos a conocer que los gastos operativos ...  2019-03-08  \n",
       "1086  Hoy informamos sobre la devolución de 22 mil 3...  2019-03-08  \n",
       "\n",
       "[1087 rows x 3 columns]"
      ]
     },
     "execution_count": 29,
     "metadata": {},
     "output_type": "execute_result"
    }
   ],
   "source": [
    "df"
   ]
  },
  {
   "cell_type": "code",
   "execution_count": 30,
   "metadata": {},
   "outputs": [
    {
     "data": {
      "text/plain": [
       "0      2023-05-11\n",
       "1      2023-05-10\n",
       "2      2023-05-09\n",
       "3      2023-05-08\n",
       "4      2023-05-05\n",
       "          ...    \n",
       "1082   2020-11-24\n",
       "1083   2019-03-08\n",
       "1084   2019-03-08\n",
       "1085   2019-03-08\n",
       "1086   2019-03-08\n",
       "Name: clean_dates, Length: 1087, dtype: datetime64[ns]"
      ]
     },
     "execution_count": 30,
     "metadata": {},
     "output_type": "execute_result"
    }
   ],
   "source": [
    "df['clean_dates']"
   ]
  },
  {
   "attachments": {},
   "cell_type": "markdown",
   "metadata": {},
   "source": [
    "La mejor manera de manipular datos con fechas es creando una serie de tiempo, para estos se utiliza la libería <code>datetime</code>. Convertimos el Data Frame en una serie de tiempo con <code>pd.set_index</code>.\n",
    "De esta manera las fechas ahora serán los índices de el dataframe"
   ]
  },
  {
   "cell_type": "code",
   "execution_count": 31,
   "metadata": {},
   "outputs": [],
   "source": [
    "df.set_index('clean_dates', inplace=True)"
   ]
  },
  {
   "cell_type": "code",
   "execution_count": 32,
   "metadata": {},
   "outputs": [
    {
     "data": {
      "text/html": [
       "<div>\n",
       "<style scoped>\n",
       "    .dataframe tbody tr th:only-of-type {\n",
       "        vertical-align: middle;\n",
       "    }\n",
       "\n",
       "    .dataframe tbody tr th {\n",
       "        vertical-align: top;\n",
       "    }\n",
       "\n",
       "    .dataframe thead th {\n",
       "        text-align: right;\n",
       "    }\n",
       "</style>\n",
       "<table border=\"1\" class=\"dataframe\">\n",
       "  <thead>\n",
       "    <tr style=\"text-align: right;\">\n",
       "      <th></th>\n",
       "      <th>title</th>\n",
       "      <th>description</th>\n",
       "    </tr>\n",
       "    <tr>\n",
       "      <th>clean_dates</th>\n",
       "      <th></th>\n",
       "      <th></th>\n",
       "    </tr>\n",
       "  </thead>\n",
       "  <tbody>\n",
       "    <tr>\n",
       "      <th>2023-05-11</th>\n",
       "      <td>Sueldos de magistrados y jueces deben bajar pa...</td>\n",
       "      <td>Conferencia de prensa matutina, desde Palacio ...</td>\n",
       "    </tr>\n",
       "    <tr>\n",
       "      <th>2023-05-10</th>\n",
       "      <td>Homenaje a las madres de México en su día. Con...</td>\n",
       "      <td>Conferencia de prensa matutina, desde Palacio ...</td>\n",
       "    </tr>\n",
       "    <tr>\n",
       "      <th>2023-05-09</th>\n",
       "      <td>Fin de la emergencia sanitaria por COVID-19 en...</td>\n",
       "      <td>Conferencia de prensa matutina, desde Palacio ...</td>\n",
       "    </tr>\n",
       "    <tr>\n",
       "      <th>2023-05-08</th>\n",
       "      <td>Primer convoy del Tren Maya llegará el 8 de ju...</td>\n",
       "      <td>Conferencia de prensa matutina, desde Palacio ...</td>\n",
       "    </tr>\n",
       "    <tr>\n",
       "      <th>2023-05-05</th>\n",
       "      <td>Alternativas legales para trabajar en Estados ...</td>\n",
       "      <td>Conferencia de prensa matutina, desde Puebla. ...</td>\n",
       "    </tr>\n",
       "    <tr>\n",
       "      <th>...</th>\n",
       "      <td>...</td>\n",
       "      <td>...</td>\n",
       "    </tr>\n",
       "    <tr>\n",
       "      <th>2020-11-24</th>\n",
       "      <td>Presupuesto 2019 hará justicia social y dará c...</td>\n",
       "      <td>Celebramos la aprobación del Presupuesto de Eg...</td>\n",
       "    </tr>\n",
       "    <tr>\n",
       "      <th>2019-03-08</th>\n",
       "      <td>Afores reducen comisiones. Fija Gobierno de Mé...</td>\n",
       "      <td>Reiteramos el compromiso de cuidar los ahorros...</td>\n",
       "    </tr>\n",
       "    <tr>\n",
       "      <th>2019-03-08</th>\n",
       "      <td>Acuerdo de recompra de bonos del Aeropuerto ab...</td>\n",
       "      <td>Celebramos el acuerdo que  logró la SHCP para ...</td>\n",
       "    </tr>\n",
       "    <tr>\n",
       "      <th>2019-03-08</th>\n",
       "      <td>Gobierno reducirá gastos para garantizar presu...</td>\n",
       "      <td>Hoy dimos a conocer que los gastos operativos ...</td>\n",
       "    </tr>\n",
       "    <tr>\n",
       "      <th>2019-03-08</th>\n",
       "      <td>Devuelve parte de su salario el Presidente Lóp...</td>\n",
       "      <td>Hoy informamos sobre la devolución de 22 mil 3...</td>\n",
       "    </tr>\n",
       "  </tbody>\n",
       "</table>\n",
       "<p>1087 rows × 2 columns</p>\n",
       "</div>"
      ],
      "text/plain": [
       "                                                         title   \n",
       "clean_dates                                                      \n",
       "2023-05-11   Sueldos de magistrados y jueces deben bajar pa...  \\\n",
       "2023-05-10   Homenaje a las madres de México en su día. Con...   \n",
       "2023-05-09   Fin de la emergencia sanitaria por COVID-19 en...   \n",
       "2023-05-08   Primer convoy del Tren Maya llegará el 8 de ju...   \n",
       "2023-05-05   Alternativas legales para trabajar en Estados ...   \n",
       "...                                                        ...   \n",
       "2020-11-24   Presupuesto 2019 hará justicia social y dará c...   \n",
       "2019-03-08   Afores reducen comisiones. Fija Gobierno de Mé...   \n",
       "2019-03-08   Acuerdo de recompra de bonos del Aeropuerto ab...   \n",
       "2019-03-08   Gobierno reducirá gastos para garantizar presu...   \n",
       "2019-03-08   Devuelve parte de su salario el Presidente Lóp...   \n",
       "\n",
       "                                                   description  \n",
       "clean_dates                                                     \n",
       "2023-05-11   Conferencia de prensa matutina, desde Palacio ...  \n",
       "2023-05-10   Conferencia de prensa matutina, desde Palacio ...  \n",
       "2023-05-09   Conferencia de prensa matutina, desde Palacio ...  \n",
       "2023-05-08   Conferencia de prensa matutina, desde Palacio ...  \n",
       "2023-05-05   Conferencia de prensa matutina, desde Puebla. ...  \n",
       "...                                                        ...  \n",
       "2020-11-24   Celebramos la aprobación del Presupuesto de Eg...  \n",
       "2019-03-08   Reiteramos el compromiso de cuidar los ahorros...  \n",
       "2019-03-08   Celebramos el acuerdo que  logró la SHCP para ...  \n",
       "2019-03-08   Hoy dimos a conocer que los gastos operativos ...  \n",
       "2019-03-08   Hoy informamos sobre la devolución de 22 mil 3...  \n",
       "\n",
       "[1087 rows x 2 columns]"
      ]
     },
     "execution_count": 32,
     "metadata": {},
     "output_type": "execute_result"
    }
   ],
   "source": [
    "df"
   ]
  },
  {
   "attachments": {},
   "cell_type": "markdown",
   "metadata": {},
   "source": [
    "Ahora le decimos que separe, con respecto a las fechas, semanalmente. De esta manera va a concatenar los contenidos de las descripciones y los títulos."
   ]
  },
  {
   "cell_type": "code",
   "execution_count": 33,
   "metadata": {},
   "outputs": [],
   "source": [
    "weekly_ts = df.resample('W').sum()"
   ]
  },
  {
   "attachments": {},
   "cell_type": "markdown",
   "metadata": {},
   "source": [
    "Se muestra el dataframe"
   ]
  },
  {
   "cell_type": "code",
   "execution_count": 34,
   "metadata": {},
   "outputs": [
    {
     "data": {
      "text/html": [
       "<div>\n",
       "<style scoped>\n",
       "    .dataframe tbody tr th:only-of-type {\n",
       "        vertical-align: middle;\n",
       "    }\n",
       "\n",
       "    .dataframe tbody tr th {\n",
       "        vertical-align: top;\n",
       "    }\n",
       "\n",
       "    .dataframe thead th {\n",
       "        text-align: right;\n",
       "    }\n",
       "</style>\n",
       "<table border=\"1\" class=\"dataframe\">\n",
       "  <thead>\n",
       "    <tr style=\"text-align: right;\">\n",
       "      <th></th>\n",
       "      <th>title</th>\n",
       "      <th>description</th>\n",
       "    </tr>\n",
       "    <tr>\n",
       "      <th>clean_dates</th>\n",
       "      <th></th>\n",
       "      <th></th>\n",
       "    </tr>\n",
       "  </thead>\n",
       "  <tbody>\n",
       "    <tr>\n",
       "      <th>2019-03-10</th>\n",
       "      <td>Presidente AMLO llama a terminar con feminicid...</td>\n",
       "      <td>Conferencia de prensa en vivo desde Palacio Na...</td>\n",
       "    </tr>\n",
       "    <tr>\n",
       "      <th>2019-03-17</th>\n",
       "      <td>Reformas constitucionales aprobadas representa...</td>\n",
       "      <td>Conferencia de prensa en vivo desde Palacio Na...</td>\n",
       "    </tr>\n",
       "    <tr>\n",
       "      <th>2019-03-24</th>\n",
       "      <td>Presidente firma compromiso de no reelección; ...</td>\n",
       "      <td>Conferencia de prensa en vivo desde Palacio Na...</td>\n",
       "    </tr>\n",
       "    <tr>\n",
       "      <th>2019-03-31</th>\n",
       "      <td>Acciones para mejorar protección a defensores ...</td>\n",
       "      <td>Conferencia de prensa en vivo desde Palacio Na...</td>\n",
       "    </tr>\n",
       "    <tr>\n",
       "      <th>2019-04-07</th>\n",
       "      <td>Avanza entrega de apoyos de 'Programas Integra...</td>\n",
       "      <td>Conferencia de prensa matutina, desde Palacio ...</td>\n",
       "    </tr>\n",
       "    <tr>\n",
       "      <th>...</th>\n",
       "      <td>...</td>\n",
       "      <td>...</td>\n",
       "    </tr>\n",
       "    <tr>\n",
       "      <th>2023-04-16</th>\n",
       "      <td>Avanza instalación de doble vía electrificada ...</td>\n",
       "      <td>Conferencia de prensa matutina, desde Palacio ...</td>\n",
       "    </tr>\n",
       "    <tr>\n",
       "      <th>2023-04-23</th>\n",
       "      <td>Avance mayor al 60 por ciento en obras del tra...</td>\n",
       "      <td>Conferencia de prensa matutina, desde Palacio ...</td>\n",
       "    </tr>\n",
       "    <tr>\n",
       "      <th>2023-04-30</th>\n",
       "      <td>Conferencia de prensa matutina desde Palacio N...</td>\n",
       "      <td>Conferencia de prensa matutina, desde Palacio ...</td>\n",
       "    </tr>\n",
       "    <tr>\n",
       "      <th>2023-05-07</th>\n",
       "      <td>Tarjeta Finabien para mexicanos en Estados Uni...</td>\n",
       "      <td>Conferencia de prensa matutina, desde Palacio ...</td>\n",
       "    </tr>\n",
       "    <tr>\n",
       "      <th>2023-05-14</th>\n",
       "      <td>Primer convoy del Tren Maya llegará el 8 de ju...</td>\n",
       "      <td>Conferencia de prensa matutina, desde Palacio ...</td>\n",
       "    </tr>\n",
       "  </tbody>\n",
       "</table>\n",
       "<p>219 rows × 2 columns</p>\n",
       "</div>"
      ],
      "text/plain": [
       "                                                         title   \n",
       "clean_dates                                                      \n",
       "2019-03-10   Presidente AMLO llama a terminar con feminicid...  \\\n",
       "2019-03-17   Reformas constitucionales aprobadas representa...   \n",
       "2019-03-24   Presidente firma compromiso de no reelección; ...   \n",
       "2019-03-31   Acciones para mejorar protección a defensores ...   \n",
       "2019-04-07   Avanza entrega de apoyos de 'Programas Integra...   \n",
       "...                                                        ...   \n",
       "2023-04-16   Avanza instalación de doble vía electrificada ...   \n",
       "2023-04-23   Avance mayor al 60 por ciento en obras del tra...   \n",
       "2023-04-30   Conferencia de prensa matutina desde Palacio N...   \n",
       "2023-05-07   Tarjeta Finabien para mexicanos en Estados Uni...   \n",
       "2023-05-14   Primer convoy del Tren Maya llegará el 8 de ju...   \n",
       "\n",
       "                                                   description  \n",
       "clean_dates                                                     \n",
       "2019-03-10   Conferencia de prensa en vivo desde Palacio Na...  \n",
       "2019-03-17   Conferencia de prensa en vivo desde Palacio Na...  \n",
       "2019-03-24   Conferencia de prensa en vivo desde Palacio Na...  \n",
       "2019-03-31   Conferencia de prensa en vivo desde Palacio Na...  \n",
       "2019-04-07   Conferencia de prensa matutina, desde Palacio ...  \n",
       "...                                                        ...  \n",
       "2023-04-16   Conferencia de prensa matutina, desde Palacio ...  \n",
       "2023-04-23   Conferencia de prensa matutina, desde Palacio ...  \n",
       "2023-04-30   Conferencia de prensa matutina, desde Palacio ...  \n",
       "2023-05-07   Conferencia de prensa matutina, desde Palacio ...  \n",
       "2023-05-14   Conferencia de prensa matutina, desde Palacio ...  \n",
       "\n",
       "[219 rows x 2 columns]"
      ]
     },
     "execution_count": 34,
     "metadata": {},
     "output_type": "execute_result"
    }
   ],
   "source": [
    "weekly_ts"
   ]
  },
  {
   "attachments": {},
   "cell_type": "markdown",
   "metadata": {},
   "source": [
    "Ahora se guarda el dataframe en un .txt para que el preprocesamiento pueda llamarlo y utlizarlo"
   ]
  },
  {
   "cell_type": "code",
   "execution_count": 35,
   "metadata": {},
   "outputs": [],
   "source": [
    "weekly_ts['description'].to_csv('mañaneras.csv')"
   ]
  },
  {
   "attachments": {},
   "cell_type": "markdown",
   "metadata": {},
   "source": [
    "Así es como se termina la obtención de datos, ya tenemos nuesto dataframe listo para mandar al preprocesamiento. Como se observó, a los datos se les hizo una primera limpieza, la razón de esto fue para que en el preprocesamiento se hicieran los pasos fundamentales y no pasos extras, como fue este caso de quitar ciertos patrones que estorbaban."
   ]
  }
 ],
 "metadata": {
  "kernelspec": {
   "display_name": "Python 3",
   "language": "python",
   "name": "python3"
  },
  "language_info": {
   "codemirror_mode": {
    "name": "ipython",
    "version": 3
   },
   "file_extension": ".py",
   "mimetype": "text/x-python",
   "name": "python",
   "nbconvert_exporter": "python",
   "pygments_lexer": "ipython3",
   "version": "3.11.2"
  },
  "orig_nbformat": 4
 },
 "nbformat": 4,
 "nbformat_minor": 2
}
