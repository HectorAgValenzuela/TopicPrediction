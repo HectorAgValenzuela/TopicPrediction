{
 "cells": [
  {
   "attachments": {},
   "cell_type": "markdown",
   "metadata": {},
   "source": [
    "# Obtención de datos"
   ]
  },
  {
   "attachments": {},
   "cell_type": "markdown",
   "metadata": {},
   "source": [
    "Para obtener los datos vamos a usar las descripciones en cada video de las mañaneras. Pues nos provee de un resumen del video del día. De esta manera ya no tenemos que lidiar con conversaciones del presidente cuando usamos las transcripciones."
   ]
  },
  {
   "attachments": {},
   "cell_type": "markdown",
   "metadata": {},
   "source": [
    "## Importaciones"
   ]
  },
  {
   "cell_type": "code",
   "execution_count": 497,
   "metadata": {},
   "outputs": [],
   "source": [
    "import json \n",
    "from datetime import datetime\n",
    "import re\n",
    "\n",
    "import pandas as pd \n",
    "import numpy as np\n",
    "\n",
    "from googleapiclient.errors import HttpError\n",
    "from Google import Create_Service"
   ]
  },
  {
   "attachments": {},
   "cell_type": "markdown",
   "metadata": {},
   "source": [
    "## Llamamiento a la API de YouTube"
   ]
  },
  {
   "attachments": {},
   "cell_type": "markdown",
   "metadata": {},
   "source": [
    "<code>retrieve_playlists_items</code> Función que hace la petición a la API de youtube. Se le da un objeto <code>service</code> que es la información sobre el tipo de API y la autenticación. También recibe <code>playlistId</code> que es el ID de la playlist que queremos."
   ]
  },
  {
   "cell_type": "code",
   "execution_count": 498,
   "metadata": {},
   "outputs": [],
   "source": [
    "def retrieve_playlists_items(service, playlistId):\n",
    "    items =[]\n",
    "    try:\n",
    "        response = service.playlistItems().list(\n",
    "            part = 'contentDetails, snippet, status',\n",
    "            playlistId = playlistId,\n",
    "            maxResults = 5\n",
    "        ).execute()\n",
    "\n",
    "        items.extend(response.get('items'))\n",
    "        nextPageToken = response.get('nextPageToken')\n",
    "\n",
    "        while nextPageToken:\n",
    "            response = service.playlistItems().list(\n",
    "                part = 'contentDetails, snippet, status',\n",
    "                playlistId = playlistId,\n",
    "                maxResults = 5,\n",
    "                pageToken = nextPageToken\n",
    "            ).execute()\n",
    "\n",
    "            items.extend(response.get('items'))\n",
    "            nextPageToken = response.get('nextPageToken')\n",
    "\n",
    "        return items\n",
    "\n",
    "    except HttpError as e:\n",
    "        errMsg = json.loads(e.content)\n",
    "        print(\"HTTP Error: \")\n",
    "        print(errMsg['error']['message'])\n",
    "        return []"
   ]
  },
  {
   "attachments": {},
   "cell_type": "markdown",
   "metadata": {},
   "source": [
    "Creando constantes para llamar a la API. Toda esta es información sobre el tipo de API y los archivos necesarios para hacer la conexión con Google Cloud"
   ]
  },
  {
   "cell_type": "code",
   "execution_count": 499,
   "metadata": {},
   "outputs": [
    {
     "name": "stdout",
     "output_type": "stream",
     "text": [
      "client_secret.json-youtube-v3-(['https://www.googleapis.com/auth/youtube.readonly'],)\n",
      "['https://www.googleapis.com/auth/youtube.readonly']\n",
      "youtube service created successfully\n"
     ]
    }
   ],
   "source": [
    "CLIENT_SECRETS_FILE = 'client_secret.json'  # Archivo .json que se obtiene al crear las credenciales OAuth en https://console.cloud.google.com/\n",
    "API_NAME = 'youtube'\n",
    "API_VERSION = 'v3'\n",
    "SCOPES = ['https://www.googleapis.com/auth/youtube.readonly']\n",
    "\n",
    "service = Create_Service(CLIENT_SECRETS_FILE, API_NAME, API_VERSION, SCOPES)"
   ]
  },
  {
   "attachments": {},
   "cell_type": "markdown",
   "metadata": {},
   "source": [
    "El objeto <code>service</code> nos da accesos a todos los recursos de la API"
   ]
  },
  {
   "cell_type": "code",
   "execution_count": 500,
   "metadata": {},
   "outputs": [
    {
     "data": {
      "text/plain": [
       "['__class__',\n",
       " '__delattr__',\n",
       " '__dict__',\n",
       " '__dir__',\n",
       " '__doc__',\n",
       " '__enter__',\n",
       " '__eq__',\n",
       " '__exit__',\n",
       " '__format__',\n",
       " '__ge__',\n",
       " '__getattribute__',\n",
       " '__getstate__',\n",
       " '__gt__',\n",
       " '__hash__',\n",
       " '__init__',\n",
       " '__init_subclass__',\n",
       " '__le__',\n",
       " '__lt__',\n",
       " '__module__',\n",
       " '__ne__',\n",
       " '__new__',\n",
       " '__reduce__',\n",
       " '__reduce_ex__',\n",
       " '__repr__',\n",
       " '__setattr__',\n",
       " '__setstate__',\n",
       " '__sizeof__',\n",
       " '__str__',\n",
       " '__subclasshook__',\n",
       " '__weakref__',\n",
       " '_add_basic_methods',\n",
       " '_add_nested_resources',\n",
       " '_add_next_methods',\n",
       " '_baseUrl',\n",
       " '_developerKey',\n",
       " '_dynamic_attrs',\n",
       " '_http',\n",
       " '_model',\n",
       " '_requestBuilder',\n",
       " '_resourceDesc',\n",
       " '_rootDesc',\n",
       " '_schema',\n",
       " '_set_dynamic_attr',\n",
       " '_set_service_methods',\n",
       " 'abuseReports',\n",
       " 'activities',\n",
       " 'captions',\n",
       " 'channelBanners',\n",
       " 'channelSections',\n",
       " 'channels',\n",
       " 'close',\n",
       " 'commentThreads',\n",
       " 'comments',\n",
       " 'i18nLanguages',\n",
       " 'i18nRegions',\n",
       " 'liveBroadcasts',\n",
       " 'liveChatBans',\n",
       " 'liveChatMessages',\n",
       " 'liveChatModerators',\n",
       " 'liveStreams',\n",
       " 'members',\n",
       " 'membershipsLevels',\n",
       " 'new_batch_http_request',\n",
       " 'playlistItems',\n",
       " 'playlists',\n",
       " 'search',\n",
       " 'subscriptions',\n",
       " 'superChatEvents',\n",
       " 'tests',\n",
       " 'thirdPartyLinks',\n",
       " 'thumbnails',\n",
       " 'videoAbuseReportReasons',\n",
       " 'videoCategories',\n",
       " 'videos',\n",
       " 'watermarks',\n",
       " 'youtube']"
      ]
     },
     "execution_count": 500,
     "metadata": {},
     "output_type": "execute_result"
    }
   ],
   "source": [
    "dir(service)"
   ]
  },
  {
   "attachments": {},
   "cell_type": "markdown",
   "metadata": {},
   "source": [
    "Hacemos una llamada a a función de <code>retrieve_playlists_items</code> para obtener todos los videos una playlist especifica. En este caso, los videos de la mañaneras"
   ]
  },
  {
   "cell_type": "code",
   "execution_count": 501,
   "metadata": {},
   "outputs": [],
   "source": [
    "playlistId = 'PLRnlRGar-_296KTsVL0R6MEbpwJzD8ppA' # id de la playlist de las mañaneras\n",
    "playlists_items = retrieve_playlists_items(service, playlistId)"
   ]
  },
  {
   "cell_type": "code",
   "execution_count": 502,
   "metadata": {},
   "outputs": [
    {
     "data": {
      "text/plain": [
       "{'kind': 'youtube#playlistItem',\n",
       " 'etag': '3xCC5OTcxHdoj5hmgSVw5mNkh8Q',\n",
       " 'id': 'UExSbmxSR2FyLV8yOTZLVHNWTDBSNk1FYnB3SnpEOHBwQS41OThGNjE5NEFFRURFREE3',\n",
       " 'snippet': {'publishedAt': '2023-05-12T03:54:24Z',\n",
       "  'channelId': 'UCxEgOKuI-n-WOJaNcisHvSg',\n",
       "  'title': 'Conferencia de prensa en vivo, desde Palacio Nacional. Viernes 12 de mayo 2023 | Presidente AMLO',\n",
       "  'description': 'Conferencia de prensa matutina, desde Palacio Nacional. Viernes 12 de mayo 2023 | Presidente AMLO.\\n\\nSigue las actividades del presidente de México:\\n\\nSitio web:\\nhttp://presidente.gob.mx\\n\\nYouTube:\\nhttps://www.youtube.com/lopezobrador\\n\\nFacebook:\\nhttps://facebook.com/lopezobrador.org.mx\\n\\nTwitter:\\nhttps://twitter.com/lopezobrador_\\n\\nInstagram:\\nhttps://www.instagram.com/lopezobrador/\\n\\nTelegram: \\nhttps://t.me/PresidenteAMLO\\n\\nSpotify:\\nhttps://spoti.fi/3QocikN\\n\\n#EnVivo #AMLO',\n",
       "  'thumbnails': {'default': {'url': 'https://i.ytimg.com/vi/nzc-ZmovlR0/default_live.jpg',\n",
       "    'width': 120,\n",
       "    'height': 90},\n",
       "   'medium': {'url': 'https://i.ytimg.com/vi/nzc-ZmovlR0/mqdefault_live.jpg',\n",
       "    'width': 320,\n",
       "    'height': 180},\n",
       "   'high': {'url': 'https://i.ytimg.com/vi/nzc-ZmovlR0/hqdefault_live.jpg',\n",
       "    'width': 480,\n",
       "    'height': 360},\n",
       "   'standard': {'url': 'https://i.ytimg.com/vi/nzc-ZmovlR0/sddefault_live.jpg',\n",
       "    'width': 640,\n",
       "    'height': 480},\n",
       "   'maxres': {'url': 'https://i.ytimg.com/vi/nzc-ZmovlR0/maxresdefault_live.jpg',\n",
       "    'width': 1280,\n",
       "    'height': 720}},\n",
       "  'channelTitle': 'Andrés Manuel López Obrador',\n",
       "  'playlistId': 'PLRnlRGar-_296KTsVL0R6MEbpwJzD8ppA',\n",
       "  'position': 0,\n",
       "  'resourceId': {'kind': 'youtube#video', 'videoId': 'nzc-ZmovlR0'},\n",
       "  'videoOwnerChannelTitle': 'Andrés Manuel López Obrador',\n",
       "  'videoOwnerChannelId': 'UCxEgOKuI-n-WOJaNcisHvSg'},\n",
       " 'contentDetails': {'videoId': 'nzc-ZmovlR0',\n",
       "  'videoPublishedAt': '2023-05-12T03:53:02Z'},\n",
       " 'status': {'privacyStatus': 'public'}}"
      ]
     },
     "execution_count": 502,
     "metadata": {},
     "output_type": "execute_result"
    }
   ],
   "source": [
    "playlists_items[0] # El último video agregado a la playlist"
   ]
  },
  {
   "attachments": {},
   "cell_type": "markdown",
   "metadata": {},
   "source": [
    "## Guardando los datos en un DataFrame"
   ]
  },
  {
   "attachments": {},
   "cell_type": "markdown",
   "metadata": {},
   "source": [
    "Los datos están guardados en un json. Podemos obtener cada elemento de la variable utilizando las posiciones."
   ]
  },
  {
   "cell_type": "code",
   "execution_count": 503,
   "metadata": {},
   "outputs": [
    {
     "data": {
      "text/plain": [
       "{'publishedAt': '2023-05-12T03:54:24Z',\n",
       " 'channelId': 'UCxEgOKuI-n-WOJaNcisHvSg',\n",
       " 'title': 'Conferencia de prensa en vivo, desde Palacio Nacional. Viernes 12 de mayo 2023 | Presidente AMLO',\n",
       " 'description': 'Conferencia de prensa matutina, desde Palacio Nacional. Viernes 12 de mayo 2023 | Presidente AMLO.\\n\\nSigue las actividades del presidente de México:\\n\\nSitio web:\\nhttp://presidente.gob.mx\\n\\nYouTube:\\nhttps://www.youtube.com/lopezobrador\\n\\nFacebook:\\nhttps://facebook.com/lopezobrador.org.mx\\n\\nTwitter:\\nhttps://twitter.com/lopezobrador_\\n\\nInstagram:\\nhttps://www.instagram.com/lopezobrador/\\n\\nTelegram: \\nhttps://t.me/PresidenteAMLO\\n\\nSpotify:\\nhttps://spoti.fi/3QocikN\\n\\n#EnVivo #AMLO',\n",
       " 'thumbnails': {'default': {'url': 'https://i.ytimg.com/vi/nzc-ZmovlR0/default_live.jpg',\n",
       "   'width': 120,\n",
       "   'height': 90},\n",
       "  'medium': {'url': 'https://i.ytimg.com/vi/nzc-ZmovlR0/mqdefault_live.jpg',\n",
       "   'width': 320,\n",
       "   'height': 180},\n",
       "  'high': {'url': 'https://i.ytimg.com/vi/nzc-ZmovlR0/hqdefault_live.jpg',\n",
       "   'width': 480,\n",
       "   'height': 360},\n",
       "  'standard': {'url': 'https://i.ytimg.com/vi/nzc-ZmovlR0/sddefault_live.jpg',\n",
       "   'width': 640,\n",
       "   'height': 480},\n",
       "  'maxres': {'url': 'https://i.ytimg.com/vi/nzc-ZmovlR0/maxresdefault_live.jpg',\n",
       "   'width': 1280,\n",
       "   'height': 720}},\n",
       " 'channelTitle': 'Andrés Manuel López Obrador',\n",
       " 'playlistId': 'PLRnlRGar-_296KTsVL0R6MEbpwJzD8ppA',\n",
       " 'position': 0,\n",
       " 'resourceId': {'kind': 'youtube#video', 'videoId': 'nzc-ZmovlR0'},\n",
       " 'videoOwnerChannelTitle': 'Andrés Manuel López Obrador',\n",
       " 'videoOwnerChannelId': 'UCxEgOKuI-n-WOJaNcisHvSg'}"
      ]
     },
     "execution_count": 503,
     "metadata": {},
     "output_type": "execute_result"
    }
   ],
   "source": [
    "playlists_items[0]['snippet']"
   ]
  },
  {
   "attachments": {},
   "cell_type": "markdown",
   "metadata": {},
   "source": [
    "Extraeremos sólo la información necesaria para hacer el entrenamiento. Estos datos son: título, descripción y la fecha de publicación"
   ]
  },
  {
   "cell_type": "code",
   "execution_count": 504,
   "metadata": {},
   "outputs": [
    {
     "name": "stdout",
     "output_type": "stream",
     "text": [
      "              published_at                                              title   \n",
      "0     2023-05-12T03:54:24Z  Conferencia de prensa en vivo, desde Palacio N...  \\\n",
      "1     2023-05-11T12:44:34Z  Sueldos de magistrados y jueces deben bajar pa...   \n",
      "2     2023-05-10T12:50:23Z  Homenaje a las madres de México en su día. Con...   \n",
      "3     2023-05-09T12:47:41Z  Fin de la emergencia sanitaria por COVID-19 en...   \n",
      "4     2023-05-08T12:45:24Z  Primer convoy del Tren Maya llegará el 8 de ju...   \n",
      "...                    ...                                                ...   \n",
      "1094  2019-03-08T21:59:25Z  Conferencia matutina: Avances del Gabinete de ...   \n",
      "1095  2019-03-08T21:59:25Z  Hoy anunciamos la terna de candidatos a minist...   \n",
      "1096  2019-03-08T21:59:25Z  Tercera conferencia de prensa matutina desde P...   \n",
      "1097  2019-03-08T21:59:25Z     Diálogo con periodistas desde Palacio Nacional   \n",
      "1098  2019-03-08T21:59:25Z  Primera conferencia de prensa matutina desde P...   \n",
      "\n",
      "                                            description  \n",
      "0     Conferencia de prensa matutina, desde Palacio ...  \n",
      "1     Conferencia de prensa matutina, desde Palacio ...  \n",
      "2     Conferencia de prensa matutina, desde Palacio ...  \n",
      "3     Conferencia de prensa matutina, desde Palacio ...  \n",
      "4     Conferencia de prensa matutina, desde Palacio ...  \n",
      "...                                                 ...  \n",
      "1094  Conferencia de prensa matutina, desde Palacio ...  \n",
      "1095  Cuarta conferencia de prensa matutina desde el...  \n",
      "1096  Tercera conferencia de prensa matutina desde e...  \n",
      "1097  Segunda conferencia de prensa matutina del pre...  \n",
      "1098  Andrés Manuel López Obrador ofrece su primera ...  \n",
      "\n",
      "[1099 rows x 3 columns]\n"
     ]
    }
   ],
   "source": [
    "\n",
    "data = []\n",
    "\n",
    "for item in playlists_items:\n",
    "    snippet = item['snippet']\n",
    "    published_at = snippet['publishedAt']\n",
    "    title = snippet['title']\n",
    "    description = snippet['description']\n",
    "    \n",
    "    data.append([published_at, title, description])\n",
    "    \n",
    "df = pd.DataFrame(data, columns=['published_at', 'title', 'description'])\n",
    "df = df.head(1099)\n",
    "\n",
    "print(df)\n"
   ]
  },
  {
   "attachments": {},
   "cell_type": "markdown",
   "metadata": {},
   "source": [
    "## Una primera limpieza"
   ]
  },
  {
   "attachments": {},
   "cell_type": "markdown",
   "metadata": {},
   "source": [
    "Los datos que llegan de la API están contaminados con información como minutos de YouTube en formato <code>00:00</code>, links, saltos de línea <code>\\n</code> y palabras específicas como nombres redes sociales o frases que no aportan nada.\n",
    "Para mejor ejemplo, tomemos un elemento."
   ]
  },
  {
   "cell_type": "code",
   "execution_count": 505,
   "metadata": {},
   "outputs": [
    {
     "data": {
      "text/plain": [
       "'Conferencia de prensa matutina, desde Palacio Nacional. Miércoles 14 de abril 2021 | Presidente AMLO.\\n\\n0:00 Inicio de transmisión\\n20:42 Comienza la conferencia de prensa del presidente Andrés Manuel López Obrador\\n\\nDecidimos reforzar la vigilancia en la frontera sur del país con el objetivo de garantizar la seguridad e integridad de las y los niños migrantes. Al ordenar el flujo de personas prevenimos situaciones que ponen en riesgo la vida de los menores y actuamos en congruencia con nuestra convicción de defensa de los derechos humanos. \\n\\nEs muy doloroso que usen a niñas y niños porque si un adulto va acompañado de uno, tiene más posibilidades de obtener la residencia en Estados Unidos. Si detrás de esto hay traficantes que cobran por pasar indocumentados, no podemos permitirlo. \\n\\nLa próxima semana nos reuniremos con gobernadores de Chiapas, Tabasco, Campeche y Quintana Roo y autoridades municipales de la zona fronteriza a fin de fortalecer las acciones dedicadas al cuidado de menores en tránsito. \\n\\nLa titular del Sistema Nacional para el Desarrollo Integral de la Familia (DIF), María del Rocío García Pérez, se encuentra en Tapachula, Chiapas, atendiendo la crisis migratoria.\\n\\nDe acuerdo con información del Gabinete de Seguridad, el pasado martes elementos de la Guardia Nacional efectuaron el rescate de 131 migrantes hondureños y 18 guatemaltecos en Tuxtla Gutiérrez, Chiapas; 28 de ellos eran menores de edad. \\n\\nEl conductor, su acompañante y el vehículo en el que trataban de trasladarlos ilegalmente fueron puestos a disposición de la autoridad y se abrió la carpeta de investigación 009/2021. \\n\\nReafirmamos que la atención al fenómeno migratorio debe darse a través de oportunidades de desarrollo y no con medidas coercitivas. \\n\\nPor parte de México, anualmente se invierten mil 200 millones de dólares en la implementación de Sembrando Vida, programa de reforestación y empleo, en Centroamérica y en el sureste de México con el propósito frenar la migración obligatoria. Actualmente hay más de 400 mil trabajadores del campo inscritos.\\n\\nEsperamos que pronto se cumpla el compromiso del presidente de Estados Unidos, Joseph Biden, sobre la regularización de 11 millones de migrantes que viven y trabajan en ese país desde hace tiempo.\\n\\nCelebramos la fusión entre Televisa y Univisión. De conformidad con las leyes fiscales, por esta operación se pagarán varios miles de millones de pesos de impuestos a la Hacienda pública.\\n\\nMás información: https://bit.ly/32dP5cD \\n\\nSigue las actividades del presidente de México: \\n\\nSitio web:\\nhttp://presidente.gob.mx\\n\\nYouTube:\\nhttps://www.youtube.com/lopezobrador\\n\\nFacebook:\\nhttps://facebook.com/lopezobrador.org.mx\\n\\nTwitter:\\nhttps://twitter.com/lopezobrador_\\n\\nInstagram:\\nhttps://www.instagram.com/lopezobrador/\\n\\nTelegram: \\nhttps://t.me/PresidenteAMLO\\n\\nSpotify:\\nhttps://spoti.fi/2C7jUmx'"
      ]
     },
     "execution_count": 505,
     "metadata": {},
     "output_type": "execute_result"
    }
   ],
   "source": [
    "df['description'][500]"
   ]
  },
  {
   "attachments": {},
   "cell_type": "markdown",
   "metadata": {},
   "source": [
    "Declararemos una serie de funciones que utilizarán regex para limpiar esta basura."
   ]
  },
  {
   "cell_type": "code",
   "execution_count": 506,
   "metadata": {},
   "outputs": [],
   "source": [
    "def replace_patterns(row, patterns):\n",
    "    text = row['description']\n",
    "    for pattern, replacement in patterns.items():\n",
    "        regex = re.compile(pattern, re.IGNORECASE | re.DOTALL)\n",
    "        text = regex.sub(replacement, text)\n",
    "    return text\n"
   ]
  },
  {
   "cell_type": "code",
   "execution_count": 507,
   "metadata": {},
   "outputs": [],
   "source": [
    "def remove_beginning(string):\n",
    "    pattern = r'Conferencia de prensa (matutina|en vivo),?( desde (\\b\\w+\\b,?\\s)?(\\b\\w+\\b\\s)?\\b\\w+\\b)\\. \\b(Lunes|Martes|Miércoles|Jueves|Viernes|Sábado|Domingo)\\b [0-3]?[0-9] de \\b(enero|febrero|marzo|abril|mayo|junio|julio|agosto|septiembre|octubre|noviembre|diciembre)\\b 20[0-9][0-9]\\.?'\n",
    "    replace_with = ''\n",
    "    return re.sub(pattern, replace_with, string)"
   ]
  },
  {
   "cell_type": "code",
   "execution_count": 508,
   "metadata": {},
   "outputs": [],
   "source": [
    "patterns = {\n",
    "\n",
    "    # Borra palabras clave dentro de la descripción\n",
    "    \"Sigue las actividades del presidente de México:\": \"\",\n",
    "    \"\\s+Más información:\": \"\",\n",
    "    \"Sitio web:\\s+\": \"\",\n",
    "    \"YouTube:\\s+\": \"\",\n",
    "    \"Facebook:\\s+\": \"\",\n",
    "    \"Twitter:\\s+\": \"\",\n",
    "    \"Instagram:\\s+\": \"\",\n",
    "    \"Telegram:\\s+\": \"\",\n",
    "    \"Spotify:\": \"\",\n",
    "    \"#EnVivo\\s+\": \"\",\n",
    "    \"#AMLO\": \"\",\n",
    "    \n",
    "    # Borrar separadores\n",
    "    \"\\|\": \"\", \n",
    "\n",
    "    # Borra el inicio la mención del presidente\n",
    "    \"Presidente AMLO.\": \"\",\n",
    "\n",
    "    # Borra saltos de línea:\n",
    "    \"\\n\": \" \", \n",
    "\n",
    "    # Borra los saltos a minutos en YouTube:\n",
    "    \"[0-9]?[0-9]:[0-9][0-9]\": \"\", \n",
    "\n",
    "    # Borra cualquier link de internet:\n",
    "    \"http(s)?://[a-zA-Z0-9./?=_-]+\": \"\",\n",
    "\n",
    "    # Borra la el inicio de la transmisión\n",
    "    \"Inicio de transmisión\": \"\",\n",
    "    \"Comienza la conferencia de prensa del presidente Andrés Manuel López Obrador\": \"\",\n",
    "\n",
    "\n",
    "    \"  +\": \" \"\n",
    "\n",
    "}   "
   ]
  },
  {
   "attachments": {},
   "cell_type": "markdown",
   "metadata": {},
   "source": [
    "Aplicamos las funciones y vemos los resultados"
   ]
  },
  {
   "cell_type": "code",
   "execution_count": 509,
   "metadata": {},
   "outputs": [],
   "source": [
    "df['description'] = df.apply(replace_patterns, patterns=patterns, axis=1).apply(remove_beginning)"
   ]
  },
  {
   "cell_type": "code",
   "execution_count": 510,
   "metadata": {},
   "outputs": [
    {
     "data": {
      "text/plain": [
       "' Decidimos reforzar la vigilancia en la frontera sur del país con el objetivo de garantizar la seguridad e integridad de las y los niños migrantes. Al ordenar el flujo de personas prevenimos situaciones que ponen en riesgo la vida de los menores y actuamos en congruencia con nuestra convicción de defensa de los derechos humanos. Es muy doloroso que usen a niñas y niños porque si un adulto va acompañado de uno, tiene más posibilidades de obtener la residencia en Estados Unidos. Si detrás de esto hay traficantes que cobran por pasar indocumentados, no podemos permitirlo. La próxima semana nos reuniremos con gobernadores de Chiapas, Tabasco, Campeche y Quintana Roo y autoridades municipales de la zona fronteriza a fin de fortalecer las acciones dedicadas al cuidado de menores en tránsito. La titular del Sistema Nacional para el Desarrollo Integral de la Familia (DIF), María del Rocío García Pérez, se encuentra en Tapachula, Chiapas, atendiendo la crisis migratoria. De acuerdo con información del Gabinete de Seguridad, el pasado martes elementos de la Guardia Nacional efectuaron el rescate de 131 migrantes hondureños y 18 guatemaltecos en Tuxtla Gutiérrez, Chiapas; 28 de ellos eran menores de edad. El conductor, su acompañante y el vehículo en el que trataban de trasladarlos ilegalmente fueron puestos a disposición de la autoridad y se abrió la carpeta de investigación 009/2021. Reafirmamos que la atención al fenómeno migratorio debe darse a través de oportunidades de desarrollo y no con medidas coercitivas. Por parte de México, anualmente se invierten mil 200 millones de dólares en la implementación de Sembrando Vida, programa de reforestación y empleo, en Centroamérica y en el sureste de México con el propósito frenar la migración obligatoria. Actualmente hay más de 400 mil trabajadores del campo inscritos. Esperamos que pronto se cumpla el compromiso del presidente de Estados Unidos, Joseph Biden, sobre la regularización de 11 millones de migrantes que viven y trabajan en ese país desde hace tiempo. Celebramos la fusión entre Televisa y Univisión. De conformidad con las leyes fiscales, por esta operación se pagarán varios miles de millones de pesos de impuestos a la Hacienda pública. '"
      ]
     },
     "execution_count": 510,
     "metadata": {},
     "output_type": "execute_result"
    }
   ],
   "source": [
    "df['description'][500]"
   ]
  },
  {
   "attachments": {},
   "cell_type": "markdown",
   "metadata": {},
   "source": [
    "## Separación por semana"
   ]
  },
  {
   "attachments": {},
   "cell_type": "markdown",
   "metadata": {},
   "source": [
    "Ahora necesitamos separar por semana, es decir, juntar todas las descripciones de una semana. De esta manera cada renglón del dataframe reprensentará una semana en específico.\n",
    "Lo primero que debemos hacer es limpiar el apartado de la fecha y convertirlo a datetime."
   ]
  },
  {
   "cell_type": "code",
   "execution_count": 511,
   "metadata": {},
   "outputs": [
    {
     "data": {
      "text/plain": [
       "0       2023-05-12T03:54:24Z\n",
       "1       2023-05-11T12:44:34Z\n",
       "2       2023-05-10T12:50:23Z\n",
       "3       2023-05-09T12:47:41Z\n",
       "4       2023-05-08T12:45:24Z\n",
       "                ...         \n",
       "1094    2019-03-08T21:59:25Z\n",
       "1095    2019-03-08T21:59:25Z\n",
       "1096    2019-03-08T21:59:25Z\n",
       "1097    2019-03-08T21:59:25Z\n",
       "1098    2019-03-08T21:59:25Z\n",
       "Name: published_at, Length: 1099, dtype: object"
      ]
     },
     "execution_count": 511,
     "metadata": {},
     "output_type": "execute_result"
    }
   ],
   "source": [
    "df['published_at']"
   ]
  },
  {
   "attachments": {},
   "cell_type": "markdown",
   "metadata": {},
   "source": [
    "Lo que se haces es: tomar los primeros 10 digitos de cada elemento de la columna y convertirlo al tipo datetime con la función <code>datetime.strptime</code>. Son los primeros 10 digitos porque son los que representan la fecha de ese día, no nos importan las horas, minutos o segundos así que lo descartamos"
   ]
  },
  {
   "cell_type": "code",
   "execution_count": 512,
   "metadata": {},
   "outputs": [],
   "source": [
    "clean_dates = []\n",
    "\n",
    "for dates in df['published_at']:\n",
    "    clean_dates.append( datetime.strptime(dates[:10], '%Y-%m-%d') )\n",
    "df['clean_dates'] = clean_dates"
   ]
  },
  {
   "cell_type": "code",
   "execution_count": 513,
   "metadata": {},
   "outputs": [],
   "source": [
    "df = df.drop('published_at', axis=1) # Ahorra borramos las fechas que no nos sirven"
   ]
  },
  {
   "cell_type": "code",
   "execution_count": 514,
   "metadata": {},
   "outputs": [],
   "source": [
    "df['clean_dates'] = pd.to_datetime(df['clean_dates'])"
   ]
  },
  {
   "attachments": {},
   "cell_type": "markdown",
   "metadata": {},
   "source": [
    "Ya tenemos los datos como fechas tipo <code>datetime</code>"
   ]
  },
  {
   "cell_type": "code",
   "execution_count": 515,
   "metadata": {},
   "outputs": [
    {
     "data": {
      "text/html": [
       "<div>\n",
       "<style scoped>\n",
       "    .dataframe tbody tr th:only-of-type {\n",
       "        vertical-align: middle;\n",
       "    }\n",
       "\n",
       "    .dataframe tbody tr th {\n",
       "        vertical-align: top;\n",
       "    }\n",
       "\n",
       "    .dataframe thead th {\n",
       "        text-align: right;\n",
       "    }\n",
       "</style>\n",
       "<table border=\"1\" class=\"dataframe\">\n",
       "  <thead>\n",
       "    <tr style=\"text-align: right;\">\n",
       "      <th></th>\n",
       "      <th>title</th>\n",
       "      <th>description</th>\n",
       "      <th>clean_dates</th>\n",
       "    </tr>\n",
       "  </thead>\n",
       "  <tbody>\n",
       "    <tr>\n",
       "      <th>0</th>\n",
       "      <td>Conferencia de prensa en vivo, desde Palacio N...</td>\n",
       "      <td></td>\n",
       "      <td>2023-05-12</td>\n",
       "    </tr>\n",
       "    <tr>\n",
       "      <th>1</th>\n",
       "      <td>Sueldos de magistrados y jueces deben bajar pa...</td>\n",
       "      <td>Fomento al deporte a través del Programa de M...</td>\n",
       "      <td>2023-05-11</td>\n",
       "    </tr>\n",
       "    <tr>\n",
       "      <th>2</th>\n",
       "      <td>Homenaje a las madres de México en su día. Con...</td>\n",
       "      <td>Reporte sobre noticias falsas Sesión de pregu...</td>\n",
       "      <td>2023-05-10</td>\n",
       "    </tr>\n",
       "    <tr>\n",
       "      <th>3</th>\n",
       "      <td>Fin de la emergencia sanitaria por COVID-19 en...</td>\n",
       "      <td>:07 Anuncio del fin de la emergencia sanitari...</td>\n",
       "      <td>2023-05-09</td>\n",
       "    </tr>\n",
       "    <tr>\n",
       "      <th>4</th>\n",
       "      <td>Primer convoy del Tren Maya llegará el 8 de ju...</td>\n",
       "      <td>Comparativo de marcas y precios de combustibl...</td>\n",
       "      <td>2023-05-08</td>\n",
       "    </tr>\n",
       "    <tr>\n",
       "      <th>...</th>\n",
       "      <td>...</td>\n",
       "      <td>...</td>\n",
       "      <td>...</td>\n",
       "    </tr>\n",
       "    <tr>\n",
       "      <th>1094</th>\n",
       "      <td>Conferencia matutina: Avances del Gabinete de ...</td>\n",
       "      <td>Hoy destacamos la conformación de un sistema ...</td>\n",
       "      <td>2019-03-08</td>\n",
       "    </tr>\n",
       "    <tr>\n",
       "      <th>1095</th>\n",
       "      <td>Hoy anunciamos la terna de candidatos a minist...</td>\n",
       "      <td>Cuarta conferencia de prensa matutina desde el...</td>\n",
       "      <td>2019-03-08</td>\n",
       "    </tr>\n",
       "    <tr>\n",
       "      <th>1096</th>\n",
       "      <td>Tercera conferencia de prensa matutina desde P...</td>\n",
       "      <td>Tercera conferencia de prensa matutina desde e...</td>\n",
       "      <td>2019-03-08</td>\n",
       "    </tr>\n",
       "    <tr>\n",
       "      <th>1097</th>\n",
       "      <td>Diálogo con periodistas desde Palacio Nacional</td>\n",
       "      <td>Segunda conferencia de prensa matutina del pre...</td>\n",
       "      <td>2019-03-08</td>\n",
       "    </tr>\n",
       "    <tr>\n",
       "      <th>1098</th>\n",
       "      <td>Primera conferencia de prensa matutina desde P...</td>\n",
       "      <td>Andrés Manuel López Obrador ofrece su primera ...</td>\n",
       "      <td>2019-03-08</td>\n",
       "    </tr>\n",
       "  </tbody>\n",
       "</table>\n",
       "<p>1099 rows × 3 columns</p>\n",
       "</div>"
      ],
      "text/plain": [
       "                                                  title   \n",
       "0     Conferencia de prensa en vivo, desde Palacio N...  \\\n",
       "1     Sueldos de magistrados y jueces deben bajar pa...   \n",
       "2     Homenaje a las madres de México en su día. Con...   \n",
       "3     Fin de la emergencia sanitaria por COVID-19 en...   \n",
       "4     Primer convoy del Tren Maya llegará el 8 de ju...   \n",
       "...                                                 ...   \n",
       "1094  Conferencia matutina: Avances del Gabinete de ...   \n",
       "1095  Hoy anunciamos la terna de candidatos a minist...   \n",
       "1096  Tercera conferencia de prensa matutina desde P...   \n",
       "1097     Diálogo con periodistas desde Palacio Nacional   \n",
       "1098  Primera conferencia de prensa matutina desde P...   \n",
       "\n",
       "                                            description clean_dates  \n",
       "0                                                        2023-05-12  \n",
       "1      Fomento al deporte a través del Programa de M...  2023-05-11  \n",
       "2      Reporte sobre noticias falsas Sesión de pregu...  2023-05-10  \n",
       "3      :07 Anuncio del fin de la emergencia sanitari...  2023-05-09  \n",
       "4      Comparativo de marcas y precios de combustibl...  2023-05-08  \n",
       "...                                                 ...         ...  \n",
       "1094   Hoy destacamos la conformación de un sistema ...  2019-03-08  \n",
       "1095  Cuarta conferencia de prensa matutina desde el...  2019-03-08  \n",
       "1096  Tercera conferencia de prensa matutina desde e...  2019-03-08  \n",
       "1097  Segunda conferencia de prensa matutina del pre...  2019-03-08  \n",
       "1098  Andrés Manuel López Obrador ofrece su primera ...  2019-03-08  \n",
       "\n",
       "[1099 rows x 3 columns]"
      ]
     },
     "execution_count": 515,
     "metadata": {},
     "output_type": "execute_result"
    }
   ],
   "source": [
    "df"
   ]
  },
  {
   "cell_type": "code",
   "execution_count": 516,
   "metadata": {},
   "outputs": [
    {
     "data": {
      "text/plain": [
       "0      2023-05-12\n",
       "1      2023-05-11\n",
       "2      2023-05-10\n",
       "3      2023-05-09\n",
       "4      2023-05-08\n",
       "          ...    \n",
       "1094   2019-03-08\n",
       "1095   2019-03-08\n",
       "1096   2019-03-08\n",
       "1097   2019-03-08\n",
       "1098   2019-03-08\n",
       "Name: clean_dates, Length: 1099, dtype: datetime64[ns]"
      ]
     },
     "execution_count": 516,
     "metadata": {},
     "output_type": "execute_result"
    }
   ],
   "source": [
    "df['clean_dates']"
   ]
  },
  {
   "attachments": {},
   "cell_type": "markdown",
   "metadata": {},
   "source": [
    "La mejor manera de manipular datos con fechas es creando una serie de tiempo, para estos se utiliza la libería <code>datetime</code>. Convertimos el Data Frame en una serie de tiempo con <code>pd.set_index</code>.\n",
    "De esta manera las fechas ahora serán los índices de el dataframe"
   ]
  },
  {
   "cell_type": "code",
   "execution_count": 517,
   "metadata": {},
   "outputs": [],
   "source": [
    "df.set_index('clean_dates', inplace=True)"
   ]
  },
  {
   "cell_type": "code",
   "execution_count": 518,
   "metadata": {},
   "outputs": [
    {
     "data": {
      "text/html": [
       "<div>\n",
       "<style scoped>\n",
       "    .dataframe tbody tr th:only-of-type {\n",
       "        vertical-align: middle;\n",
       "    }\n",
       "\n",
       "    .dataframe tbody tr th {\n",
       "        vertical-align: top;\n",
       "    }\n",
       "\n",
       "    .dataframe thead th {\n",
       "        text-align: right;\n",
       "    }\n",
       "</style>\n",
       "<table border=\"1\" class=\"dataframe\">\n",
       "  <thead>\n",
       "    <tr style=\"text-align: right;\">\n",
       "      <th></th>\n",
       "      <th>title</th>\n",
       "      <th>description</th>\n",
       "    </tr>\n",
       "    <tr>\n",
       "      <th>clean_dates</th>\n",
       "      <th></th>\n",
       "      <th></th>\n",
       "    </tr>\n",
       "  </thead>\n",
       "  <tbody>\n",
       "    <tr>\n",
       "      <th>2023-05-12</th>\n",
       "      <td>Conferencia de prensa en vivo, desde Palacio N...</td>\n",
       "      <td></td>\n",
       "    </tr>\n",
       "    <tr>\n",
       "      <th>2023-05-11</th>\n",
       "      <td>Sueldos de magistrados y jueces deben bajar pa...</td>\n",
       "      <td>Fomento al deporte a través del Programa de M...</td>\n",
       "    </tr>\n",
       "    <tr>\n",
       "      <th>2023-05-10</th>\n",
       "      <td>Homenaje a las madres de México en su día. Con...</td>\n",
       "      <td>Reporte sobre noticias falsas Sesión de pregu...</td>\n",
       "    </tr>\n",
       "    <tr>\n",
       "      <th>2023-05-09</th>\n",
       "      <td>Fin de la emergencia sanitaria por COVID-19 en...</td>\n",
       "      <td>:07 Anuncio del fin de la emergencia sanitari...</td>\n",
       "    </tr>\n",
       "    <tr>\n",
       "      <th>2023-05-08</th>\n",
       "      <td>Primer convoy del Tren Maya llegará el 8 de ju...</td>\n",
       "      <td>Comparativo de marcas y precios de combustibl...</td>\n",
       "    </tr>\n",
       "    <tr>\n",
       "      <th>...</th>\n",
       "      <td>...</td>\n",
       "      <td>...</td>\n",
       "    </tr>\n",
       "    <tr>\n",
       "      <th>2019-03-08</th>\n",
       "      <td>Conferencia matutina: Avances del Gabinete de ...</td>\n",
       "      <td>Hoy destacamos la conformación de un sistema ...</td>\n",
       "    </tr>\n",
       "    <tr>\n",
       "      <th>2019-03-08</th>\n",
       "      <td>Hoy anunciamos la terna de candidatos a minist...</td>\n",
       "      <td>Cuarta conferencia de prensa matutina desde el...</td>\n",
       "    </tr>\n",
       "    <tr>\n",
       "      <th>2019-03-08</th>\n",
       "      <td>Tercera conferencia de prensa matutina desde P...</td>\n",
       "      <td>Tercera conferencia de prensa matutina desde e...</td>\n",
       "    </tr>\n",
       "    <tr>\n",
       "      <th>2019-03-08</th>\n",
       "      <td>Diálogo con periodistas desde Palacio Nacional</td>\n",
       "      <td>Segunda conferencia de prensa matutina del pre...</td>\n",
       "    </tr>\n",
       "    <tr>\n",
       "      <th>2019-03-08</th>\n",
       "      <td>Primera conferencia de prensa matutina desde P...</td>\n",
       "      <td>Andrés Manuel López Obrador ofrece su primera ...</td>\n",
       "    </tr>\n",
       "  </tbody>\n",
       "</table>\n",
       "<p>1099 rows × 2 columns</p>\n",
       "</div>"
      ],
      "text/plain": [
       "                                                         title   \n",
       "clean_dates                                                      \n",
       "2023-05-12   Conferencia de prensa en vivo, desde Palacio N...  \\\n",
       "2023-05-11   Sueldos de magistrados y jueces deben bajar pa...   \n",
       "2023-05-10   Homenaje a las madres de México en su día. Con...   \n",
       "2023-05-09   Fin de la emergencia sanitaria por COVID-19 en...   \n",
       "2023-05-08   Primer convoy del Tren Maya llegará el 8 de ju...   \n",
       "...                                                        ...   \n",
       "2019-03-08   Conferencia matutina: Avances del Gabinete de ...   \n",
       "2019-03-08   Hoy anunciamos la terna de candidatos a minist...   \n",
       "2019-03-08   Tercera conferencia de prensa matutina desde P...   \n",
       "2019-03-08      Diálogo con periodistas desde Palacio Nacional   \n",
       "2019-03-08   Primera conferencia de prensa matutina desde P...   \n",
       "\n",
       "                                                   description  \n",
       "clean_dates                                                     \n",
       "2023-05-12                                                      \n",
       "2023-05-11    Fomento al deporte a través del Programa de M...  \n",
       "2023-05-10    Reporte sobre noticias falsas Sesión de pregu...  \n",
       "2023-05-09    :07 Anuncio del fin de la emergencia sanitari...  \n",
       "2023-05-08    Comparativo de marcas y precios de combustibl...  \n",
       "...                                                        ...  \n",
       "2019-03-08    Hoy destacamos la conformación de un sistema ...  \n",
       "2019-03-08   Cuarta conferencia de prensa matutina desde el...  \n",
       "2019-03-08   Tercera conferencia de prensa matutina desde e...  \n",
       "2019-03-08   Segunda conferencia de prensa matutina del pre...  \n",
       "2019-03-08   Andrés Manuel López Obrador ofrece su primera ...  \n",
       "\n",
       "[1099 rows x 2 columns]"
      ]
     },
     "execution_count": 518,
     "metadata": {},
     "output_type": "execute_result"
    }
   ],
   "source": [
    "df"
   ]
  },
  {
   "cell_type": "code",
   "execution_count": 519,
   "metadata": {},
   "outputs": [],
   "source": [
    "df['description'].to_csv('dataframe.csv')"
   ]
  },
  {
   "cell_type": "code",
   "execution_count": 520,
   "metadata": {},
   "outputs": [
    {
     "data": {
      "text/html": [
       "<div>\n",
       "<style scoped>\n",
       "    .dataframe tbody tr th:only-of-type {\n",
       "        vertical-align: middle;\n",
       "    }\n",
       "\n",
       "    .dataframe tbody tr th {\n",
       "        vertical-align: top;\n",
       "    }\n",
       "\n",
       "    .dataframe thead th {\n",
       "        text-align: right;\n",
       "    }\n",
       "</style>\n",
       "<table border=\"1\" class=\"dataframe\">\n",
       "  <thead>\n",
       "    <tr style=\"text-align: right;\">\n",
       "      <th></th>\n",
       "      <th>title</th>\n",
       "      <th>description</th>\n",
       "    </tr>\n",
       "    <tr>\n",
       "      <th>clean_dates</th>\n",
       "      <th></th>\n",
       "      <th></th>\n",
       "    </tr>\n",
       "  </thead>\n",
       "  <tbody>\n",
       "    <tr>\n",
       "      <th>2019-03-10</th>\n",
       "      <td>Presidente AMLO llama a terminar con feminicid...</td>\n",
       "      <td>Hoy conmemoramos la lucha de las mujeres por ...</td>\n",
       "    </tr>\n",
       "    <tr>\n",
       "      <th>2019-03-17</th>\n",
       "      <td>Reformas constitucionales aprobadas representa...</td>\n",
       "      <td>Hoy dimos a conocer el análisis de la recient...</td>\n",
       "    </tr>\n",
       "    <tr>\n",
       "      <th>2019-03-24</th>\n",
       "      <td>Presidente firma compromiso de no reelección; ...</td>\n",
       "      <td>Hoy dimos a conocer que ya firmamos la carta ...</td>\n",
       "    </tr>\n",
       "    <tr>\n",
       "      <th>2019-03-31</th>\n",
       "      <td>Acciones para mejorar protección a defensores ...</td>\n",
       "      <td>Hoy informamos sobre las acciones para mejora...</td>\n",
       "    </tr>\n",
       "    <tr>\n",
       "      <th>2019-04-07</th>\n",
       "      <td>Avanza entrega de apoyos de 'Programas Integra...</td>\n",
       "      <td>En el Gobierno de México avanzamos con entusi...</td>\n",
       "    </tr>\n",
       "    <tr>\n",
       "      <th>...</th>\n",
       "      <td>...</td>\n",
       "      <td>...</td>\n",
       "    </tr>\n",
       "    <tr>\n",
       "      <th>2023-04-16</th>\n",
       "      <td>Avanza instalación de doble vía electrificada ...</td>\n",
       "      <td>Comparativo de marcas y precios de combustibl...</td>\n",
       "    </tr>\n",
       "    <tr>\n",
       "      <th>2023-04-23</th>\n",
       "      <td>Avance mayor al 60 por ciento en obras del tra...</td>\n",
       "      <td>Comparativo de marcas y precios de combustibl...</td>\n",
       "    </tr>\n",
       "    <tr>\n",
       "      <th>2023-04-30</th>\n",
       "      <td>Conferencia de prensa matutina desde Palacio N...</td>\n",
       "      <td>Comparativo de marcas y precios de combustibl...</td>\n",
       "    </tr>\n",
       "    <tr>\n",
       "      <th>2023-05-07</th>\n",
       "      <td>Tarjeta Finabien para mexicanos en Estados Uni...</td>\n",
       "      <td>Comparativo de marcas y precios de combustibl...</td>\n",
       "    </tr>\n",
       "    <tr>\n",
       "      <th>2023-05-14</th>\n",
       "      <td>Primer convoy del Tren Maya llegará el 8 de ju...</td>\n",
       "      <td>Comparativo de marcas y precios de combustibl...</td>\n",
       "    </tr>\n",
       "  </tbody>\n",
       "</table>\n",
       "<p>219 rows × 2 columns</p>\n",
       "</div>"
      ],
      "text/plain": [
       "                                                         title   \n",
       "clean_dates                                                      \n",
       "2019-03-10   Presidente AMLO llama a terminar con feminicid...  \\\n",
       "2019-03-17   Reformas constitucionales aprobadas representa...   \n",
       "2019-03-24   Presidente firma compromiso de no reelección; ...   \n",
       "2019-03-31   Acciones para mejorar protección a defensores ...   \n",
       "2019-04-07   Avanza entrega de apoyos de 'Programas Integra...   \n",
       "...                                                        ...   \n",
       "2023-04-16   Avanza instalación de doble vía electrificada ...   \n",
       "2023-04-23   Avance mayor al 60 por ciento en obras del tra...   \n",
       "2023-04-30   Conferencia de prensa matutina desde Palacio N...   \n",
       "2023-05-07   Tarjeta Finabien para mexicanos en Estados Uni...   \n",
       "2023-05-14   Primer convoy del Tren Maya llegará el 8 de ju...   \n",
       "\n",
       "                                                   description  \n",
       "clean_dates                                                     \n",
       "2019-03-10    Hoy conmemoramos la lucha de las mujeres por ...  \n",
       "2019-03-17    Hoy dimos a conocer el análisis de la recient...  \n",
       "2019-03-24    Hoy dimos a conocer que ya firmamos la carta ...  \n",
       "2019-03-31    Hoy informamos sobre las acciones para mejora...  \n",
       "2019-04-07    En el Gobierno de México avanzamos con entusi...  \n",
       "...                                                        ...  \n",
       "2023-04-16    Comparativo de marcas y precios de combustibl...  \n",
       "2023-04-23    Comparativo de marcas y precios de combustibl...  \n",
       "2023-04-30    Comparativo de marcas y precios de combustibl...  \n",
       "2023-05-07    Comparativo de marcas y precios de combustibl...  \n",
       "2023-05-14    Comparativo de marcas y precios de combustibl...  \n",
       "\n",
       "[219 rows x 2 columns]"
      ]
     },
     "execution_count": 520,
     "metadata": {},
     "output_type": "execute_result"
    }
   ],
   "source": [
    "df.resample('W').sum()"
   ]
  },
  {
   "attachments": {},
   "cell_type": "markdown",
   "metadata": {},
   "source": [
    "Ahora le decimos que separe, con respecto a las fechas, semanalmente. De esta manera va a concatenar los contenidos de las descripciones y los títulos."
   ]
  },
  {
   "cell_type": "code",
   "execution_count": 521,
   "metadata": {},
   "outputs": [],
   "source": [
    "weekly_ts = df.resample('W').sum()"
   ]
  },
  {
   "attachments": {},
   "cell_type": "markdown",
   "metadata": {},
   "source": [
    "Se muestra el dataframe"
   ]
  },
  {
   "cell_type": "code",
   "execution_count": 522,
   "metadata": {},
   "outputs": [
    {
     "data": {
      "text/html": [
       "<div>\n",
       "<style scoped>\n",
       "    .dataframe tbody tr th:only-of-type {\n",
       "        vertical-align: middle;\n",
       "    }\n",
       "\n",
       "    .dataframe tbody tr th {\n",
       "        vertical-align: top;\n",
       "    }\n",
       "\n",
       "    .dataframe thead th {\n",
       "        text-align: right;\n",
       "    }\n",
       "</style>\n",
       "<table border=\"1\" class=\"dataframe\">\n",
       "  <thead>\n",
       "    <tr style=\"text-align: right;\">\n",
       "      <th></th>\n",
       "      <th>title</th>\n",
       "      <th>description</th>\n",
       "    </tr>\n",
       "    <tr>\n",
       "      <th>clean_dates</th>\n",
       "      <th></th>\n",
       "      <th></th>\n",
       "    </tr>\n",
       "  </thead>\n",
       "  <tbody>\n",
       "    <tr>\n",
       "      <th>2019-03-10</th>\n",
       "      <td>Presidente AMLO llama a terminar con feminicid...</td>\n",
       "      <td>Hoy conmemoramos la lucha de las mujeres por ...</td>\n",
       "    </tr>\n",
       "    <tr>\n",
       "      <th>2019-03-17</th>\n",
       "      <td>Reformas constitucionales aprobadas representa...</td>\n",
       "      <td>Hoy dimos a conocer el análisis de la recient...</td>\n",
       "    </tr>\n",
       "    <tr>\n",
       "      <th>2019-03-24</th>\n",
       "      <td>Presidente firma compromiso de no reelección; ...</td>\n",
       "      <td>Hoy dimos a conocer que ya firmamos la carta ...</td>\n",
       "    </tr>\n",
       "    <tr>\n",
       "      <th>2019-03-31</th>\n",
       "      <td>Acciones para mejorar protección a defensores ...</td>\n",
       "      <td>Hoy informamos sobre las acciones para mejora...</td>\n",
       "    </tr>\n",
       "    <tr>\n",
       "      <th>2019-04-07</th>\n",
       "      <td>Avanza entrega de apoyos de 'Programas Integra...</td>\n",
       "      <td>En el Gobierno de México avanzamos con entusi...</td>\n",
       "    </tr>\n",
       "    <tr>\n",
       "      <th>...</th>\n",
       "      <td>...</td>\n",
       "      <td>...</td>\n",
       "    </tr>\n",
       "    <tr>\n",
       "      <th>2023-04-16</th>\n",
       "      <td>Avanza instalación de doble vía electrificada ...</td>\n",
       "      <td>Comparativo de marcas y precios de combustibl...</td>\n",
       "    </tr>\n",
       "    <tr>\n",
       "      <th>2023-04-23</th>\n",
       "      <td>Avance mayor al 60 por ciento en obras del tra...</td>\n",
       "      <td>Comparativo de marcas y precios de combustibl...</td>\n",
       "    </tr>\n",
       "    <tr>\n",
       "      <th>2023-04-30</th>\n",
       "      <td>Conferencia de prensa matutina desde Palacio N...</td>\n",
       "      <td>Comparativo de marcas y precios de combustibl...</td>\n",
       "    </tr>\n",
       "    <tr>\n",
       "      <th>2023-05-07</th>\n",
       "      <td>Tarjeta Finabien para mexicanos en Estados Uni...</td>\n",
       "      <td>Comparativo de marcas y precios de combustibl...</td>\n",
       "    </tr>\n",
       "    <tr>\n",
       "      <th>2023-05-14</th>\n",
       "      <td>Primer convoy del Tren Maya llegará el 8 de ju...</td>\n",
       "      <td>Comparativo de marcas y precios de combustibl...</td>\n",
       "    </tr>\n",
       "  </tbody>\n",
       "</table>\n",
       "<p>219 rows × 2 columns</p>\n",
       "</div>"
      ],
      "text/plain": [
       "                                                         title   \n",
       "clean_dates                                                      \n",
       "2019-03-10   Presidente AMLO llama a terminar con feminicid...  \\\n",
       "2019-03-17   Reformas constitucionales aprobadas representa...   \n",
       "2019-03-24   Presidente firma compromiso de no reelección; ...   \n",
       "2019-03-31   Acciones para mejorar protección a defensores ...   \n",
       "2019-04-07   Avanza entrega de apoyos de 'Programas Integra...   \n",
       "...                                                        ...   \n",
       "2023-04-16   Avanza instalación de doble vía electrificada ...   \n",
       "2023-04-23   Avance mayor al 60 por ciento en obras del tra...   \n",
       "2023-04-30   Conferencia de prensa matutina desde Palacio N...   \n",
       "2023-05-07   Tarjeta Finabien para mexicanos en Estados Uni...   \n",
       "2023-05-14   Primer convoy del Tren Maya llegará el 8 de ju...   \n",
       "\n",
       "                                                   description  \n",
       "clean_dates                                                     \n",
       "2019-03-10    Hoy conmemoramos la lucha de las mujeres por ...  \n",
       "2019-03-17    Hoy dimos a conocer el análisis de la recient...  \n",
       "2019-03-24    Hoy dimos a conocer que ya firmamos la carta ...  \n",
       "2019-03-31    Hoy informamos sobre las acciones para mejora...  \n",
       "2019-04-07    En el Gobierno de México avanzamos con entusi...  \n",
       "...                                                        ...  \n",
       "2023-04-16    Comparativo de marcas y precios de combustibl...  \n",
       "2023-04-23    Comparativo de marcas y precios de combustibl...  \n",
       "2023-04-30    Comparativo de marcas y precios de combustibl...  \n",
       "2023-05-07    Comparativo de marcas y precios de combustibl...  \n",
       "2023-05-14    Comparativo de marcas y precios de combustibl...  \n",
       "\n",
       "[219 rows x 2 columns]"
      ]
     },
     "execution_count": 522,
     "metadata": {},
     "output_type": "execute_result"
    }
   ],
   "source": [
    "weekly_ts"
   ]
  },
  {
   "attachments": {},
   "cell_type": "markdown",
   "metadata": {},
   "source": [
    "Ahora se guarda el dataframe en un .txt para que el preprocesamiento pueda llamarlo y utlizarlo"
   ]
  },
  {
   "cell_type": "code",
   "execution_count": 523,
   "metadata": {},
   "outputs": [],
   "source": [
    "weekly_ts['description'].to_csv('mañaneras.csv')"
   ]
  },
  {
   "attachments": {},
   "cell_type": "markdown",
   "metadata": {},
   "source": [
    "Así es como se termina la obtención de datos, ya tenemos nuesto dataframe listo para mandar al preprocesamiento. Como se observó, a los datos se les hizo una primera limpieza, la razón de esto fue para que en el preprocesamiento se hicieran los pasos fundamentales y no pasos extras, como fue este caso de quitar ciertos patrones que estorbaban."
   ]
  }
 ],
 "metadata": {
  "kernelspec": {
   "display_name": "Python 3",
   "language": "python",
   "name": "python3"
  },
  "language_info": {
   "codemirror_mode": {
    "name": "ipython",
    "version": 3
   },
   "file_extension": ".py",
   "mimetype": "text/x-python",
   "name": "python",
   "nbconvert_exporter": "python",
   "pygments_lexer": "ipython3",
   "version": "3.11.2"
  },
  "orig_nbformat": 4
 },
 "nbformat": 4,
 "nbformat_minor": 2
}
