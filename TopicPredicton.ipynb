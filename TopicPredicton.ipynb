{
 "cells": [
  {
   "attachments": {},
   "cell_type": "markdown",
   "metadata": {},
   "source": [
    "## Librerias"
   ]
  },
  {
   "cell_type": "code",
   "execution_count": 2,
   "metadata": {},
   "outputs": [],
   "source": [
    "import pandas as pd\n",
    "import numpy as np\n",
    "import re # expresiones regulares (regex)\n",
    "from nltk.corpus import stopwords\n",
    "from nltk.stem import SnowballStemmer\n",
    "import spacy\n",
    "from sklearn.feature_extraction.text import TfidfVectorizer\n",
    "from nltk.tokenize import TreebankWordTokenizer\n",
    "from sklearn.preprocessing import StandardScaler\n",
    "from sklearn.decomposition import TruncatedSVD\n",
    "import matplotlib.pyplot as plt\n",
    "import seaborn as sns\n",
    "from sklearn.preprocessing import MaxAbsScaler"
   ]
  },
  {
   "attachments": {},
   "cell_type": "markdown",
   "metadata": {},
   "source": [
    "# Preprocesamiento"
   ]
  },
  {
   "attachments": {},
   "cell_type": "markdown",
   "metadata": {},
   "source": [
    "* Eliminamos stopwords\n",
    "* lematizamos\n",
    "* Normalizamos el texto (quitamos mayúsculas y signos de puntuación)\n",
    "* Vectorizamos y hacemos n-gramas\n",
    "* Usamos SVD para ver cuantos topicos pueden tener los documentos"
   ]
  },
  {
   "cell_type": "code",
   "execution_count": 3,
   "metadata": {},
   "outputs": [
    {
     "name": "stdout",
     "output_type": "stream",
     "text": [
      "(1000, 1)\n"
     ]
    },
    {
     "data": {
      "text/html": [
       "<div>\n",
       "<style scoped>\n",
       "    .dataframe tbody tr th:only-of-type {\n",
       "        vertical-align: middle;\n",
       "    }\n",
       "\n",
       "    .dataframe tbody tr th {\n",
       "        vertical-align: top;\n",
       "    }\n",
       "\n",
       "    .dataframe thead th {\n",
       "        text-align: right;\n",
       "    }\n",
       "</style>\n",
       "<table border=\"1\" class=\"dataframe\">\n",
       "  <thead>\n",
       "    <tr style=\"text-align: right;\">\n",
       "      <th></th>\n",
       "      <th>text</th>\n",
       "    </tr>\n",
       "  </thead>\n",
       "  <tbody>\n",
       "    <tr>\n",
       "      <th>0</th>\n",
       "      <td>Angela Merkel ayer en Berlin tras la cumbre te...</td>\n",
       "    </tr>\n",
       "    <tr>\n",
       "      <th>1</th>\n",
       "      <td>\\r\\n\\r\\n\\r\\n\\r\\n\\r\\nEnrique Quemada Clariana\\r...</td>\n",
       "    </tr>\n",
       "    <tr>\n",
       "      <th>2</th>\n",
       "      <td>¿Cuántas veces no ha querido ser su propio jef...</td>\n",
       "    </tr>\n",
       "    <tr>\n",
       "      <th>3</th>\n",
       "      <td>El ministro de Sanidad, Salvador Illa, momento...</td>\n",
       "    </tr>\n",
       "    <tr>\n",
       "      <th>4</th>\n",
       "      <td>El Pleno del Congreso ha aprobado el proyecto ...</td>\n",
       "    </tr>\n",
       "    <tr>\n",
       "      <th>5</th>\n",
       "      <td>Vacunarse de la gripe para aliviar los hospita...</td>\n",
       "    </tr>\n",
       "    <tr>\n",
       "      <th>6</th>\n",
       "      <td>Elon Musk, fundador de Tesla. EFE\\r\\n\\r\\nLa co...</td>\n",
       "    </tr>\n",
       "    <tr>\n",
       "      <th>7</th>\n",
       "      <td>Una usuaria consulta la aplicación de banca ar...</td>\n",
       "    </tr>\n",
       "    <tr>\n",
       "      <th>8</th>\n",
       "      <td>Las consecuencias socioeconómicas de la pandem...</td>\n",
       "    </tr>\n",
       "    <tr>\n",
       "      <th>9</th>\n",
       "      <td>La aerolínea Ryanair anunció este viernes que ...</td>\n",
       "    </tr>\n",
       "  </tbody>\n",
       "</table>\n",
       "</div>"
      ],
      "text/plain": [
       "                                                text\n",
       "0  Angela Merkel ayer en Berlin tras la cumbre te...\n",
       "1  \\r\\n\\r\\n\\r\\n\\r\\n\\r\\nEnrique Quemada Clariana\\r...\n",
       "2  ¿Cuántas veces no ha querido ser su propio jef...\n",
       "3  El ministro de Sanidad, Salvador Illa, momento...\n",
       "4  El Pleno del Congreso ha aprobado el proyecto ...\n",
       "5  Vacunarse de la gripe para aliviar los hospita...\n",
       "6  Elon Musk, fundador de Tesla. EFE\\r\\n\\r\\nLa co...\n",
       "7  Una usuaria consulta la aplicación de banca ar...\n",
       "8  Las consecuencias socioeconómicas de la pandem...\n",
       "9  La aerolínea Ryanair anunció este viernes que ..."
      ]
     },
     "execution_count": 3,
     "metadata": {},
     "output_type": "execute_result"
    }
   ],
   "source": [
    "# Archivo npr.csv es para hacer pruebas\n",
    "\n",
    "df = pd.read_csv('noticias-economicas-sample.csv')\n",
    "\n",
    "textoPrueba = df[['text']].copy() # Pongo .copy() porque cuando intentas \n",
    "                                  # quitar las stopwords sale un warning.\n",
    "textoPrueba = textoPrueba.head(1000)\n",
    "\n",
    "print(textoPrueba.shape)\n",
    "textoPrueba.head(10)"
   ]
  },
  {
   "attachments": {},
   "cell_type": "markdown",
   "metadata": {},
   "source": [
    "Eliminamos stopwords"
   ]
  },
  {
   "cell_type": "code",
   "execution_count": 4,
   "metadata": {},
   "outputs": [],
   "source": [
    "# Función para eliminar stopwords en español\n",
    "\n",
    "def noStopwords(text):\n",
    "    \n",
    "    sw_es = set(stopwords.words('spanish'))\n",
    "\n",
    "    text = ' '.join([word for word in text.split() if word.lower() not in sw_es])\n",
    "    \n",
    "    return text\n"
   ]
  },
  {
   "cell_type": "code",
   "execution_count": 5,
   "metadata": {},
   "outputs": [
    {
     "data": {
      "text/html": [
       "<div>\n",
       "<style scoped>\n",
       "    .dataframe tbody tr th:only-of-type {\n",
       "        vertical-align: middle;\n",
       "    }\n",
       "\n",
       "    .dataframe tbody tr th {\n",
       "        vertical-align: top;\n",
       "    }\n",
       "\n",
       "    .dataframe thead th {\n",
       "        text-align: right;\n",
       "    }\n",
       "</style>\n",
       "<table border=\"1\" class=\"dataframe\">\n",
       "  <thead>\n",
       "    <tr style=\"text-align: right;\">\n",
       "      <th></th>\n",
       "      <th>text</th>\n",
       "    </tr>\n",
       "  </thead>\n",
       "  <tbody>\n",
       "    <tr>\n",
       "      <th>0</th>\n",
       "      <td>Angela Merkel ayer Berlin tras cumbre telemáti...</td>\n",
       "    </tr>\n",
       "    <tr>\n",
       "      <th>1</th>\n",
       "      <td>Enrique Quemada Clariana Fusiones adquisicione...</td>\n",
       "    </tr>\n",
       "    <tr>\n",
       "      <th>2</th>\n",
       "      <td>¿Cuántas veces querido ser propio jefe? ¿Cuánt...</td>\n",
       "    </tr>\n",
       "    <tr>\n",
       "      <th>3</th>\n",
       "      <td>ministro Sanidad, Salvador Illa, momentos rued...</td>\n",
       "    </tr>\n",
       "    <tr>\n",
       "      <th>4</th>\n",
       "      <td>Pleno Congreso aprobado proyecto Presupuestos ...</td>\n",
       "    </tr>\n",
       "  </tbody>\n",
       "</table>\n",
       "</div>"
      ],
      "text/plain": [
       "                                                text\n",
       "0  Angela Merkel ayer Berlin tras cumbre telemáti...\n",
       "1  Enrique Quemada Clariana Fusiones adquisicione...\n",
       "2  ¿Cuántas veces querido ser propio jefe? ¿Cuánt...\n",
       "3  ministro Sanidad, Salvador Illa, momentos rued...\n",
       "4  Pleno Congreso aprobado proyecto Presupuestos ..."
      ]
     },
     "execution_count": 5,
     "metadata": {},
     "output_type": "execute_result"
    }
   ],
   "source": [
    "textoPrueba['text'] = textoPrueba['text'].apply(noStopwords)\n",
    "textoPrueba.head()"
   ]
  },
  {
   "attachments": {},
   "cell_type": "markdown",
   "metadata": {},
   "source": [
    "Aplicamos lematización"
   ]
  },
  {
   "cell_type": "code",
   "execution_count": 6,
   "metadata": {},
   "outputs": [],
   "source": [
    "# Función para lematizar al texto\n",
    "def lemmatize_text(text):\n",
    "\n",
    "    # Cargamos el módulo de español\n",
    "    nlp = spacy.load(\"es_core_news_sm\")\n",
    "\n",
    "    # nlp crea una pipeline que le adhiere metadata que la paquetería spacy usa\n",
    "    doc = nlp(text)\n",
    "\n",
    "    lemmatized_text = \" \".join([token.lemma_ for token in doc])\n",
    "    \n",
    "    return lemmatized_text"
   ]
  },
  {
   "cell_type": "code",
   "execution_count": 7,
   "metadata": {},
   "outputs": [
    {
     "data": {
      "text/html": [
       "<div>\n",
       "<style scoped>\n",
       "    .dataframe tbody tr th:only-of-type {\n",
       "        vertical-align: middle;\n",
       "    }\n",
       "\n",
       "    .dataframe tbody tr th {\n",
       "        vertical-align: top;\n",
       "    }\n",
       "\n",
       "    .dataframe thead th {\n",
       "        text-align: right;\n",
       "    }\n",
       "</style>\n",
       "<table border=\"1\" class=\"dataframe\">\n",
       "  <thead>\n",
       "    <tr style=\"text-align: right;\">\n",
       "      <th></th>\n",
       "      <th>text</th>\n",
       "    </tr>\n",
       "  </thead>\n",
       "  <tbody>\n",
       "    <tr>\n",
       "      <th>0</th>\n",
       "      <td>Angela Merkel ayer Berlin tras cumbre telemáti...</td>\n",
       "    </tr>\n",
       "    <tr>\n",
       "      <th>1</th>\n",
       "      <td>Enrique Quemada Clariana Fusiones adquisición ...</td>\n",
       "    </tr>\n",
       "    <tr>\n",
       "      <th>2</th>\n",
       "      <td>¿ cuántar vez querido ser propio jefe ? ¿ cuán...</td>\n",
       "    </tr>\n",
       "    <tr>\n",
       "      <th>3</th>\n",
       "      <td>ministro Sanidad , Salvador Illa , momento rod...</td>\n",
       "    </tr>\n",
       "    <tr>\n",
       "      <th>4</th>\n",
       "      <td>Pleno Congreso aprobado proyecto Presupuestos ...</td>\n",
       "    </tr>\n",
       "  </tbody>\n",
       "</table>\n",
       "</div>"
      ],
      "text/plain": [
       "                                                text\n",
       "0  Angela Merkel ayer Berlin tras cumbre telemáti...\n",
       "1  Enrique Quemada Clariana Fusiones adquisición ...\n",
       "2  ¿ cuántar vez querido ser propio jefe ? ¿ cuán...\n",
       "3  ministro Sanidad , Salvador Illa , momento rod...\n",
       "4  Pleno Congreso aprobado proyecto Presupuestos ..."
      ]
     },
     "execution_count": 7,
     "metadata": {},
     "output_type": "execute_result"
    }
   ],
   "source": [
    "textoPrueba['text'] = textoPrueba['text'].apply(lemmatize_text)\n",
    "textoPrueba.head()"
   ]
  },
  {
   "attachments": {},
   "cell_type": "markdown",
   "metadata": {},
   "source": [
    "Normalizamos el texto, quitamos mayúsculas y signos de puntuación"
   ]
  },
  {
   "cell_type": "code",
   "execution_count": 8,
   "metadata": {},
   "outputs": [],
   "source": [
    "# Función para normalizar el texto\n",
    "\n",
    "def noPuntuacion(text):\n",
    "\n",
    "    text = text.lower()\n",
    "\n",
    "    text = re.sub('[áäàâ]', 'a', text)\n",
    "    text = re.sub('[éëèê]', 'e', text)\n",
    "    text = re.sub('[íïìî]', 'i', text)\n",
    "    text = re.sub('[óöòô]', 'o', text)\n",
    "    text = re.sub('[úüùû]', 'u', text)\n",
    "\n",
    "    return re.findall(r'[a-zñ]+', text)"
   ]
  },
  {
   "cell_type": "code",
   "execution_count": 40,
   "metadata": {},
   "outputs": [
    {
     "data": {
      "text/html": [
       "<div>\n",
       "<style scoped>\n",
       "    .dataframe tbody tr th:only-of-type {\n",
       "        vertical-align: middle;\n",
       "    }\n",
       "\n",
       "    .dataframe tbody tr th {\n",
       "        vertical-align: top;\n",
       "    }\n",
       "\n",
       "    .dataframe thead th {\n",
       "        text-align: right;\n",
       "    }\n",
       "</style>\n",
       "<table border=\"1\" class=\"dataframe\">\n",
       "  <thead>\n",
       "    <tr style=\"text-align: right;\">\n",
       "      <th></th>\n",
       "      <th>text</th>\n",
       "    </tr>\n",
       "  </thead>\n",
       "  <tbody>\n",
       "    <tr>\n",
       "      <th>0</th>\n",
       "      <td>angela merkel ayer berlin tras cumbre telemati...</td>\n",
       "    </tr>\n",
       "    <tr>\n",
       "      <th>1</th>\n",
       "      <td>enrique quemada clariana fusiones adquisicion ...</td>\n",
       "    </tr>\n",
       "    <tr>\n",
       "      <th>2</th>\n",
       "      <td>cuantar vez querido ser propio jefe cuantar ve...</td>\n",
       "    </tr>\n",
       "    <tr>\n",
       "      <th>3</th>\n",
       "      <td>ministro sanidad salvador illa momento rodar p...</td>\n",
       "    </tr>\n",
       "    <tr>\n",
       "      <th>4</th>\n",
       "      <td>pleno congreso aprobado proyecto presupuestos ...</td>\n",
       "    </tr>\n",
       "  </tbody>\n",
       "</table>\n",
       "</div>"
      ],
      "text/plain": [
       "                                                text\n",
       "0  angela merkel ayer berlin tras cumbre telemati...\n",
       "1  enrique quemada clariana fusiones adquisicion ...\n",
       "2  cuantar vez querido ser propio jefe cuantar ve...\n",
       "3  ministro sanidad salvador illa momento rodar p...\n",
       "4  pleno congreso aprobado proyecto presupuestos ..."
      ]
     },
     "execution_count": 40,
     "metadata": {},
     "output_type": "execute_result"
    }
   ],
   "source": [
    "textoPrueba['text'] = textoPrueba['text'].apply(noPuntuacion).apply(lambda x: \" \".join(x))\n",
    "textoPrueba.head()"
   ]
  },
  {
   "attachments": {},
   "cell_type": "markdown",
   "metadata": {},
   "source": [
    "Aplicamos stemming (Optamos por no ponerla)"
   ]
  },
  {
   "cell_type": "code",
   "execution_count": 10,
   "metadata": {},
   "outputs": [],
   "source": [
    "# # Función para aplicar stemming al texto\n",
    "\n",
    "# def stemmiar(text):\n",
    "\n",
    "#     stemmer = SnowballStemmer('spanish')\n",
    "\n",
    "#     return ' '.join([stemmer.stem(word) for word in text.split()])"
   ]
  },
  {
   "cell_type": "code",
   "execution_count": 11,
   "metadata": {},
   "outputs": [],
   "source": [
    "# textoPrueba['text'] = textoPrueba['text'].apply(stemmiar)\n",
    "# textoPrueba.head()"
   ]
  },
  {
   "attachments": {},
   "cell_type": "markdown",
   "metadata": {},
   "source": [
    "Vectorizamos y hacemos n-gramas"
   ]
  },
  {
   "cell_type": "code",
   "execution_count": 12,
   "metadata": {},
   "outputs": [
    {
     "data": {
      "text/html": [
       "<style>#sk-container-id-1 {color: black;background-color: white;}#sk-container-id-1 pre{padding: 0;}#sk-container-id-1 div.sk-toggleable {background-color: white;}#sk-container-id-1 label.sk-toggleable__label {cursor: pointer;display: block;width: 100%;margin-bottom: 0;padding: 0.3em;box-sizing: border-box;text-align: center;}#sk-container-id-1 label.sk-toggleable__label-arrow:before {content: \"▸\";float: left;margin-right: 0.25em;color: #696969;}#sk-container-id-1 label.sk-toggleable__label-arrow:hover:before {color: black;}#sk-container-id-1 div.sk-estimator:hover label.sk-toggleable__label-arrow:before {color: black;}#sk-container-id-1 div.sk-toggleable__content {max-height: 0;max-width: 0;overflow: hidden;text-align: left;background-color: #f0f8ff;}#sk-container-id-1 div.sk-toggleable__content pre {margin: 0.2em;color: black;border-radius: 0.25em;background-color: #f0f8ff;}#sk-container-id-1 input.sk-toggleable__control:checked~div.sk-toggleable__content {max-height: 200px;max-width: 100%;overflow: auto;}#sk-container-id-1 input.sk-toggleable__control:checked~label.sk-toggleable__label-arrow:before {content: \"▾\";}#sk-container-id-1 div.sk-estimator input.sk-toggleable__control:checked~label.sk-toggleable__label {background-color: #d4ebff;}#sk-container-id-1 div.sk-label input.sk-toggleable__control:checked~label.sk-toggleable__label {background-color: #d4ebff;}#sk-container-id-1 input.sk-hidden--visually {border: 0;clip: rect(1px 1px 1px 1px);clip: rect(1px, 1px, 1px, 1px);height: 1px;margin: -1px;overflow: hidden;padding: 0;position: absolute;width: 1px;}#sk-container-id-1 div.sk-estimator {font-family: monospace;background-color: #f0f8ff;border: 1px dotted black;border-radius: 0.25em;box-sizing: border-box;margin-bottom: 0.5em;}#sk-container-id-1 div.sk-estimator:hover {background-color: #d4ebff;}#sk-container-id-1 div.sk-parallel-item::after {content: \"\";width: 100%;border-bottom: 1px solid gray;flex-grow: 1;}#sk-container-id-1 div.sk-label:hover label.sk-toggleable__label {background-color: #d4ebff;}#sk-container-id-1 div.sk-serial::before {content: \"\";position: absolute;border-left: 1px solid gray;box-sizing: border-box;top: 0;bottom: 0;left: 50%;z-index: 0;}#sk-container-id-1 div.sk-serial {display: flex;flex-direction: column;align-items: center;background-color: white;padding-right: 0.2em;padding-left: 0.2em;position: relative;}#sk-container-id-1 div.sk-item {position: relative;z-index: 1;}#sk-container-id-1 div.sk-parallel {display: flex;align-items: stretch;justify-content: center;background-color: white;position: relative;}#sk-container-id-1 div.sk-item::before, #sk-container-id-1 div.sk-parallel-item::before {content: \"\";position: absolute;border-left: 1px solid gray;box-sizing: border-box;top: 0;bottom: 0;left: 50%;z-index: -1;}#sk-container-id-1 div.sk-parallel-item {display: flex;flex-direction: column;z-index: 1;position: relative;background-color: white;}#sk-container-id-1 div.sk-parallel-item:first-child::after {align-self: flex-end;width: 50%;}#sk-container-id-1 div.sk-parallel-item:last-child::after {align-self: flex-start;width: 50%;}#sk-container-id-1 div.sk-parallel-item:only-child::after {width: 0;}#sk-container-id-1 div.sk-dashed-wrapped {border: 1px dashed gray;margin: 0 0.4em 0.5em 0.4em;box-sizing: border-box;padding-bottom: 0.4em;background-color: white;}#sk-container-id-1 div.sk-label label {font-family: monospace;font-weight: bold;display: inline-block;line-height: 1.2em;}#sk-container-id-1 div.sk-label-container {text-align: center;}#sk-container-id-1 div.sk-container {/* jupyter's `normalize.less` sets `[hidden] { display: none; }` but bootstrap.min.css set `[hidden] { display: none !important; }` so we also need the `!important` here to be able to override the default hidden behavior on the sphinx rendered scikit-learn.org. See: https://github.com/scikit-learn/scikit-learn/issues/21755 */display: inline-block !important;position: relative;}#sk-container-id-1 div.sk-text-repr-fallback {display: none;}</style><div id=\"sk-container-id-1\" class=\"sk-top-container\"><div class=\"sk-text-repr-fallback\"><pre>TfidfVectorizer(max_df=0.7, min_df=2, ngram_range=(1, 2),\n",
       "                tokenizer=&lt;bound method TreebankWordTokenizer.tokenize of &lt;nltk.tokenize.treebank.TreebankWordTokenizer object at 0x00000185AC68F250&gt;&gt;)</pre><b>In a Jupyter environment, please rerun this cell to show the HTML representation or trust the notebook. <br />On GitHub, the HTML representation is unable to render, please try loading this page with nbviewer.org.</b></div><div class=\"sk-container\" hidden><div class=\"sk-item\"><div class=\"sk-estimator sk-toggleable\"><input class=\"sk-toggleable__control sk-hidden--visually\" id=\"sk-estimator-id-1\" type=\"checkbox\" checked><label for=\"sk-estimator-id-1\" class=\"sk-toggleable__label sk-toggleable__label-arrow\">TfidfVectorizer</label><div class=\"sk-toggleable__content\"><pre>TfidfVectorizer(max_df=0.7, min_df=2, ngram_range=(1, 2),\n",
       "                tokenizer=&lt;bound method TreebankWordTokenizer.tokenize of &lt;nltk.tokenize.treebank.TreebankWordTokenizer object at 0x00000185AC68F250&gt;&gt;)</pre></div></div></div></div></div>"
      ],
      "text/plain": [
       "TfidfVectorizer(max_df=0.7, min_df=2, ngram_range=(1, 2),\n",
       "                tokenizer=<bound method TreebankWordTokenizer.tokenize of <nltk.tokenize.treebank.TreebankWordTokenizer object at 0x00000185AC68F250>>)"
      ]
     },
     "execution_count": 12,
     "metadata": {},
     "output_type": "execute_result"
    }
   ],
   "source": [
    "# Creamos una instancia que hará la vectorización TF-IDF\n",
    "vect = TfidfVectorizer()\n",
    "\n",
    "# Tokenizamos como Penn Treebank\n",
    "tokenizer = TreebankWordTokenizer()\n",
    "vect.set_params(tokenizer=tokenizer.tokenize)\n",
    "\n",
    "# Incluimos 1-grams y 2-grams\n",
    "vect.set_params(ngram_range=(1, 2))\n",
    "\n",
    "# Ignoramos términos que aparecen en más del 70% de los documentos\n",
    "vect.set_params(max_df=0.7)\n",
    "\n",
    "# Solo mantenemos los términos que aparecen en al menos 2 documentos\n",
    "vect.set_params(min_df=2)"
   ]
  },
  {
   "cell_type": "code",
   "execution_count": 13,
   "metadata": {},
   "outputs": [
    {
     "name": "stderr",
     "output_type": "stream",
     "text": [
      "c:\\Users\\julio\\AppData\\Local\\Programs\\Python\\Python310\\lib\\site-packages\\sklearn\\feature_extraction\\text.py:528: UserWarning: The parameter 'token_pattern' will not be used since 'tokenizer' is not None'\n",
      "  warnings.warn(\n"
     ]
    },
    {
     "data": {
      "text/plain": [
       "<1000x36966 sparse matrix of type '<class 'numpy.float64'>'\n",
       "\twith 260826 stored elements in Compressed Sparse Row format>"
      ]
     },
     "execution_count": 13,
     "metadata": {},
     "output_type": "execute_result"
    }
   ],
   "source": [
    "# Lo aplicamos\n",
    "vectFit = vect.fit_transform(textoPrueba['text']) \n",
    "vectFit "
   ]
  },
  {
   "cell_type": "code",
   "execution_count": 14,
   "metadata": {},
   "outputs": [
    {
     "name": "stdout",
     "output_type": "stream",
     "text": [
      "  (0, 35090)\t0.060396578129908285\n",
      "  (0, 14512)\t0.04501305740183989\n",
      "  (0, 26566)\t0.05784523463169655\n",
      "  (0, 30655)\t0.052882213857139995\n",
      "  (0, 35260)\t0.060396578129908285\n",
      "  (0, 29916)\t0.05784523463169655\n",
      "  (0, 14250)\t0.060396578129908285\n",
      "  (0, 9017)\t0.03258906578368043\n",
      "  (0, 21466)\t0.05784523463169655\n",
      "  (0, 28649)\t0.052882213857139995\n",
      "  (0, 12345)\t0.060396578129908285\n",
      "  (0, 26326)\t0.060396578129908285\n",
      "  (0, 7231)\t0.05424931793620323\n",
      "  (0, 6556)\t0.05784523463169655\n",
      "  (0, 35678)\t0.05784523463169655\n",
      "  (0, 13639)\t0.060396578129908285\n",
      "  (0, 11481)\t0.05784523463169655\n",
      "  (0, 645)\t0.04159276271841367\n",
      "  (0, 2354)\t0.060396578129908285\n",
      "  (0, 36824)\t0.05784523463169655\n",
      "  (0, 25616)\t0.05424931793620323\n",
      "  (0, 11345)\t0.060396578129908285\n",
      "  (0, 2839)\t0.060396578129908285\n",
      "  (0, 34555)\t0.060396578129908285\n",
      "  (0, 4969)\t0.060396578129908285\n",
      "  :\t:\n",
      "  (0, 2811)\t0.04501305740183989\n",
      "  (0, 534)\t0.03526988051264151\n",
      "  (0, 808)\t0.038608717706793506\n",
      "  (0, 12668)\t0.08466448534575763\n",
      "  (0, 22650)\t0.048873728737012956\n",
      "  (0, 25121)\t0.017840127691196004\n",
      "  (0, 12199)\t0.03184958582921529\n",
      "  (0, 3347)\t0.013117004710708372\n",
      "  (0, 31616)\t0.02760137497948296\n",
      "  (0, 35638)\t0.022676149324718595\n",
      "  (0, 28267)\t0.02288883629946035\n",
      "  (0, 20899)\t0.05533512259224987\n",
      "  (0, 24074)\t0.07053976102528302\n",
      "  (0, 23078)\t0.05003957453721617\n",
      "  (0, 9089)\t0.020166937125678342\n",
      "  (0, 17252)\t0.034440433276024834\n",
      "  (0, 22636)\t0.07109919507414224\n",
      "  (0, 3032)\t0.019825196633208562\n",
      "  (0, 21254)\t0.02175857526847096\n",
      "  (0, 31049)\t0.021101339691333123\n",
      "  (0, 31401)\t0.02821434036950714\n",
      "  (0, 12246)\t0.12820898743333756\n",
      "  (0, 11145)\t0.05586625886876016\n",
      "  (0, 24588)\t0.018341313110906574\n",
      "  (0, 21652)\t0.018012339350674846\n"
     ]
    }
   ],
   "source": [
    "print(vectFit[1])"
   ]
  },
  {
   "attachments": {},
   "cell_type": "markdown",
   "metadata": {},
   "source": [
    "Descomposicion por valores singulares (SVD)"
   ]
  },
  {
   "attachments": {},
   "cell_type": "markdown",
   "metadata": {},
   "source": [
    "Hacemos z-score normalizacion"
   ]
  },
  {
   "cell_type": "code",
   "execution_count": 15,
   "metadata": {},
   "outputs": [
    {
     "name": "stdout",
     "output_type": "stream",
     "text": [
      "  (0, 31257)\t9.254913690852511\n",
      "  (0, 25175)\t20.13417179718722\n",
      "  (0, 3528)\t1.921999740323618\n",
      "  (0, 21428)\t12.22845930089941\n",
      "  (0, 25728)\t30.745086348767074\n",
      "  (0, 22028)\t2.743491885110464\n",
      "  (0, 34935)\t10.063636290795838\n",
      "  (0, 3360)\t3.2772372305307944\n",
      "  (0, 25571)\t10.51418608784329\n",
      "  (0, 22240)\t6.40481295829969\n",
      "  (0, 31744)\t12.682812919895763\n",
      "  (0, 31221)\t2.9832096892356965\n",
      "  (0, 35647)\t4.590984685925436\n",
      "  (0, 11109)\t20.405318035635442\n",
      "  (0, 1943)\t24.926888969312905\n",
      "  (0, 34922)\t7.287421668336652\n",
      "  (0, 15431)\t17.21319349717695\n",
      "  (0, 4113)\t11.828947686617525\n",
      "  (0, 18620)\t21.84280830610786\n",
      "  (0, 13871)\t24.815996578731177\n",
      "  (0, 13444)\t25.250190413761796\n",
      "  (0, 14542)\t18.95621039927713\n",
      "  (0, 11600)\t26.66849358972337\n",
      "  (0, 7748)\t4.447513614552788\n",
      "  (0, 15836)\t8.8050759490576\n",
      "  :\t:\n",
      "  (0, 18568)\t8.303021898731256\n",
      "  (0, 16570)\t1.4953130268855748\n",
      "  (0, 7839)\t2.440737120753125\n",
      "  (0, 18053)\t5.572660759192016\n",
      "  (0, 24134)\t4.991659448695931\n",
      "  (0, 9024)\t2.697328246256344\n",
      "  (0, 7223)\t2.881776403642657\n",
      "  (0, 21652)\t3.376257208833213\n",
      "  (0, 31333)\t5.593605389287802\n",
      "  (0, 1349)\t1.8030115415102463\n",
      "  (0, 23481)\t2.4123686296511155\n",
      "  (0, 4793)\t6.357914361090678\n",
      "  (0, 12368)\t14.34694698383251\n",
      "  (0, 7066)\t16.868551199758116\n",
      "  (0, 11285)\t1.6491069015669872\n",
      "  (0, 26666)\t4.489217655858845\n",
      "  (0, 5889)\t11.083497337117661\n",
      "  (0, 15676)\t1.435504661936571\n",
      "  (0, 33695)\t6.022228858405908\n",
      "  (0, 8592)\t6.602310988387273\n",
      "  (0, 34648)\t0.9487012934053349\n",
      "  (0, 4056)\t3.157821049578635\n",
      "  (0, 3258)\t1.4482174346202517\n",
      "  (0, 21641)\t2.6378796916919947\n",
      "  (0, 1876)\t4.118276906274285\n"
     ]
    }
   ],
   "source": [
    "# Creamos la instancia \n",
    "scaler = StandardScaler(with_mean=False)\n",
    "# Calculamos el promedio y la desviacion estandar\n",
    "scaler.fit(vectFit)\n",
    "# Re escalamos\n",
    "vectFitScaled = scaler.transform(vectFit)\n",
    "\n",
    "print(vectFitScaled[0])"
   ]
  },
  {
   "cell_type": "code",
   "execution_count": 16,
   "metadata": {},
   "outputs": [],
   "source": [
    "# vectFitScaled = vectFitScaled.transpose()\n",
    "# vectFitScaled"
   ]
  },
  {
   "cell_type": "code",
   "execution_count": 17,
   "metadata": {},
   "outputs": [],
   "source": [
    "# Creamos instancia de la clase TruncatedSVD\n",
    "dimReduction = TruncatedSVD(n_components = 1000, random_state = 2)"
   ]
  },
  {
   "cell_type": "code",
   "execution_count": 18,
   "metadata": {},
   "outputs": [
    {
     "data": {
      "text/html": [
       "<style>#sk-container-id-2 {color: black;background-color: white;}#sk-container-id-2 pre{padding: 0;}#sk-container-id-2 div.sk-toggleable {background-color: white;}#sk-container-id-2 label.sk-toggleable__label {cursor: pointer;display: block;width: 100%;margin-bottom: 0;padding: 0.3em;box-sizing: border-box;text-align: center;}#sk-container-id-2 label.sk-toggleable__label-arrow:before {content: \"▸\";float: left;margin-right: 0.25em;color: #696969;}#sk-container-id-2 label.sk-toggleable__label-arrow:hover:before {color: black;}#sk-container-id-2 div.sk-estimator:hover label.sk-toggleable__label-arrow:before {color: black;}#sk-container-id-2 div.sk-toggleable__content {max-height: 0;max-width: 0;overflow: hidden;text-align: left;background-color: #f0f8ff;}#sk-container-id-2 div.sk-toggleable__content pre {margin: 0.2em;color: black;border-radius: 0.25em;background-color: #f0f8ff;}#sk-container-id-2 input.sk-toggleable__control:checked~div.sk-toggleable__content {max-height: 200px;max-width: 100%;overflow: auto;}#sk-container-id-2 input.sk-toggleable__control:checked~label.sk-toggleable__label-arrow:before {content: \"▾\";}#sk-container-id-2 div.sk-estimator input.sk-toggleable__control:checked~label.sk-toggleable__label {background-color: #d4ebff;}#sk-container-id-2 div.sk-label input.sk-toggleable__control:checked~label.sk-toggleable__label {background-color: #d4ebff;}#sk-container-id-2 input.sk-hidden--visually {border: 0;clip: rect(1px 1px 1px 1px);clip: rect(1px, 1px, 1px, 1px);height: 1px;margin: -1px;overflow: hidden;padding: 0;position: absolute;width: 1px;}#sk-container-id-2 div.sk-estimator {font-family: monospace;background-color: #f0f8ff;border: 1px dotted black;border-radius: 0.25em;box-sizing: border-box;margin-bottom: 0.5em;}#sk-container-id-2 div.sk-estimator:hover {background-color: #d4ebff;}#sk-container-id-2 div.sk-parallel-item::after {content: \"\";width: 100%;border-bottom: 1px solid gray;flex-grow: 1;}#sk-container-id-2 div.sk-label:hover label.sk-toggleable__label {background-color: #d4ebff;}#sk-container-id-2 div.sk-serial::before {content: \"\";position: absolute;border-left: 1px solid gray;box-sizing: border-box;top: 0;bottom: 0;left: 50%;z-index: 0;}#sk-container-id-2 div.sk-serial {display: flex;flex-direction: column;align-items: center;background-color: white;padding-right: 0.2em;padding-left: 0.2em;position: relative;}#sk-container-id-2 div.sk-item {position: relative;z-index: 1;}#sk-container-id-2 div.sk-parallel {display: flex;align-items: stretch;justify-content: center;background-color: white;position: relative;}#sk-container-id-2 div.sk-item::before, #sk-container-id-2 div.sk-parallel-item::before {content: \"\";position: absolute;border-left: 1px solid gray;box-sizing: border-box;top: 0;bottom: 0;left: 50%;z-index: -1;}#sk-container-id-2 div.sk-parallel-item {display: flex;flex-direction: column;z-index: 1;position: relative;background-color: white;}#sk-container-id-2 div.sk-parallel-item:first-child::after {align-self: flex-end;width: 50%;}#sk-container-id-2 div.sk-parallel-item:last-child::after {align-self: flex-start;width: 50%;}#sk-container-id-2 div.sk-parallel-item:only-child::after {width: 0;}#sk-container-id-2 div.sk-dashed-wrapped {border: 1px dashed gray;margin: 0 0.4em 0.5em 0.4em;box-sizing: border-box;padding-bottom: 0.4em;background-color: white;}#sk-container-id-2 div.sk-label label {font-family: monospace;font-weight: bold;display: inline-block;line-height: 1.2em;}#sk-container-id-2 div.sk-label-container {text-align: center;}#sk-container-id-2 div.sk-container {/* jupyter's `normalize.less` sets `[hidden] { display: none; }` but bootstrap.min.css set `[hidden] { display: none !important; }` so we also need the `!important` here to be able to override the default hidden behavior on the sphinx rendered scikit-learn.org. See: https://github.com/scikit-learn/scikit-learn/issues/21755 */display: inline-block !important;position: relative;}#sk-container-id-2 div.sk-text-repr-fallback {display: none;}</style><div id=\"sk-container-id-2\" class=\"sk-top-container\"><div class=\"sk-text-repr-fallback\"><pre>TruncatedSVD(n_components=1000, random_state=2)</pre><b>In a Jupyter environment, please rerun this cell to show the HTML representation or trust the notebook. <br />On GitHub, the HTML representation is unable to render, please try loading this page with nbviewer.org.</b></div><div class=\"sk-container\" hidden><div class=\"sk-item\"><div class=\"sk-estimator sk-toggleable\"><input class=\"sk-toggleable__control sk-hidden--visually\" id=\"sk-estimator-id-2\" type=\"checkbox\" checked><label for=\"sk-estimator-id-2\" class=\"sk-toggleable__label sk-toggleable__label-arrow\">TruncatedSVD</label><div class=\"sk-toggleable__content\"><pre>TruncatedSVD(n_components=1000, random_state=2)</pre></div></div></div></div></div>"
      ],
      "text/plain": [
       "TruncatedSVD(n_components=1000, random_state=2)"
      ]
     },
     "execution_count": 18,
     "metadata": {},
     "output_type": "execute_result"
    }
   ],
   "source": [
    "# Ajustamos la transfromacion con nuestros datos\n",
    "dimReduction.fit(vectFitScaled)"
   ]
  },
  {
   "cell_type": "code",
   "execution_count": 19,
   "metadata": {},
   "outputs": [],
   "source": [
    "# Reducimos la dimensionalidad\n",
    "dataReduction = dimReduction.transform(vectFitScaled)"
   ]
  },
  {
   "cell_type": "code",
   "execution_count": 20,
   "metadata": {},
   "outputs": [
    {
     "name": "stdout",
     "output_type": "stream",
     "text": [
      "Variancia explicada por los 36,755 componentes = 100.00000000000004\n"
     ]
    }
   ],
   "source": [
    "print(\"Variancia explicada por los 36,755 componentes = \" \\\n",
    "        + str(sum(dimReduction.explained_variance_ratio_ * 100)))"
   ]
  },
  {
   "cell_type": "code",
   "execution_count": 21,
   "metadata": {},
   "outputs": [
    {
     "data": {
      "text/plain": [
       "array([3.01237998e+00, 1.05683500e+00, 8.56319203e-01, 8.64762107e-01,\n",
       "       8.25034628e-01, 3.05753988e-01, 6.05778202e-01, 5.80375098e-01,\n",
       "       5.41324796e-01, 5.01103525e-01, 4.65842576e-01, 3.04838910e-01,\n",
       "       2.81036470e-01, 2.45665887e-01, 2.41409380e-01, 2.39358205e-01,\n",
       "       2.35619644e-01, 2.32753591e-01, 2.30074255e-01, 2.26772648e-01,\n",
       "       2.19259321e-01, 2.15724138e-01, 2.13841373e-01, 2.11152180e-01,\n",
       "       2.10849639e-01, 2.09059611e-01, 2.05877526e-01, 2.04590468e-01,\n",
       "       2.01614889e-01, 1.98218884e-01, 1.97474948e-01, 1.96136586e-01,\n",
       "       1.93955863e-01, 1.91822166e-01, 1.91246243e-01, 1.89330439e-01,\n",
       "       1.88567013e-01, 1.87674161e-01, 1.87227757e-01, 1.85843855e-01,\n",
       "       1.84225941e-01, 1.83697790e-01, 1.82684042e-01, 1.81799095e-01,\n",
       "       1.80735066e-01, 1.79262942e-01, 1.78605344e-01, 1.77692533e-01,\n",
       "       1.76873932e-01, 1.75749886e-01, 1.75548614e-01, 1.74870693e-01,\n",
       "       1.73959453e-01, 1.73289554e-01, 1.72433092e-01, 1.71034811e-01,\n",
       "       1.70714782e-01, 1.70094996e-01, 1.69320863e-01, 1.68833333e-01,\n",
       "       1.68304261e-01, 1.68028437e-01, 1.67184203e-01, 1.67018187e-01,\n",
       "       1.66393062e-01, 1.65556091e-01, 1.65321482e-01, 1.63893176e-01,\n",
       "       1.63809733e-01, 1.63490595e-01, 1.62574111e-01, 1.62391869e-01,\n",
       "       1.62207401e-01, 1.61985229e-01, 1.60534397e-01, 1.60443260e-01,\n",
       "       1.60007091e-01, 1.59879997e-01, 1.59097831e-01, 1.59064598e-01,\n",
       "       1.58556907e-01, 1.58251425e-01, 1.57937567e-01, 1.57681917e-01,\n",
       "       1.57447337e-01, 1.56995115e-01, 1.56851350e-01, 1.56046698e-01,\n",
       "       1.55916529e-01, 1.55765761e-01, 1.55149079e-01, 1.54881775e-01,\n",
       "       1.54715418e-01, 1.54262570e-01, 1.54148160e-01, 1.53859252e-01,\n",
       "       1.53562971e-01, 1.53168702e-01, 1.52959136e-01, 1.52231954e-01,\n",
       "       1.52133607e-01, 1.51881540e-01, 1.51728420e-01, 1.51064653e-01,\n",
       "       1.51041792e-01, 1.50681046e-01, 1.50398519e-01, 1.49969650e-01,\n",
       "       1.49620797e-01, 1.49540009e-01, 1.49207015e-01, 1.48841152e-01,\n",
       "       1.48786077e-01, 1.48570570e-01, 1.48432114e-01, 1.47866137e-01,\n",
       "       1.47692610e-01, 1.47552396e-01, 1.47167274e-01, 1.47087459e-01,\n",
       "       1.46792985e-01, 1.46465648e-01, 1.46172347e-01, 1.46053442e-01,\n",
       "       1.45570761e-01, 1.45258189e-01, 1.45158626e-01, 1.44980403e-01,\n",
       "       1.44556030e-01, 1.44517053e-01, 1.44288466e-01, 1.44108189e-01,\n",
       "       1.43842852e-01, 1.43518713e-01, 1.43330579e-01, 1.43188096e-01,\n",
       "       1.43003331e-01, 1.42753080e-01, 1.42292642e-01, 1.42153425e-01,\n",
       "       1.42034474e-01, 1.41692162e-01, 1.41441349e-01, 1.41219499e-01,\n",
       "       1.41058284e-01, 1.40668467e-01, 1.40522196e-01, 1.40323851e-01,\n",
       "       1.40208330e-01, 1.39914305e-01, 1.39779700e-01, 1.39596398e-01,\n",
       "       1.39311721e-01, 1.39145886e-01, 1.38792297e-01, 1.38576203e-01,\n",
       "       1.38227637e-01, 1.38123588e-01, 1.38001765e-01, 1.37864851e-01,\n",
       "       1.37540733e-01, 1.37338429e-01, 1.37186467e-01, 1.36918926e-01,\n",
       "       1.36775417e-01, 1.36618273e-01, 1.36333717e-01, 1.36085991e-01,\n",
       "       1.35978517e-01, 1.35728519e-01, 1.35507757e-01, 1.35204799e-01,\n",
       "       1.35091592e-01, 1.35006406e-01, 1.34599149e-01, 1.34440377e-01,\n",
       "       1.34195426e-01, 1.33924788e-01, 1.33877793e-01, 1.33841588e-01,\n",
       "       1.33628641e-01, 1.33433091e-01, 1.33368765e-01, 1.33115757e-01,\n",
       "       1.32830759e-01, 1.32753358e-01, 1.32390757e-01, 1.32257908e-01,\n",
       "       1.32120544e-01, 1.31857770e-01, 1.31790689e-01, 1.31513366e-01,\n",
       "       1.31427170e-01, 1.31210633e-01, 1.31130475e-01, 1.30827753e-01,\n",
       "       1.30647540e-01, 1.30425003e-01, 1.30290477e-01, 1.30005494e-01,\n",
       "       1.30044107e-01, 1.29838391e-01, 1.29551427e-01, 1.29358258e-01,\n",
       "       1.29351146e-01, 1.28961522e-01, 1.28845806e-01, 1.28606422e-01,\n",
       "       1.28290114e-01, 1.28225870e-01, 1.28025980e-01, 1.27948581e-01,\n",
       "       1.27737857e-01, 1.27494334e-01, 1.27323686e-01, 1.27059158e-01,\n",
       "       1.26892220e-01, 1.26604746e-01, 1.26422556e-01, 1.26390152e-01,\n",
       "       1.25996137e-01, 1.26033253e-01, 1.25823393e-01, 1.25763516e-01,\n",
       "       1.25672709e-01, 1.25449992e-01, 1.25175154e-01, 1.25156410e-01,\n",
       "       1.25074654e-01, 1.24880169e-01, 1.24646485e-01, 1.24574353e-01,\n",
       "       1.24399967e-01, 1.24067145e-01, 1.23858390e-01, 1.23834811e-01,\n",
       "       1.23564930e-01, 1.23325307e-01, 1.23232803e-01, 1.23032467e-01,\n",
       "       1.23024989e-01, 1.22567312e-01, 1.22611908e-01, 1.22502242e-01,\n",
       "       1.22353171e-01, 1.22179665e-01, 1.21978407e-01, 1.21714385e-01,\n",
       "       1.21561619e-01, 1.21446682e-01, 1.21265558e-01, 1.21239194e-01,\n",
       "       1.21205327e-01, 1.21085802e-01, 1.20888193e-01, 1.20851004e-01,\n",
       "       1.20606761e-01, 1.20401570e-01, 1.20354580e-01, 1.20204217e-01,\n",
       "       1.20094614e-01, 1.19686528e-01, 1.19510528e-01, 1.19418814e-01,\n",
       "       1.19218838e-01, 1.18956782e-01, 1.18912577e-01, 1.18799055e-01,\n",
       "       1.18763773e-01, 1.18569431e-01, 1.18234265e-01, 1.17989804e-01,\n",
       "       1.17813344e-01, 1.17745036e-01, 1.17614597e-01, 1.17434820e-01,\n",
       "       1.17167791e-01, 1.16945557e-01, 1.16874073e-01, 1.16806022e-01,\n",
       "       1.16767894e-01, 1.16633254e-01, 1.16431335e-01, 1.16196090e-01,\n",
       "       1.16148305e-01, 1.16000146e-01, 1.15853370e-01, 1.15666270e-01,\n",
       "       1.15579929e-01, 1.15479534e-01, 1.15392597e-01, 1.15203811e-01,\n",
       "       1.15068864e-01, 1.14950352e-01, 1.14815083e-01, 1.14801931e-01,\n",
       "       1.14535323e-01, 1.14403071e-01, 1.14237869e-01, 1.14142864e-01,\n",
       "       1.14058282e-01, 1.13864393e-01, 1.13772012e-01, 1.13535444e-01,\n",
       "       1.13325971e-01, 1.13355351e-01, 1.13320941e-01, 1.13178291e-01,\n",
       "       1.12908283e-01, 1.12915125e-01, 1.12797716e-01, 1.12431728e-01,\n",
       "       1.12274551e-01, 1.12133736e-01, 1.12041682e-01, 1.11957993e-01,\n",
       "       1.11806485e-01, 1.11740681e-01, 1.11654058e-01, 1.11420655e-01,\n",
       "       1.11281140e-01, 1.11186146e-01, 1.11115086e-01, 1.10877441e-01,\n",
       "       1.10791473e-01, 1.10574494e-01, 1.10490928e-01, 1.10272224e-01,\n",
       "       1.10013893e-01, 1.10078134e-01, 1.09984892e-01, 1.09865582e-01,\n",
       "       1.09621860e-01, 1.09484297e-01, 1.09349050e-01, 1.09218227e-01,\n",
       "       1.09149256e-01, 1.09124272e-01, 1.08831263e-01, 1.08598646e-01,\n",
       "       1.08398167e-01, 1.08325157e-01, 1.08141123e-01, 1.08028609e-01,\n",
       "       1.07975408e-01, 1.07756604e-01, 1.07684006e-01, 1.07533030e-01,\n",
       "       1.07434544e-01, 1.07324361e-01, 1.07144686e-01, 1.07073503e-01,\n",
       "       1.06872213e-01, 1.06759822e-01, 1.06550896e-01, 1.06540594e-01,\n",
       "       1.06400405e-01, 1.06180824e-01, 1.06154820e-01, 1.06068734e-01,\n",
       "       1.05892862e-01, 1.05816451e-01, 1.05673787e-01, 1.05529861e-01,\n",
       "       1.05450071e-01, 1.05216091e-01, 1.05037276e-01, 1.05018181e-01,\n",
       "       1.04860432e-01, 1.04850623e-01, 1.04789348e-01, 1.04548338e-01,\n",
       "       1.04422917e-01, 1.04363207e-01, 1.04147752e-01, 1.03836386e-01,\n",
       "       1.03771182e-01, 1.03774239e-01, 1.03632812e-01, 1.03546358e-01,\n",
       "       1.03523030e-01, 1.03423162e-01, 1.03265670e-01, 1.03121156e-01,\n",
       "       1.02936392e-01, 1.02833148e-01, 1.02547924e-01, 1.02522598e-01,\n",
       "       1.02278796e-01, 1.02144762e-01, 1.02138972e-01, 1.01803648e-01,\n",
       "       1.01719458e-01, 1.01668382e-01, 1.01590314e-01, 1.01415126e-01,\n",
       "       1.01378006e-01, 1.01207476e-01, 1.01107000e-01, 1.00969937e-01,\n",
       "       1.00811471e-01, 1.00760876e-01, 1.00673204e-01, 1.00422437e-01,\n",
       "       1.00279161e-01, 1.00079605e-01, 1.00011933e-01, 9.98760603e-02,\n",
       "       9.98216432e-02, 9.97455234e-02, 9.95659800e-02, 9.94549144e-02,\n",
       "       9.93978107e-02, 9.92733218e-02, 9.91323979e-02, 9.90277801e-02,\n",
       "       9.89703667e-02, 9.88050562e-02, 9.87424007e-02, 9.87244279e-02,\n",
       "       9.84998119e-02, 9.83518944e-02, 9.82559969e-02, 9.81151371e-02,\n",
       "       9.79476309e-02, 9.77600639e-02, 9.75400643e-02, 9.75110792e-02,\n",
       "       9.74327893e-02, 9.72154522e-02, 9.71154987e-02, 9.69612906e-02,\n",
       "       9.69127366e-02, 9.67343413e-02, 9.66453785e-02, 9.64261955e-02,\n",
       "       9.63015836e-02, 9.61400036e-02, 9.61047957e-02, 9.60393700e-02,\n",
       "       9.59528858e-02, 9.58237445e-02, 9.56569754e-02, 9.55498548e-02,\n",
       "       9.53239582e-02, 9.52050251e-02, 9.52032757e-02, 9.50688420e-02,\n",
       "       9.49557919e-02, 9.49312885e-02, 9.48607653e-02, 9.47891230e-02,\n",
       "       9.46924825e-02, 9.44991390e-02, 9.43297571e-02, 9.43028280e-02,\n",
       "       9.41800774e-02, 9.41285617e-02, 9.39000189e-02, 9.37301426e-02,\n",
       "       9.36519357e-02, 9.34816359e-02, 9.34317866e-02, 9.32508424e-02,\n",
       "       9.32052422e-02, 9.31650475e-02, 9.30780807e-02, 9.29213971e-02,\n",
       "       9.28690750e-02, 9.27633331e-02, 9.25368979e-02, 9.23175259e-02,\n",
       "       9.23115448e-02, 9.21657028e-02, 9.20436917e-02, 9.19438148e-02,\n",
       "       9.17761256e-02, 9.17013300e-02, 9.16753786e-02, 9.14553646e-02,\n",
       "       9.14592243e-02, 9.14050667e-02, 9.10122647e-02, 9.09983349e-02,\n",
       "       9.08958325e-02, 9.07750591e-02, 9.06144810e-02, 9.05293377e-02,\n",
       "       9.04433665e-02, 9.02885116e-02, 9.02023749e-02, 9.01035371e-02,\n",
       "       9.00136981e-02, 8.98188631e-02, 8.97049984e-02, 8.96414085e-02,\n",
       "       8.94496856e-02, 8.92900221e-02, 8.92220951e-02, 8.89203453e-02,\n",
       "       8.88400879e-02, 8.87903395e-02, 8.85786463e-02, 8.85599640e-02,\n",
       "       8.84237137e-02, 8.83536560e-02, 8.82621245e-02, 8.81461874e-02,\n",
       "       8.80153443e-02, 8.79177393e-02, 8.76784281e-02, 8.76367504e-02,\n",
       "       8.74831740e-02, 8.74595760e-02, 8.73298795e-02, 8.71975914e-02,\n",
       "       8.71067056e-02, 8.69896205e-02, 8.68605479e-02, 8.67473353e-02,\n",
       "       8.65770667e-02, 8.64930442e-02, 8.64221227e-02, 8.62256793e-02,\n",
       "       8.62207601e-02, 8.60354093e-02, 8.59030151e-02, 8.57482032e-02,\n",
       "       8.56008321e-02, 8.55344389e-02, 8.54396818e-02, 8.53890061e-02,\n",
       "       8.51129443e-02, 8.50782594e-02, 8.48329294e-02, 8.48389790e-02,\n",
       "       8.46700667e-02, 8.45059422e-02, 8.44243818e-02, 8.43842370e-02,\n",
       "       8.41094015e-02, 8.40772362e-02, 8.38776249e-02, 8.38139555e-02,\n",
       "       8.37071832e-02, 8.35378312e-02, 8.34580874e-02, 8.31967745e-02,\n",
       "       8.31153771e-02, 8.30349195e-02, 8.28876951e-02, 8.27221367e-02,\n",
       "       8.26057394e-02, 8.25378156e-02, 8.24689837e-02, 8.23058965e-02,\n",
       "       8.22882793e-02, 8.20492685e-02, 8.19445702e-02, 8.18125828e-02,\n",
       "       8.17638115e-02, 8.16225601e-02, 8.15927938e-02, 8.13311832e-02,\n",
       "       8.13106737e-02, 8.12606991e-02, 8.12102021e-02, 8.10304512e-02,\n",
       "       8.08606890e-02, 8.07888082e-02, 8.07701488e-02, 8.04517490e-02,\n",
       "       8.03398813e-02, 8.02971026e-02, 8.00938027e-02, 7.99075265e-02,\n",
       "       7.98103299e-02, 7.97233831e-02, 7.96299725e-02, 7.94787818e-02,\n",
       "       7.94412206e-02, 7.93225037e-02, 7.92234365e-02, 7.91017969e-02,\n",
       "       7.89739441e-02, 7.87209098e-02, 7.86610595e-02, 7.86081121e-02,\n",
       "       7.85899844e-02, 7.83795049e-02, 7.83418790e-02, 7.81193659e-02,\n",
       "       7.79891706e-02, 7.78735697e-02, 7.77496368e-02, 7.76297105e-02,\n",
       "       7.74929668e-02, 7.73942412e-02, 7.72717459e-02, 7.72288115e-02,\n",
       "       7.70617138e-02, 7.69834134e-02, 7.67672607e-02, 7.66238472e-02,\n",
       "       7.64751495e-02, 7.64485378e-02, 7.64058726e-02, 7.60925179e-02,\n",
       "       7.58686441e-02, 7.58793861e-02, 7.57158429e-02, 7.55735695e-02,\n",
       "       7.53942359e-02, 7.53131566e-02, 7.52123767e-02, 7.51261854e-02,\n",
       "       7.50710871e-02, 7.49513872e-02, 7.48514966e-02, 7.46874885e-02,\n",
       "       7.46061121e-02, 7.43344873e-02, 7.42751493e-02, 7.42016638e-02,\n",
       "       7.40209268e-02, 7.39741826e-02, 7.38473040e-02, 7.37912033e-02,\n",
       "       7.34955081e-02, 7.33143084e-02, 7.32757820e-02, 7.32135075e-02,\n",
       "       7.30224705e-02, 7.29054425e-02, 7.29037800e-02, 7.28239503e-02,\n",
       "       7.27345353e-02, 7.25475039e-02, 7.23983287e-02, 7.23350493e-02,\n",
       "       7.22537456e-02, 7.22367797e-02, 7.21196638e-02, 7.19046733e-02,\n",
       "       7.17560752e-02, 7.16866499e-02, 7.15831774e-02, 7.15517182e-02,\n",
       "       7.14139654e-02, 7.13545686e-02, 7.12422400e-02, 7.11692816e-02,\n",
       "       7.10083456e-02, 7.09067642e-02, 7.08290512e-02, 7.08195582e-02,\n",
       "       7.07015549e-02, 7.05010553e-02, 7.03812846e-02, 7.02647800e-02,\n",
       "       7.01565489e-02, 7.01428565e-02, 6.99917646e-02, 6.97840409e-02,\n",
       "       6.97585607e-02, 6.95548587e-02, 6.94730732e-02, 6.93711519e-02,\n",
       "       6.93448785e-02, 6.91626154e-02, 6.90648730e-02, 6.88859382e-02,\n",
       "       6.88208880e-02, 6.85169605e-02, 6.84295717e-02, 6.83389750e-02,\n",
       "       6.81923828e-02, 6.81100841e-02, 6.80762384e-02, 6.77566093e-02,\n",
       "       6.76263772e-02, 6.75588356e-02, 6.74015637e-02, 6.73861454e-02,\n",
       "       6.73273602e-02, 6.71879067e-02, 6.71244349e-02, 6.69486817e-02,\n",
       "       6.69056769e-02, 6.66751272e-02, 6.64895940e-02, 6.64288358e-02,\n",
       "       6.62174503e-02, 6.60804521e-02, 6.59311931e-02, 6.58139978e-02,\n",
       "       6.56706918e-02, 6.56033104e-02, 6.54036727e-02, 6.52483423e-02,\n",
       "       6.51098232e-02, 6.48731929e-02, 6.47294881e-02, 6.46312712e-02,\n",
       "       6.46093111e-02, 6.43329598e-02, 6.42446987e-02, 6.41399309e-02,\n",
       "       6.40427881e-02, 6.37813875e-02, 6.36313735e-02, 6.34735509e-02,\n",
       "       6.33434184e-02, 6.32934215e-02, 6.31113710e-02, 6.29482899e-02,\n",
       "       6.29326071e-02, 6.28243150e-02, 6.26162209e-02, 6.25072069e-02,\n",
       "       6.23324360e-02, 6.20743841e-02, 6.17938520e-02, 6.15269134e-02,\n",
       "       6.14647690e-02, 6.13749568e-02, 6.11773470e-02, 6.10077315e-02,\n",
       "       6.09589985e-02, 6.08886448e-02, 6.07984063e-02, 6.05054398e-02,\n",
       "       6.03734709e-02, 6.02745964e-02, 6.01144924e-02, 5.99586584e-02,\n",
       "       5.98417402e-02, 5.96819625e-02, 5.95772528e-02, 5.93347821e-02,\n",
       "       5.92616689e-02, 5.91073102e-02, 5.89466768e-02, 5.85985205e-02,\n",
       "       5.84364746e-02, 5.83198446e-02, 5.80894459e-02, 5.78811010e-02,\n",
       "       5.76700287e-02, 5.74461979e-02, 5.73921199e-02, 5.72186973e-02,\n",
       "       5.70727897e-02, 5.70579649e-02, 5.69609191e-02, 5.66656763e-02,\n",
       "       5.65761944e-02, 5.65068480e-02, 5.63879553e-02, 5.62455788e-02,\n",
       "       5.61845241e-02, 5.61087219e-02, 5.59852370e-02, 5.59141286e-02,\n",
       "       5.58391544e-02, 5.56871248e-02, 5.54611961e-02, 5.53679155e-02,\n",
       "       5.52073408e-02, 5.50415555e-02, 5.49196480e-02, 5.47946244e-02,\n",
       "       5.46673977e-02, 5.45001830e-02, 5.43624077e-02, 5.43184663e-02,\n",
       "       5.41357623e-02, 5.40150328e-02, 5.38148989e-02, 5.37492819e-02,\n",
       "       5.36256099e-02, 5.34792107e-02, 5.34817829e-02, 5.33350016e-02,\n",
       "       5.32355191e-02, 5.30874978e-02, 5.30806228e-02, 5.29388257e-02,\n",
       "       5.28860826e-02, 5.26476248e-02, 5.26156525e-02, 5.24932704e-02,\n",
       "       5.22387005e-02, 5.22612994e-02, 5.20865141e-02, 5.18770126e-02,\n",
       "       5.16705335e-02, 5.15599282e-02, 5.14566666e-02, 5.12054591e-02,\n",
       "       5.09669000e-02, 5.09013589e-02, 5.05588664e-02, 5.03601719e-02,\n",
       "       4.99677307e-02, 4.99813224e-02, 4.97148762e-02, 4.95579235e-02,\n",
       "       4.92807322e-02, 4.91279473e-02, 4.89731148e-02, 4.88822471e-02,\n",
       "       4.84779214e-02, 4.83997631e-02, 4.82512017e-02, 4.81601769e-02,\n",
       "       4.79993539e-02, 4.78367440e-02, 4.77470443e-02, 4.76289849e-02,\n",
       "       4.70713347e-02, 4.69977878e-02, 4.60979903e-02, 4.61143807e-02,\n",
       "       4.60772386e-02, 4.58796908e-02, 4.58568304e-02, 4.57484251e-02,\n",
       "       4.54759928e-02, 4.53876167e-02, 4.50667441e-02, 4.47768593e-02,\n",
       "       4.45988328e-02, 4.45272875e-02, 4.44030652e-02, 4.42065726e-02,\n",
       "       4.41325520e-02, 4.37174839e-02, 4.36419032e-02, 4.34861400e-02,\n",
       "       4.33083023e-02, 4.31560497e-02, 4.29066294e-02, 4.27198860e-02,\n",
       "       4.25015459e-02, 4.23441702e-02, 4.20929533e-02, 4.20631330e-02,\n",
       "       4.20093994e-02, 4.18843967e-02, 4.17813754e-02, 4.15777448e-02,\n",
       "       4.15148319e-02, 4.12856477e-02, 4.11991610e-02, 4.10819599e-02,\n",
       "       4.10396402e-02, 4.08810093e-02, 4.07412016e-02, 4.06457490e-02,\n",
       "       4.04930693e-02, 4.04810647e-02, 4.01456702e-02, 4.00705345e-02,\n",
       "       3.99912525e-02, 3.98716125e-02, 3.98331831e-02, 3.97912163e-02,\n",
       "       3.95835989e-02, 3.95863084e-02, 3.93516207e-02, 3.93343340e-02,\n",
       "       3.92062009e-02, 3.90851488e-02, 3.90613762e-02, 3.89784713e-02,\n",
       "       3.87632758e-02, 3.87340974e-02, 3.86367409e-02, 3.85139969e-02,\n",
       "       3.83442377e-02, 3.81948992e-02, 3.80714747e-02, 3.80408849e-02,\n",
       "       3.79186376e-02, 3.77052928e-02, 3.76826828e-02, 3.76205385e-02,\n",
       "       3.74982389e-02, 3.73952813e-02, 3.72794861e-02, 3.70541590e-02,\n",
       "       3.69370255e-02, 3.67861439e-02, 3.65757927e-02, 3.65119930e-02,\n",
       "       3.61773510e-02, 3.59265285e-02, 3.57780736e-02, 3.56323210e-02,\n",
       "       3.54989219e-02, 3.53319223e-02, 3.52634525e-02, 3.50147356e-02,\n",
       "       3.48742773e-02, 3.47267445e-02, 3.45596451e-02, 3.45117047e-02,\n",
       "       3.43920327e-02, 3.43472379e-02, 3.40232638e-02, 3.39650558e-02,\n",
       "       3.38838001e-02, 3.37182762e-02, 3.36912091e-02, 3.35685578e-02,\n",
       "       3.33958968e-02, 3.32848146e-02, 3.31608924e-02, 3.30852282e-02,\n",
       "       3.29062630e-02, 3.28319298e-02, 3.26578143e-02, 3.23602366e-02,\n",
       "       3.22450805e-02, 3.21336397e-02, 3.19920217e-02, 3.19347367e-02,\n",
       "       3.18380492e-02, 3.16046777e-02, 3.16004890e-02, 3.13340066e-02,\n",
       "       3.12845125e-02, 3.10874717e-02, 3.09118654e-02, 3.08568840e-02,\n",
       "       3.07512134e-02, 3.06090933e-02, 3.05261225e-02, 3.03405365e-02,\n",
       "       3.02098171e-02, 3.01548966e-02, 2.99579341e-02, 2.96720818e-02,\n",
       "       2.96044015e-02, 2.95283914e-02, 2.93116131e-02, 2.88542871e-02,\n",
       "       2.83188031e-02, 2.79570456e-02, 2.79149143e-02, 2.76577688e-02,\n",
       "       2.73448303e-02, 2.70393743e-02, 2.68047217e-02, 2.65764284e-02,\n",
       "       2.65320959e-02, 2.63124330e-02, 2.59223856e-02, 2.56482795e-02,\n",
       "       2.55444998e-02, 2.52014407e-02, 2.50777429e-02, 2.45922370e-02,\n",
       "       2.41642561e-02, 2.33129206e-02, 2.31529064e-02, 2.23903618e-02,\n",
       "       2.22599495e-02, 2.20010487e-02, 2.18445431e-02, 2.17783863e-02,\n",
       "       2.01072206e-02, 1.94586869e-02, 1.93419737e-02, 1.88518384e-02,\n",
       "       1.82395811e-02, 1.70579475e-02, 1.45295531e-02, 1.42217332e-02,\n",
       "       1.33686497e-02, 1.32651555e-02, 1.31800814e-02, 1.01519733e-02,\n",
       "       9.94123905e-03, 1.09413752e-04, 7.25075030e-32, 1.21554911e-31,\n",
       "       1.37918484e-31, 1.11705513e-31, 1.86134465e-31, 8.61170479e-32,\n",
       "       7.93266251e-32, 1.11201961e-31, 1.02253643e-31, 1.00890684e-31,\n",
       "       3.26803973e-32, 1.10924102e-31, 5.72818847e-32, 2.42007070e-31])"
      ]
     },
     "execution_count": 21,
     "metadata": {},
     "output_type": "execute_result"
    }
   ],
   "source": [
    "dimReduction.explained_variance_ratio_ * 100"
   ]
  },
  {
   "cell_type": "code",
   "execution_count": 22,
   "metadata": {},
   "outputs": [
    {
     "data": {
      "text/plain": [
       "array([  3.01237998,   4.06921498,   4.92553419,   5.79029629,\n",
       "         6.61533092,   6.92108491,   7.52686311,   8.10723821,\n",
       "         8.64856301,   9.14966653,   9.61550911,   9.92034802,\n",
       "        10.20138449,  10.44705037,  10.68845975,  10.92781796,\n",
       "        11.1634376 ,  11.39619119,  11.62626545,  11.8530381 ,\n",
       "        12.07229742,  12.28802156,  12.50186293,  12.71301511,\n",
       "        12.92386475,  13.13292436,  13.33880189,  13.54339235,\n",
       "        13.74500724,  13.94322613,  14.14070107,  14.33683766,\n",
       "        14.53079352,  14.72261569,  14.91386193,  15.10319237,\n",
       "        15.29175938,  15.47943355,  15.6666613 ,  15.85250516,\n",
       "        16.0367311 ,  16.22042889,  16.40311293,  16.58491203,\n",
       "        16.76564709,  16.94491003,  17.12351538,  17.30120791,\n",
       "        17.47808184,  17.65383173,  17.82938034,  18.00425104,\n",
       "        18.17821049,  18.35150004,  18.52393314,  18.69496795,\n",
       "        18.86568273,  19.03577772,  19.20509859,  19.37393192,\n",
       "        19.54223618,  19.71026462,  19.87744882,  20.04446701,\n",
       "        20.21086007,  20.37641616,  20.54173764,  20.70563082,\n",
       "        20.86944055,  21.03293115,  21.19550526,  21.35789713,\n",
       "        21.52010453,  21.68208976,  21.84262415,  22.00306741,\n",
       "        22.1630745 ,  22.3229545 ,  22.48205233,  22.64111693,\n",
       "        22.79967384,  22.95792526,  23.11586283,  23.27354475,\n",
       "        23.43099208,  23.5879872 ,  23.74483855,  23.90088525,\n",
       "        24.05680177,  24.21256754,  24.36771661,  24.52259839,\n",
       "        24.67731381,  24.83157638,  24.98572454,  25.13958379,\n",
       "        25.29314676,  25.44631546,  25.5992746 ,  25.75150655,\n",
       "        25.90364016,  26.0555217 ,  26.20725012,  26.35831477,\n",
       "        26.50935656,  26.66003761,  26.81043613,  26.96040578,\n",
       "        27.11002658,  27.25956659,  27.4087736 ,  27.55761475,\n",
       "        27.70640083,  27.8549714 ,  28.00340351,  28.15126965,\n",
       "        28.29896226,  28.44651466,  28.59368193,  28.74076939,\n",
       "        28.88756237,  29.03402802,  29.18020037,  29.32625381,\n",
       "        29.47182457,  29.61708276,  29.76224139,  29.90722179,\n",
       "        30.05177782,  30.19629487,  30.34058334,  30.48469153,\n",
       "        30.62853438,  30.77205309,  30.91538367,  31.05857177,\n",
       "        31.2015751 ,  31.34432818,  31.48662082,  31.62877425,\n",
       "        31.77080872,  31.91250088,  32.05394223,  32.19516173,\n",
       "        32.33622002,  32.47688848,  32.61741068,  32.75773453,\n",
       "        32.89794286,  33.03785716,  33.17763686,  33.31723326,\n",
       "        33.45654498,  33.59569087,  33.73448317,  33.87305937,\n",
       "        34.01128701,  34.14941059,  34.28741236,  34.42527721,\n",
       "        34.56281794,  34.70015637,  34.83734284,  34.97426176,\n",
       "        35.11103718,  35.24765545,  35.38398917,  35.52007516,\n",
       "        35.65605368,  35.7917822 ,  35.92728995,  36.06249475,\n",
       "        36.19758635,  36.33259275,  36.4671919 ,  36.60163228,\n",
       "        36.7358277 ,  36.86975249,  37.00363029,  37.13747187,\n",
       "        37.27110051,  37.40453361,  37.53790237,  37.67101813,\n",
       "        37.80384889,  37.93660224,  38.068993  ,  38.20125091,\n",
       "        38.33337145,  38.46522922,  38.59701991,  38.72853328,\n",
       "        38.85996045,  38.99117108,  39.12230156,  39.25312931,\n",
       "        39.38377685,  39.51420185,  39.64449233,  39.77449782,\n",
       "        39.90454193,  40.03438032,  40.16393175,  40.29329001,\n",
       "        40.42264115,  40.55160268,  40.68044848,  40.8090549 ,\n",
       "        40.93734502,  41.06557089,  41.19359687,  41.32154545,\n",
       "        41.44928331,  41.57677764,  41.70410133,  41.83116048,\n",
       "        41.9580527 ,  42.08465745,  42.21108001,  42.33747016,\n",
       "        42.46346629,  42.58949955,  42.71532294,  42.84108646,\n",
       "        42.96675917,  43.09220916,  43.21738431,  43.34254072,\n",
       "        43.46761537,  43.59249554,  43.71714203,  43.84171638,\n",
       "        43.96611635,  44.09018349,  44.21404188,  44.33787669,\n",
       "        44.46144162,  44.58476693,  44.70799973,  44.8310322 ,\n",
       "        44.95405719,  45.0766245 ,  45.19923641,  45.32173865,\n",
       "        45.44409182,  45.56627149,  45.68824989,  45.80996428,\n",
       "        45.9315259 ,  46.05297258,  46.17423814,  46.29547733,\n",
       "        46.41668266,  46.53776846,  46.65865665,  46.77950766,\n",
       "        46.90011442,  47.02051599,  47.14087057,  47.26107479,\n",
       "        47.3811694 ,  47.50085593,  47.62036646,  47.73978527,\n",
       "        47.85900411,  47.97796089,  48.09687347,  48.21567252,\n",
       "        48.3344363 ,  48.45300573,  48.57123999,  48.6892298 ,\n",
       "        48.80704314,  48.92478818,  49.04240277,  49.15983759,\n",
       "        49.27700539,  49.39395094,  49.51082501,  49.62763104,\n",
       "        49.74439893,  49.86103218,  49.97746352,  50.09365961,\n",
       "        50.20980791,  50.32580806,  50.44166143,  50.5573277 ,\n",
       "        50.67290763,  50.78838716,  50.90377976,  51.01898357,\n",
       "        51.13405244,  51.24900279,  51.36381787,  51.4786198 ,\n",
       "        51.59315512,  51.7075582 ,  51.82179606,  51.93593893,\n",
       "        52.04999721,  52.1638616 ,  52.27763362,  52.39116906,\n",
       "        52.50449503,  52.61785038,  52.73117132,  52.84434961,\n",
       "        52.9572579 ,  53.07017302,  53.18297074,  53.29540247,\n",
       "        53.40767702,  53.51981075,  53.63185243,  53.74381043,\n",
       "        53.85561691,  53.96735759,  54.07901165,  54.19043231,\n",
       "        54.30171345,  54.41289959,  54.52401468,  54.63489212,\n",
       "        54.74568359,  54.85625809,  54.96674901,  55.07702124,\n",
       "        55.18703513,  55.29711327,  55.40709816,  55.51696374,\n",
       "        55.6265856 ,  55.7360699 ,  55.84541895,  55.95463718,\n",
       "        56.06378643,  56.1729107 ,  56.28174197,  56.39034061,\n",
       "        56.49873878,  56.60706394,  56.71520506,  56.82323367,\n",
       "        56.93120908,  57.03896568,  57.14664969,  57.25418272,\n",
       "        57.36161726,  57.46894162,  57.57608631,  57.68315981,\n",
       "        57.79003202,  57.89679184,  58.00334274,  58.10988333,\n",
       "        58.21628374,  58.32246456,  58.42861938,  58.53468812,\n",
       "        58.64058098,  58.74639743,  58.85207122,  58.95760108,\n",
       "        59.06305115,  59.16826724,  59.27330451,  59.37832269,\n",
       "        59.48318313,  59.58803375,  59.6928231 ,  59.79737144,\n",
       "        59.90179435,  60.00615756,  60.11030531,  60.2141417 ,\n",
       "        60.31791288,  60.42168712,  60.52531993,  60.62886629,\n",
       "        60.73238932,  60.83581248,  60.93907815,  61.04219931,\n",
       "        61.1451357 ,  61.24796885,  61.35051677,  61.45303937,\n",
       "        61.55531817,  61.65746293,  61.7596019 ,  61.86140555,\n",
       "        61.96312501,  62.06479339,  62.1663837 ,  62.26779883,\n",
       "        62.36917683,  62.47038431,  62.57149131,  62.67246125,\n",
       "        62.77327272,  62.87403359,  62.9747068 ,  63.07512924,\n",
       "        63.1754084 ,  63.275488  ,  63.37549993,  63.475376  ,\n",
       "        63.57519764,  63.67494316,  63.77450914,  63.87396406,\n",
       "        63.97336187,  64.07263519,  64.17176759,  64.27079537,\n",
       "        64.36976573,  64.46857079,  64.56731319,  64.66603762,\n",
       "        64.76453743,  64.86288932,  64.96114532,  65.05926046,\n",
       "        65.15720809,  65.25496815,  65.35250822,  65.4500193 ,\n",
       "        65.54745209,  65.64466754,  65.74178304,  65.83874433,\n",
       "        65.93565706,  66.03239141,  66.12903678,  66.22546298,\n",
       "        66.32176456,  66.41790457,  66.51400936,  66.61004873,\n",
       "        66.70600162,  66.80182536,  66.89748234,  66.99303219,\n",
       "        67.08835615,  67.18356118,  67.27876445,  67.37383329,\n",
       "        67.46878909,  67.56372037,  67.65858114,  67.75337026,\n",
       "        67.84806275,  67.94256188,  68.03689164,  68.13119447,\n",
       "        68.22537455,  68.31950311,  68.41340313,  68.50713327,\n",
       "        68.60078521,  68.69426684,  68.78769863,  68.88094947,\n",
       "        68.97415471,  69.06731976,  69.16039784,  69.25331924,\n",
       "        69.34618831,  69.43895165,  69.53148854,  69.62380607,\n",
       "        69.71611761,  69.80828332,  69.90032701,  69.99227082,\n",
       "        70.08404695,  70.17574828,  70.26742366,  70.35887902,\n",
       "        70.45033825,  70.54174331,  70.63275558,  70.72375391,\n",
       "        70.81464975,  70.90542481,  70.99603929,  71.08656862,\n",
       "        71.17701199,  71.2673005 ,  71.35750288,  71.44760641,\n",
       "        71.53762011,  71.62743898,  71.71714397,  71.80678538,\n",
       "        71.89623507,  71.98552509,  72.07474719,  72.16366753,\n",
       "        72.25250762,  72.34129796,  72.4298766 ,  72.51843657,\n",
       "        72.60686028,  72.69521394,  72.78347606,  72.87162225,\n",
       "        72.95963759,  73.04755533,  73.13523376,  73.22287051,\n",
       "        73.31035369,  73.39781326,  73.48514314,  73.57234073,\n",
       "        73.65944744,  73.74643706,  73.83329761,  73.92004494,\n",
       "        74.00662201,  74.09311505,  74.17953718,  74.26576285,\n",
       "        74.35198361,  74.43801902,  74.52392204,  74.60967024,\n",
       "        74.69527107,  74.78080551,  74.8662452 ,  74.9516342 ,\n",
       "        75.03674715,  75.12182541,  75.20665833,  75.29149731,\n",
       "        75.37616738,  75.46067332,  75.5450977 ,  75.62948194,\n",
       "        75.71359134,  75.79766858,  75.8815462 ,  75.96536016,\n",
       "        76.04906734,  76.13260517,  76.21606326,  76.29926004,\n",
       "        76.38237541,  76.46541033,  76.54829803,  76.63102016,\n",
       "        76.7136259 ,  76.79616372,  76.8786327 ,  76.9609386 ,\n",
       "        77.04322688,  77.12527615,  77.20722072,  77.2890333 ,\n",
       "        77.37079711,  77.45241967,  77.53401247,  77.61534365,\n",
       "        77.69665432,  77.77791502,  77.85912522,  77.94015567,\n",
       "        78.02101636,  78.10180517,  78.18257532,  78.26302707,\n",
       "        78.34336695,  78.42366405,  78.50375786,  78.58366538,\n",
       "        78.66347571,  78.7431991 ,  78.82282907,  78.90230785,\n",
       "        78.98174907,  79.06107157,  79.14029501,  79.21939681,\n",
       "        79.29837075,  79.37709166,  79.45575272,  79.53436083,\n",
       "        79.61295082,  79.69133032,  79.7696722 ,  79.84779157,\n",
       "        79.92578074,  80.00365431,  80.08140394,  80.15903366,\n",
       "        80.23652662,  80.31392086,  80.39119261,  80.46842142,\n",
       "        80.54548313,  80.62246655,  80.69923381,  80.77585766,\n",
       "        80.85233281,  80.92878134,  81.00518722,  81.08127973,\n",
       "        81.15714838,  81.23302776,  81.30874361,  81.38431718,\n",
       "        81.45971141,  81.53502457,  81.61023695,  81.68536313,\n",
       "        81.76043422,  81.83538561,  81.9102371 ,  81.98492459,\n",
       "        82.0595307 ,  82.13386519,  82.20814034,  82.282342  ,\n",
       "        82.35636293,  82.43033711,  82.50418442,  82.57797562,\n",
       "        82.65147113,  82.72478544,  82.79806122,  82.87127473,\n",
       "        82.9442972 ,  83.01720264,  83.09010642,  83.16293037,\n",
       "        83.2356649 ,  83.30821241,  83.38061074,  83.45294579,\n",
       "        83.52519953,  83.59743631,  83.66955598,  83.74146065,\n",
       "        83.81321672,  83.88490337,  83.95648655,  84.02803827,\n",
       "        84.09945223,  84.1708068 ,  84.24204904,  84.31321832,\n",
       "        84.38422667,  84.45513343,  84.52596249,  84.59678204,\n",
       "        84.6674836 ,  84.73798465,  84.80836594,  84.87863072,\n",
       "        84.94878727,  85.01893012,  85.08892189,  85.15870593,\n",
       "        85.22846449,  85.29801935,  85.36749242,  85.43686357,\n",
       "        85.50620845,  85.57537107,  85.64443594,  85.71332188,\n",
       "        85.78214277,  85.85065973,  85.9190893 ,  85.98742827,\n",
       "        86.05562066,  86.12373074,  86.19180698,  86.25956359,\n",
       "        86.32718997,  86.3947488 ,  86.46215037,  86.52953651,\n",
       "        86.59686387,  86.66405178,  86.73117621,  86.79812489,\n",
       "        86.86503057,  86.9317057 ,  86.99819529,  87.06462413,\n",
       "        87.13084158,  87.19692203,  87.26285322,  87.32866722,\n",
       "        87.39433791,  87.45994122,  87.5253449 ,  87.59059324,\n",
       "        87.65570306,  87.72057626,  87.78530574,  87.84993701,\n",
       "        87.91454633,  87.97887929,  88.04312398,  88.10726392,\n",
       "        88.1713067 ,  88.23508809,  88.29871946,  88.36219302,\n",
       "        88.42553643,  88.48882986,  88.55194123,  88.61488952,\n",
       "        88.67782212,  88.74064644,  88.80326266,  88.86576987,\n",
       "        88.9281023 ,  88.99017669,  89.05197054,  89.11349745,\n",
       "        89.17496222,  89.23633718,  89.29751452,  89.35852226,\n",
       "        89.41948125,  89.4803699 ,  89.54116831,  89.60167374,\n",
       "        89.66204722,  89.72232181,  89.7824363 ,  89.84239496,\n",
       "        89.9022367 ,  89.96191867,  90.02149592,  90.0808307 ,\n",
       "        90.14009237,  90.19919968,  90.25814636,  90.31674488,\n",
       "        90.37518135,  90.4335012 ,  90.49159064,  90.54947174,\n",
       "        90.60714177,  90.66458797,  90.72198009,  90.77919879,\n",
       "        90.83627158,  90.89332954,  90.95029046,  91.00695614,\n",
       "        91.06353233,  91.12003918,  91.17642713,  91.23267271,\n",
       "        91.28885724,  91.34496596,  91.4009512 ,  91.45686532,\n",
       "        91.51270448,  91.5683916 ,  91.6238528 ,  91.67922072,\n",
       "        91.73442806,  91.78946961,  91.84438926,  91.89918388,\n",
       "        91.95385128,  92.00835146,  92.06271387,  92.11703234,\n",
       "        92.1711681 ,  92.22518313,  92.27899803,  92.33274731,\n",
       "        92.38637292,  92.43985214,  92.49333392,  92.54666892,\n",
       "        92.59990444,  92.65299194,  92.70607256,  92.75901139,\n",
       "        92.81189747,  92.86454509,  92.91716075,  92.96965402,\n",
       "        93.02189272,  93.07415402,  93.12624053,  93.17811754,\n",
       "        93.22978808,  93.281348  ,  93.33280467,  93.38401013,\n",
       "        93.43497703,  93.48587839,  93.53643725,  93.58679743,\n",
       "        93.63676516,  93.68674648,  93.73646136,  93.78601928,\n",
       "        93.83530001,  93.88442796,  93.93340107,  93.98228332,\n",
       "        94.03076124,  94.07916101,  94.12741221,  94.17557238,\n",
       "        94.22357174,  94.27140848,  94.31915553,  94.36678451,\n",
       "        94.41385585,  94.46085363,  94.50695162,  94.553066  ,\n",
       "        94.59914324,  94.64502293,  94.69087976,  94.73662819,\n",
       "        94.78210418,  94.8274918 ,  94.87255854,  94.9173354 ,\n",
       "        94.96193424,  95.00646152,  95.05086459,  95.09507116,\n",
       "        95.13920371,  95.1829212 ,  95.2265631 ,  95.27004924,\n",
       "        95.31335754,  95.35651359,  95.39942022,  95.44214011,\n",
       "        95.48464165,  95.52698582,  95.56907878,  95.61114191,\n",
       "        95.65315131,  95.69503571,  95.73681708,  95.77839483,\n",
       "        95.81990966,  95.86119531,  95.90239447,  95.94347643,\n",
       "        95.98451607,  96.02539708,  96.06613828,  96.10678403,\n",
       "        96.1472771 ,  96.18775816,  96.22790383,  96.26797437,\n",
       "        96.30796562,  96.34783723,  96.38767041,  96.42746163,\n",
       "        96.46704523,  96.50663154,  96.54598316,  96.58531749,\n",
       "        96.62452369,  96.66360884,  96.70267022,  96.74164869,\n",
       "        96.78041197,  96.81914606,  96.8577828 ,  96.8962968 ,\n",
       "        96.93464104,  96.97283594,  97.01090741,  97.0489483 ,\n",
       "        97.08686693,  97.12457223,  97.16225491,  97.19987545,\n",
       "        97.23737369,  97.27476897,  97.31204845,  97.34910261,\n",
       "        97.38603964,  97.42282578,  97.45940158,  97.49591357,\n",
       "        97.53209092,  97.56801745,  97.60379552,  97.63942784,\n",
       "        97.67492676,  97.71025869,  97.74552214,  97.78053688,\n",
       "        97.81541115,  97.8501379 ,  97.88469754,  97.91920925,\n",
       "        97.95360128,  97.98794852,  98.02197178,  98.05593684,\n",
       "        98.08982064,  98.12353891,  98.15723012,  98.19079868,\n",
       "        98.22419458,  98.25747939,  98.29064028,  98.32372551,\n",
       "        98.35663178,  98.38946371,  98.42212152,  98.45448176,\n",
       "        98.48672684,  98.51886048,  98.5508525 ,  98.58278723,\n",
       "        98.61462528,  98.64622996,  98.67783045,  98.70916446,\n",
       "        98.74044897,  98.77153644,  98.80244831,  98.83330519,\n",
       "        98.8640564 ,  98.8946655 ,  98.92519162,  98.95553216,\n",
       "        98.98574197,  99.01589687,  99.0458548 ,  99.07552689,\n",
       "        99.10513129,  99.13465968,  99.16397129,  99.19282558,\n",
       "        99.22114438,  99.24910143,  99.27701634,  99.30467411,\n",
       "        99.33201894,  99.35905832,  99.38586304,  99.41243947,\n",
       "        99.43897156,  99.46528399,  99.49120638,  99.51685466,\n",
       "        99.54239916,  99.5676006 ,  99.59267834,  99.61727058,\n",
       "        99.64143484,  99.66474776,  99.68790066,  99.71029103,\n",
       "        99.73255097,  99.75455202,  99.77639657,  99.79817495,\n",
       "        99.81828217,  99.83774086,  99.85708283,  99.87593467,\n",
       "        99.89417425,  99.9112322 ,  99.92576175,  99.93998349,\n",
       "        99.95335214,  99.96661729,  99.97979737,  99.98994935,\n",
       "        99.99989059, 100.        , 100.        , 100.        ,\n",
       "       100.        , 100.        , 100.        , 100.        ,\n",
       "       100.        , 100.        , 100.        , 100.        ,\n",
       "       100.        , 100.        , 100.        , 100.        ])"
      ]
     },
     "execution_count": 22,
     "metadata": {},
     "output_type": "execute_result"
    }
   ],
   "source": [
    "np.cumsum(dimReduction.explained_variance_ratio_ * 100)"
   ]
  },
  {
   "cell_type": "code",
   "execution_count": 23,
   "metadata": {},
   "outputs": [
    {
     "data": {
      "text/plain": [
       "Text(0, 0.5, 'Variancia explicada (%)')"
      ]
     },
     "execution_count": 23,
     "metadata": {},
     "output_type": "execute_result"
    },
    {
     "data": {
      "image/png": "[encoded data removed]",
      "text/plain": [
       "<Figure size 640x480 with 1 Axes>"
      ]
     },
     "metadata": {},
     "output_type": "display_data"
    }
   ],
   "source": [
    "plt.plot(np.cumsum(dimReduction.explained_variance_ratio_ * 100))\n",
    "plt.xlabel(\"Numero de componente\")\n",
    "plt.ylabel(\"Variancia explicada (%)\")"
   ]
  },
  {
   "cell_type": "code",
   "execution_count": 24,
   "metadata": {},
   "outputs": [
    {
     "name": "stdout",
     "output_type": "stream",
     "text": [
      "Variancia explicada por 2 componentes = 4.069166321415231\n"
     ]
    }
   ],
   "source": [
    "# Creamos instancia de la clase TruncatedSVD\n",
    "dimReduction2 = TruncatedSVD(n_components = 2, random_state = 2)\n",
    "\n",
    "# Ajustamos la transfromacion con nuestros datos\n",
    "dimReduction2.fit(vectFitScaled)\n",
    "\n",
    "# Reducimos la dimensionalidad\n",
    "dataReduction2 = dimReduction2.transform(vectFitScaled)\n",
    "\n",
    "print(\"Variancia explicada por 2 componentes = \" \\\n",
    "        + str(sum(dimReduction2.explained_variance_ratio_ * 100)))"
   ]
  },
  {
   "cell_type": "code",
   "execution_count": 25,
   "metadata": {},
   "outputs": [
    {
     "data": {
      "text/plain": [
       "Text(0, 0.5, 'Segundo componente')"
      ]
     },
     "execution_count": 25,
     "metadata": {},
     "output_type": "execute_result"
    },
    {
     "data": {
      "image/png": "[encoded data removed]",
      "text/plain": [
       "<Figure size 1000x700 with 1 Axes>"
      ]
     },
     "metadata": {},
     "output_type": "display_data"
    }
   ],
   "source": [
    "plt.figure(figsize=(10,7))\n",
    "sns.scatterplot(x=dataReduction2[:,0], y=dataReduction2[:,1], s=70)\n",
    "plt.title(f\"Variancia explicada por 2 componentes = {round(sum(dimReduction2.explained_variance_ratio_ * 100),3)} % \")\n",
    "plt.xlabel(\"Primer componente\")\n",
    "plt.ylabel(\"Segundo componente\")"
   ]
  },
  {
   "attachments": {},
   "cell_type": "markdown",
   "metadata": {},
   "source": [
    "Estandarizamos la matriz para meterla al LDA"
   ]
  },
  {
   "cell_type": "code",
   "execution_count": 26,
   "metadata": {},
   "outputs": [],
   "source": [
    "scaler = MaxAbsScaler()\n",
    "scaler.fit(vectFit)\n",
    "vectFitStandardized = scaler.transform(vectFit)"
   ]
  },
  {
   "cell_type": "code",
   "execution_count": 27,
   "metadata": {},
   "outputs": [
    {
     "name": "stdout",
     "output_type": "stream",
     "text": [
      "  (0, 35090)\t1.0\n",
      "  (0, 14512)\t0.9362427513109797\n",
      "  (0, 26566)\t1.0\n",
      "  (0, 30655)\t0.1509002418998035\n",
      "  (0, 35260)\t1.0\n",
      "  (0, 29916)\t1.0\n",
      "  (0, 14250)\t0.17675582454257108\n",
      "  (0, 9017)\t0.28517217590782434\n",
      "  (0, 21466)\t1.0\n",
      "  (0, 28649)\t0.37990288793596116\n",
      "  (0, 12345)\t0.7956730632305906\n",
      "  (0, 26326)\t1.0\n",
      "  (0, 7231)\t0.7966353200343786\n",
      "  (0, 6556)\t1.0\n",
      "  (0, 35678)\t0.9790780323013342\n",
      "  (0, 13639)\t0.3740788270343755\n",
      "  (0, 11481)\t1.0\n",
      "  (0, 645)\t0.5154804858496752\n",
      "  (0, 2354)\t1.0\n",
      "  (0, 36824)\t1.0\n",
      "  (0, 25616)\t0.3880963272765422\n",
      "  (0, 11345)\t0.9304457231744585\n",
      "  (0, 2839)\t1.0\n",
      "  (0, 34555)\t1.0\n",
      "  (0, 4969)\t0.7819055969136574\n",
      "  :\t:\n",
      "  (0, 2811)\t0.2817825483168083\n",
      "  (0, 534)\t0.3184262981122551\n",
      "  (0, 808)\t0.16606032745740706\n",
      "  (0, 12668)\t0.3073483249249431\n",
      "  (0, 22650)\t0.3506526380513422\n",
      "  (0, 25121)\t0.15009703727596302\n",
      "  (0, 12199)\t0.167687441516377\n",
      "  (0, 3347)\t0.07381891773451725\n",
      "  (0, 31616)\t0.20947516086171122\n",
      "  (0, 35638)\t0.09865113269958233\n",
      "  (0, 28267)\t0.10444930583564965\n",
      "  (0, 20899)\t0.2987761020557672\n",
      "  (0, 24074)\t0.3637809043826718\n",
      "  (0, 23078)\t0.2039323946685773\n",
      "  (0, 9089)\t0.12810346097626146\n",
      "  (0, 17252)\t0.08471205208535397\n",
      "  (0, 22636)\t0.37721297795857234\n",
      "  (0, 3032)\t0.17372237074597346\n",
      "  (0, 21254)\t0.15542845098085595\n",
      "  (0, 31049)\t0.09443480180374109\n",
      "  (0, 31401)\t0.2372373307597422\n",
      "  (0, 12246)\t0.34909895377203354\n",
      "  (0, 11145)\t1.0\n",
      "  (0, 24588)\t0.11223395455519271\n",
      "  (0, 21652)\t0.1082159756363101\n"
     ]
    }
   ],
   "source": [
    "print(vectFitStandardized[1])"
   ]
  },
  {
   "attachments": {},
   "cell_type": "markdown",
   "metadata": {},
   "source": [
    "Obtención de palabras clave usando TF-IDF"
   ]
  },
  {
   "cell_type": "code",
   "execution_count": 32,
   "metadata": {},
   "outputs": [
    {
     "name": "stdout",
     "output_type": "stream",
     "text": [
      "['confianza empresarial', 'situacion actual', 'empresarial', 'trimestre', 'confianza', 'destatis', 'ifo', 'pesimista', 'tercer trimestre', 'expectativa']\n"
     ]
    }
   ],
   "source": [
    "# Obtener el vocabulario de términos\n",
    "feature_names = vect.get_feature_names_out()\n",
    "\n",
    "# Obtener las frecuencias de términos en el primer documento\n",
    "doc_freqs = vectFit[0].toarray()[0]\n",
    "\n",
    "# Crear una lista de tuplas que contienen el término y su frecuencia en el primer documento\n",
    "doc_term_freqs = [(feature_names[i], doc_freqs[i]) for i in range(len(feature_names))]\n",
    "\n",
    "# Ordenar la lista de tuplas por la frecuencia descendente\n",
    "doc_term_freqs_sorted = sorted(doc_term_freqs, key=lambda x: x[1], reverse=True)\n",
    "\n",
    "# Obtener las 10 palabras clave más importantes para el primer documento\n",
    "doc_keywords = [term for term, freq in doc_term_freqs_sorted[:10]]\n",
    "\n",
    "print(doc_keywords)\n"
   ]
  },
  {
   "cell_type": "code",
   "execution_count": 41,
   "metadata": {},
   "outputs": [
    {
     "name": "stdout",
     "output_type": "stream",
     "text": [
      "Tópico: 10 \n",
      "Palabras clave: 0.008*\"el\" + 0.006*\"poder\" + 0.006*\"millon\" + 0.005*\"hacer\" + 0.005*\"ser\" + 0.004*\"año\" + 0.004*\"nuevo\" + 0.004*\"euros\" + 0.003*\"primero\" + 0.003*\"si\"\n",
      "\n",
      "Tópico: 1 \n",
      "Palabras clave: 0.008*\"el\" + 0.007*\"poder\" + 0.004*\"nuevo\" + 0.004*\"ser\" + 0.004*\"año\" + 0.003*\"hacer\" + 0.003*\"primero\" + 0.003*\"ir\" + 0.003*\"ver\" + 0.003*\"millon\"\n",
      "\n",
      "Tópico: 9 \n",
      "Palabras clave: 0.013*\"el\" + 0.007*\"año\" + 0.005*\"poder\" + 0.005*\"ser\" + 0.004*\"euros\" + 0.004*\"hacer\" + 0.004*\"millon\" + 0.003*\"nuevo\" + 0.003*\"si\" + 0.003*\"primero\"\n",
      "\n"
     ]
    }
   ],
   "source": [
    "# Importar las bibliotecas necesarias\n",
    "import gensim\n",
    "from gensim import corpora\n",
    "from gensim.models import LdaModel\n",
    "import pandas as pd\n",
    "from nltk.tokenize import TreebankWordTokenizer\n",
    "\n",
    "# Tokenizar los documentos utilizando el tokenizador de Penn Treebank\n",
    "tokenizer = TreebankWordTokenizer()\n",
    "documentos = []\n",
    "for documento in textoPrueba['text'].tolist():\n",
    "    tokens = tokenizer.tokenize(documento)\n",
    "    documentos.append(tokens)\n",
    "\n",
    "# Crear un diccionario de términos a partir de los documentos\n",
    "dictionary = corpora.Dictionary(documentos)\n",
    "\n",
    "# Crear una representación de la bolsa de palabras de los documentos\n",
    "corpus = [dictionary.doc2bow(documento) for documento in documentos]\n",
    "\n",
    "# Entrenar un modelo LDA con 10 tópicos\n",
    "model_lda = LdaModel(corpus=corpus, num_topics=10, id2word=dictionary)\n",
    "\n",
    "# Imprimir los tópicos\n",
    "for idx, topic in model_lda.print_topics(num_topics=3):\n",
    "    print('Tópico: {} \\nPalabras clave: {}\\n'.format(idx+1, topic))\n"
   ]
  }
 ],
 "metadata": {
  "kernelspec": {
   "display_name": "Python 3",
   "language": "python",
   "name": "python3"
  },
  "language_info": {
   "codemirror_mode": {
    "name": "ipython",
    "version": 3
   },
   "file_extension": ".py",
   "mimetype": "text/x-python",
   "name": "python",
   "nbconvert_exporter": "python",
   "pygments_lexer": "ipython3",
   "version": "3.10.6"
  },
  "orig_nbformat": 4
 },
 "nbformat": 4,
 "nbformat_minor": 2
}
