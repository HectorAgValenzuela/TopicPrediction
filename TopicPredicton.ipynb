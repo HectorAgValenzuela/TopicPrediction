{
 "cells": [
  {
   "attachments": {},
   "cell_type": "markdown",
   "metadata": {},
   "source": [
    "# Predicción de tópicos\n",
    "Se desea extraer los tópicos principales de cada semana dentro del ámbito político"
   ]
  },
  {
   "cell_type": "code",
   "execution_count": null,
   "metadata": {},
   "outputs": [],
   "source": []
  },
  {
   "attachments": {},
   "cell_type": "markdown",
   "metadata": {},
   "source": [
    "## Librerias"
   ]
  },
  {
   "cell_type": "code",
   "execution_count": 31,
   "metadata": {},
   "outputs": [],
   "source": [
    "import pandas as pd\n",
    "import re # expresiones regulares (regex)\n",
    "from nltk.corpus import stopwords"
   ]
  },
  {
   "attachments": {},
   "cell_type": "markdown",
   "metadata": {},
   "source": [
    "# Preprocesamiento"
   ]
  },
  {
   "cell_type": "code",
   "execution_count": 22,
   "metadata": {},
   "outputs": [
    {
     "name": "stdout",
     "output_type": "stream",
     "text": [
      "(10000, 1)\n"
     ]
    },
    {
     "data": {
      "text/html": [
       "<div>\n",
       "<style scoped>\n",
       "    .dataframe tbody tr th:only-of-type {\n",
       "        vertical-align: middle;\n",
       "    }\n",
       "\n",
       "    .dataframe tbody tr th {\n",
       "        vertical-align: top;\n",
       "    }\n",
       "\n",
       "    .dataframe thead th {\n",
       "        text-align: right;\n",
       "    }\n",
       "</style>\n",
       "<table border=\"1\" class=\"dataframe\">\n",
       "  <thead>\n",
       "    <tr style=\"text-align: right;\">\n",
       "      <th></th>\n",
       "      <th>text</th>\n",
       "    </tr>\n",
       "  </thead>\n",
       "  <tbody>\n",
       "    <tr>\n",
       "      <th>0</th>\n",
       "      <td>Angela Merkel ayer en Berlin tras la cumbre te...</td>\n",
       "    </tr>\n",
       "    <tr>\n",
       "      <th>1</th>\n",
       "      <td>\\n\\n\\n\\n\\nEnrique Quemada Clariana\\nFusiones y...</td>\n",
       "    </tr>\n",
       "    <tr>\n",
       "      <th>2</th>\n",
       "      <td>¿Cuántas veces no ha querido ser su propio jef...</td>\n",
       "    </tr>\n",
       "    <tr>\n",
       "      <th>3</th>\n",
       "      <td>El ministro de Sanidad, Salvador Illa, momento...</td>\n",
       "    </tr>\n",
       "    <tr>\n",
       "      <th>4</th>\n",
       "      <td>El Pleno del Congreso ha aprobado el proyecto ...</td>\n",
       "    </tr>\n",
       "    <tr>\n",
       "      <th>5</th>\n",
       "      <td>Vacunarse de la gripe para aliviar los hospita...</td>\n",
       "    </tr>\n",
       "    <tr>\n",
       "      <th>6</th>\n",
       "      <td>Elon Musk, fundador de Tesla. EFE\\n\\nLa compañ...</td>\n",
       "    </tr>\n",
       "    <tr>\n",
       "      <th>7</th>\n",
       "      <td>Una usuaria consulta la aplicación de banca ar...</td>\n",
       "    </tr>\n",
       "    <tr>\n",
       "      <th>8</th>\n",
       "      <td>Las consecuencias socioeconómicas de la pandem...</td>\n",
       "    </tr>\n",
       "    <tr>\n",
       "      <th>9</th>\n",
       "      <td>La aerolínea Ryanair anunció este viernes que ...</td>\n",
       "    </tr>\n",
       "  </tbody>\n",
       "</table>\n",
       "</div>"
      ],
      "text/plain": [
       "                                                text\n",
       "0  Angela Merkel ayer en Berlin tras la cumbre te...\n",
       "1  \\n\\n\\n\\n\\nEnrique Quemada Clariana\\nFusiones y...\n",
       "2  ¿Cuántas veces no ha querido ser su propio jef...\n",
       "3  El ministro de Sanidad, Salvador Illa, momento...\n",
       "4  El Pleno del Congreso ha aprobado el proyecto ...\n",
       "5  Vacunarse de la gripe para aliviar los hospita...\n",
       "6  Elon Musk, fundador de Tesla. EFE\\n\\nLa compañ...\n",
       "7  Una usuaria consulta la aplicación de banca ar...\n",
       "8  Las consecuencias socioeconómicas de la pandem...\n",
       "9  La aerolínea Ryanair anunció este viernes que ..."
      ]
     },
     "execution_count": 22,
     "metadata": {},
     "output_type": "execute_result"
    }
   ],
   "source": [
    "# Archivo npr.csv es para hacer pruebas\n",
    "\n",
    "df = pd.read_csv('noticias-economicas-sample.csv')\n",
    "\n",
    "textoPrueba = df[['text']]\n",
    "\n",
    "print(textoPrueba.shape)\n",
    "textoPrueba.head(10)"
   ]
  },
  {
   "attachments": {},
   "cell_type": "markdown",
   "metadata": {},
   "source": [
    "### Normalizamos el texto, quitamos mayúsculas y signos de puntuación"
   ]
  },
  {
   "cell_type": "code",
   "execution_count": 12,
   "metadata": {},
   "outputs": [],
   "source": [
    "# FUNCIÓN PARA NORMALIZAR EL TEXTO\n",
    "def noPuntuacion(text): return re.findall(r'[a-zA-ZñÑáéíóúÁÉÍÓÚüÜ]+', text.lower())\n",
    "# Elimina signos de puntuación y solo deja letras en minúsculas. No elimina tildes."
   ]
  },
  {
   "cell_type": "code",
   "execution_count": 30,
   "metadata": {},
   "outputs": [
    {
     "data": {
      "text/html": [
       "<div>\n",
       "<style scoped>\n",
       "    .dataframe tbody tr th:only-of-type {\n",
       "        vertical-align: middle;\n",
       "    }\n",
       "\n",
       "    .dataframe tbody tr th {\n",
       "        vertical-align: top;\n",
       "    }\n",
       "\n",
       "    .dataframe thead th {\n",
       "        text-align: right;\n",
       "    }\n",
       "</style>\n",
       "<table border=\"1\" class=\"dataframe\">\n",
       "  <thead>\n",
       "    <tr style=\"text-align: right;\">\n",
       "      <th></th>\n",
       "      <th>texto normalizado</th>\n",
       "    </tr>\n",
       "  </thead>\n",
       "  <tbody>\n",
       "    <tr>\n",
       "      <th>0</th>\n",
       "      <td>angela merkel ayer en berlin tras la cumbre te...</td>\n",
       "    </tr>\n",
       "    <tr>\n",
       "      <th>1</th>\n",
       "      <td>enrique quemada clariana fusiones y adquisicio...</td>\n",
       "    </tr>\n",
       "    <tr>\n",
       "      <th>2</th>\n",
       "      <td>cuántas veces no ha querido ser su propio jefe...</td>\n",
       "    </tr>\n",
       "    <tr>\n",
       "      <th>3</th>\n",
       "      <td>el ministro de sanidad salvador illa momentos ...</td>\n",
       "    </tr>\n",
       "    <tr>\n",
       "      <th>4</th>\n",
       "      <td>el pleno del congreso ha aprobado el proyecto ...</td>\n",
       "    </tr>\n",
       "    <tr>\n",
       "      <th>5</th>\n",
       "      <td>vacunarse de la gripe para aliviar los hospita...</td>\n",
       "    </tr>\n",
       "    <tr>\n",
       "      <th>6</th>\n",
       "      <td>elon musk fundador de tesla efe la compañía in...</td>\n",
       "    </tr>\n",
       "    <tr>\n",
       "      <th>7</th>\n",
       "      <td>una usuaria consulta la aplicación de banca ar...</td>\n",
       "    </tr>\n",
       "    <tr>\n",
       "      <th>8</th>\n",
       "      <td>las consecuencias socioeconómicas de la pandem...</td>\n",
       "    </tr>\n",
       "    <tr>\n",
       "      <th>9</th>\n",
       "      <td>la aerolínea ryanair anunció este viernes que ...</td>\n",
       "    </tr>\n",
       "  </tbody>\n",
       "</table>\n",
       "</div>"
      ],
      "text/plain": [
       "                                   texto normalizado\n",
       "0  angela merkel ayer en berlin tras la cumbre te...\n",
       "1  enrique quemada clariana fusiones y adquisicio...\n",
       "2  cuántas veces no ha querido ser su propio jefe...\n",
       "3  el ministro de sanidad salvador illa momentos ...\n",
       "4  el pleno del congreso ha aprobado el proyecto ...\n",
       "5  vacunarse de la gripe para aliviar los hospita...\n",
       "6  elon musk fundador de tesla efe la compañía in...\n",
       "7  una usuaria consulta la aplicación de banca ar...\n",
       "8  las consecuencias socioeconómicas de la pandem...\n",
       "9  la aerolínea ryanair anunció este viernes que ..."
      ]
     },
     "execution_count": 30,
     "metadata": {},
     "output_type": "execute_result"
    }
   ],
   "source": [
    "textoPruebaNorm = pd.DataFrame(textoPrueba[\"text\"].apply(noPuntuacion).apply(lambda x: \" \".join(x)))\n",
    "textoPruebaNorm.columns = [\"texto normalizado\"]\n",
    "textoPruebaNorm.head(10)"
   ]
  },
  {
   "cell_type": "code",
   "execution_count": null,
   "metadata": {},
   "outputs": [],
   "source": []
  }
 ],
 "metadata": {
  "kernelspec": {
   "display_name": "Python 3",
   "language": "python",
   "name": "python3"
  },
  "language_info": {
   "codemirror_mode": {
    "name": "ipython",
    "version": 3
   },
   "file_extension": ".py",
   "mimetype": "text/x-python",
   "name": "python",
   "nbconvert_exporter": "python",
   "pygments_lexer": "ipython3",
   "version": "3.9.7"
  },
  "orig_nbformat": 4
 },
 "nbformat": 4,
 "nbformat_minor": 2
}
