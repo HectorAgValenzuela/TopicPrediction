{
 "cells": [
  {
   "attachments": {},
   "cell_type": "markdown",
   "metadata": {},
   "source": [
    "# Predicción de tópicos\n",
    "Se desea extraer los tópicos principales de cada semana dentro del ámbito político"
   ]
  },
  {
   "cell_type": "code",
   "execution_count": null,
   "metadata": {},
   "outputs": [],
   "source": []
  },
  {
   "attachments": {},
   "cell_type": "markdown",
   "metadata": {},
   "source": [
    "## Librerias"
   ]
  },
  {
   "cell_type": "code",
   "execution_count": 1,
   "metadata": {},
   "outputs": [],
   "source": [
    "import pandas as pd\n",
    "import numpy as np\n",
    "import re # expresiones regulares (regex)\n",
    "from nltk.corpus import stopwords\n",
    "from nltk.stem import SnowballStemmer\n",
    "import spacy\n",
    "from sklearn.feature_extraction.text import TfidfVectorizer\n",
    "from nltk.tokenize import TreebankWordTokenizer\n",
    "from sklearn.preprocessing import StandardScaler\n",
    "from sklearn.decomposition import TruncatedSVD\n",
    "import matplotlib.pyplot as plt\n",
    "import seaborn as sns\n",
    "from sklearn.preprocessing import MaxAbsScaler"
   ]
  },
  {
   "attachments": {},
   "cell_type": "markdown",
   "metadata": {},
   "source": [
    "# Preprocesamiento"
   ]
  },
  {
   "attachments": {},
   "cell_type": "markdown",
   "metadata": {},
   "source": [
    "* Eliminamos stopwords\n",
    "* Normalizamos el texto (quitamos mayúsculas y signos de puntuación)\n",
    "* lematizamos\n",
    "* Vectorizamos y hacemos n-gramas\n",
    "* Usamos SVD para ver cuantos topicos pueden tener los documentos"
   ]
  },
  {
   "cell_type": "code",
   "execution_count": 2,
   "metadata": {},
   "outputs": [
    {
     "name": "stdout",
     "output_type": "stream",
     "text": [
      "(1000, 1)\n"
     ]
    },
    {
     "data": {
      "text/html": [
       "<div>\n",
       "<style scoped>\n",
       "    .dataframe tbody tr th:only-of-type {\n",
       "        vertical-align: middle;\n",
       "    }\n",
       "\n",
       "    .dataframe tbody tr th {\n",
       "        vertical-align: top;\n",
       "    }\n",
       "\n",
       "    .dataframe thead th {\n",
       "        text-align: right;\n",
       "    }\n",
       "</style>\n",
       "<table border=\"1\" class=\"dataframe\">\n",
       "  <thead>\n",
       "    <tr style=\"text-align: right;\">\n",
       "      <th></th>\n",
       "      <th>text</th>\n",
       "    </tr>\n",
       "  </thead>\n",
       "  <tbody>\n",
       "    <tr>\n",
       "      <th>0</th>\n",
       "      <td>Angela Merkel ayer en Berlin tras la cumbre te...</td>\n",
       "    </tr>\n",
       "    <tr>\n",
       "      <th>1</th>\n",
       "      <td>\\n\\n\\n\\n\\nEnrique Quemada Clariana\\nFusiones y...</td>\n",
       "    </tr>\n",
       "    <tr>\n",
       "      <th>2</th>\n",
       "      <td>¿Cuántas veces no ha querido ser su propio jef...</td>\n",
       "    </tr>\n",
       "    <tr>\n",
       "      <th>3</th>\n",
       "      <td>El ministro de Sanidad, Salvador Illa, momento...</td>\n",
       "    </tr>\n",
       "    <tr>\n",
       "      <th>4</th>\n",
       "      <td>El Pleno del Congreso ha aprobado el proyecto ...</td>\n",
       "    </tr>\n",
       "    <tr>\n",
       "      <th>5</th>\n",
       "      <td>Vacunarse de la gripe para aliviar los hospita...</td>\n",
       "    </tr>\n",
       "    <tr>\n",
       "      <th>6</th>\n",
       "      <td>Elon Musk, fundador de Tesla. EFE\\n\\nLa compañ...</td>\n",
       "    </tr>\n",
       "    <tr>\n",
       "      <th>7</th>\n",
       "      <td>Una usuaria consulta la aplicación de banca ar...</td>\n",
       "    </tr>\n",
       "    <tr>\n",
       "      <th>8</th>\n",
       "      <td>Las consecuencias socioeconómicas de la pandem...</td>\n",
       "    </tr>\n",
       "    <tr>\n",
       "      <th>9</th>\n",
       "      <td>La aerolínea Ryanair anunció este viernes que ...</td>\n",
       "    </tr>\n",
       "  </tbody>\n",
       "</table>\n",
       "</div>"
      ],
      "text/plain": [
       "                                                text\n",
       "0  Angela Merkel ayer en Berlin tras la cumbre te...\n",
       "1  \\n\\n\\n\\n\\nEnrique Quemada Clariana\\nFusiones y...\n",
       "2  ¿Cuántas veces no ha querido ser su propio jef...\n",
       "3  El ministro de Sanidad, Salvador Illa, momento...\n",
       "4  El Pleno del Congreso ha aprobado el proyecto ...\n",
       "5  Vacunarse de la gripe para aliviar los hospita...\n",
       "6  Elon Musk, fundador de Tesla. EFE\\n\\nLa compañ...\n",
       "7  Una usuaria consulta la aplicación de banca ar...\n",
       "8  Las consecuencias socioeconómicas de la pandem...\n",
       "9  La aerolínea Ryanair anunció este viernes que ..."
      ]
     },
     "execution_count": 2,
     "metadata": {},
     "output_type": "execute_result"
    }
   ],
   "source": [
    "# Archivo npr.csv es para hacer pruebas\n",
    "\n",
    "df = pd.read_csv('noticias-economicas-sample.csv')\n",
    "\n",
    "textoPrueba = df[['text']].copy() # Pongo .copy() porque cuando intentas \n",
    "                                  # quitar las stopwords sale un warning.\n",
    "textoPrueba = textoPrueba.head(1000)\n",
    "\n",
    "print(textoPrueba.shape)\n",
    "textoPrueba.head(10)"
   ]
  },
  {
   "attachments": {},
   "cell_type": "markdown",
   "metadata": {},
   "source": [
    "Eliminamos stopwords"
   ]
  },
  {
   "cell_type": "code",
   "execution_count": 3,
   "metadata": {},
   "outputs": [],
   "source": [
    "# Función para eliminar stopwords en español\n",
    "\n",
    "def noStopwords(text):\n",
    "    \n",
    "    sw_es = set(stopwords.words('spanish'))\n",
    "\n",
    "    text = ' '.join([word for word in text.split() if word.lower() not in sw_es])\n",
    "    \n",
    "    return text\n"
   ]
  },
  {
   "cell_type": "code",
   "execution_count": 4,
   "metadata": {},
   "outputs": [
    {
     "data": {
      "text/html": [
       "<div>\n",
       "<style scoped>\n",
       "    .dataframe tbody tr th:only-of-type {\n",
       "        vertical-align: middle;\n",
       "    }\n",
       "\n",
       "    .dataframe tbody tr th {\n",
       "        vertical-align: top;\n",
       "    }\n",
       "\n",
       "    .dataframe thead th {\n",
       "        text-align: right;\n",
       "    }\n",
       "</style>\n",
       "<table border=\"1\" class=\"dataframe\">\n",
       "  <thead>\n",
       "    <tr style=\"text-align: right;\">\n",
       "      <th></th>\n",
       "      <th>text</th>\n",
       "    </tr>\n",
       "  </thead>\n",
       "  <tbody>\n",
       "    <tr>\n",
       "      <th>0</th>\n",
       "      <td>Angela Merkel ayer Berlin tras cumbre telemáti...</td>\n",
       "    </tr>\n",
       "    <tr>\n",
       "      <th>1</th>\n",
       "      <td>Enrique Quemada Clariana Fusiones adquisicione...</td>\n",
       "    </tr>\n",
       "    <tr>\n",
       "      <th>2</th>\n",
       "      <td>¿Cuántas veces querido ser propio jefe? ¿Cuánt...</td>\n",
       "    </tr>\n",
       "    <tr>\n",
       "      <th>3</th>\n",
       "      <td>ministro Sanidad, Salvador Illa, momentos rued...</td>\n",
       "    </tr>\n",
       "    <tr>\n",
       "      <th>4</th>\n",
       "      <td>Pleno Congreso aprobado proyecto Presupuestos ...</td>\n",
       "    </tr>\n",
       "  </tbody>\n",
       "</table>\n",
       "</div>"
      ],
      "text/plain": [
       "                                                text\n",
       "0  Angela Merkel ayer Berlin tras cumbre telemáti...\n",
       "1  Enrique Quemada Clariana Fusiones adquisicione...\n",
       "2  ¿Cuántas veces querido ser propio jefe? ¿Cuánt...\n",
       "3  ministro Sanidad, Salvador Illa, momentos rued...\n",
       "4  Pleno Congreso aprobado proyecto Presupuestos ..."
      ]
     },
     "execution_count": 4,
     "metadata": {},
     "output_type": "execute_result"
    }
   ],
   "source": [
    "textoPrueba['text'] = textoPrueba['text'].apply(noStopwords)\n",
    "textoPrueba.head()"
   ]
  },
  {
   "attachments": {},
   "cell_type": "markdown",
   "metadata": {},
   "source": [
    "Normalizamos el texto, quitamos mayúsculas y signos de puntuación"
   ]
  },
  {
   "cell_type": "code",
   "execution_count": 5,
   "metadata": {},
   "outputs": [],
   "source": [
    "# Función para normalizar el texto\n",
    "\n",
    "def noPuntuacion(text):\n",
    "\n",
    "    text = text.lower()\n",
    "\n",
    "    text = re.sub('[áäàâ]', 'a', text)\n",
    "    text = re.sub('[éëèê]', 'e', text)\n",
    "    text = re.sub('[íïìî]', 'i', text)\n",
    "    text = re.sub('[óöòô]', 'o', text)\n",
    "    text = re.sub('[úüùû]', 'u', text)\n",
    "\n",
    "    return re.findall(r'[a-zñ]+', text)"
   ]
  },
  {
   "cell_type": "code",
   "execution_count": 6,
   "metadata": {},
   "outputs": [
    {
     "data": {
      "text/html": [
       "<div>\n",
       "<style scoped>\n",
       "    .dataframe tbody tr th:only-of-type {\n",
       "        vertical-align: middle;\n",
       "    }\n",
       "\n",
       "    .dataframe tbody tr th {\n",
       "        vertical-align: top;\n",
       "    }\n",
       "\n",
       "    .dataframe thead th {\n",
       "        text-align: right;\n",
       "    }\n",
       "</style>\n",
       "<table border=\"1\" class=\"dataframe\">\n",
       "  <thead>\n",
       "    <tr style=\"text-align: right;\">\n",
       "      <th></th>\n",
       "      <th>text</th>\n",
       "    </tr>\n",
       "  </thead>\n",
       "  <tbody>\n",
       "    <tr>\n",
       "      <th>0</th>\n",
       "      <td>angela merkel ayer berlin tras cumbre telemati...</td>\n",
       "    </tr>\n",
       "    <tr>\n",
       "      <th>1</th>\n",
       "      <td>enrique quemada clariana fusiones adquisicione...</td>\n",
       "    </tr>\n",
       "    <tr>\n",
       "      <th>2</th>\n",
       "      <td>cuantas veces querido ser propio jefe cuantas ...</td>\n",
       "    </tr>\n",
       "    <tr>\n",
       "      <th>3</th>\n",
       "      <td>ministro sanidad salvador illa momentos rueda ...</td>\n",
       "    </tr>\n",
       "    <tr>\n",
       "      <th>4</th>\n",
       "      <td>pleno congreso aprobado proyecto presupuestos ...</td>\n",
       "    </tr>\n",
       "  </tbody>\n",
       "</table>\n",
       "</div>"
      ],
      "text/plain": [
       "                                                text\n",
       "0  angela merkel ayer berlin tras cumbre telemati...\n",
       "1  enrique quemada clariana fusiones adquisicione...\n",
       "2  cuantas veces querido ser propio jefe cuantas ...\n",
       "3  ministro sanidad salvador illa momentos rueda ...\n",
       "4  pleno congreso aprobado proyecto presupuestos ..."
      ]
     },
     "execution_count": 6,
     "metadata": {},
     "output_type": "execute_result"
    }
   ],
   "source": [
    "textoPrueba['text'] = textoPrueba['text'].apply(noPuntuacion).apply(lambda x: \" \".join(x))\n",
    "textoPrueba.head()"
   ]
  },
  {
   "attachments": {},
   "cell_type": "markdown",
   "metadata": {},
   "source": [
    "Aplicamos lematización"
   ]
  },
  {
   "cell_type": "code",
   "execution_count": 7,
   "metadata": {},
   "outputs": [],
   "source": [
    "# Función para lematizar al texto\n",
    "def lemmatize_text(text):\n",
    "\n",
    "    # Cargamos el módulo de español\n",
    "    nlp = spacy.load(\"es_core_news_sm\")\n",
    "\n",
    "    # nlp crea una pipeline que le adhiere metadata que la paquetería spacy usa\n",
    "    doc = nlp(text)\n",
    "\n",
    "    lemmatized_text = \" \".join([token.lemma_ for token in doc])\n",
    "    \n",
    "    return lemmatized_text"
   ]
  },
  {
   "cell_type": "code",
   "execution_count": 8,
   "metadata": {},
   "outputs": [
    {
     "data": {
      "text/html": [
       "<div>\n",
       "<style scoped>\n",
       "    .dataframe tbody tr th:only-of-type {\n",
       "        vertical-align: middle;\n",
       "    }\n",
       "\n",
       "    .dataframe tbody tr th {\n",
       "        vertical-align: top;\n",
       "    }\n",
       "\n",
       "    .dataframe thead th {\n",
       "        text-align: right;\n",
       "    }\n",
       "</style>\n",
       "<table border=\"1\" class=\"dataframe\">\n",
       "  <thead>\n",
       "    <tr style=\"text-align: right;\">\n",
       "      <th></th>\n",
       "      <th>text</th>\n",
       "    </tr>\n",
       "  </thead>\n",
       "  <tbody>\n",
       "    <tr>\n",
       "      <th>0</th>\n",
       "      <td>angelar merkel ayer berlin tras cumbre telemat...</td>\n",
       "    </tr>\n",
       "    <tr>\n",
       "      <th>1</th>\n",
       "      <td>enrique quemado clarián fusión adquisición act...</td>\n",
       "    </tr>\n",
       "    <tr>\n",
       "      <th>2</th>\n",
       "      <td>cuanta vez querido ser propio jefe cuanta vez ...</td>\n",
       "    </tr>\n",
       "    <tr>\n",
       "      <th>3</th>\n",
       "      <td>ministro sanidad salvador illa momento rodar p...</td>\n",
       "    </tr>\n",
       "    <tr>\n",
       "      <th>4</th>\n",
       "      <td>pleno congreso aprobado proyecto presupuesto g...</td>\n",
       "    </tr>\n",
       "  </tbody>\n",
       "</table>\n",
       "</div>"
      ],
      "text/plain": [
       "                                                text\n",
       "0  angelar merkel ayer berlin tras cumbre telemat...\n",
       "1  enrique quemado clarián fusión adquisición act...\n",
       "2  cuanta vez querido ser propio jefe cuanta vez ...\n",
       "3  ministro sanidad salvador illa momento rodar p...\n",
       "4  pleno congreso aprobado proyecto presupuesto g..."
      ]
     },
     "execution_count": 8,
     "metadata": {},
     "output_type": "execute_result"
    }
   ],
   "source": [
    "textoPrueba['text'] = textoPrueba['text'].apply(lemmatize_text)\n",
    "textoPrueba.head()"
   ]
  },
  {
   "attachments": {},
   "cell_type": "markdown",
   "metadata": {},
   "source": [
    "Aplicamos stemming (Esta madre lo mas probable es que no lo pongamos)"
   ]
  },
  {
   "cell_type": "code",
   "execution_count": 106,
   "metadata": {},
   "outputs": [],
   "source": [
    "# # Función para aplicar stemming al texto\n",
    "\n",
    "# def stemmiar(text):\n",
    "\n",
    "#     stemmer = SnowballStemmer('spanish')\n",
    "\n",
    "#     return ' '.join([stemmer.stem(word) for word in text.split()])"
   ]
  },
  {
   "cell_type": "code",
   "execution_count": null,
   "metadata": {},
   "outputs": [],
   "source": [
    "# textoPrueba['text'] = textoPrueba['text'].apply(stemmiar)\n",
    "# textoPrueba.head()"
   ]
  },
  {
   "attachments": {},
   "cell_type": "markdown",
   "metadata": {},
   "source": [
    "Vectorizamos y hacemos n-gramas"
   ]
  },
  {
   "cell_type": "code",
   "execution_count": 9,
   "metadata": {},
   "outputs": [
    {
     "data": {
      "text/html": [
       "<style>#sk-container-id-1 {color: black;background-color: white;}#sk-container-id-1 pre{padding: 0;}#sk-container-id-1 div.sk-toggleable {background-color: white;}#sk-container-id-1 label.sk-toggleable__label {cursor: pointer;display: block;width: 100%;margin-bottom: 0;padding: 0.3em;box-sizing: border-box;text-align: center;}#sk-container-id-1 label.sk-toggleable__label-arrow:before {content: \"▸\";float: left;margin-right: 0.25em;color: #696969;}#sk-container-id-1 label.sk-toggleable__label-arrow:hover:before {color: black;}#sk-container-id-1 div.sk-estimator:hover label.sk-toggleable__label-arrow:before {color: black;}#sk-container-id-1 div.sk-toggleable__content {max-height: 0;max-width: 0;overflow: hidden;text-align: left;background-color: #f0f8ff;}#sk-container-id-1 div.sk-toggleable__content pre {margin: 0.2em;color: black;border-radius: 0.25em;background-color: #f0f8ff;}#sk-container-id-1 input.sk-toggleable__control:checked~div.sk-toggleable__content {max-height: 200px;max-width: 100%;overflow: auto;}#sk-container-id-1 input.sk-toggleable__control:checked~label.sk-toggleable__label-arrow:before {content: \"▾\";}#sk-container-id-1 div.sk-estimator input.sk-toggleable__control:checked~label.sk-toggleable__label {background-color: #d4ebff;}#sk-container-id-1 div.sk-label input.sk-toggleable__control:checked~label.sk-toggleable__label {background-color: #d4ebff;}#sk-container-id-1 input.sk-hidden--visually {border: 0;clip: rect(1px 1px 1px 1px);clip: rect(1px, 1px, 1px, 1px);height: 1px;margin: -1px;overflow: hidden;padding: 0;position: absolute;width: 1px;}#sk-container-id-1 div.sk-estimator {font-family: monospace;background-color: #f0f8ff;border: 1px dotted black;border-radius: 0.25em;box-sizing: border-box;margin-bottom: 0.5em;}#sk-container-id-1 div.sk-estimator:hover {background-color: #d4ebff;}#sk-container-id-1 div.sk-parallel-item::after {content: \"\";width: 100%;border-bottom: 1px solid gray;flex-grow: 1;}#sk-container-id-1 div.sk-label:hover label.sk-toggleable__label {background-color: #d4ebff;}#sk-container-id-1 div.sk-serial::before {content: \"\";position: absolute;border-left: 1px solid gray;box-sizing: border-box;top: 0;bottom: 0;left: 50%;z-index: 0;}#sk-container-id-1 div.sk-serial {display: flex;flex-direction: column;align-items: center;background-color: white;padding-right: 0.2em;padding-left: 0.2em;position: relative;}#sk-container-id-1 div.sk-item {position: relative;z-index: 1;}#sk-container-id-1 div.sk-parallel {display: flex;align-items: stretch;justify-content: center;background-color: white;position: relative;}#sk-container-id-1 div.sk-item::before, #sk-container-id-1 div.sk-parallel-item::before {content: \"\";position: absolute;border-left: 1px solid gray;box-sizing: border-box;top: 0;bottom: 0;left: 50%;z-index: -1;}#sk-container-id-1 div.sk-parallel-item {display: flex;flex-direction: column;z-index: 1;position: relative;background-color: white;}#sk-container-id-1 div.sk-parallel-item:first-child::after {align-self: flex-end;width: 50%;}#sk-container-id-1 div.sk-parallel-item:last-child::after {align-self: flex-start;width: 50%;}#sk-container-id-1 div.sk-parallel-item:only-child::after {width: 0;}#sk-container-id-1 div.sk-dashed-wrapped {border: 1px dashed gray;margin: 0 0.4em 0.5em 0.4em;box-sizing: border-box;padding-bottom: 0.4em;background-color: white;}#sk-container-id-1 div.sk-label label {font-family: monospace;font-weight: bold;display: inline-block;line-height: 1.2em;}#sk-container-id-1 div.sk-label-container {text-align: center;}#sk-container-id-1 div.sk-container {/* jupyter's `normalize.less` sets `[hidden] { display: none; }` but bootstrap.min.css set `[hidden] { display: none !important; }` so we also need the `!important` here to be able to override the default hidden behavior on the sphinx rendered scikit-learn.org. See: https://github.com/scikit-learn/scikit-learn/issues/21755 */display: inline-block !important;position: relative;}#sk-container-id-1 div.sk-text-repr-fallback {display: none;}</style><div id=\"sk-container-id-1\" class=\"sk-top-container\"><div class=\"sk-text-repr-fallback\"><pre>TfidfVectorizer(max_df=0.7, min_df=2, ngram_range=(1, 2),\n",
       "                tokenizer=&lt;bound method TreebankWordTokenizer.tokenize of &lt;nltk.tokenize.treebank.TreebankWordTokenizer object at 0x000001C7F40909D0&gt;&gt;)</pre><b>In a Jupyter environment, please rerun this cell to show the HTML representation or trust the notebook. <br />On GitHub, the HTML representation is unable to render, please try loading this page with nbviewer.org.</b></div><div class=\"sk-container\" hidden><div class=\"sk-item\"><div class=\"sk-estimator sk-toggleable\"><input class=\"sk-toggleable__control sk-hidden--visually\" id=\"sk-estimator-id-1\" type=\"checkbox\" checked><label for=\"sk-estimator-id-1\" class=\"sk-toggleable__label sk-toggleable__label-arrow\">TfidfVectorizer</label><div class=\"sk-toggleable__content\"><pre>TfidfVectorizer(max_df=0.7, min_df=2, ngram_range=(1, 2),\n",
       "                tokenizer=&lt;bound method TreebankWordTokenizer.tokenize of &lt;nltk.tokenize.treebank.TreebankWordTokenizer object at 0x000001C7F40909D0&gt;&gt;)</pre></div></div></div></div></div>"
      ],
      "text/plain": [
       "TfidfVectorizer(max_df=0.7, min_df=2, ngram_range=(1, 2),\n",
       "                tokenizer=<bound method TreebankWordTokenizer.tokenize of <nltk.tokenize.treebank.TreebankWordTokenizer object at 0x000001C7F40909D0>>)"
      ]
     },
     "execution_count": 9,
     "metadata": {},
     "output_type": "execute_result"
    }
   ],
   "source": [
    "# Creamos una instancia que hará la vectorización TF-IDF\n",
    "vect = TfidfVectorizer()\n",
    "\n",
    "# Tokenizamos como Penn Treebank\n",
    "tokenizer = TreebankWordTokenizer()\n",
    "vect.set_params(tokenizer=tokenizer.tokenize)\n",
    "\n",
    "# Incluimos 1-grams y 2-grams\n",
    "vect.set_params(ngram_range=(1, 2))\n",
    "\n",
    "# Ignoramos términos que aparecen en más del 70% de los documentos\n",
    "vect.set_params(max_df=0.7)\n",
    "\n",
    "# Solo mantenemos los términos que aparecen en al menos 2 documentos\n",
    "vect.set_params(min_df=2)"
   ]
  },
  {
   "cell_type": "code",
   "execution_count": 10,
   "metadata": {},
   "outputs": [
    {
     "name": "stderr",
     "output_type": "stream",
     "text": [
      "c:\\Users\\Victor Minjares\\AppData\\Local\\Programs\\Python\\Python39\\lib\\site-packages\\sklearn\\feature_extraction\\text.py:528: UserWarning: The parameter 'token_pattern' will not be used since 'tokenizer' is not None'\n",
      "  warnings.warn(\n"
     ]
    },
    {
     "data": {
      "text/plain": [
       "<1000x36755 sparse matrix of type '<class 'numpy.float64'>'\n",
       "\twith 260367 stored elements in Compressed Sparse Row format>"
      ]
     },
     "execution_count": 10,
     "metadata": {},
     "output_type": "execute_result"
    }
   ],
   "source": [
    "# Lo aplicamos\n",
    "vectFit = vect.fit_transform(textoPrueba['text']) \n",
    "vectFit "
   ]
  },
  {
   "cell_type": "code",
   "execution_count": 11,
   "metadata": {},
   "outputs": [
    {
     "name": "stdout",
     "output_type": "stream",
     "text": [
      "  (0, 34513)\t0.05977278102484332\n",
      "  (0, 14097)\t0.0445481467104263\n",
      "  (0, 26038)\t0.0572477886997856\n",
      "  (0, 26053)\t0.0572477886997856\n",
      "  (0, 34894)\t0.05977278102484332\n",
      "  (0, 33336)\t0.05977278102484332\n",
      "  (0, 30100)\t0.052336027749666225\n",
      "  (0, 17669)\t0.05977278102484332\n",
      "  (0, 34682)\t0.05977278102484332\n",
      "  (0, 29347)\t0.0572477886997856\n",
      "  (0, 13841)\t0.05977278102484332\n",
      "  (0, 8991)\t0.03748814756365057\n",
      "  (0, 20992)\t0.0572477886997856\n",
      "  (0, 28065)\t0.0572477886997856\n",
      "  (0, 11936)\t0.05977278102484332\n",
      "  (0, 25758)\t0.05977278102484332\n",
      "  (0, 11920)\t0.05116401957182712\n",
      "  (0, 7225)\t0.05528925249468737\n",
      "  (0, 6530)\t0.0572477886997856\n",
      "  (0, 35097)\t0.0572477886997856\n",
      "  (0, 13225)\t0.05977278102484332\n",
      "  (0, 36403)\t0.0572477886997856\n",
      "  (0, 645)\t0.0411631780336722\n",
      "  (0, 2370)\t0.05977278102484332\n",
      "  (0, 25080)\t0.05977278102484332\n",
      "  :\t:\n",
      "  (0, 2821)\t0.04404646596602561\n",
      "  (0, 531)\t0.03490560077956706\n",
      "  (0, 812)\t0.045646706563828146\n",
      "  (0, 15207)\t0.045646706563828146\n",
      "  (0, 28026)\t0.11057850498937474\n",
      "  (0, 12263)\t0.08379004075807087\n",
      "  (0, 22163)\t0.048368943673953536\n",
      "  (0, 11790)\t0.06304126420562593\n",
      "  (0, 3356)\t0.012967382586457733\n",
      "  (0, 31060)\t0.04038475192504579\n",
      "  (0, 35054)\t0.021533845048927462\n",
      "  (0, 27708)\t0.02492543539596984\n",
      "  (0, 20448)\t0.05476360198048251\n",
      "  (0, 23543)\t0.06848573842587673\n",
      "  (0, 22588)\t0.049414722962464484\n",
      "  (0, 16824)\t0.03392937076074982\n",
      "  (0, 22150)\t0.07022516987126556\n",
      "  (0, 36349)\t0.07263878423467994\n",
      "  (0, 3040)\t0.01962043502832858\n",
      "  (0, 20791)\t0.021685176790061784\n",
      "  (0, 30495)\t0.020883397632030797\n",
      "  (0, 30847)\t0.027922932737009156\n",
      "  (0, 11831)\t0.12600076789774178\n",
      "  (0, 11158)\t0.02317921183122934\n",
      "  (0, 21171)\t0.018280386806149924\n"
     ]
    }
   ],
   "source": [
    "print(vectFit[1])"
   ]
  },
  {
   "attachments": {},
   "cell_type": "markdown",
   "metadata": {},
   "source": [
    "Descomposicion por valores singulares (SVD)"
   ]
  },
  {
   "attachments": {},
   "cell_type": "markdown",
   "metadata": {},
   "source": [
    "Hacemos z-score normalizacion"
   ]
  },
  {
   "cell_type": "code",
   "execution_count": 12,
   "metadata": {},
   "outputs": [
    {
     "name": "stdout",
     "output_type": "stream",
     "text": [
      "  (0, 30699)\t9.27138409131152\n",
      "  (0, 24595)\t20.181006126903316\n",
      "  (0, 3537)\t1.9275034143473373\n",
      "  (0, 20953)\t12.290306810752938\n",
      "  (0, 25176)\t30.726390786514667\n",
      "  (0, 21545)\t2.939505106782944\n",
      "  (0, 34368)\t10.459369803814978\n",
      "  (0, 3367)\t3.282291150123428\n",
      "  (0, 25032)\t10.563285269318952\n",
      "  (0, 21757)\t6.391329437543724\n",
      "  (0, 31192)\t12.711982566074031\n",
      "  (0, 30588)\t26.024510896800184\n",
      "  (0, 35064)\t4.473469645889671\n",
      "  (0, 11120)\t20.436860535190583\n",
      "  (0, 34356)\t7.458483167930656\n",
      "  (0, 15010)\t17.39644617764987\n",
      "  (0, 4194)\t21.92470156938827\n",
      "  (0, 18247)\t21.84194032704319\n",
      "  (0, 13449)\t24.69451113024058\n",
      "  (0, 14126)\t15.712340486181539\n",
      "  (0, 36495)\t26.62544462522572\n",
      "  (0, 15414)\t8.782099289345757\n",
      "  (0, 29453)\t15.69349034657133\n",
      "  (0, 7416)\t14.623141983744377\n",
      "  (0, 6870)\t19.07286223297439\n",
      "  :\t:\n",
      "  (0, 18142)\t13.10413571051665\n",
      "  (0, 16153)\t1.4585567505519994\n",
      "  (0, 7858)\t2.4834188040029366\n",
      "  (0, 17630)\t8.457757246916279\n",
      "  (0, 23602)\t5.004043242454465\n",
      "  (0, 9026)\t2.6702326007827133\n",
      "  (0, 7218)\t2.883093053447044\n",
      "  (0, 21171)\t3.441587404437212\n",
      "  (0, 30778)\t5.603849935670087\n",
      "  (0, 1351)\t1.830044010173211\n",
      "  (0, 22971)\t2.438695416925304\n",
      "  (0, 4780)\t7.43190778646644\n",
      "  (0, 11963)\t14.179031490556863\n",
      "  (0, 7053)\t16.991492765552756\n",
      "  (0, 11284)\t1.662616597343099\n",
      "  (0, 26120)\t4.533112671325916\n",
      "  (0, 5879)\t14.496905550993626\n",
      "  (0, 15252)\t1.435743968432878\n",
      "  (0, 33137)\t6.308376334909556\n",
      "  (0, 8597)\t6.466748561383426\n",
      "  (0, 34090)\t0.9502229851670018\n",
      "  (0, 4057)\t3.244946728095328\n",
      "  (0, 3265)\t1.4484666436358273\n",
      "  (0, 21160)\t2.6754565264778996\n",
      "  (0, 1889)\t4.943327303492436\n"
     ]
    }
   ],
   "source": [
    "# Creamos la instancia \n",
    "scaler = StandardScaler(with_mean=False)\n",
    "# Calculamos el promedio y la desviacion estandar\n",
    "scaler.fit(vectFit)\n",
    "# Re escalamos\n",
    "vectFitScaled = scaler.transform(vectFit)\n",
    "\n",
    "print(vectFitScaled[0])"
   ]
  },
  {
   "cell_type": "code",
   "execution_count": 44,
   "metadata": {},
   "outputs": [
    {
     "data": {
      "text/plain": [
       "<36755x1000 sparse matrix of type '<class 'numpy.float64'>'\n",
       "\twith 260367 stored elements in Compressed Sparse Column format>"
      ]
     },
     "execution_count": 44,
     "metadata": {},
     "output_type": "execute_result"
    }
   ],
   "source": [
    "# vectFitScaled = vectFitScaled.transpose()\n",
    "# vectFitScaled"
   ]
  },
  {
   "cell_type": "code",
   "execution_count": 13,
   "metadata": {},
   "outputs": [],
   "source": [
    "# Creamos instancia de la clase TruncatedSVD\n",
    "dimReduction = TruncatedSVD(n_components = 1000, random_state = 2)"
   ]
  },
  {
   "cell_type": "code",
   "execution_count": 14,
   "metadata": {},
   "outputs": [
    {
     "data": {
      "text/html": [
       "<style>#sk-container-id-2 {color: black;background-color: white;}#sk-container-id-2 pre{padding: 0;}#sk-container-id-2 div.sk-toggleable {background-color: white;}#sk-container-id-2 label.sk-toggleable__label {cursor: pointer;display: block;width: 100%;margin-bottom: 0;padding: 0.3em;box-sizing: border-box;text-align: center;}#sk-container-id-2 label.sk-toggleable__label-arrow:before {content: \"▸\";float: left;margin-right: 0.25em;color: #696969;}#sk-container-id-2 label.sk-toggleable__label-arrow:hover:before {color: black;}#sk-container-id-2 div.sk-estimator:hover label.sk-toggleable__label-arrow:before {color: black;}#sk-container-id-2 div.sk-toggleable__content {max-height: 0;max-width: 0;overflow: hidden;text-align: left;background-color: #f0f8ff;}#sk-container-id-2 div.sk-toggleable__content pre {margin: 0.2em;color: black;border-radius: 0.25em;background-color: #f0f8ff;}#sk-container-id-2 input.sk-toggleable__control:checked~div.sk-toggleable__content {max-height: 200px;max-width: 100%;overflow: auto;}#sk-container-id-2 input.sk-toggleable__control:checked~label.sk-toggleable__label-arrow:before {content: \"▾\";}#sk-container-id-2 div.sk-estimator input.sk-toggleable__control:checked~label.sk-toggleable__label {background-color: #d4ebff;}#sk-container-id-2 div.sk-label input.sk-toggleable__control:checked~label.sk-toggleable__label {background-color: #d4ebff;}#sk-container-id-2 input.sk-hidden--visually {border: 0;clip: rect(1px 1px 1px 1px);clip: rect(1px, 1px, 1px, 1px);height: 1px;margin: -1px;overflow: hidden;padding: 0;position: absolute;width: 1px;}#sk-container-id-2 div.sk-estimator {font-family: monospace;background-color: #f0f8ff;border: 1px dotted black;border-radius: 0.25em;box-sizing: border-box;margin-bottom: 0.5em;}#sk-container-id-2 div.sk-estimator:hover {background-color: #d4ebff;}#sk-container-id-2 div.sk-parallel-item::after {content: \"\";width: 100%;border-bottom: 1px solid gray;flex-grow: 1;}#sk-container-id-2 div.sk-label:hover label.sk-toggleable__label {background-color: #d4ebff;}#sk-container-id-2 div.sk-serial::before {content: \"\";position: absolute;border-left: 1px solid gray;box-sizing: border-box;top: 0;bottom: 0;left: 50%;z-index: 0;}#sk-container-id-2 div.sk-serial {display: flex;flex-direction: column;align-items: center;background-color: white;padding-right: 0.2em;padding-left: 0.2em;position: relative;}#sk-container-id-2 div.sk-item {position: relative;z-index: 1;}#sk-container-id-2 div.sk-parallel {display: flex;align-items: stretch;justify-content: center;background-color: white;position: relative;}#sk-container-id-2 div.sk-item::before, #sk-container-id-2 div.sk-parallel-item::before {content: \"\";position: absolute;border-left: 1px solid gray;box-sizing: border-box;top: 0;bottom: 0;left: 50%;z-index: -1;}#sk-container-id-2 div.sk-parallel-item {display: flex;flex-direction: column;z-index: 1;position: relative;background-color: white;}#sk-container-id-2 div.sk-parallel-item:first-child::after {align-self: flex-end;width: 50%;}#sk-container-id-2 div.sk-parallel-item:last-child::after {align-self: flex-start;width: 50%;}#sk-container-id-2 div.sk-parallel-item:only-child::after {width: 0;}#sk-container-id-2 div.sk-dashed-wrapped {border: 1px dashed gray;margin: 0 0.4em 0.5em 0.4em;box-sizing: border-box;padding-bottom: 0.4em;background-color: white;}#sk-container-id-2 div.sk-label label {font-family: monospace;font-weight: bold;display: inline-block;line-height: 1.2em;}#sk-container-id-2 div.sk-label-container {text-align: center;}#sk-container-id-2 div.sk-container {/* jupyter's `normalize.less` sets `[hidden] { display: none; }` but bootstrap.min.css set `[hidden] { display: none !important; }` so we also need the `!important` here to be able to override the default hidden behavior on the sphinx rendered scikit-learn.org. See: https://github.com/scikit-learn/scikit-learn/issues/21755 */display: inline-block !important;position: relative;}#sk-container-id-2 div.sk-text-repr-fallback {display: none;}</style><div id=\"sk-container-id-2\" class=\"sk-top-container\"><div class=\"sk-text-repr-fallback\"><pre>TruncatedSVD(n_components=1000, random_state=2)</pre><b>In a Jupyter environment, please rerun this cell to show the HTML representation or trust the notebook. <br />On GitHub, the HTML representation is unable to render, please try loading this page with nbviewer.org.</b></div><div class=\"sk-container\" hidden><div class=\"sk-item\"><div class=\"sk-estimator sk-toggleable\"><input class=\"sk-toggleable__control sk-hidden--visually\" id=\"sk-estimator-id-2\" type=\"checkbox\" checked><label for=\"sk-estimator-id-2\" class=\"sk-toggleable__label sk-toggleable__label-arrow\">TruncatedSVD</label><div class=\"sk-toggleable__content\"><pre>TruncatedSVD(n_components=1000, random_state=2)</pre></div></div></div></div></div>"
      ],
      "text/plain": [
       "TruncatedSVD(n_components=1000, random_state=2)"
      ]
     },
     "execution_count": 14,
     "metadata": {},
     "output_type": "execute_result"
    }
   ],
   "source": [
    "# Ajustamos la transfromacion con nuestros datos\n",
    "dimReduction.fit(vectFitScaled)"
   ]
  },
  {
   "cell_type": "code",
   "execution_count": 15,
   "metadata": {},
   "outputs": [],
   "source": [
    "# Reducimos la dimensionalidad\n",
    "dataReduction = dimReduction.transform(vectFitScaled)"
   ]
  },
  {
   "cell_type": "code",
   "execution_count": 16,
   "metadata": {},
   "outputs": [
    {
     "name": "stdout",
     "output_type": "stream",
     "text": [
      "Variancia explicada por los 36,755 componentes = 99.99999999999983\n"
     ]
    }
   ],
   "source": [
    "print(\"Variancia explicada por los 36,755 componentes = \" \\\n",
    "        + str(sum(dimReduction.explained_variance_ratio_ * 100)))"
   ]
  },
  {
   "cell_type": "code",
   "execution_count": 17,
   "metadata": {},
   "outputs": [
    {
     "data": {
      "text/plain": [
       "array([2.92907403e+00, 1.08747251e+00, 8.91823123e-01, 8.93097688e-01,\n",
       "       7.82397797e-01, 3.26826811e-01, 6.22625312e-01, 6.04288519e-01,\n",
       "       5.31834422e-01, 4.77400122e-01, 4.63635079e-01, 3.07387531e-01,\n",
       "       2.82884596e-01, 2.47786414e-01, 2.42557739e-01, 2.40058660e-01,\n",
       "       2.39514033e-01, 2.31188088e-01, 2.29010999e-01, 2.19731003e-01,\n",
       "       2.17094304e-01, 2.15323707e-01, 2.12431769e-01, 2.11292788e-01,\n",
       "       2.09540361e-01, 2.07904365e-01, 2.04660966e-01, 2.02536569e-01,\n",
       "       1.99086929e-01, 1.97339058e-01, 1.95179640e-01, 1.94160298e-01,\n",
       "       1.92345963e-01, 1.90270805e-01, 1.89645666e-01, 1.89097159e-01,\n",
       "       1.88074845e-01, 1.87157629e-01, 1.86080424e-01, 1.84984712e-01,\n",
       "       1.83812047e-01, 1.82769478e-01, 1.81462165e-01, 1.79489851e-01,\n",
       "       1.78932863e-01, 1.78102459e-01, 1.77834634e-01, 1.77676090e-01,\n",
       "       1.76377923e-01, 1.75246266e-01, 1.74692521e-01, 1.73202107e-01,\n",
       "       1.72894986e-01, 1.72188896e-01, 1.72154962e-01, 1.71199666e-01,\n",
       "       1.70592151e-01, 1.69756574e-01, 1.69612277e-01, 1.68990390e-01,\n",
       "       1.68251355e-01, 1.67912469e-01, 1.67137814e-01, 1.66582448e-01,\n",
       "       1.65897619e-01, 1.65542857e-01, 1.65055014e-01, 1.64542995e-01,\n",
       "       1.64289417e-01, 1.63314882e-01, 1.63137827e-01, 1.62317440e-01,\n",
       "       1.61698755e-01, 1.61250391e-01, 1.60937204e-01, 1.60749014e-01,\n",
       "       1.60440228e-01, 1.59935591e-01, 1.59578628e-01, 1.59338923e-01,\n",
       "       1.58697198e-01, 1.58599977e-01, 1.58007031e-01, 1.57750358e-01,\n",
       "       1.57247131e-01, 1.56607900e-01, 1.56527088e-01, 1.55895693e-01,\n",
       "       1.55827812e-01, 1.55501388e-01, 1.55022972e-01, 1.54865842e-01,\n",
       "       1.54606732e-01, 1.54337915e-01, 1.53973751e-01, 1.53796781e-01,\n",
       "       1.53582126e-01, 1.53380444e-01, 1.52698772e-01, 1.52384049e-01,\n",
       "       1.51916262e-01, 1.51610380e-01, 1.51494514e-01, 1.51098874e-01,\n",
       "       1.51024121e-01, 1.50790936e-01, 1.50452419e-01, 1.50283577e-01,\n",
       "       1.49828971e-01, 1.49636954e-01, 1.49157026e-01, 1.48790426e-01,\n",
       "       1.48583295e-01, 1.48434864e-01, 1.48100436e-01, 1.47781103e-01,\n",
       "       1.47480675e-01, 1.47388398e-01, 1.47165987e-01, 1.46770372e-01,\n",
       "       1.46680528e-01, 1.46571074e-01, 1.46149642e-01, 1.45979360e-01,\n",
       "       1.45744337e-01, 1.45595830e-01, 1.45194176e-01, 1.44933015e-01,\n",
       "       1.44758467e-01, 1.44377195e-01, 1.44127401e-01, 1.43931848e-01,\n",
       "       1.43697525e-01, 1.43659457e-01, 1.43204884e-01, 1.42949057e-01,\n",
       "       1.42759175e-01, 1.42421021e-01, 1.42312263e-01, 1.41717348e-01,\n",
       "       1.41746231e-01, 1.41411352e-01, 1.41277873e-01, 1.41066136e-01,\n",
       "       1.40934046e-01, 1.40799134e-01, 1.40547263e-01, 1.40112553e-01,\n",
       "       1.40070520e-01, 1.39954435e-01, 1.39890894e-01, 1.39766537e-01,\n",
       "       1.39251725e-01, 1.39088139e-01, 1.38841285e-01, 1.38372429e-01,\n",
       "       1.38162062e-01, 1.38115284e-01, 1.38088799e-01, 1.37684981e-01,\n",
       "       1.37417306e-01, 1.37336782e-01, 1.37254705e-01, 1.36828799e-01,\n",
       "       1.36666610e-01, 1.36414852e-01, 1.36093954e-01, 1.35883773e-01,\n",
       "       1.35677197e-01, 1.35551183e-01, 1.35394830e-01, 1.34893666e-01,\n",
       "       1.34738788e-01, 1.34622765e-01, 1.34355752e-01, 1.34272357e-01,\n",
       "       1.34089915e-01, 1.33854029e-01, 1.33738840e-01, 1.33382352e-01,\n",
       "       1.33298250e-01, 1.33022166e-01, 1.32834756e-01, 1.32785883e-01,\n",
       "       1.32545306e-01, 1.32522414e-01, 1.32317345e-01, 1.32049316e-01,\n",
       "       1.31916483e-01, 1.31662346e-01, 1.31514770e-01, 1.31286509e-01,\n",
       "       1.31190463e-01, 1.30893024e-01, 1.30800354e-01, 1.30630965e-01,\n",
       "       1.30361864e-01, 1.30326066e-01, 1.30247609e-01, 1.30082674e-01,\n",
       "       1.29778184e-01, 1.29707866e-01, 1.29230429e-01, 1.29164378e-01,\n",
       "       1.28979176e-01, 1.28763139e-01, 1.28705191e-01, 1.28381376e-01,\n",
       "       1.28132188e-01, 1.28100914e-01, 1.27867395e-01, 1.27538338e-01,\n",
       "       1.27470911e-01, 1.27388129e-01, 1.27250797e-01, 1.27084536e-01,\n",
       "       1.26926657e-01, 1.26618950e-01, 1.26548793e-01, 1.26413973e-01,\n",
       "       1.26119678e-01, 1.25981727e-01, 1.25773871e-01, 1.25682957e-01,\n",
       "       1.25504942e-01, 1.25470900e-01, 1.25279013e-01, 1.25119514e-01,\n",
       "       1.24902425e-01, 1.24629014e-01, 1.24665522e-01, 1.24341253e-01,\n",
       "       1.24101369e-01, 1.23852046e-01, 1.23728342e-01, 1.23649300e-01,\n",
       "       1.23420077e-01, 1.23407982e-01, 1.22923786e-01, 1.22873388e-01,\n",
       "       1.22713679e-01, 1.22570036e-01, 1.22396333e-01, 1.22250555e-01,\n",
       "       1.22195464e-01, 1.22077888e-01, 1.21921076e-01, 1.21719428e-01,\n",
       "       1.21400411e-01, 1.21096788e-01, 1.21004077e-01, 1.20907642e-01,\n",
       "       1.20604101e-01, 1.20531118e-01, 1.20327890e-01, 1.20279018e-01,\n",
       "       1.20034504e-01, 1.19903568e-01, 1.19705245e-01, 1.19698408e-01,\n",
       "       1.19463354e-01, 1.19384428e-01, 1.19189047e-01, 1.19119106e-01,\n",
       "       1.18871519e-01, 1.18741362e-01, 1.18515143e-01, 1.18409898e-01,\n",
       "       1.18319346e-01, 1.18141695e-01, 1.18052468e-01, 1.17839948e-01,\n",
       "       1.17762105e-01, 1.17664663e-01, 1.17444276e-01, 1.17324322e-01,\n",
       "       1.17125277e-01, 1.16963351e-01, 1.16808586e-01, 1.16744232e-01,\n",
       "       1.16507889e-01, 1.16336905e-01, 1.16256492e-01, 1.16109586e-01,\n",
       "       1.15852613e-01, 1.15755330e-01, 1.15622093e-01, 1.15464008e-01,\n",
       "       1.15368104e-01, 1.15163680e-01, 1.14985429e-01, 1.14926083e-01,\n",
       "       1.14805195e-01, 1.14675731e-01, 1.14443423e-01, 1.14354877e-01,\n",
       "       1.14229529e-01, 1.14172562e-01, 1.14090578e-01, 1.13879290e-01,\n",
       "       1.13698814e-01, 1.13528069e-01, 1.13359984e-01, 1.13315003e-01,\n",
       "       1.13167075e-01, 1.12998937e-01, 1.12928489e-01, 1.12720904e-01,\n",
       "       1.12490882e-01, 1.12338793e-01, 1.12277984e-01, 1.12158367e-01,\n",
       "       1.12074586e-01, 1.11849541e-01, 1.11778818e-01, 1.11662297e-01,\n",
       "       1.11455878e-01, 1.11495025e-01, 1.11450647e-01, 1.11250709e-01,\n",
       "       1.11077769e-01, 1.10726471e-01, 1.10550558e-01, 1.10468051e-01,\n",
       "       1.10386186e-01, 1.10141232e-01, 1.09967184e-01, 1.09819573e-01,\n",
       "       1.09798434e-01, 1.09694398e-01, 1.09509579e-01, 1.09454739e-01,\n",
       "       1.09319402e-01, 1.09234820e-01, 1.09036052e-01, 1.08869701e-01,\n",
       "       1.08807407e-01, 1.08675723e-01, 1.08443696e-01, 1.08317286e-01,\n",
       "       1.08203860e-01, 1.08018769e-01, 1.08041576e-01, 1.07920359e-01,\n",
       "       1.07873020e-01, 1.07686444e-01, 1.07576320e-01, 1.07479189e-01,\n",
       "       1.07416637e-01, 1.07176022e-01, 1.06862476e-01, 1.06811789e-01,\n",
       "       1.06681665e-01, 1.06622415e-01, 1.06498531e-01, 1.06348455e-01,\n",
       "       1.06171354e-01, 1.06040716e-01, 1.05959717e-01, 1.05827462e-01,\n",
       "       1.05638406e-01, 1.05513270e-01, 1.05404062e-01, 1.05259594e-01,\n",
       "       1.05194101e-01, 1.05112398e-01, 1.05060158e-01, 1.04931438e-01,\n",
       "       1.04811828e-01, 1.04654605e-01, 1.04438893e-01, 1.04343933e-01,\n",
       "       1.04166505e-01, 1.04028474e-01, 1.03999267e-01, 1.03724771e-01,\n",
       "       1.03612239e-01, 1.03551724e-01, 1.03381718e-01, 1.03226300e-01,\n",
       "       1.03156493e-01, 1.02997646e-01, 1.02953803e-01, 1.02810857e-01,\n",
       "       1.02609122e-01, 1.02398033e-01, 1.02305092e-01, 1.02195405e-01,\n",
       "       1.02095696e-01, 1.01976339e-01, 1.01923159e-01, 1.01729799e-01,\n",
       "       1.01641241e-01, 1.01458352e-01, 1.01338506e-01, 1.01218778e-01,\n",
       "       1.01079502e-01, 1.00991672e-01, 1.00932086e-01, 1.00844077e-01,\n",
       "       1.00641331e-01, 1.00354542e-01, 1.00310371e-01, 1.00236156e-01,\n",
       "       1.00071232e-01, 9.99192585e-02, 9.97169165e-02, 9.96988151e-02,\n",
       "       9.96415668e-02, 9.94923418e-02, 9.92814505e-02, 9.92003075e-02,\n",
       "       9.89477339e-02, 9.87930321e-02, 9.87033526e-02, 9.85869582e-02,\n",
       "       9.84971031e-02, 9.83402070e-02, 9.81782705e-02, 9.80901540e-02,\n",
       "       9.80239338e-02, 9.78513688e-02, 9.77118162e-02, 9.75118503e-02,\n",
       "       9.75351775e-02, 9.74368420e-02, 9.71900632e-02, 9.71846169e-02,\n",
       "       9.70473108e-02, 9.68334381e-02, 9.68253174e-02, 9.67654321e-02,\n",
       "       9.65944229e-02, 9.65001256e-02, 9.64050477e-02, 9.63344815e-02,\n",
       "       9.61316956e-02, 9.60485095e-02, 9.59537328e-02, 9.56640091e-02,\n",
       "       9.56023198e-02, 9.54990192e-02, 9.53705767e-02, 9.52680092e-02,\n",
       "       9.52385702e-02, 9.49737676e-02, 9.48829974e-02, 9.48408703e-02,\n",
       "       9.46661199e-02, 9.45685773e-02, 9.45321656e-02, 9.45325403e-02,\n",
       "       9.42559560e-02, 9.41717664e-02, 9.39852064e-02, 9.38575421e-02,\n",
       "       9.37552596e-02, 9.35541319e-02, 9.34360187e-02, 9.32865580e-02,\n",
       "       9.32181488e-02, 9.31123325e-02, 9.30409512e-02, 9.29563059e-02,\n",
       "       9.28794996e-02, 9.27452727e-02, 9.27223263e-02, 9.24873154e-02,\n",
       "       9.24885870e-02, 9.22658880e-02, 9.22475359e-02, 9.20994697e-02,\n",
       "       9.19708236e-02, 9.18450751e-02, 9.18068225e-02, 9.16184007e-02,\n",
       "       9.14512233e-02, 9.13716494e-02, 9.13135038e-02, 9.11790066e-02,\n",
       "       9.10508867e-02, 9.09955873e-02, 9.08571962e-02, 9.07272099e-02,\n",
       "       9.05860033e-02, 9.05191823e-02, 9.03170377e-02, 9.01732780e-02,\n",
       "       9.01191978e-02, 9.00459313e-02, 8.99805871e-02, 8.98911209e-02,\n",
       "       8.96683904e-02, 8.95452242e-02, 8.95376151e-02, 8.94724222e-02,\n",
       "       8.93287742e-02, 8.91776589e-02, 8.89378404e-02, 8.89237136e-02,\n",
       "       8.88393548e-02, 8.87237305e-02, 8.86378590e-02, 8.86406706e-02,\n",
       "       8.84801609e-02, 8.84173546e-02, 8.82405894e-02, 8.82074528e-02,\n",
       "       8.80211953e-02, 8.78844250e-02, 8.77742014e-02, 8.77244664e-02,\n",
       "       8.76170640e-02, 8.74720322e-02, 8.73449498e-02, 8.71831968e-02,\n",
       "       8.70794003e-02, 8.70551363e-02, 8.68684597e-02, 8.67564048e-02,\n",
       "       8.67224833e-02, 8.65422667e-02, 8.64224074e-02, 8.62179581e-02,\n",
       "       8.60974790e-02, 8.58972280e-02, 8.57763822e-02, 8.57553725e-02,\n",
       "       8.56124541e-02, 8.54992201e-02, 8.52671491e-02, 8.52675798e-02,\n",
       "       8.52523141e-02, 8.51047223e-02, 8.49231217e-02, 8.48041492e-02,\n",
       "       8.46619387e-02, 8.46549507e-02, 8.45420242e-02, 8.43301062e-02,\n",
       "       8.41914677e-02, 8.40257559e-02, 8.39916115e-02, 8.37933941e-02,\n",
       "       8.37030814e-02, 8.35521911e-02, 8.33872840e-02, 8.33025583e-02,\n",
       "       8.30770891e-02, 8.30438447e-02, 8.28833698e-02, 8.28533318e-02,\n",
       "       8.26530489e-02, 8.25129295e-02, 8.23329880e-02, 8.23090540e-02,\n",
       "       8.20972227e-02, 8.19928951e-02, 8.19753539e-02, 8.17942756e-02,\n",
       "       8.17308704e-02, 8.16127895e-02, 8.14034014e-02, 8.12182953e-02,\n",
       "       8.12063305e-02, 8.10889923e-02, 8.10123818e-02, 8.09997476e-02,\n",
       "       8.08872112e-02, 8.06051415e-02, 8.05414566e-02, 8.04415407e-02,\n",
       "       8.03838585e-02, 8.02167694e-02, 8.00698424e-02, 7.99538444e-02,\n",
       "       7.98271884e-02, 7.96862627e-02, 7.95381738e-02, 7.92833774e-02,\n",
       "       7.92446972e-02, 7.91474188e-02, 7.90158857e-02, 7.89009423e-02,\n",
       "       7.88826084e-02, 7.86330326e-02, 7.85259898e-02, 7.85391436e-02,\n",
       "       7.84836378e-02, 7.83777630e-02, 7.82175854e-02, 7.80844693e-02,\n",
       "       7.80189943e-02, 7.77934289e-02, 7.76437729e-02, 7.76039807e-02,\n",
       "       7.74079121e-02, 7.72689808e-02, 7.71801174e-02, 7.71196932e-02,\n",
       "       7.69148275e-02, 7.68487771e-02, 7.67722900e-02, 7.66862606e-02,\n",
       "       7.66084581e-02, 7.65588188e-02, 7.63734905e-02, 7.62858213e-02,\n",
       "       7.61702590e-02, 7.59850045e-02, 7.59131643e-02, 7.57893505e-02,\n",
       "       7.57622633e-02, 7.56967971e-02, 7.54189282e-02, 7.53449174e-02,\n",
       "       7.52280955e-02, 7.50963460e-02, 7.50099911e-02, 7.49426106e-02,\n",
       "       7.48369342e-02, 7.47666443e-02, 7.46331997e-02, 7.44288422e-02,\n",
       "       7.43411493e-02, 7.41205370e-02, 7.40704378e-02, 7.39709784e-02,\n",
       "       7.37614164e-02, 7.36896446e-02, 7.35986227e-02, 7.34521614e-02,\n",
       "       7.33486339e-02, 7.31883062e-02, 7.30041995e-02, 7.29399265e-02,\n",
       "       7.28582907e-02, 7.25828553e-02, 7.25492539e-02, 7.23882226e-02,\n",
       "       7.23824686e-02, 7.21427899e-02, 7.20957074e-02, 7.19820659e-02,\n",
       "       7.19075734e-02, 7.17386297e-02, 7.15298395e-02, 7.13960355e-02,\n",
       "       7.13117131e-02, 7.12843245e-02, 7.11022405e-02, 7.09585631e-02,\n",
       "       7.09387266e-02, 7.09009210e-02, 7.06564271e-02, 7.05858916e-02,\n",
       "       7.04809732e-02, 7.03870282e-02, 7.03339420e-02, 7.02267128e-02,\n",
       "       7.01463785e-02, 7.00262922e-02, 6.98502293e-02, 6.97689872e-02,\n",
       "       6.95911446e-02, 6.94721296e-02, 6.93431034e-02, 6.92250703e-02,\n",
       "       6.91498455e-02, 6.90450201e-02, 6.88628201e-02, 6.86640534e-02,\n",
       "       6.86406313e-02, 6.85036605e-02, 6.84910665e-02, 6.83751664e-02,\n",
       "       6.83052500e-02, 6.82504415e-02, 6.81142002e-02, 6.80069817e-02,\n",
       "       6.78929756e-02, 6.78113443e-02, 6.76320519e-02, 6.75732425e-02,\n",
       "       6.74881721e-02, 6.73229978e-02, 6.73163780e-02, 6.71582890e-02,\n",
       "       6.70401373e-02, 6.69007701e-02, 6.67998583e-02, 6.67237963e-02,\n",
       "       6.64772920e-02, 6.64361094e-02, 6.63626471e-02, 6.62622604e-02,\n",
       "       6.62022852e-02, 6.60589558e-02, 6.58753319e-02, 6.57622887e-02,\n",
       "       6.57154671e-02, 6.56618892e-02, 6.54965226e-02, 6.53440216e-02,\n",
       "       6.52417891e-02, 6.50323511e-02, 6.48837976e-02, 6.46630434e-02,\n",
       "       6.45479023e-02, 6.44919791e-02, 6.43041086e-02, 6.42205112e-02,\n",
       "       6.41667174e-02, 6.40060683e-02, 6.38242697e-02, 6.35484802e-02,\n",
       "       6.34132034e-02, 6.32870119e-02, 6.31510296e-02, 6.29024494e-02,\n",
       "       6.29351832e-02, 6.27902815e-02, 6.25156956e-02, 6.24016315e-02,\n",
       "       6.23050855e-02, 6.22664592e-02, 6.18624011e-02, 6.17446278e-02,\n",
       "       6.15399026e-02, 6.13948775e-02, 6.13246022e-02, 6.11866011e-02,\n",
       "       6.09700694e-02, 6.09008955e-02, 6.07832410e-02, 6.04755102e-02,\n",
       "       6.03831595e-02, 6.02271962e-02, 6.00018401e-02, 5.99928107e-02,\n",
       "       5.98628228e-02, 5.96996855e-02, 5.96834682e-02, 5.92774648e-02,\n",
       "       5.92131440e-02, 5.89595451e-02, 5.87894942e-02, 5.86622553e-02,\n",
       "       5.85763320e-02, 5.84166267e-02, 5.81231540e-02, 5.80185416e-02,\n",
       "       5.79279619e-02, 5.76739081e-02, 5.76711261e-02, 5.74511961e-02,\n",
       "       5.73585194e-02, 5.72500289e-02, 5.71643532e-02, 5.68581971e-02,\n",
       "       5.67207016e-02, 5.66451678e-02, 5.65673958e-02, 5.63880010e-02,\n",
       "       5.61307439e-02, 5.60746657e-02, 5.58952771e-02, 5.57500234e-02,\n",
       "       5.57233182e-02, 5.55246286e-02, 5.53899004e-02, 5.53360082e-02,\n",
       "       5.51582502e-02, 5.49776311e-02, 5.48002532e-02, 5.46045812e-02,\n",
       "       5.45207493e-02, 5.44437831e-02, 5.43426044e-02, 5.42651502e-02,\n",
       "       5.40371214e-02, 5.38592672e-02, 5.36622695e-02, 5.34708192e-02,\n",
       "       5.34085934e-02, 5.32780980e-02, 5.31930250e-02, 5.30918295e-02,\n",
       "       5.28258565e-02, 5.27050570e-02, 5.24971350e-02, 5.23062643e-02,\n",
       "       5.21537972e-02, 5.19966406e-02, 5.19463696e-02, 5.16969710e-02,\n",
       "       5.16750689e-02, 5.15267852e-02, 5.13470581e-02, 5.10163782e-02,\n",
       "       5.10373032e-02, 5.09445996e-02, 5.08080470e-02, 5.04001874e-02,\n",
       "       5.03536220e-02, 5.02245184e-02, 5.00304377e-02, 4.99659950e-02,\n",
       "       4.99164028e-02, 4.95488734e-02, 4.90054182e-02, 4.88337519e-02,\n",
       "       4.87148822e-02, 4.85275027e-02, 4.84121207e-02, 4.82002974e-02,\n",
       "       4.81610620e-02, 4.79711398e-02, 4.78794827e-02, 4.78404861e-02,\n",
       "       4.77062523e-02, 4.74524932e-02, 4.73867475e-02, 4.71702768e-02,\n",
       "       4.68642838e-02, 4.67917260e-02, 4.65095306e-02, 4.64246997e-02,\n",
       "       4.62241018e-02, 4.59736314e-02, 4.58998672e-02, 4.56810672e-02,\n",
       "       4.55803766e-02, 4.54031418e-02, 4.53111246e-02, 4.50056192e-02,\n",
       "       4.46653527e-02, 4.45403393e-02, 4.43728014e-02, 4.41342661e-02,\n",
       "       4.40215689e-02, 4.38530456e-02, 4.38422745e-02, 4.33461748e-02,\n",
       "       4.32462679e-02, 4.28578746e-02, 4.27640950e-02, 4.25782013e-02,\n",
       "       4.24949392e-02, 4.24201958e-02, 4.23034341e-02, 4.21592864e-02,\n",
       "       4.20650496e-02, 4.18322386e-02, 4.17895955e-02, 4.15032544e-02,\n",
       "       4.14483038e-02, 4.13422865e-02, 4.13047868e-02, 4.12401379e-02,\n",
       "       4.09462558e-02, 4.08847401e-02, 4.08070854e-02, 4.05872781e-02,\n",
       "       4.03385122e-02, 4.02794540e-02, 4.01860975e-02, 4.00632166e-02,\n",
       "       3.99989685e-02, 3.98388734e-02, 3.97152219e-02, 3.95426160e-02,\n",
       "       3.94402396e-02, 3.93683496e-02, 3.93322324e-02, 3.91588212e-02,\n",
       "       3.91363266e-02, 3.89396247e-02, 3.88966369e-02, 3.87540580e-02,\n",
       "       3.86832756e-02, 3.85065383e-02, 3.84317807e-02, 3.83496841e-02,\n",
       "       3.81732828e-02, 3.80505425e-02, 3.79335108e-02, 3.76751645e-02,\n",
       "       3.76148546e-02, 3.75223268e-02, 3.74640234e-02, 3.72378123e-02,\n",
       "       3.71966083e-02, 3.69187007e-02, 3.68975560e-02, 3.67619894e-02,\n",
       "       3.66742703e-02, 3.64584158e-02, 3.62538303e-02, 3.61950250e-02,\n",
       "       3.60184109e-02, 3.58886506e-02, 3.56881199e-02, 3.53991976e-02,\n",
       "       3.52816947e-02, 3.50818376e-02, 3.48338044e-02, 3.48336947e-02,\n",
       "       3.46855811e-02, 3.45884078e-02, 3.45213459e-02, 3.43988493e-02,\n",
       "       3.41121326e-02, 3.40456305e-02, 3.39228385e-02, 3.38313845e-02,\n",
       "       3.37581715e-02, 3.34395064e-02, 3.33735694e-02, 3.33559394e-02,\n",
       "       3.32603559e-02, 3.31425491e-02, 3.30428992e-02, 3.29506633e-02,\n",
       "       3.29111673e-02, 3.28504195e-02, 3.27340731e-02, 3.26308198e-02,\n",
       "       3.23091450e-02, 3.21499571e-02, 3.21078305e-02, 3.20551653e-02,\n",
       "       3.19274815e-02, 3.16539015e-02, 3.15781941e-02, 3.14600463e-02,\n",
       "       3.12631000e-02, 3.10489907e-02, 3.09398822e-02, 3.05721380e-02,\n",
       "       3.03289394e-02, 3.01784169e-02, 3.01574339e-02, 3.00259169e-02,\n",
       "       2.97014857e-02, 2.93589727e-02, 2.92165235e-02, 2.91956622e-02,\n",
       "       2.90549258e-02, 2.84538177e-02, 2.82490597e-02, 2.81459685e-02,\n",
       "       2.80358882e-02, 2.79299173e-02, 2.77990657e-02, 2.73499089e-02,\n",
       "       2.72642781e-02, 2.71524034e-02, 2.67911669e-02, 2.65814141e-02,\n",
       "       2.60868168e-02, 2.53477524e-02, 2.48480121e-02, 2.46554730e-02,\n",
       "       2.46348731e-02, 2.44168286e-02, 2.35552430e-02, 2.33980074e-02,\n",
       "       2.29417914e-02, 2.21942804e-02, 2.10372589e-02, 1.99848401e-02,\n",
       "       1.98657021e-02, 1.98378943e-02, 1.86812347e-02, 1.86160265e-02,\n",
       "       1.82974955e-02, 1.81486195e-02, 1.73507185e-02, 1.53539973e-02,\n",
       "       1.45958410e-02, 1.32017613e-02, 1.15053652e-02, 1.07173340e-02,\n",
       "       9.62733782e-03, 5.36670177e-05, 1.83225123e-31, 1.67650511e-31,\n",
       "       1.72036444e-31, 6.51726979e-32, 1.25375546e-31, 8.40342884e-32,\n",
       "       6.59952518e-32, 1.64229087e-31, 1.49488535e-31, 1.47875051e-31,\n",
       "       7.28089087e-32, 2.70286102e-31, 6.63976241e-32, 9.72488703e-32])"
      ]
     },
     "execution_count": 17,
     "metadata": {},
     "output_type": "execute_result"
    }
   ],
   "source": [
    "dimReduction.explained_variance_ratio_ * 100"
   ]
  },
  {
   "cell_type": "code",
   "execution_count": 18,
   "metadata": {},
   "outputs": [
    {
     "data": {
      "text/plain": [
       "array([  2.92907403,   4.01654654,   4.90836966,   5.80146735,\n",
       "         6.58386515,   6.91069196,   7.53331727,   8.13760579,\n",
       "         8.66944021,   9.14684034,   9.61047542,   9.91786295,\n",
       "        10.20074754,  10.44853396,  10.69109169,  10.93115035,\n",
       "        11.17066439,  11.40185247,  11.63086347,  11.85059448,\n",
       "        12.06768878,  12.28301249,  12.49544426,  12.70673704,\n",
       "        12.91627741,  13.12418177,  13.32884274,  13.53137931,\n",
       "        13.73046624,  13.92780529,  14.12298493,  14.31714523,\n",
       "        14.5094912 ,  14.699762  ,  14.88940767,  15.07850483,\n",
       "        15.26657967,  15.4537373 ,  15.63981772,  15.82480244,\n",
       "        16.00861448,  16.19138396,  16.37284613,  16.55233598,\n",
       "        16.73126884,  16.9093713 ,  17.08720593,  17.26488202,\n",
       "        17.44125995,  17.61650621,  17.79119873,  17.96440084,\n",
       "        18.13729583,  18.30948472,  18.48163968,  18.65283935,\n",
       "        18.8234315 ,  18.99318808,  19.16280035,  19.33179074,\n",
       "        19.5000421 ,  19.66795457,  19.83509238,  20.00167483,\n",
       "        20.16757245,  20.3331153 ,  20.49817032,  20.66271331,\n",
       "        20.82700273,  20.99031761,  21.15345544,  21.31577288,\n",
       "        21.47747163,  21.63872203,  21.79965923,  21.96040824,\n",
       "        22.12084847,  22.28078406,  22.44036269,  22.59970161,\n",
       "        22.75839881,  22.91699879,  23.07500582,  23.23275618,\n",
       "        23.39000331,  23.54661121,  23.7031383 ,  23.85903399,\n",
       "        24.0148618 ,  24.17036319,  24.32538616,  24.480252  ,\n",
       "        24.63485874,  24.78919665,  24.9431704 ,  25.09696718,\n",
       "        25.25054931,  25.40392975,  25.55662852,  25.70901257,\n",
       "        25.86092883,  26.01253921,  26.16403373,  26.3151326 ,\n",
       "        26.46615672,  26.61694766,  26.76740008,  26.91768365,\n",
       "        27.06751263,  27.21714958,  27.36630661,  27.51509703,\n",
       "        27.66368033,  27.81211519,  27.96021563,  28.10799673,\n",
       "        28.25547741,  28.4028658 ,  28.55003179,  28.69680216,\n",
       "        28.84348269,  28.99005376,  29.13620341,  29.28218277,\n",
       "        29.4279271 ,  29.57352293,  29.71871711,  29.86365012,\n",
       "        30.00840859,  30.15278579,  30.29691319,  30.44084504,\n",
       "        30.58454256,  30.72820202,  30.8714069 ,  31.01435596,\n",
       "        31.15711513,  31.29953616,  31.44184842,  31.58356577,\n",
       "        31.725312  ,  31.86672335,  32.00800122,  32.14906736,\n",
       "        32.2900014 ,  32.43080054,  32.5713478 ,  32.71146035,\n",
       "        32.85153087,  32.99148531,  33.1313762 ,  33.27114274,\n",
       "        33.41039447,  33.5494826 ,  33.68832389,  33.82669632,\n",
       "        33.96485838,  34.10297366,  34.24106246,  34.37874745,\n",
       "        34.51616475,  34.65350153,  34.79075624,  34.92758504,\n",
       "        35.06425165,  35.2006665 ,  35.33676045,  35.47264423,\n",
       "        35.60832142,  35.74387261,  35.87926744,  36.0141611 ,\n",
       "        36.14889989,  36.28352265,  36.41787841,  36.55215076,\n",
       "        36.68624068,  36.82009471,  36.95383355,  37.0872159 ,\n",
       "        37.22051415,  37.35353632,  37.48637107,  37.61915695,\n",
       "        37.75170226,  37.88422467,  38.01654202,  38.14859133,\n",
       "        38.28050782,  38.41217016,  38.54368493,  38.67497144,\n",
       "        38.80616191,  38.93705493,  39.06785528,  39.19848625,\n",
       "        39.32884811,  39.45917418,  39.58942179,  39.71950446,\n",
       "        39.84928265,  39.97899051,  40.10822094,  40.23738532,\n",
       "        40.3663645 ,  40.49512764,  40.62383283,  40.7522142 ,\n",
       "        40.88034639,  41.00844731,  41.1363147 ,  41.26385304,\n",
       "        41.39132395,  41.51871208,  41.64596288,  41.77304741,\n",
       "        41.89997407,  42.02659302,  42.15314181,  42.27955578,\n",
       "        42.40567546,  42.53165719,  42.65743106,  42.78311402,\n",
       "        42.90861896,  43.03408986,  43.15936887,  43.28448839,\n",
       "        43.40939081,  43.53401983,  43.65868535,  43.7830266 ,\n",
       "        43.90712797,  44.03098002,  44.15470836,  44.27835766,\n",
       "        44.40177774,  44.52518572,  44.6481095 ,  44.77098289,\n",
       "        44.89369657,  45.01626661,  45.13866294,  45.2609135 ,\n",
       "        45.38310896,  45.50518685,  45.62710792,  45.74882735,\n",
       "        45.87022776,  45.99132455,  46.11232863,  46.23323627,\n",
       "        46.35384037,  46.47437149,  46.59469938,  46.7149784 ,\n",
       "        46.8350129 ,  46.95491647,  47.07462171,  47.19432012,\n",
       "        47.31378347,  47.4331679 ,  47.55235695,  47.67147606,\n",
       "        47.79034757,  47.90908894,  48.02760408,  48.14601398,\n",
       "        48.26433332,  48.38247502,  48.50052749,  48.61836743,\n",
       "        48.73612954,  48.8537942 ,  48.97123848,  49.0885628 ,\n",
       "        49.20568808,  49.32265143,  49.43946001,  49.55620425,\n",
       "        49.67271213,  49.78904904,  49.90530553,  50.02141512,\n",
       "        50.13726773,  50.25302306,  50.36864515,  50.48410916,\n",
       "        50.59947726,  50.71464094,  50.82962637,  50.94455246,\n",
       "        51.05935765,  51.17403338,  51.28847681,  51.40283168,\n",
       "        51.51706121,  51.63123377,  51.74532435,  51.85920364,\n",
       "        51.97290245,  52.08643052,  52.19979051,  52.31310551,\n",
       "        52.42627259,  52.53927152,  52.65220001,  52.76492092,\n",
       "        52.8774118 ,  52.98975059,  53.10202858,  53.21418694,\n",
       "        53.32626153,  53.43811107,  53.54988989,  53.66155218,\n",
       "        53.77300806,  53.88450309,  53.99595373,  54.10720444,\n",
       "        54.21828221,  54.32900868,  54.43955924,  54.55002729,\n",
       "        54.66041348,  54.77055471,  54.88052189,  54.99034147,\n",
       "        55.1001399 ,  55.2098343 ,  55.31934388,  55.42879862,\n",
       "        55.53811802,  55.64735284,  55.75638889,  55.86525859,\n",
       "        55.974066  ,  56.08274172,  56.19118542,  56.2995027 ,\n",
       "        56.40770656,  56.51572533,  56.62376691,  56.73168727,\n",
       "        56.83956029,  56.94724673,  57.05482305,  57.16230224,\n",
       "        57.26971888,  57.3768949 ,  57.48375737,  57.59056916,\n",
       "        57.69725083,  57.80387324,  57.91037177,  58.01672023,\n",
       "        58.12289158,  58.2289323 ,  58.33489202,  58.44071948,\n",
       "        58.54635788,  58.65187115,  58.75727522,  58.86253481,\n",
       "        58.96772891,  59.07284131,  59.17790147,  59.2828329 ,\n",
       "        59.38764473,  59.49229934,  59.59673823,  59.70108216,\n",
       "        59.80524867,  59.90927714,  60.01327641,  60.11700118,\n",
       "        60.22061342,  60.32416514,  60.42754686,  60.53077316,\n",
       "        60.63392966,  60.7369273 ,  60.8398811 ,  60.94269196,\n",
       "        61.04530108,  61.14769912,  61.25000421,  61.35219961,\n",
       "        61.45429531,  61.55627165,  61.65819481,  61.75992461,\n",
       "        61.86156585,  61.9630242 ,  62.06436271,  62.16558148,\n",
       "        62.26666099,  62.36765266,  62.46858474,  62.56942882,\n",
       "        62.67007015,  62.77042469,  62.87073506,  62.97097122,\n",
       "        63.07104245,  63.17096171,  63.27067863,  63.37037744,\n",
       "        63.47001901,  63.56951135,  63.6687928 ,  63.76799311,\n",
       "        63.86694084,  63.96573387,  64.06443723,  64.16302418,\n",
       "        64.26152129,  64.35986149,  64.45803977,  64.55612992,\n",
       "        64.65415385,  64.75200522,  64.84971704,  64.94722889,\n",
       "        65.04476407,  65.14220091,  65.23939097,  65.33657559,\n",
       "        65.4336229 ,  65.53045634,  65.62728165,  65.72404709,\n",
       "        65.82064151,  65.91714163,  66.01354668,  66.10988116,\n",
       "        66.20601286,  66.30206137,  66.3980151 ,  66.49367911,\n",
       "        66.58928143,  66.68478045,  66.78015103,  66.87541904,\n",
       "        66.97065761,  67.06563137,  67.16051437,  67.25535524,\n",
       "        67.35002136,  67.44458994,  67.5391221 ,  67.63365464,\n",
       "        67.7279106 ,  67.82208237,  67.91606757,  68.00992512,\n",
       "        68.10368038,  68.19723451,  68.29067053,  68.38395708,\n",
       "        68.47717523,  68.57028757,  68.66332852,  68.75628482,\n",
       "        68.84916432,  68.94190959,  69.03463192,  69.12711924,\n",
       "        69.21960782,  69.31187371,  69.40412125,  69.49622072,\n",
       "        69.58819154,  69.68003662,  69.77184344,  69.86346184,\n",
       "        69.95491306,  70.04628471,  70.13759822,  70.22877722,\n",
       "        70.31982811,  70.4108237 ,  70.50168089,  70.5924081 ,\n",
       "        70.68299411,  70.77351329,  70.86383033,  70.9540036 ,\n",
       "        71.0441228 ,  71.13416873,  71.22414932,  71.31404044,\n",
       "        71.40370883,  71.49325405,  71.58279167,  71.67226409,\n",
       "        71.76159287,  71.85077053,  71.93970837,  72.02863208,\n",
       "        72.11747143,  72.20619516,  72.29483302,  72.38347369,\n",
       "        72.47195385,  72.56037121,  72.6486118 ,  72.73681925,\n",
       "        72.82484045,  72.91272487,  73.00049907,  73.08822354,\n",
       "        73.1758406 ,  73.26331264,  73.35065759,  73.43784078,\n",
       "        73.52492018,  73.61197532,  73.69884378,  73.78560018,\n",
       "        73.87232267,  73.95886493,  74.04528734,  74.1315053 ,\n",
       "        74.21760278,  74.30350001,  74.38927639,  74.47503176,\n",
       "        74.56064421,  74.64614344,  74.73141058,  74.81667816,\n",
       "        74.90193048,  74.9870352 ,  75.07195832,  75.15676247,\n",
       "        75.24142441,  75.32607936,  75.41062138,  75.49495149,\n",
       "        75.57914296,  75.66316871,  75.74716033,  75.83095372,\n",
       "        75.9146568 ,  75.99820899,  76.08159628,  76.16489884,\n",
       "        76.24797592,  76.33101977,  76.41390314,  76.49675647,\n",
       "        76.57940952,  76.66192245,  76.74425544,  76.82656449,\n",
       "        76.90866171,  76.99065461,  77.07262996,  77.15442424,\n",
       "        77.23615511,  77.3177679 ,  77.3991713 ,  77.48038959,\n",
       "        77.56159593,  77.64268492,  77.7236973 ,  77.80469705,\n",
       "        77.88558426,  77.9661894 ,  78.04673086,  78.1271724 ,\n",
       "        78.20755626,  78.28777302,  78.36784287,  78.44779671,\n",
       "        78.5276239 ,  78.60731016,  78.68684834,  78.76613171,\n",
       "        78.84537641,  78.92452383,  79.00353972,  79.08244066,\n",
       "        79.16132327,  79.2399563 ,  79.31848229,  79.39702143,\n",
       "        79.47550507,  79.55388283,  79.63210042,  79.71018489,\n",
       "        79.78820388,  79.86599731,  79.94364108,  80.02124506,\n",
       "        80.09865298,  80.17592196,  80.25310207,  80.33022177,\n",
       "        80.4071366 ,  80.48398537,  80.56075766,  80.63744392,\n",
       "        80.71405238,  80.7906112 ,  80.86698469,  80.94327051,\n",
       "        81.01944077,  81.09542578,  81.17133894,  81.24712829,\n",
       "        81.32289055,  81.39858735,  81.47400628,  81.5493512 ,\n",
       "        81.62457929,  81.69967564,  81.77468563,  81.84962824,\n",
       "        81.92446517,  81.99923182,  82.07386502,  82.14829386,\n",
       "        82.22263501,  82.29675555,  82.37082598,  82.44479696,\n",
       "        82.51855838,  82.59224802,  82.66584665,  82.73929881,\n",
       "        82.81264744,  82.88583575,  82.95883995,  83.03177987,\n",
       "        83.10463816,  83.17722102,  83.24977027,  83.3221585 ,\n",
       "        83.39454096,  83.46668375,  83.53877946,  83.61076153,\n",
       "        83.6826691 ,  83.75440773,  83.82593757,  83.89733361,\n",
       "        83.96864532,  84.03992964,  84.11103188,  84.18199045,\n",
       "        84.25292917,  84.32383009,  84.39448652,  84.46507241,\n",
       "        84.53555339,  84.60594041,  84.67627436,  84.74650107,\n",
       "        84.81664745,  84.88667374,  84.95652397,  85.02629296,\n",
       "        85.0958841 ,  85.16535623,  85.23469933,  85.3039244 ,\n",
       "        85.37307425,  85.44211927,  85.51098209,  85.57964614,\n",
       "        85.64828678,  85.71679044,  85.7852815 ,  85.85365667,\n",
       "        85.92196192,  85.99021236,  86.05832656,  86.12633354,\n",
       "        86.19422652,  86.26203786,  86.32966991,  86.39724316,\n",
       "        86.46473133,  86.53205433,  86.5993707 ,  86.66652899,\n",
       "        86.73356913,  86.8004699 ,  86.86726976,  86.93399356,\n",
       "        87.00047085,  87.06690696,  87.1332696 ,  87.19953186,\n",
       "        87.26573415,  87.33179311,  87.39766844,  87.46343073,\n",
       "        87.52914619,  87.59480808,  87.66030461,  87.72564863,\n",
       "        87.79089042,  87.85592277,  87.92080656,  87.98546961,\n",
       "        88.05001751,  88.11450949,  88.1788136 ,  88.24303411,\n",
       "        88.30720083,  88.37120689,  88.43503116,  88.49857964,\n",
       "        88.56199285,  88.62527986,  88.68843089,  88.75133334,\n",
       "        88.81426852,  88.8770588 ,  88.9395745 ,  89.00197613,\n",
       "        89.06428122,  89.12654768,  89.18841008,  89.2501547 ,\n",
       "        89.31169461,  89.37308948,  89.43441409,  89.49560069,\n",
       "        89.55657076,  89.61747165,  89.67825489,  89.7387304 ,\n",
       "        89.79911356,  89.85934076,  89.9193426 ,  89.97933541,\n",
       "        90.03919823,  90.09889792,  90.15858139,  90.21785885,\n",
       "        90.277072  ,  90.33603154,  90.39482103,  90.45348329,\n",
       "        90.51205962,  90.57047625,  90.6285994 ,  90.68661794,\n",
       "        90.74454591,  90.80221981,  90.85989094,  90.91734214,\n",
       "        90.97470066,  91.03195069,  91.08911504,  91.14597324,\n",
       "        91.20269394,  91.2593391 ,  91.3159065 ,  91.3722945 ,\n",
       "        91.42842525,  91.48449991,  91.54039519,  91.59614521,\n",
       "        91.65186853,  91.70739316,  91.76278306,  91.81811907,\n",
       "        91.87327732,  91.92825495,  91.9830552 ,  92.03765978,\n",
       "        92.09218053,  92.14662432,  92.20096692,  92.25523207,\n",
       "        92.30926919,  92.36312846,  92.41679073,  92.47026155,\n",
       "        92.52367014,  92.57694824,  92.63014126,  92.68323309,\n",
       "        92.73605895,  92.78876401,  92.84126114,  92.89356741,\n",
       "        92.9457212 ,  92.99771784,  93.04966421,  93.10136118,\n",
       "        93.15303625,  93.20456304,  93.2559101 ,  93.30692647,\n",
       "        93.35796378,  93.40890838,  93.45971642,  93.51011661,\n",
       "        93.56047023,  93.61069475,  93.66072519,  93.71069118,\n",
       "        93.76060759,  93.81015646,  93.85916188,  93.90799563,\n",
       "        93.95671051,  94.00523802,  94.05365014,  94.10185043,\n",
       "        94.1500115 ,  94.19798264,  94.24586212,  94.2937026 ,\n",
       "        94.34140886,  94.38886135,  94.4362481 ,  94.48341837,\n",
       "        94.53028266,  94.57707438,  94.62358391,  94.67000861,\n",
       "        94.71623272,  94.76220635,  94.80810621,  94.85378728,\n",
       "        94.89936766,  94.9447708 ,  94.99008193,  95.03508754,\n",
       "        95.0797529 ,  95.12429324,  95.16866604,  95.2128003 ,\n",
       "        95.25682187,  95.30067492,  95.34451719,  95.38786337,\n",
       "        95.43110964,  95.47396751,  95.51673161,  95.55930981,\n",
       "        95.60180475,  95.64422494,  95.68652838,  95.72868766,\n",
       "        95.77075271,  95.81258495,  95.85437455,  95.8958778 ,\n",
       "        95.9373261 ,  95.97866839,  96.01997318,  96.06121332,\n",
       "        96.10215957,  96.14304431,  96.1838514 ,  96.22443867,\n",
       "        96.26477719,  96.30505664,  96.34524274,  96.38530595,\n",
       "        96.42530492,  96.4651438 ,  96.50485902,  96.54440163,\n",
       "        96.58384187,  96.62321022,  96.66254246,  96.70170128,\n",
       "        96.7408376 ,  96.77977723,  96.81867387,  96.85742792,\n",
       "        96.8961112 ,  96.93461774,  96.97304952,  97.0113992 ,\n",
       "        97.04957249,  97.08762303,  97.12555654,  97.1632317 ,\n",
       "        97.20084656,  97.23836888,  97.27583291,  97.31307072,\n",
       "        97.35026733,  97.38718603,  97.42408359,  97.46084557,\n",
       "        97.49751985,  97.53397826,  97.57023209,  97.60642712,\n",
       "        97.64244553,  97.67833418,  97.7140223 ,  97.7494215 ,\n",
       "        97.78470319,  97.81978503,  97.85461883,  97.88945253,\n",
       "        97.92413811,  97.95872652,  97.99324786,  98.02764671,\n",
       "        98.06175884,  98.09580447,  98.12972731,  98.1635587 ,\n",
       "        98.19731687,  98.23075637,  98.26412994,  98.29748588,\n",
       "        98.33074624,  98.36388879,  98.39693169,  98.42988235,\n",
       "        98.46279352,  98.49564394,  98.52837801,  98.56100883,\n",
       "        98.59331798,  98.62546793,  98.65757576,  98.68963093,\n",
       "        98.72155841,  98.75321231,  98.78479051,  98.81625055,\n",
       "        98.84751365,  98.87856264,  98.90950252,  98.94007466,\n",
       "        98.9704036 ,  99.00058202,  99.03073945,  99.06076537,\n",
       "        99.09046686,  99.11982583,  99.14904235,  99.17823801,\n",
       "        99.20729294,  99.23574676,  99.26399582,  99.29214179,\n",
       "        99.32017767,  99.34810759,  99.37590666,  99.40325657,\n",
       "        99.43052084,  99.45767325,  99.48446441,  99.51104583,\n",
       "        99.53713264,  99.5624804 ,  99.58732841,  99.61198388,\n",
       "        99.63661876,  99.66103558,  99.68459083,  99.70798883,\n",
       "        99.73093063,  99.75312491,  99.77416217,  99.79414701,\n",
       "        99.81401271,  99.8338506 ,  99.85253184,  99.87114786,\n",
       "        99.88944536,  99.90759398,  99.9249447 ,  99.94029869,\n",
       "        99.95489453,  99.9680963 ,  99.97960166,  99.990319  ,\n",
       "        99.99994633, 100.        , 100.        , 100.        ,\n",
       "       100.        , 100.        , 100.        , 100.        ,\n",
       "       100.        , 100.        , 100.        , 100.        ,\n",
       "       100.        , 100.        , 100.        , 100.        ])"
      ]
     },
     "execution_count": 18,
     "metadata": {},
     "output_type": "execute_result"
    }
   ],
   "source": [
    "np.cumsum(dimReduction.explained_variance_ratio_ * 100)"
   ]
  },
  {
   "cell_type": "code",
   "execution_count": 19,
   "metadata": {},
   "outputs": [
    {
     "data": {
      "text/plain": [
       "Text(0, 0.5, 'Variancia explicada (%)')"
      ]
     },
     "execution_count": 19,
     "metadata": {},
     "output_type": "execute_result"
    },
    {
     "data": {
      "image/png": "[encoded data removed]",
      "text/plain": [
       "<Figure size 640x480 with 1 Axes>"
      ]
     },
     "metadata": {},
     "output_type": "display_data"
    }
   ],
   "source": [
    "plt.plot(np.cumsum(dimReduction.explained_variance_ratio_ * 100))\n",
    "plt.xlabel(\"Numero de componente\")\n",
    "plt.ylabel(\"Variancia explicada (%)\")"
   ]
  },
  {
   "cell_type": "code",
   "execution_count": 20,
   "metadata": {},
   "outputs": [
    {
     "name": "stdout",
     "output_type": "stream",
     "text": [
      "Variancia explicada por 2 componentes = 4.01650050481225\n"
     ]
    }
   ],
   "source": [
    "# Creamos instancia de la clase TruncatedSVD\n",
    "dimReduction2 = TruncatedSVD(n_components = 2, random_state = 2)\n",
    "\n",
    "# Ajustamos la transfromacion con nuestros datos\n",
    "dimReduction2.fit(vectFitScaled)\n",
    "\n",
    "# Reducimos la dimensionalidad\n",
    "dataReduction2 = dimReduction2.transform(vectFitScaled)\n",
    "\n",
    "print(\"Variancia explicada por 2 componentes = \" \\\n",
    "        + str(sum(dimReduction2.explained_variance_ratio_ * 100)))"
   ]
  },
  {
   "cell_type": "code",
   "execution_count": 21,
   "metadata": {},
   "outputs": [
    {
     "data": {
      "text/plain": [
       "Text(0, 0.5, 'Segundo componente')"
      ]
     },
     "execution_count": 21,
     "metadata": {},
     "output_type": "execute_result"
    },
    {
     "data": {
      "image/png": "[encoded data removed]",
      "text/plain": [
       "<Figure size 1000x700 with 1 Axes>"
      ]
     },
     "metadata": {},
     "output_type": "display_data"
    }
   ],
   "source": [
    "plt.figure(figsize=(10,7))\n",
    "sns.scatterplot(x=dataReduction2[:,0], y=dataReduction2[:,1], s=70)\n",
    "plt.title(f\"Variancia explicada por 2 componentes = {round(sum(dimReduction2.explained_variance_ratio_ * 100),3)} % \")\n",
    "plt.xlabel(\"Primer componente\")\n",
    "plt.ylabel(\"Segundo componente\")"
   ]
  },
  {
   "attachments": {},
   "cell_type": "markdown",
   "metadata": {},
   "source": [
    "Estandarizamos la matriz para meterla al LDA"
   ]
  },
  {
   "cell_type": "code",
   "execution_count": 22,
   "metadata": {},
   "outputs": [],
   "source": [
    "scaler = MaxAbsScaler()\n",
    "scaler.fit(vectFit)\n",
    "vectFitStandardized = scaler.transform(vectFit)"
   ]
  },
  {
   "cell_type": "code",
   "execution_count": 23,
   "metadata": {},
   "outputs": [
    {
     "name": "stdout",
     "output_type": "stream",
     "text": [
      "  (0, 34513)\t1.0\n",
      "  (0, 14097)\t0.9886644487700367\n",
      "  (0, 26038)\t1.0\n",
      "  (0, 26053)\t0.30620364900687713\n",
      "  (0, 34894)\t1.0\n",
      "  (0, 33336)\t1.0\n",
      "  (0, 30100)\t0.15010129635749356\n",
      "  (0, 17669)\t1.0\n",
      "  (0, 34682)\t1.0\n",
      "  (0, 29347)\t1.0\n",
      "  (0, 13841)\t0.17615884346114774\n",
      "  (0, 8991)\t0.28669476954689166\n",
      "  (0, 20992)\t1.0\n",
      "  (0, 28065)\t1.0\n",
      "  (0, 11936)\t0.7912294111977892\n",
      "  (0, 25758)\t1.0\n",
      "  (0, 11920)\t0.4416417975985148\n",
      "  (0, 7225)\t0.8015278766073097\n",
      "  (0, 6530)\t1.0\n",
      "  (0, 35097)\t0.9405734432758843\n",
      "  (0, 13225)\t0.3908790750071285\n",
      "  (0, 36403)\t1.0\n",
      "  (0, 645)\t0.5021927636235246\n",
      "  (0, 2370)\t1.0\n",
      "  (0, 25080)\t0.39149808798501645\n",
      "  :\t:\n",
      "  (0, 2821)\t0.3136870767906291\n",
      "  (0, 531)\t0.32590664206304676\n",
      "  (0, 812)\t0.24976317239422824\n",
      "  (0, 15207)\t0.2903316075510571\n",
      "  (0, 28026)\t1.0\n",
      "  (0, 12263)\t0.3364911652706787\n",
      "  (0, 22163)\t0.34587070809595266\n",
      "  (0, 11790)\t0.2687266071979054\n",
      "  (0, 3356)\t0.07215510438750433\n",
      "  (0, 31060)\t0.31130577569261475\n",
      "  (0, 35054)\t0.09467414231343586\n",
      "  (0, 27708)\t0.11027100956387959\n",
      "  (0, 20448)\t0.2920856770293689\n",
      "  (0, 23543)\t0.40338599490699434\n",
      "  (0, 22588)\t0.19749212098625082\n",
      "  (0, 16824)\t0.08515787091505608\n",
      "  (0, 22150)\t0.3674386169053392\n",
      "  (0, 36349)\t0.4193734957567232\n",
      "  (0, 3040)\t0.17166630693694743\n",
      "  (0, 20791)\t0.14031417951619682\n",
      "  (0, 30495)\t0.09328793000370046\n",
      "  (0, 30847)\t0.23675316706336663\n",
      "  (0, 11831)\t0.3611588278047498\n",
      "  (0, 11158)\t0.13732774002905412\n",
      "  (0, 21171)\t0.10708156992132668\n"
     ]
    }
   ],
   "source": [
    "print(vectFitStandardized[1])"
   ]
  },
  {
   "cell_type": "code",
   "execution_count": null,
   "metadata": {},
   "outputs": [],
   "source": []
  }
 ],
 "metadata": {
  "kernelspec": {
   "display_name": "Python 3",
   "language": "python",
   "name": "python3"
  },
  "language_info": {
   "codemirror_mode": {
    "name": "ipython",
    "version": 3
   },
   "file_extension": ".py",
   "mimetype": "text/x-python",
   "name": "python",
   "nbconvert_exporter": "python",
   "pygments_lexer": "ipython3",
   "version": "3.9.7"
  },
  "orig_nbformat": 4
 },
 "nbformat": 4,
 "nbformat_minor": 2
}
