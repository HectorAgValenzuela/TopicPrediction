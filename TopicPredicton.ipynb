{
 "cells": [
  {
   "attachments": {},
   "cell_type": "markdown",
   "metadata": {},
   "source": [
    "## Librerias"
   ]
  },
  {
   "cell_type": "code",
   "execution_count": 1,
   "metadata": {},
   "outputs": [],
   "source": [
    "import pandas as pd\n",
    "import numpy as np\n",
    "import re # expresiones regulares (regex)\n",
    "from nltk.corpus import stopwords\n",
    "from nltk.stem import SnowballStemmer\n",
    "import spacy\n",
    "from sklearn.feature_extraction.text import TfidfVectorizer\n",
    "from nltk.tokenize import TreebankWordTokenizer\n",
    "from sklearn.preprocessing import StandardScaler\n",
    "from sklearn.decomposition import TruncatedSVD\n",
    "import matplotlib.pyplot as plt\n",
    "import seaborn as sns\n",
    "from sklearn.preprocessing import MaxAbsScaler"
   ]
  },
  {
   "attachments": {},
   "cell_type": "markdown",
   "metadata": {},
   "source": [
    "# Preprocesamiento"
   ]
  },
  {
   "attachments": {},
   "cell_type": "markdown",
   "metadata": {},
   "source": [
    "* Eliminamos stopwords\n",
    "* lematizamos\n",
    "* Normalizamos el texto (quitamos mayúsculas y signos de puntuación)\n",
    "* Vectorizamos y hacemos n-gramas\n",
    "* Usamos SVD para ver cuantos topicos pueden tener los documentos"
   ]
  },
  {
   "cell_type": "code",
   "execution_count": 2,
   "metadata": {},
   "outputs": [
    {
     "name": "stdout",
     "output_type": "stream",
     "text": [
      "(1000, 1)\n"
     ]
    },
    {
     "data": {
      "text/html": [
       "<div>\n",
       "<style scoped>\n",
       "    .dataframe tbody tr th:only-of-type {\n",
       "        vertical-align: middle;\n",
       "    }\n",
       "\n",
       "    .dataframe tbody tr th {\n",
       "        vertical-align: top;\n",
       "    }\n",
       "\n",
       "    .dataframe thead th {\n",
       "        text-align: right;\n",
       "    }\n",
       "</style>\n",
       "<table border=\"1\" class=\"dataframe\">\n",
       "  <thead>\n",
       "    <tr style=\"text-align: right;\">\n",
       "      <th></th>\n",
       "      <th>text</th>\n",
       "    </tr>\n",
       "  </thead>\n",
       "  <tbody>\n",
       "    <tr>\n",
       "      <th>0</th>\n",
       "      <td>Angela Merkel ayer en Berlin tras la cumbre te...</td>\n",
       "    </tr>\n",
       "    <tr>\n",
       "      <th>1</th>\n",
       "      <td>\\n\\n\\n\\n\\nEnrique Quemada Clariana\\nFusiones y...</td>\n",
       "    </tr>\n",
       "    <tr>\n",
       "      <th>2</th>\n",
       "      <td>¿Cuántas veces no ha querido ser su propio jef...</td>\n",
       "    </tr>\n",
       "    <tr>\n",
       "      <th>3</th>\n",
       "      <td>El ministro de Sanidad, Salvador Illa, momento...</td>\n",
       "    </tr>\n",
       "    <tr>\n",
       "      <th>4</th>\n",
       "      <td>El Pleno del Congreso ha aprobado el proyecto ...</td>\n",
       "    </tr>\n",
       "    <tr>\n",
       "      <th>5</th>\n",
       "      <td>Vacunarse de la gripe para aliviar los hospita...</td>\n",
       "    </tr>\n",
       "    <tr>\n",
       "      <th>6</th>\n",
       "      <td>Elon Musk, fundador de Tesla. EFE\\n\\nLa compañ...</td>\n",
       "    </tr>\n",
       "    <tr>\n",
       "      <th>7</th>\n",
       "      <td>Una usuaria consulta la aplicación de banca ar...</td>\n",
       "    </tr>\n",
       "    <tr>\n",
       "      <th>8</th>\n",
       "      <td>Las consecuencias socioeconómicas de la pandem...</td>\n",
       "    </tr>\n",
       "    <tr>\n",
       "      <th>9</th>\n",
       "      <td>La aerolínea Ryanair anunció este viernes que ...</td>\n",
       "    </tr>\n",
       "  </tbody>\n",
       "</table>\n",
       "</div>"
      ],
      "text/plain": [
       "                                                text\n",
       "0  Angela Merkel ayer en Berlin tras la cumbre te...\n",
       "1  \\n\\n\\n\\n\\nEnrique Quemada Clariana\\nFusiones y...\n",
       "2  ¿Cuántas veces no ha querido ser su propio jef...\n",
       "3  El ministro de Sanidad, Salvador Illa, momento...\n",
       "4  El Pleno del Congreso ha aprobado el proyecto ...\n",
       "5  Vacunarse de la gripe para aliviar los hospita...\n",
       "6  Elon Musk, fundador de Tesla. EFE\\n\\nLa compañ...\n",
       "7  Una usuaria consulta la aplicación de banca ar...\n",
       "8  Las consecuencias socioeconómicas de la pandem...\n",
       "9  La aerolínea Ryanair anunció este viernes que ..."
      ]
     },
     "execution_count": 2,
     "metadata": {},
     "output_type": "execute_result"
    }
   ],
   "source": [
    "# Archivo npr.csv es para hacer pruebas\n",
    "\n",
    "df = pd.read_csv('noticias-economicas-sample.csv')\n",
    "\n",
    "textoPrueba = df[['text']].copy() # Pongo .copy() porque cuando intentas \n",
    "                                  # quitar las stopwords sale un warning.\n",
    "textoPrueba = textoPrueba.head(1000)\n",
    "\n",
    "print(textoPrueba.shape)\n",
    "textoPrueba.head(10)"
   ]
  },
  {
   "attachments": {},
   "cell_type": "markdown",
   "metadata": {},
   "source": [
    "Eliminamos stopwords"
   ]
  },
  {
   "cell_type": "code",
   "execution_count": 3,
   "metadata": {},
   "outputs": [],
   "source": [
    "# Función para eliminar stopwords en español\n",
    "\n",
    "def noStopwords(text):\n",
    "    \n",
    "    sw_es = set(stopwords.words('spanish'))\n",
    "\n",
    "    text = ' '.join([word for word in text.split() if word.lower() not in sw_es])\n",
    "    \n",
    "    return text\n"
   ]
  },
  {
   "cell_type": "code",
   "execution_count": 4,
   "metadata": {},
   "outputs": [
    {
     "data": {
      "text/html": [
       "<div>\n",
       "<style scoped>\n",
       "    .dataframe tbody tr th:only-of-type {\n",
       "        vertical-align: middle;\n",
       "    }\n",
       "\n",
       "    .dataframe tbody tr th {\n",
       "        vertical-align: top;\n",
       "    }\n",
       "\n",
       "    .dataframe thead th {\n",
       "        text-align: right;\n",
       "    }\n",
       "</style>\n",
       "<table border=\"1\" class=\"dataframe\">\n",
       "  <thead>\n",
       "    <tr style=\"text-align: right;\">\n",
       "      <th></th>\n",
       "      <th>text</th>\n",
       "    </tr>\n",
       "  </thead>\n",
       "  <tbody>\n",
       "    <tr>\n",
       "      <th>0</th>\n",
       "      <td>Angela Merkel ayer Berlin tras cumbre telemáti...</td>\n",
       "    </tr>\n",
       "    <tr>\n",
       "      <th>1</th>\n",
       "      <td>Enrique Quemada Clariana Fusiones adquisicione...</td>\n",
       "    </tr>\n",
       "    <tr>\n",
       "      <th>2</th>\n",
       "      <td>¿Cuántas veces querido ser propio jefe? ¿Cuánt...</td>\n",
       "    </tr>\n",
       "    <tr>\n",
       "      <th>3</th>\n",
       "      <td>ministro Sanidad, Salvador Illa, momentos rued...</td>\n",
       "    </tr>\n",
       "    <tr>\n",
       "      <th>4</th>\n",
       "      <td>Pleno Congreso aprobado proyecto Presupuestos ...</td>\n",
       "    </tr>\n",
       "  </tbody>\n",
       "</table>\n",
       "</div>"
      ],
      "text/plain": [
       "                                                text\n",
       "0  Angela Merkel ayer Berlin tras cumbre telemáti...\n",
       "1  Enrique Quemada Clariana Fusiones adquisicione...\n",
       "2  ¿Cuántas veces querido ser propio jefe? ¿Cuánt...\n",
       "3  ministro Sanidad, Salvador Illa, momentos rued...\n",
       "4  Pleno Congreso aprobado proyecto Presupuestos ..."
      ]
     },
     "execution_count": 4,
     "metadata": {},
     "output_type": "execute_result"
    }
   ],
   "source": [
    "textoPrueba['text'] = textoPrueba['text'].apply(noStopwords)\n",
    "textoPrueba.head()"
   ]
  },
  {
   "attachments": {},
   "cell_type": "markdown",
   "metadata": {},
   "source": [
    "Aplicamos lematización"
   ]
  },
  {
   "cell_type": "code",
   "execution_count": 5,
   "metadata": {},
   "outputs": [],
   "source": [
    "# Función para lematizar al texto\n",
    "def lemmatize_text(text):\n",
    "\n",
    "    # Cargamos el módulo de español\n",
    "    nlp = spacy.load(\"es_core_news_sm\")\n",
    "\n",
    "    # nlp crea una pipeline que le adhiere metadata que la paquetería spacy usa\n",
    "    doc = nlp(text)\n",
    "\n",
    "    lemmatized_text = \" \".join([token.lemma_ for token in doc])\n",
    "    \n",
    "    return lemmatized_text"
   ]
  },
  {
   "cell_type": "code",
   "execution_count": 6,
   "metadata": {},
   "outputs": [
    {
     "data": {
      "text/html": [
       "<div>\n",
       "<style scoped>\n",
       "    .dataframe tbody tr th:only-of-type {\n",
       "        vertical-align: middle;\n",
       "    }\n",
       "\n",
       "    .dataframe tbody tr th {\n",
       "        vertical-align: top;\n",
       "    }\n",
       "\n",
       "    .dataframe thead th {\n",
       "        text-align: right;\n",
       "    }\n",
       "</style>\n",
       "<table border=\"1\" class=\"dataframe\">\n",
       "  <thead>\n",
       "    <tr style=\"text-align: right;\">\n",
       "      <th></th>\n",
       "      <th>text</th>\n",
       "    </tr>\n",
       "  </thead>\n",
       "  <tbody>\n",
       "    <tr>\n",
       "      <th>0</th>\n",
       "      <td>Angela Merkel ayer Berlin tras cumbre telemáti...</td>\n",
       "    </tr>\n",
       "    <tr>\n",
       "      <th>1</th>\n",
       "      <td>Enrique Quemada Clariana Fusiones adquisición ...</td>\n",
       "    </tr>\n",
       "    <tr>\n",
       "      <th>2</th>\n",
       "      <td>¿ cuántar vez querido ser propio jefe ? ¿ cuán...</td>\n",
       "    </tr>\n",
       "    <tr>\n",
       "      <th>3</th>\n",
       "      <td>ministro Sanidad , Salvador Illa , momento rod...</td>\n",
       "    </tr>\n",
       "    <tr>\n",
       "      <th>4</th>\n",
       "      <td>Pleno Congreso aprobado proyecto Presupuestos ...</td>\n",
       "    </tr>\n",
       "  </tbody>\n",
       "</table>\n",
       "</div>"
      ],
      "text/plain": [
       "                                                text\n",
       "0  Angela Merkel ayer Berlin tras cumbre telemáti...\n",
       "1  Enrique Quemada Clariana Fusiones adquisición ...\n",
       "2  ¿ cuántar vez querido ser propio jefe ? ¿ cuán...\n",
       "3  ministro Sanidad , Salvador Illa , momento rod...\n",
       "4  Pleno Congreso aprobado proyecto Presupuestos ..."
      ]
     },
     "execution_count": 6,
     "metadata": {},
     "output_type": "execute_result"
    }
   ],
   "source": [
    "textoPrueba['text'] = textoPrueba['text'].apply(lemmatize_text)\n",
    "textoPrueba.head()"
   ]
  },
  {
   "attachments": {},
   "cell_type": "markdown",
   "metadata": {},
   "source": [
    "Normalizamos el texto, quitamos mayúsculas y signos de puntuación"
   ]
  },
  {
   "cell_type": "code",
   "execution_count": 7,
   "metadata": {},
   "outputs": [],
   "source": [
    "# Función para normalizar el texto\n",
    "\n",
    "def noPuntuacion(text):\n",
    "\n",
    "    text = text.lower()\n",
    "\n",
    "    text = re.sub('[áäàâ]', 'a', text)\n",
    "    text = re.sub('[éëèê]', 'e', text)\n",
    "    text = re.sub('[íïìî]', 'i', text)\n",
    "    text = re.sub('[óöòô]', 'o', text)\n",
    "    text = re.sub('[úüùû]', 'u', text)\n",
    "\n",
    "    return re.findall(r'[a-zñ]+', text)"
   ]
  },
  {
   "cell_type": "code",
   "execution_count": 8,
   "metadata": {},
   "outputs": [
    {
     "data": {
      "text/html": [
       "<div>\n",
       "<style scoped>\n",
       "    .dataframe tbody tr th:only-of-type {\n",
       "        vertical-align: middle;\n",
       "    }\n",
       "\n",
       "    .dataframe tbody tr th {\n",
       "        vertical-align: top;\n",
       "    }\n",
       "\n",
       "    .dataframe thead th {\n",
       "        text-align: right;\n",
       "    }\n",
       "</style>\n",
       "<table border=\"1\" class=\"dataframe\">\n",
       "  <thead>\n",
       "    <tr style=\"text-align: right;\">\n",
       "      <th></th>\n",
       "      <th>text</th>\n",
       "    </tr>\n",
       "  </thead>\n",
       "  <tbody>\n",
       "    <tr>\n",
       "      <th>0</th>\n",
       "      <td>angela merkel ayer berlin tras cumbre telemati...</td>\n",
       "    </tr>\n",
       "    <tr>\n",
       "      <th>1</th>\n",
       "      <td>enrique quemada clariana fusiones adquisicion ...</td>\n",
       "    </tr>\n",
       "    <tr>\n",
       "      <th>2</th>\n",
       "      <td>cuantar vez querido ser propio jefe cuantar ve...</td>\n",
       "    </tr>\n",
       "    <tr>\n",
       "      <th>3</th>\n",
       "      <td>ministro sanidad salvador illa momento rodar p...</td>\n",
       "    </tr>\n",
       "    <tr>\n",
       "      <th>4</th>\n",
       "      <td>pleno congreso aprobado proyecto presupuestos ...</td>\n",
       "    </tr>\n",
       "  </tbody>\n",
       "</table>\n",
       "</div>"
      ],
      "text/plain": [
       "                                                text\n",
       "0  angela merkel ayer berlin tras cumbre telemati...\n",
       "1  enrique quemada clariana fusiones adquisicion ...\n",
       "2  cuantar vez querido ser propio jefe cuantar ve...\n",
       "3  ministro sanidad salvador illa momento rodar p...\n",
       "4  pleno congreso aprobado proyecto presupuestos ..."
      ]
     },
     "execution_count": 8,
     "metadata": {},
     "output_type": "execute_result"
    }
   ],
   "source": [
    "textoPrueba['text'] = textoPrueba['text'].apply(noPuntuacion).apply(lambda x: \" \".join(x))\n",
    "textoPrueba.head()"
   ]
  },
  {
   "attachments": {},
   "cell_type": "markdown",
   "metadata": {},
   "source": [
    "Aplicamos stemming (Optamos por no ponerla)"
   ]
  },
  {
   "cell_type": "code",
   "execution_count": 106,
   "metadata": {},
   "outputs": [],
   "source": [
    "# # Función para aplicar stemming al texto\n",
    "\n",
    "# def stemmiar(text):\n",
    "\n",
    "#     stemmer = SnowballStemmer('spanish')\n",
    "\n",
    "#     return ' '.join([stemmer.stem(word) for word in text.split()])"
   ]
  },
  {
   "cell_type": "code",
   "execution_count": null,
   "metadata": {},
   "outputs": [],
   "source": [
    "# textoPrueba['text'] = textoPrueba['text'].apply(stemmiar)\n",
    "# textoPrueba.head()"
   ]
  },
  {
   "attachments": {},
   "cell_type": "markdown",
   "metadata": {},
   "source": [
    "Vectorizamos y hacemos n-gramas"
   ]
  },
  {
   "cell_type": "code",
   "execution_count": 9,
   "metadata": {},
   "outputs": [
    {
     "data": {
      "text/html": [
       "<style>#sk-container-id-1 {color: black;background-color: white;}#sk-container-id-1 pre{padding: 0;}#sk-container-id-1 div.sk-toggleable {background-color: white;}#sk-container-id-1 label.sk-toggleable__label {cursor: pointer;display: block;width: 100%;margin-bottom: 0;padding: 0.3em;box-sizing: border-box;text-align: center;}#sk-container-id-1 label.sk-toggleable__label-arrow:before {content: \"▸\";float: left;margin-right: 0.25em;color: #696969;}#sk-container-id-1 label.sk-toggleable__label-arrow:hover:before {color: black;}#sk-container-id-1 div.sk-estimator:hover label.sk-toggleable__label-arrow:before {color: black;}#sk-container-id-1 div.sk-toggleable__content {max-height: 0;max-width: 0;overflow: hidden;text-align: left;background-color: #f0f8ff;}#sk-container-id-1 div.sk-toggleable__content pre {margin: 0.2em;color: black;border-radius: 0.25em;background-color: #f0f8ff;}#sk-container-id-1 input.sk-toggleable__control:checked~div.sk-toggleable__content {max-height: 200px;max-width: 100%;overflow: auto;}#sk-container-id-1 input.sk-toggleable__control:checked~label.sk-toggleable__label-arrow:before {content: \"▾\";}#sk-container-id-1 div.sk-estimator input.sk-toggleable__control:checked~label.sk-toggleable__label {background-color: #d4ebff;}#sk-container-id-1 div.sk-label input.sk-toggleable__control:checked~label.sk-toggleable__label {background-color: #d4ebff;}#sk-container-id-1 input.sk-hidden--visually {border: 0;clip: rect(1px 1px 1px 1px);clip: rect(1px, 1px, 1px, 1px);height: 1px;margin: -1px;overflow: hidden;padding: 0;position: absolute;width: 1px;}#sk-container-id-1 div.sk-estimator {font-family: monospace;background-color: #f0f8ff;border: 1px dotted black;border-radius: 0.25em;box-sizing: border-box;margin-bottom: 0.5em;}#sk-container-id-1 div.sk-estimator:hover {background-color: #d4ebff;}#sk-container-id-1 div.sk-parallel-item::after {content: \"\";width: 100%;border-bottom: 1px solid gray;flex-grow: 1;}#sk-container-id-1 div.sk-label:hover label.sk-toggleable__label {background-color: #d4ebff;}#sk-container-id-1 div.sk-serial::before {content: \"\";position: absolute;border-left: 1px solid gray;box-sizing: border-box;top: 0;bottom: 0;left: 50%;z-index: 0;}#sk-container-id-1 div.sk-serial {display: flex;flex-direction: column;align-items: center;background-color: white;padding-right: 0.2em;padding-left: 0.2em;position: relative;}#sk-container-id-1 div.sk-item {position: relative;z-index: 1;}#sk-container-id-1 div.sk-parallel {display: flex;align-items: stretch;justify-content: center;background-color: white;position: relative;}#sk-container-id-1 div.sk-item::before, #sk-container-id-1 div.sk-parallel-item::before {content: \"\";position: absolute;border-left: 1px solid gray;box-sizing: border-box;top: 0;bottom: 0;left: 50%;z-index: -1;}#sk-container-id-1 div.sk-parallel-item {display: flex;flex-direction: column;z-index: 1;position: relative;background-color: white;}#sk-container-id-1 div.sk-parallel-item:first-child::after {align-self: flex-end;width: 50%;}#sk-container-id-1 div.sk-parallel-item:last-child::after {align-self: flex-start;width: 50%;}#sk-container-id-1 div.sk-parallel-item:only-child::after {width: 0;}#sk-container-id-1 div.sk-dashed-wrapped {border: 1px dashed gray;margin: 0 0.4em 0.5em 0.4em;box-sizing: border-box;padding-bottom: 0.4em;background-color: white;}#sk-container-id-1 div.sk-label label {font-family: monospace;font-weight: bold;display: inline-block;line-height: 1.2em;}#sk-container-id-1 div.sk-label-container {text-align: center;}#sk-container-id-1 div.sk-container {/* jupyter's `normalize.less` sets `[hidden] { display: none; }` but bootstrap.min.css set `[hidden] { display: none !important; }` so we also need the `!important` here to be able to override the default hidden behavior on the sphinx rendered scikit-learn.org. See: https://github.com/scikit-learn/scikit-learn/issues/21755 */display: inline-block !important;position: relative;}#sk-container-id-1 div.sk-text-repr-fallback {display: none;}</style><div id=\"sk-container-id-1\" class=\"sk-top-container\"><div class=\"sk-text-repr-fallback\"><pre>TfidfVectorizer(max_df=0.7, min_df=2, ngram_range=(1, 2),\n",
       "                tokenizer=&lt;bound method TreebankWordTokenizer.tokenize of &lt;nltk.tokenize.treebank.TreebankWordTokenizer object at 0x000001B1B4494220&gt;&gt;)</pre><b>In a Jupyter environment, please rerun this cell to show the HTML representation or trust the notebook. <br />On GitHub, the HTML representation is unable to render, please try loading this page with nbviewer.org.</b></div><div class=\"sk-container\" hidden><div class=\"sk-item\"><div class=\"sk-estimator sk-toggleable\"><input class=\"sk-toggleable__control sk-hidden--visually\" id=\"sk-estimator-id-1\" type=\"checkbox\" checked><label for=\"sk-estimator-id-1\" class=\"sk-toggleable__label sk-toggleable__label-arrow\">TfidfVectorizer</label><div class=\"sk-toggleable__content\"><pre>TfidfVectorizer(max_df=0.7, min_df=2, ngram_range=(1, 2),\n",
       "                tokenizer=&lt;bound method TreebankWordTokenizer.tokenize of &lt;nltk.tokenize.treebank.TreebankWordTokenizer object at 0x000001B1B4494220&gt;&gt;)</pre></div></div></div></div></div>"
      ],
      "text/plain": [
       "TfidfVectorizer(max_df=0.7, min_df=2, ngram_range=(1, 2),\n",
       "                tokenizer=<bound method TreebankWordTokenizer.tokenize of <nltk.tokenize.treebank.TreebankWordTokenizer object at 0x000001B1B4494220>>)"
      ]
     },
     "execution_count": 9,
     "metadata": {},
     "output_type": "execute_result"
    }
   ],
   "source": [
    "# Creamos una instancia que hará la vectorización TF-IDF\n",
    "vect = TfidfVectorizer()\n",
    "\n",
    "# Tokenizamos como Penn Treebank\n",
    "tokenizer = TreebankWordTokenizer()\n",
    "vect.set_params(tokenizer=tokenizer.tokenize)\n",
    "\n",
    "# Incluimos 1-grams y 2-grams\n",
    "vect.set_params(ngram_range=(1, 2))\n",
    "\n",
    "# Ignoramos términos que aparecen en más del 70% de los documentos\n",
    "vect.set_params(max_df=0.7)\n",
    "\n",
    "# Solo mantenemos los términos que aparecen en al menos 2 documentos\n",
    "vect.set_params(min_df=2)"
   ]
  },
  {
   "cell_type": "code",
   "execution_count": 10,
   "metadata": {},
   "outputs": [
    {
     "name": "stderr",
     "output_type": "stream",
     "text": [
      "c:\\Users\\Victor Minjares\\AppData\\Local\\Programs\\Python\\Python39\\lib\\site-packages\\sklearn\\feature_extraction\\text.py:528: UserWarning: The parameter 'token_pattern' will not be used since 'tokenizer' is not None'\n",
      "  warnings.warn(\n"
     ]
    },
    {
     "data": {
      "text/plain": [
       "<1000x36966 sparse matrix of type '<class 'numpy.float64'>'\n",
       "\twith 260826 stored elements in Compressed Sparse Row format>"
      ]
     },
     "execution_count": 10,
     "metadata": {},
     "output_type": "execute_result"
    }
   ],
   "source": [
    "# Lo aplicamos\n",
    "vectFit = vect.fit_transform(textoPrueba['text']) \n",
    "vectFit "
   ]
  },
  {
   "cell_type": "code",
   "execution_count": 11,
   "metadata": {},
   "outputs": [
    {
     "name": "stdout",
     "output_type": "stream",
     "text": [
      "  (0, 35090)\t0.060396578129908285\n",
      "  (0, 14512)\t0.04501305740183989\n",
      "  (0, 26566)\t0.05784523463169655\n",
      "  (0, 30655)\t0.052882213857139995\n",
      "  (0, 35260)\t0.060396578129908285\n",
      "  (0, 29916)\t0.05784523463169655\n",
      "  (0, 14250)\t0.060396578129908285\n",
      "  (0, 9017)\t0.03258906578368043\n",
      "  (0, 21466)\t0.05784523463169655\n",
      "  (0, 28649)\t0.052882213857139995\n",
      "  (0, 12345)\t0.060396578129908285\n",
      "  (0, 26326)\t0.060396578129908285\n",
      "  (0, 7231)\t0.05424931793620323\n",
      "  (0, 6556)\t0.05784523463169655\n",
      "  (0, 35678)\t0.05784523463169655\n",
      "  (0, 13639)\t0.060396578129908285\n",
      "  (0, 11481)\t0.05784523463169655\n",
      "  (0, 645)\t0.04159276271841367\n",
      "  (0, 2354)\t0.060396578129908285\n",
      "  (0, 36824)\t0.05784523463169655\n",
      "  (0, 25616)\t0.05424931793620323\n",
      "  (0, 11345)\t0.060396578129908285\n",
      "  (0, 2839)\t0.060396578129908285\n",
      "  (0, 34555)\t0.060396578129908285\n",
      "  (0, 4969)\t0.060396578129908285\n",
      "  :\t:\n",
      "  (0, 2811)\t0.04501305740183989\n",
      "  (0, 534)\t0.03526988051264151\n",
      "  (0, 808)\t0.038608717706793506\n",
      "  (0, 12668)\t0.08466448534575763\n",
      "  (0, 22650)\t0.048873728737012956\n",
      "  (0, 25121)\t0.017840127691196004\n",
      "  (0, 12199)\t0.03184958582921529\n",
      "  (0, 3347)\t0.013117004710708372\n",
      "  (0, 31616)\t0.02760137497948296\n",
      "  (0, 35638)\t0.022676149324718595\n",
      "  (0, 28267)\t0.02288883629946035\n",
      "  (0, 20899)\t0.05533512259224987\n",
      "  (0, 24074)\t0.07053976102528302\n",
      "  (0, 23078)\t0.05003957453721617\n",
      "  (0, 9089)\t0.020166937125678342\n",
      "  (0, 17252)\t0.034440433276024834\n",
      "  (0, 22636)\t0.07109919507414224\n",
      "  (0, 3032)\t0.019825196633208562\n",
      "  (0, 21254)\t0.02175857526847096\n",
      "  (0, 31049)\t0.021101339691333123\n",
      "  (0, 31401)\t0.02821434036950714\n",
      "  (0, 12246)\t0.12820898743333756\n",
      "  (0, 11145)\t0.05586625886876016\n",
      "  (0, 24588)\t0.018341313110906574\n",
      "  (0, 21652)\t0.018012339350674846\n"
     ]
    }
   ],
   "source": [
    "print(vectFit[1])"
   ]
  },
  {
   "attachments": {},
   "cell_type": "markdown",
   "metadata": {},
   "source": [
    "Descomposicion por valores singulares (SVD)"
   ]
  },
  {
   "attachments": {},
   "cell_type": "markdown",
   "metadata": {},
   "source": [
    "Hacemos z-score normalizacion"
   ]
  },
  {
   "cell_type": "code",
   "execution_count": 12,
   "metadata": {},
   "outputs": [
    {
     "name": "stdout",
     "output_type": "stream",
     "text": [
      "  (0, 31257)\t9.254913690852511\n",
      "  (0, 25175)\t20.13417179718722\n",
      "  (0, 3528)\t1.921999740323618\n",
      "  (0, 21428)\t12.22845930089941\n",
      "  (0, 25728)\t30.745086348767074\n",
      "  (0, 22028)\t2.743491885110464\n",
      "  (0, 34935)\t10.063636290795838\n",
      "  (0, 3360)\t3.2772372305307944\n",
      "  (0, 25571)\t10.51418608784329\n",
      "  (0, 22240)\t6.40481295829969\n",
      "  (0, 31744)\t12.682812919895763\n",
      "  (0, 31221)\t2.9832096892356965\n",
      "  (0, 35647)\t4.590984685925436\n",
      "  (0, 11109)\t20.405318035635442\n",
      "  (0, 1943)\t24.926888969312905\n",
      "  (0, 34922)\t7.287421668336652\n",
      "  (0, 15431)\t17.21319349717695\n",
      "  (0, 4113)\t11.828947686617525\n",
      "  (0, 18620)\t21.84280830610786\n",
      "  (0, 13871)\t24.815996578731177\n",
      "  (0, 13444)\t25.250190413761796\n",
      "  (0, 14542)\t18.95621039927713\n",
      "  (0, 11600)\t26.66849358972337\n",
      "  (0, 7748)\t4.447513614552788\n",
      "  (0, 15836)\t8.8050759490576\n",
      "  :\t:\n",
      "  (0, 18568)\t8.303021898731256\n",
      "  (0, 16570)\t1.4953130268855748\n",
      "  (0, 7839)\t2.440737120753125\n",
      "  (0, 18053)\t5.572660759192016\n",
      "  (0, 24134)\t4.991659448695931\n",
      "  (0, 9024)\t2.697328246256344\n",
      "  (0, 7223)\t2.881776403642657\n",
      "  (0, 21652)\t3.376257208833213\n",
      "  (0, 31333)\t5.593605389287802\n",
      "  (0, 1349)\t1.8030115415102463\n",
      "  (0, 23481)\t2.4123686296511155\n",
      "  (0, 4793)\t6.357914361090678\n",
      "  (0, 12368)\t14.34694698383251\n",
      "  (0, 7066)\t16.868551199758116\n",
      "  (0, 11285)\t1.6491069015669872\n",
      "  (0, 26666)\t4.489217655858845\n",
      "  (0, 5889)\t11.083497337117661\n",
      "  (0, 15676)\t1.435504661936571\n",
      "  (0, 33695)\t6.022228858405908\n",
      "  (0, 8592)\t6.602310988387273\n",
      "  (0, 34648)\t0.9487012934053349\n",
      "  (0, 4056)\t3.157821049578635\n",
      "  (0, 3258)\t1.4482174346202517\n",
      "  (0, 21641)\t2.6378796916919947\n",
      "  (0, 1876)\t4.118276906274285\n"
     ]
    }
   ],
   "source": [
    "# Creamos la instancia \n",
    "scaler = StandardScaler(with_mean=False)\n",
    "# Calculamos el promedio y la desviacion estandar\n",
    "scaler.fit(vectFit)\n",
    "# Re escalamos\n",
    "vectFitScaled = scaler.transform(vectFit)\n",
    "\n",
    "print(vectFitScaled[0])"
   ]
  },
  {
   "cell_type": "code",
   "execution_count": 44,
   "metadata": {},
   "outputs": [
    {
     "data": {
      "text/plain": [
       "<36755x1000 sparse matrix of type '<class 'numpy.float64'>'\n",
       "\twith 260367 stored elements in Compressed Sparse Column format>"
      ]
     },
     "execution_count": 44,
     "metadata": {},
     "output_type": "execute_result"
    }
   ],
   "source": [
    "# vectFitScaled = vectFitScaled.transpose()\n",
    "# vectFitScaled"
   ]
  },
  {
   "cell_type": "code",
   "execution_count": 13,
   "metadata": {},
   "outputs": [],
   "source": [
    "# Creamos instancia de la clase TruncatedSVD\n",
    "dimReduction = TruncatedSVD(n_components = 1000, random_state = 2)"
   ]
  },
  {
   "cell_type": "code",
   "execution_count": 14,
   "metadata": {},
   "outputs": [
    {
     "data": {
      "text/html": [
       "<style>#sk-container-id-2 {color: black;background-color: white;}#sk-container-id-2 pre{padding: 0;}#sk-container-id-2 div.sk-toggleable {background-color: white;}#sk-container-id-2 label.sk-toggleable__label {cursor: pointer;display: block;width: 100%;margin-bottom: 0;padding: 0.3em;box-sizing: border-box;text-align: center;}#sk-container-id-2 label.sk-toggleable__label-arrow:before {content: \"▸\";float: left;margin-right: 0.25em;color: #696969;}#sk-container-id-2 label.sk-toggleable__label-arrow:hover:before {color: black;}#sk-container-id-2 div.sk-estimator:hover label.sk-toggleable__label-arrow:before {color: black;}#sk-container-id-2 div.sk-toggleable__content {max-height: 0;max-width: 0;overflow: hidden;text-align: left;background-color: #f0f8ff;}#sk-container-id-2 div.sk-toggleable__content pre {margin: 0.2em;color: black;border-radius: 0.25em;background-color: #f0f8ff;}#sk-container-id-2 input.sk-toggleable__control:checked~div.sk-toggleable__content {max-height: 200px;max-width: 100%;overflow: auto;}#sk-container-id-2 input.sk-toggleable__control:checked~label.sk-toggleable__label-arrow:before {content: \"▾\";}#sk-container-id-2 div.sk-estimator input.sk-toggleable__control:checked~label.sk-toggleable__label {background-color: #d4ebff;}#sk-container-id-2 div.sk-label input.sk-toggleable__control:checked~label.sk-toggleable__label {background-color: #d4ebff;}#sk-container-id-2 input.sk-hidden--visually {border: 0;clip: rect(1px 1px 1px 1px);clip: rect(1px, 1px, 1px, 1px);height: 1px;margin: -1px;overflow: hidden;padding: 0;position: absolute;width: 1px;}#sk-container-id-2 div.sk-estimator {font-family: monospace;background-color: #f0f8ff;border: 1px dotted black;border-radius: 0.25em;box-sizing: border-box;margin-bottom: 0.5em;}#sk-container-id-2 div.sk-estimator:hover {background-color: #d4ebff;}#sk-container-id-2 div.sk-parallel-item::after {content: \"\";width: 100%;border-bottom: 1px solid gray;flex-grow: 1;}#sk-container-id-2 div.sk-label:hover label.sk-toggleable__label {background-color: #d4ebff;}#sk-container-id-2 div.sk-serial::before {content: \"\";position: absolute;border-left: 1px solid gray;box-sizing: border-box;top: 0;bottom: 0;left: 50%;z-index: 0;}#sk-container-id-2 div.sk-serial {display: flex;flex-direction: column;align-items: center;background-color: white;padding-right: 0.2em;padding-left: 0.2em;position: relative;}#sk-container-id-2 div.sk-item {position: relative;z-index: 1;}#sk-container-id-2 div.sk-parallel {display: flex;align-items: stretch;justify-content: center;background-color: white;position: relative;}#sk-container-id-2 div.sk-item::before, #sk-container-id-2 div.sk-parallel-item::before {content: \"\";position: absolute;border-left: 1px solid gray;box-sizing: border-box;top: 0;bottom: 0;left: 50%;z-index: -1;}#sk-container-id-2 div.sk-parallel-item {display: flex;flex-direction: column;z-index: 1;position: relative;background-color: white;}#sk-container-id-2 div.sk-parallel-item:first-child::after {align-self: flex-end;width: 50%;}#sk-container-id-2 div.sk-parallel-item:last-child::after {align-self: flex-start;width: 50%;}#sk-container-id-2 div.sk-parallel-item:only-child::after {width: 0;}#sk-container-id-2 div.sk-dashed-wrapped {border: 1px dashed gray;margin: 0 0.4em 0.5em 0.4em;box-sizing: border-box;padding-bottom: 0.4em;background-color: white;}#sk-container-id-2 div.sk-label label {font-family: monospace;font-weight: bold;display: inline-block;line-height: 1.2em;}#sk-container-id-2 div.sk-label-container {text-align: center;}#sk-container-id-2 div.sk-container {/* jupyter's `normalize.less` sets `[hidden] { display: none; }` but bootstrap.min.css set `[hidden] { display: none !important; }` so we also need the `!important` here to be able to override the default hidden behavior on the sphinx rendered scikit-learn.org. See: https://github.com/scikit-learn/scikit-learn/issues/21755 */display: inline-block !important;position: relative;}#sk-container-id-2 div.sk-text-repr-fallback {display: none;}</style><div id=\"sk-container-id-2\" class=\"sk-top-container\"><div class=\"sk-text-repr-fallback\"><pre>TruncatedSVD(n_components=1000, random_state=2)</pre><b>In a Jupyter environment, please rerun this cell to show the HTML representation or trust the notebook. <br />On GitHub, the HTML representation is unable to render, please try loading this page with nbviewer.org.</b></div><div class=\"sk-container\" hidden><div class=\"sk-item\"><div class=\"sk-estimator sk-toggleable\"><input class=\"sk-toggleable__control sk-hidden--visually\" id=\"sk-estimator-id-2\" type=\"checkbox\" checked><label for=\"sk-estimator-id-2\" class=\"sk-toggleable__label sk-toggleable__label-arrow\">TruncatedSVD</label><div class=\"sk-toggleable__content\"><pre>TruncatedSVD(n_components=1000, random_state=2)</pre></div></div></div></div></div>"
      ],
      "text/plain": [
       "TruncatedSVD(n_components=1000, random_state=2)"
      ]
     },
     "execution_count": 14,
     "metadata": {},
     "output_type": "execute_result"
    }
   ],
   "source": [
    "# Ajustamos la transfromacion con nuestros datos\n",
    "dimReduction.fit(vectFitScaled)"
   ]
  },
  {
   "cell_type": "code",
   "execution_count": 15,
   "metadata": {},
   "outputs": [],
   "source": [
    "# Reducimos la dimensionalidad\n",
    "dataReduction = dimReduction.transform(vectFitScaled)"
   ]
  },
  {
   "cell_type": "code",
   "execution_count": 16,
   "metadata": {},
   "outputs": [
    {
     "name": "stdout",
     "output_type": "stream",
     "text": [
      "Variancia explicada por los 36,755 componentes = 100.00000000000006\n"
     ]
    }
   ],
   "source": [
    "print(\"Variancia explicada por los 36,755 componentes = \" \\\n",
    "        + str(sum(dimReduction.explained_variance_ratio_ * 100)))"
   ]
  },
  {
   "cell_type": "code",
   "execution_count": 17,
   "metadata": {},
   "outputs": [
    {
     "data": {
      "text/plain": [
       "array([3.01237998e+00, 1.05683500e+00, 8.56319203e-01, 8.64762107e-01,\n",
       "       8.25034628e-01, 3.05753988e-01, 6.05778202e-01, 5.80375098e-01,\n",
       "       5.41324796e-01, 5.01103525e-01, 4.65842576e-01, 3.04838910e-01,\n",
       "       2.81036470e-01, 2.45665887e-01, 2.41409380e-01, 2.39358205e-01,\n",
       "       2.35619644e-01, 2.32753591e-01, 2.30074255e-01, 2.26772648e-01,\n",
       "       2.19259321e-01, 2.15724138e-01, 2.13841373e-01, 2.11152180e-01,\n",
       "       2.10849639e-01, 2.09059611e-01, 2.05877526e-01, 2.04590468e-01,\n",
       "       2.01614889e-01, 1.98218884e-01, 1.97474948e-01, 1.96136586e-01,\n",
       "       1.93955863e-01, 1.91822166e-01, 1.91246243e-01, 1.89330439e-01,\n",
       "       1.88567013e-01, 1.87674161e-01, 1.87227757e-01, 1.85843855e-01,\n",
       "       1.84225941e-01, 1.83697790e-01, 1.82684042e-01, 1.81799095e-01,\n",
       "       1.80735066e-01, 1.79262942e-01, 1.78605344e-01, 1.77692533e-01,\n",
       "       1.76873932e-01, 1.75749886e-01, 1.75548614e-01, 1.74870693e-01,\n",
       "       1.73959453e-01, 1.73289554e-01, 1.72433092e-01, 1.71034811e-01,\n",
       "       1.70714782e-01, 1.70094996e-01, 1.69320863e-01, 1.68833333e-01,\n",
       "       1.68304261e-01, 1.68028437e-01, 1.67184203e-01, 1.67018187e-01,\n",
       "       1.66393062e-01, 1.65556091e-01, 1.65321482e-01, 1.63893176e-01,\n",
       "       1.63809733e-01, 1.63490595e-01, 1.62574111e-01, 1.62391869e-01,\n",
       "       1.62207401e-01, 1.61985229e-01, 1.60534397e-01, 1.60443260e-01,\n",
       "       1.60007091e-01, 1.59879997e-01, 1.59097831e-01, 1.59064598e-01,\n",
       "       1.58556907e-01, 1.58251425e-01, 1.57937567e-01, 1.57681917e-01,\n",
       "       1.57447337e-01, 1.56995115e-01, 1.56851350e-01, 1.56046698e-01,\n",
       "       1.55916529e-01, 1.55765761e-01, 1.55149079e-01, 1.54881775e-01,\n",
       "       1.54715418e-01, 1.54262570e-01, 1.54148160e-01, 1.53859252e-01,\n",
       "       1.53562971e-01, 1.53168702e-01, 1.52959136e-01, 1.52231954e-01,\n",
       "       1.52133607e-01, 1.51881540e-01, 1.51728420e-01, 1.51064653e-01,\n",
       "       1.51041792e-01, 1.50681046e-01, 1.50398519e-01, 1.49969650e-01,\n",
       "       1.49620797e-01, 1.49540009e-01, 1.49207015e-01, 1.48841152e-01,\n",
       "       1.48786077e-01, 1.48570570e-01, 1.48432114e-01, 1.47866137e-01,\n",
       "       1.47692610e-01, 1.47552396e-01, 1.47167274e-01, 1.47087459e-01,\n",
       "       1.46792985e-01, 1.46465648e-01, 1.46172347e-01, 1.46053442e-01,\n",
       "       1.45570761e-01, 1.45258189e-01, 1.45158626e-01, 1.44980403e-01,\n",
       "       1.44556030e-01, 1.44517053e-01, 1.44288466e-01, 1.44108189e-01,\n",
       "       1.43842852e-01, 1.43518713e-01, 1.43330579e-01, 1.43188096e-01,\n",
       "       1.43003331e-01, 1.42753080e-01, 1.42292642e-01, 1.42153425e-01,\n",
       "       1.42034474e-01, 1.41692162e-01, 1.41441349e-01, 1.41219499e-01,\n",
       "       1.41058284e-01, 1.40668467e-01, 1.40522196e-01, 1.40323851e-01,\n",
       "       1.40208330e-01, 1.39914305e-01, 1.39779700e-01, 1.39596398e-01,\n",
       "       1.39311721e-01, 1.39145886e-01, 1.38792297e-01, 1.38576203e-01,\n",
       "       1.38227637e-01, 1.38123588e-01, 1.38001765e-01, 1.37864851e-01,\n",
       "       1.37540733e-01, 1.37338429e-01, 1.37186467e-01, 1.36918926e-01,\n",
       "       1.36775417e-01, 1.36618273e-01, 1.36333717e-01, 1.36085991e-01,\n",
       "       1.35978517e-01, 1.35728519e-01, 1.35507757e-01, 1.35204799e-01,\n",
       "       1.35091592e-01, 1.35006406e-01, 1.34599149e-01, 1.34440377e-01,\n",
       "       1.34195426e-01, 1.33924788e-01, 1.33877793e-01, 1.33841588e-01,\n",
       "       1.33628641e-01, 1.33433091e-01, 1.33368765e-01, 1.33115757e-01,\n",
       "       1.32830759e-01, 1.32753358e-01, 1.32390757e-01, 1.32257908e-01,\n",
       "       1.32120544e-01, 1.31857770e-01, 1.31790689e-01, 1.31513366e-01,\n",
       "       1.31427170e-01, 1.31210633e-01, 1.31130475e-01, 1.30827753e-01,\n",
       "       1.30647540e-01, 1.30425003e-01, 1.30290477e-01, 1.30005494e-01,\n",
       "       1.30044107e-01, 1.29838391e-01, 1.29551427e-01, 1.29358258e-01,\n",
       "       1.29351146e-01, 1.28961522e-01, 1.28845806e-01, 1.28606422e-01,\n",
       "       1.28290114e-01, 1.28225870e-01, 1.28025980e-01, 1.27948581e-01,\n",
       "       1.27737857e-01, 1.27494334e-01, 1.27323686e-01, 1.27059158e-01,\n",
       "       1.26892220e-01, 1.26604746e-01, 1.26422556e-01, 1.26390152e-01,\n",
       "       1.25996137e-01, 1.26033253e-01, 1.25823393e-01, 1.25763516e-01,\n",
       "       1.25672709e-01, 1.25449992e-01, 1.25175154e-01, 1.25156410e-01,\n",
       "       1.25074654e-01, 1.24880169e-01, 1.24646485e-01, 1.24574353e-01,\n",
       "       1.24399967e-01, 1.24067145e-01, 1.23858390e-01, 1.23834811e-01,\n",
       "       1.23564930e-01, 1.23325307e-01, 1.23232803e-01, 1.23032467e-01,\n",
       "       1.23024989e-01, 1.22567312e-01, 1.22611908e-01, 1.22502242e-01,\n",
       "       1.22353171e-01, 1.22179665e-01, 1.21978407e-01, 1.21714385e-01,\n",
       "       1.21561619e-01, 1.21446682e-01, 1.21265558e-01, 1.21239194e-01,\n",
       "       1.21205327e-01, 1.21085802e-01, 1.20888193e-01, 1.20851004e-01,\n",
       "       1.20606761e-01, 1.20401570e-01, 1.20354580e-01, 1.20204217e-01,\n",
       "       1.20094614e-01, 1.19686528e-01, 1.19510528e-01, 1.19418814e-01,\n",
       "       1.19218838e-01, 1.18956782e-01, 1.18912577e-01, 1.18799055e-01,\n",
       "       1.18763773e-01, 1.18569431e-01, 1.18234265e-01, 1.17989804e-01,\n",
       "       1.17813344e-01, 1.17745036e-01, 1.17614597e-01, 1.17434820e-01,\n",
       "       1.17167791e-01, 1.16945557e-01, 1.16874073e-01, 1.16806022e-01,\n",
       "       1.16767894e-01, 1.16633254e-01, 1.16431335e-01, 1.16196090e-01,\n",
       "       1.16148305e-01, 1.16000146e-01, 1.15853370e-01, 1.15666270e-01,\n",
       "       1.15579929e-01, 1.15479534e-01, 1.15392597e-01, 1.15203811e-01,\n",
       "       1.15068864e-01, 1.14950352e-01, 1.14815083e-01, 1.14801931e-01,\n",
       "       1.14535323e-01, 1.14403071e-01, 1.14237869e-01, 1.14142864e-01,\n",
       "       1.14058282e-01, 1.13864393e-01, 1.13772012e-01, 1.13535444e-01,\n",
       "       1.13325971e-01, 1.13355351e-01, 1.13320941e-01, 1.13178291e-01,\n",
       "       1.12908283e-01, 1.12915125e-01, 1.12797716e-01, 1.12431728e-01,\n",
       "       1.12274551e-01, 1.12133736e-01, 1.12041682e-01, 1.11957993e-01,\n",
       "       1.11806485e-01, 1.11740681e-01, 1.11654058e-01, 1.11420655e-01,\n",
       "       1.11281140e-01, 1.11186146e-01, 1.11115086e-01, 1.10877441e-01,\n",
       "       1.10791473e-01, 1.10574494e-01, 1.10490928e-01, 1.10272224e-01,\n",
       "       1.10013893e-01, 1.10078134e-01, 1.09984892e-01, 1.09865582e-01,\n",
       "       1.09621860e-01, 1.09484297e-01, 1.09349050e-01, 1.09218227e-01,\n",
       "       1.09149256e-01, 1.09124272e-01, 1.08831263e-01, 1.08598646e-01,\n",
       "       1.08398167e-01, 1.08325157e-01, 1.08141123e-01, 1.08028609e-01,\n",
       "       1.07975408e-01, 1.07756604e-01, 1.07684006e-01, 1.07533030e-01,\n",
       "       1.07434544e-01, 1.07324361e-01, 1.07144686e-01, 1.07073503e-01,\n",
       "       1.06872213e-01, 1.06759822e-01, 1.06550896e-01, 1.06540594e-01,\n",
       "       1.06400405e-01, 1.06180824e-01, 1.06154820e-01, 1.06068734e-01,\n",
       "       1.05892862e-01, 1.05816451e-01, 1.05673787e-01, 1.05529861e-01,\n",
       "       1.05450071e-01, 1.05216091e-01, 1.05037276e-01, 1.05018181e-01,\n",
       "       1.04860432e-01, 1.04850623e-01, 1.04789348e-01, 1.04548338e-01,\n",
       "       1.04422917e-01, 1.04363207e-01, 1.04147752e-01, 1.03836386e-01,\n",
       "       1.03771182e-01, 1.03774239e-01, 1.03632812e-01, 1.03546358e-01,\n",
       "       1.03523030e-01, 1.03423162e-01, 1.03265670e-01, 1.03121156e-01,\n",
       "       1.02936392e-01, 1.02833148e-01, 1.02547924e-01, 1.02522598e-01,\n",
       "       1.02278796e-01, 1.02144762e-01, 1.02138972e-01, 1.01803648e-01,\n",
       "       1.01719458e-01, 1.01668382e-01, 1.01590314e-01, 1.01415126e-01,\n",
       "       1.01378006e-01, 1.01207476e-01, 1.01107000e-01, 1.00969937e-01,\n",
       "       1.00811471e-01, 1.00760876e-01, 1.00673204e-01, 1.00422437e-01,\n",
       "       1.00279161e-01, 1.00079605e-01, 1.00011933e-01, 9.98760603e-02,\n",
       "       9.98216432e-02, 9.97455234e-02, 9.95659800e-02, 9.94549144e-02,\n",
       "       9.93978107e-02, 9.92733218e-02, 9.91323979e-02, 9.90277801e-02,\n",
       "       9.89703667e-02, 9.88050562e-02, 9.87424007e-02, 9.87244279e-02,\n",
       "       9.84998119e-02, 9.83518944e-02, 9.82559969e-02, 9.81151371e-02,\n",
       "       9.79476309e-02, 9.77600639e-02, 9.75400643e-02, 9.75110792e-02,\n",
       "       9.74327893e-02, 9.72154522e-02, 9.71154987e-02, 9.69612906e-02,\n",
       "       9.69127366e-02, 9.67343413e-02, 9.66453785e-02, 9.64261955e-02,\n",
       "       9.63015836e-02, 9.61400036e-02, 9.61047957e-02, 9.60393700e-02,\n",
       "       9.59528858e-02, 9.58237445e-02, 9.56569754e-02, 9.55498548e-02,\n",
       "       9.53239582e-02, 9.52050251e-02, 9.52032757e-02, 9.50688420e-02,\n",
       "       9.49557919e-02, 9.49312885e-02, 9.48607653e-02, 9.47891230e-02,\n",
       "       9.46924825e-02, 9.44991390e-02, 9.43297571e-02, 9.43028280e-02,\n",
       "       9.41800774e-02, 9.41285617e-02, 9.39000189e-02, 9.37301426e-02,\n",
       "       9.36519357e-02, 9.34816359e-02, 9.34317866e-02, 9.32508424e-02,\n",
       "       9.32052422e-02, 9.31650475e-02, 9.30780807e-02, 9.29213971e-02,\n",
       "       9.28690750e-02, 9.27633331e-02, 9.25368979e-02, 9.23175259e-02,\n",
       "       9.23115448e-02, 9.21657028e-02, 9.20436917e-02, 9.19438148e-02,\n",
       "       9.17761256e-02, 9.17013300e-02, 9.16753786e-02, 9.14553646e-02,\n",
       "       9.14592243e-02, 9.14050667e-02, 9.10122647e-02, 9.09983349e-02,\n",
       "       9.08958325e-02, 9.07750591e-02, 9.06144810e-02, 9.05293377e-02,\n",
       "       9.04433665e-02, 9.02885116e-02, 9.02023749e-02, 9.01035371e-02,\n",
       "       9.00136981e-02, 8.98188631e-02, 8.97049984e-02, 8.96414085e-02,\n",
       "       8.94496856e-02, 8.92900221e-02, 8.92220951e-02, 8.89203453e-02,\n",
       "       8.88400879e-02, 8.87903395e-02, 8.85786463e-02, 8.85599640e-02,\n",
       "       8.84237137e-02, 8.83536560e-02, 8.82621245e-02, 8.81461874e-02,\n",
       "       8.80153443e-02, 8.79177393e-02, 8.76784281e-02, 8.76367504e-02,\n",
       "       8.74831740e-02, 8.74595760e-02, 8.73298795e-02, 8.71975914e-02,\n",
       "       8.71067056e-02, 8.69896205e-02, 8.68605479e-02, 8.67473353e-02,\n",
       "       8.65770667e-02, 8.64930442e-02, 8.64221227e-02, 8.62256793e-02,\n",
       "       8.62207601e-02, 8.60354093e-02, 8.59030151e-02, 8.57482032e-02,\n",
       "       8.56008321e-02, 8.55344389e-02, 8.54396818e-02, 8.53890061e-02,\n",
       "       8.51129443e-02, 8.50782594e-02, 8.48329294e-02, 8.48389790e-02,\n",
       "       8.46700667e-02, 8.45059422e-02, 8.44243818e-02, 8.43842370e-02,\n",
       "       8.41094015e-02, 8.40772362e-02, 8.38776249e-02, 8.38139555e-02,\n",
       "       8.37071832e-02, 8.35378312e-02, 8.34580874e-02, 8.31967745e-02,\n",
       "       8.31153771e-02, 8.30349195e-02, 8.28876951e-02, 8.27221367e-02,\n",
       "       8.26057394e-02, 8.25378156e-02, 8.24689837e-02, 8.23058965e-02,\n",
       "       8.22882793e-02, 8.20492685e-02, 8.19445702e-02, 8.18125828e-02,\n",
       "       8.17638115e-02, 8.16225601e-02, 8.15927938e-02, 8.13311832e-02,\n",
       "       8.13106737e-02, 8.12606991e-02, 8.12102021e-02, 8.10304512e-02,\n",
       "       8.08606890e-02, 8.07888082e-02, 8.07701488e-02, 8.04517490e-02,\n",
       "       8.03398813e-02, 8.02971026e-02, 8.00938027e-02, 7.99075265e-02,\n",
       "       7.98103299e-02, 7.97233831e-02, 7.96299725e-02, 7.94787818e-02,\n",
       "       7.94412206e-02, 7.93225037e-02, 7.92234365e-02, 7.91017969e-02,\n",
       "       7.89739441e-02, 7.87209098e-02, 7.86610595e-02, 7.86081121e-02,\n",
       "       7.85899844e-02, 7.83795049e-02, 7.83418790e-02, 7.81193659e-02,\n",
       "       7.79891706e-02, 7.78735697e-02, 7.77496368e-02, 7.76297105e-02,\n",
       "       7.74929668e-02, 7.73942412e-02, 7.72717459e-02, 7.72288115e-02,\n",
       "       7.70617138e-02, 7.69834134e-02, 7.67672607e-02, 7.66238472e-02,\n",
       "       7.64751495e-02, 7.64485378e-02, 7.64058726e-02, 7.60925179e-02,\n",
       "       7.58686441e-02, 7.58793861e-02, 7.57158429e-02, 7.55735695e-02,\n",
       "       7.53942359e-02, 7.53131566e-02, 7.52123767e-02, 7.51261854e-02,\n",
       "       7.50710871e-02, 7.49513872e-02, 7.48514966e-02, 7.46874885e-02,\n",
       "       7.46061121e-02, 7.43344873e-02, 7.42751493e-02, 7.42016638e-02,\n",
       "       7.40209268e-02, 7.39741826e-02, 7.38473040e-02, 7.37912033e-02,\n",
       "       7.34955081e-02, 7.33143084e-02, 7.32757820e-02, 7.32135075e-02,\n",
       "       7.30224705e-02, 7.29054425e-02, 7.29037800e-02, 7.28239503e-02,\n",
       "       7.27345353e-02, 7.25475039e-02, 7.23983287e-02, 7.23350493e-02,\n",
       "       7.22537456e-02, 7.22367797e-02, 7.21196638e-02, 7.19046733e-02,\n",
       "       7.17560752e-02, 7.16866499e-02, 7.15831774e-02, 7.15517182e-02,\n",
       "       7.14139654e-02, 7.13545686e-02, 7.12422400e-02, 7.11692816e-02,\n",
       "       7.10083456e-02, 7.09067642e-02, 7.08290512e-02, 7.08195582e-02,\n",
       "       7.07015549e-02, 7.05010553e-02, 7.03812846e-02, 7.02647800e-02,\n",
       "       7.01565489e-02, 7.01428565e-02, 6.99917646e-02, 6.97840409e-02,\n",
       "       6.97585607e-02, 6.95548587e-02, 6.94730732e-02, 6.93711519e-02,\n",
       "       6.93448785e-02, 6.91626154e-02, 6.90648730e-02, 6.88859382e-02,\n",
       "       6.88208880e-02, 6.85169605e-02, 6.84295717e-02, 6.83389750e-02,\n",
       "       6.81923828e-02, 6.81100841e-02, 6.80762384e-02, 6.77566093e-02,\n",
       "       6.76263772e-02, 6.75588356e-02, 6.74015637e-02, 6.73861454e-02,\n",
       "       6.73273602e-02, 6.71879067e-02, 6.71244349e-02, 6.69486817e-02,\n",
       "       6.69056769e-02, 6.66751272e-02, 6.64895940e-02, 6.64288358e-02,\n",
       "       6.62174503e-02, 6.60804521e-02, 6.59311931e-02, 6.58139978e-02,\n",
       "       6.56706918e-02, 6.56033104e-02, 6.54036727e-02, 6.52483423e-02,\n",
       "       6.51098232e-02, 6.48731929e-02, 6.47294881e-02, 6.46312712e-02,\n",
       "       6.46093111e-02, 6.43329598e-02, 6.42446987e-02, 6.41399309e-02,\n",
       "       6.40427881e-02, 6.37813875e-02, 6.36313735e-02, 6.34735509e-02,\n",
       "       6.33434184e-02, 6.32934215e-02, 6.31113710e-02, 6.29482899e-02,\n",
       "       6.29326071e-02, 6.28243150e-02, 6.26162209e-02, 6.25072069e-02,\n",
       "       6.23324360e-02, 6.20743841e-02, 6.17938520e-02, 6.15269134e-02,\n",
       "       6.14647690e-02, 6.13749568e-02, 6.11773470e-02, 6.10077315e-02,\n",
       "       6.09589985e-02, 6.08886448e-02, 6.07984063e-02, 6.05054398e-02,\n",
       "       6.03734709e-02, 6.02745964e-02, 6.01144924e-02, 5.99586584e-02,\n",
       "       5.98417402e-02, 5.96819625e-02, 5.95772528e-02, 5.93347821e-02,\n",
       "       5.92616689e-02, 5.91073102e-02, 5.89466768e-02, 5.85985205e-02,\n",
       "       5.84364746e-02, 5.83198446e-02, 5.80894459e-02, 5.78811010e-02,\n",
       "       5.76700287e-02, 5.74461979e-02, 5.73921199e-02, 5.72186973e-02,\n",
       "       5.70727897e-02, 5.70579649e-02, 5.69609191e-02, 5.66656763e-02,\n",
       "       5.65761944e-02, 5.65068480e-02, 5.63879553e-02, 5.62455788e-02,\n",
       "       5.61845241e-02, 5.61087219e-02, 5.59852370e-02, 5.59141286e-02,\n",
       "       5.58391544e-02, 5.56871248e-02, 5.54611961e-02, 5.53679155e-02,\n",
       "       5.52073408e-02, 5.50415555e-02, 5.49196480e-02, 5.47946244e-02,\n",
       "       5.46673977e-02, 5.45001830e-02, 5.43624077e-02, 5.43184663e-02,\n",
       "       5.41357623e-02, 5.40150328e-02, 5.38148989e-02, 5.37492819e-02,\n",
       "       5.36256099e-02, 5.34792107e-02, 5.34817829e-02, 5.33350016e-02,\n",
       "       5.32355191e-02, 5.30874978e-02, 5.30806228e-02, 5.29388257e-02,\n",
       "       5.28860826e-02, 5.26476248e-02, 5.26156525e-02, 5.24932704e-02,\n",
       "       5.22387005e-02, 5.22612994e-02, 5.20865141e-02, 5.18770126e-02,\n",
       "       5.16705335e-02, 5.15599282e-02, 5.14566666e-02, 5.12054591e-02,\n",
       "       5.09669000e-02, 5.09013589e-02, 5.05588664e-02, 5.03601719e-02,\n",
       "       4.99677307e-02, 4.99813224e-02, 4.97148762e-02, 4.95579235e-02,\n",
       "       4.92807322e-02, 4.91279473e-02, 4.89731148e-02, 4.88822471e-02,\n",
       "       4.84779214e-02, 4.83997631e-02, 4.82512017e-02, 4.81601769e-02,\n",
       "       4.79993539e-02, 4.78367440e-02, 4.77470443e-02, 4.76289849e-02,\n",
       "       4.70713347e-02, 4.69977878e-02, 4.60979903e-02, 4.61143807e-02,\n",
       "       4.60772386e-02, 4.58796908e-02, 4.58568304e-02, 4.57484251e-02,\n",
       "       4.54759928e-02, 4.53876167e-02, 4.50667441e-02, 4.47768593e-02,\n",
       "       4.45988328e-02, 4.45272875e-02, 4.44030652e-02, 4.42065726e-02,\n",
       "       4.41325520e-02, 4.37174839e-02, 4.36419032e-02, 4.34861400e-02,\n",
       "       4.33083023e-02, 4.31560497e-02, 4.29066294e-02, 4.27198860e-02,\n",
       "       4.25015459e-02, 4.23441702e-02, 4.20929533e-02, 4.20631330e-02,\n",
       "       4.20093994e-02, 4.18843967e-02, 4.17813754e-02, 4.15777448e-02,\n",
       "       4.15148319e-02, 4.12856477e-02, 4.11991610e-02, 4.10819599e-02,\n",
       "       4.10396402e-02, 4.08810093e-02, 4.07412016e-02, 4.06457490e-02,\n",
       "       4.04930693e-02, 4.04810647e-02, 4.01456702e-02, 4.00705345e-02,\n",
       "       3.99912525e-02, 3.98716125e-02, 3.98331831e-02, 3.97912163e-02,\n",
       "       3.95835989e-02, 3.95863084e-02, 3.93516207e-02, 3.93343340e-02,\n",
       "       3.92062009e-02, 3.90851488e-02, 3.90613762e-02, 3.89784713e-02,\n",
       "       3.87632758e-02, 3.87340974e-02, 3.86367409e-02, 3.85139969e-02,\n",
       "       3.83442377e-02, 3.81948992e-02, 3.80714747e-02, 3.80408849e-02,\n",
       "       3.79186376e-02, 3.77052928e-02, 3.76826828e-02, 3.76205385e-02,\n",
       "       3.74982389e-02, 3.73952813e-02, 3.72794861e-02, 3.70541590e-02,\n",
       "       3.69370255e-02, 3.67861439e-02, 3.65757927e-02, 3.65119930e-02,\n",
       "       3.61773510e-02, 3.59265285e-02, 3.57780736e-02, 3.56323210e-02,\n",
       "       3.54989219e-02, 3.53319223e-02, 3.52634525e-02, 3.50147356e-02,\n",
       "       3.48742773e-02, 3.47267445e-02, 3.45596451e-02, 3.45117047e-02,\n",
       "       3.43920327e-02, 3.43472379e-02, 3.40232638e-02, 3.39650558e-02,\n",
       "       3.38838001e-02, 3.37182762e-02, 3.36912091e-02, 3.35685578e-02,\n",
       "       3.33958968e-02, 3.32848146e-02, 3.31608924e-02, 3.30852282e-02,\n",
       "       3.29062630e-02, 3.28319298e-02, 3.26578143e-02, 3.23602366e-02,\n",
       "       3.22450805e-02, 3.21336397e-02, 3.19920217e-02, 3.19347367e-02,\n",
       "       3.18380492e-02, 3.16046777e-02, 3.16004890e-02, 3.13340066e-02,\n",
       "       3.12845125e-02, 3.10874717e-02, 3.09118654e-02, 3.08568840e-02,\n",
       "       3.07512134e-02, 3.06090933e-02, 3.05261225e-02, 3.03405365e-02,\n",
       "       3.02098171e-02, 3.01548966e-02, 2.99579341e-02, 2.96720818e-02,\n",
       "       2.96044015e-02, 2.95283914e-02, 2.93116131e-02, 2.88542871e-02,\n",
       "       2.83188031e-02, 2.79570456e-02, 2.79149143e-02, 2.76577688e-02,\n",
       "       2.73448303e-02, 2.70393743e-02, 2.68047217e-02, 2.65764284e-02,\n",
       "       2.65320959e-02, 2.63124330e-02, 2.59223856e-02, 2.56482795e-02,\n",
       "       2.55444998e-02, 2.52014407e-02, 2.50777429e-02, 2.45922370e-02,\n",
       "       2.41642561e-02, 2.33129206e-02, 2.31529064e-02, 2.23903618e-02,\n",
       "       2.22599495e-02, 2.20010487e-02, 2.18445431e-02, 2.17783863e-02,\n",
       "       2.01072206e-02, 1.94586869e-02, 1.93419737e-02, 1.88518384e-02,\n",
       "       1.82395811e-02, 1.70579475e-02, 1.45295531e-02, 1.42217332e-02,\n",
       "       1.33686497e-02, 1.32651555e-02, 1.31800814e-02, 1.01519733e-02,\n",
       "       9.94123905e-03, 1.09413752e-04, 1.23826778e-31, 1.46131935e-31,\n",
       "       1.02905869e-31, 1.14028851e-31, 9.45990544e-32, 8.61562455e-32,\n",
       "       1.11210532e-31, 9.39008185e-32, 9.62031135e-32, 1.18692214e-31,\n",
       "       9.93433765e-32, 1.21264996e-31, 1.12442649e-31, 1.55655007e-31])"
      ]
     },
     "execution_count": 17,
     "metadata": {},
     "output_type": "execute_result"
    }
   ],
   "source": [
    "dimReduction.explained_variance_ratio_ * 100"
   ]
  },
  {
   "cell_type": "code",
   "execution_count": 18,
   "metadata": {},
   "outputs": [
    {
     "data": {
      "text/plain": [
       "array([  2.92907403,   4.01654654,   4.90836966,   5.80146735,\n",
       "         6.58386515,   6.91069196,   7.53331727,   8.13760579,\n",
       "         8.66944021,   9.14684034,   9.61047542,   9.91786295,\n",
       "        10.20074754,  10.44853396,  10.69109169,  10.93115035,\n",
       "        11.17066439,  11.40185247,  11.63086347,  11.85059448,\n",
       "        12.06768878,  12.28301249,  12.49544426,  12.70673704,\n",
       "        12.91627741,  13.12418177,  13.32884274,  13.53137931,\n",
       "        13.73046624,  13.92780529,  14.12298493,  14.31714523,\n",
       "        14.5094912 ,  14.699762  ,  14.88940767,  15.07850483,\n",
       "        15.26657967,  15.4537373 ,  15.63981772,  15.82480244,\n",
       "        16.00861448,  16.19138396,  16.37284613,  16.55233598,\n",
       "        16.73126884,  16.9093713 ,  17.08720593,  17.26488202,\n",
       "        17.44125995,  17.61650621,  17.79119873,  17.96440084,\n",
       "        18.13729583,  18.30948472,  18.48163968,  18.65283935,\n",
       "        18.8234315 ,  18.99318808,  19.16280035,  19.33179074,\n",
       "        19.5000421 ,  19.66795457,  19.83509238,  20.00167483,\n",
       "        20.16757245,  20.3331153 ,  20.49817032,  20.66271331,\n",
       "        20.82700273,  20.99031761,  21.15345544,  21.31577288,\n",
       "        21.47747163,  21.63872203,  21.79965923,  21.96040824,\n",
       "        22.12084847,  22.28078406,  22.44036269,  22.59970161,\n",
       "        22.75839881,  22.91699879,  23.07500582,  23.23275618,\n",
       "        23.39000331,  23.54661121,  23.7031383 ,  23.85903399,\n",
       "        24.0148618 ,  24.17036319,  24.32538616,  24.480252  ,\n",
       "        24.63485874,  24.78919665,  24.9431704 ,  25.09696718,\n",
       "        25.25054931,  25.40392975,  25.55662852,  25.70901257,\n",
       "        25.86092883,  26.01253921,  26.16403373,  26.3151326 ,\n",
       "        26.46615672,  26.61694766,  26.76740008,  26.91768365,\n",
       "        27.06751263,  27.21714958,  27.36630661,  27.51509703,\n",
       "        27.66368033,  27.81211519,  27.96021563,  28.10799673,\n",
       "        28.25547741,  28.4028658 ,  28.55003179,  28.69680216,\n",
       "        28.84348269,  28.99005376,  29.13620341,  29.28218277,\n",
       "        29.4279271 ,  29.57352293,  29.71871711,  29.86365012,\n",
       "        30.00840859,  30.15278579,  30.29691319,  30.44084504,\n",
       "        30.58454256,  30.72820202,  30.8714069 ,  31.01435596,\n",
       "        31.15711513,  31.29953616,  31.44184842,  31.58356577,\n",
       "        31.725312  ,  31.86672335,  32.00800122,  32.14906736,\n",
       "        32.2900014 ,  32.43080054,  32.5713478 ,  32.71146035,\n",
       "        32.85153087,  32.99148531,  33.1313762 ,  33.27114274,\n",
       "        33.41039447,  33.5494826 ,  33.68832389,  33.82669632,\n",
       "        33.96485838,  34.10297366,  34.24106246,  34.37874745,\n",
       "        34.51616475,  34.65350153,  34.79075624,  34.92758504,\n",
       "        35.06425165,  35.2006665 ,  35.33676045,  35.47264423,\n",
       "        35.60832142,  35.74387261,  35.87926744,  36.0141611 ,\n",
       "        36.14889989,  36.28352265,  36.41787841,  36.55215076,\n",
       "        36.68624068,  36.82009471,  36.95383355,  37.0872159 ,\n",
       "        37.22051415,  37.35353632,  37.48637107,  37.61915695,\n",
       "        37.75170226,  37.88422467,  38.01654202,  38.14859133,\n",
       "        38.28050782,  38.41217016,  38.54368493,  38.67497144,\n",
       "        38.80616191,  38.93705493,  39.06785528,  39.19848625,\n",
       "        39.32884811,  39.45917418,  39.58942179,  39.71950446,\n",
       "        39.84928265,  39.97899051,  40.10822094,  40.23738532,\n",
       "        40.3663645 ,  40.49512764,  40.62383283,  40.7522142 ,\n",
       "        40.88034639,  41.00844731,  41.1363147 ,  41.26385304,\n",
       "        41.39132395,  41.51871208,  41.64596288,  41.77304741,\n",
       "        41.89997407,  42.02659302,  42.15314181,  42.27955578,\n",
       "        42.40567546,  42.53165719,  42.65743106,  42.78311402,\n",
       "        42.90861896,  43.03408986,  43.15936887,  43.28448839,\n",
       "        43.40939081,  43.53401983,  43.65868535,  43.7830266 ,\n",
       "        43.90712797,  44.03098002,  44.15470836,  44.27835766,\n",
       "        44.40177774,  44.52518572,  44.6481095 ,  44.77098289,\n",
       "        44.89369657,  45.01626661,  45.13866294,  45.2609135 ,\n",
       "        45.38310896,  45.50518685,  45.62710792,  45.74882735,\n",
       "        45.87022776,  45.99132455,  46.11232863,  46.23323627,\n",
       "        46.35384037,  46.47437149,  46.59469938,  46.7149784 ,\n",
       "        46.8350129 ,  46.95491647,  47.07462171,  47.19432012,\n",
       "        47.31378347,  47.4331679 ,  47.55235695,  47.67147606,\n",
       "        47.79034757,  47.90908894,  48.02760408,  48.14601398,\n",
       "        48.26433332,  48.38247502,  48.50052749,  48.61836743,\n",
       "        48.73612954,  48.8537942 ,  48.97123848,  49.0885628 ,\n",
       "        49.20568808,  49.32265143,  49.43946001,  49.55620425,\n",
       "        49.67271213,  49.78904904,  49.90530553,  50.02141512,\n",
       "        50.13726773,  50.25302306,  50.36864515,  50.48410916,\n",
       "        50.59947726,  50.71464094,  50.82962637,  50.94455246,\n",
       "        51.05935765,  51.17403338,  51.28847681,  51.40283168,\n",
       "        51.51706121,  51.63123377,  51.74532435,  51.85920364,\n",
       "        51.97290245,  52.08643052,  52.19979051,  52.31310551,\n",
       "        52.42627259,  52.53927152,  52.65220001,  52.76492092,\n",
       "        52.8774118 ,  52.98975059,  53.10202858,  53.21418694,\n",
       "        53.32626153,  53.43811107,  53.54988989,  53.66155218,\n",
       "        53.77300806,  53.88450309,  53.99595373,  54.10720444,\n",
       "        54.21828221,  54.32900868,  54.43955924,  54.55002729,\n",
       "        54.66041348,  54.77055471,  54.88052189,  54.99034147,\n",
       "        55.1001399 ,  55.2098343 ,  55.31934388,  55.42879862,\n",
       "        55.53811802,  55.64735284,  55.75638889,  55.86525859,\n",
       "        55.974066  ,  56.08274172,  56.19118542,  56.2995027 ,\n",
       "        56.40770656,  56.51572533,  56.62376691,  56.73168727,\n",
       "        56.83956029,  56.94724673,  57.05482305,  57.16230224,\n",
       "        57.26971888,  57.3768949 ,  57.48375737,  57.59056916,\n",
       "        57.69725083,  57.80387324,  57.91037177,  58.01672023,\n",
       "        58.12289158,  58.2289323 ,  58.33489202,  58.44071948,\n",
       "        58.54635788,  58.65187115,  58.75727522,  58.86253481,\n",
       "        58.96772891,  59.07284131,  59.17790147,  59.2828329 ,\n",
       "        59.38764473,  59.49229934,  59.59673823,  59.70108216,\n",
       "        59.80524867,  59.90927714,  60.01327641,  60.11700118,\n",
       "        60.22061342,  60.32416514,  60.42754686,  60.53077316,\n",
       "        60.63392966,  60.7369273 ,  60.8398811 ,  60.94269196,\n",
       "        61.04530108,  61.14769912,  61.25000421,  61.35219961,\n",
       "        61.45429531,  61.55627165,  61.65819481,  61.75992461,\n",
       "        61.86156585,  61.9630242 ,  62.06436271,  62.16558148,\n",
       "        62.26666099,  62.36765266,  62.46858474,  62.56942882,\n",
       "        62.67007015,  62.77042469,  62.87073506,  62.97097122,\n",
       "        63.07104245,  63.17096171,  63.27067863,  63.37037744,\n",
       "        63.47001901,  63.56951135,  63.6687928 ,  63.76799311,\n",
       "        63.86694084,  63.96573387,  64.06443723,  64.16302418,\n",
       "        64.26152129,  64.35986149,  64.45803977,  64.55612992,\n",
       "        64.65415385,  64.75200522,  64.84971704,  64.94722889,\n",
       "        65.04476407,  65.14220091,  65.23939097,  65.33657559,\n",
       "        65.4336229 ,  65.53045634,  65.62728165,  65.72404709,\n",
       "        65.82064151,  65.91714163,  66.01354668,  66.10988116,\n",
       "        66.20601286,  66.30206137,  66.3980151 ,  66.49367911,\n",
       "        66.58928143,  66.68478045,  66.78015103,  66.87541904,\n",
       "        66.97065761,  67.06563137,  67.16051437,  67.25535524,\n",
       "        67.35002136,  67.44458994,  67.5391221 ,  67.63365464,\n",
       "        67.7279106 ,  67.82208237,  67.91606757,  68.00992512,\n",
       "        68.10368038,  68.19723451,  68.29067053,  68.38395708,\n",
       "        68.47717523,  68.57028757,  68.66332852,  68.75628482,\n",
       "        68.84916432,  68.94190959,  69.03463192,  69.12711924,\n",
       "        69.21960782,  69.31187371,  69.40412125,  69.49622072,\n",
       "        69.58819154,  69.68003662,  69.77184344,  69.86346184,\n",
       "        69.95491306,  70.04628471,  70.13759822,  70.22877722,\n",
       "        70.31982811,  70.4108237 ,  70.50168089,  70.5924081 ,\n",
       "        70.68299411,  70.77351329,  70.86383033,  70.9540036 ,\n",
       "        71.0441228 ,  71.13416873,  71.22414932,  71.31404044,\n",
       "        71.40370883,  71.49325405,  71.58279167,  71.67226409,\n",
       "        71.76159287,  71.85077053,  71.93970837,  72.02863208,\n",
       "        72.11747143,  72.20619516,  72.29483302,  72.38347369,\n",
       "        72.47195385,  72.56037121,  72.6486118 ,  72.73681925,\n",
       "        72.82484045,  72.91272487,  73.00049907,  73.08822354,\n",
       "        73.1758406 ,  73.26331264,  73.35065759,  73.43784078,\n",
       "        73.52492018,  73.61197532,  73.69884378,  73.78560018,\n",
       "        73.87232267,  73.95886493,  74.04528734,  74.1315053 ,\n",
       "        74.21760278,  74.30350001,  74.38927639,  74.47503176,\n",
       "        74.56064421,  74.64614344,  74.73141058,  74.81667816,\n",
       "        74.90193048,  74.9870352 ,  75.07195832,  75.15676247,\n",
       "        75.24142441,  75.32607936,  75.41062138,  75.49495149,\n",
       "        75.57914296,  75.66316871,  75.74716033,  75.83095372,\n",
       "        75.9146568 ,  75.99820899,  76.08159628,  76.16489884,\n",
       "        76.24797592,  76.33101977,  76.41390314,  76.49675647,\n",
       "        76.57940952,  76.66192245,  76.74425544,  76.82656449,\n",
       "        76.90866171,  76.99065461,  77.07262996,  77.15442424,\n",
       "        77.23615511,  77.3177679 ,  77.3991713 ,  77.48038959,\n",
       "        77.56159593,  77.64268492,  77.7236973 ,  77.80469705,\n",
       "        77.88558426,  77.9661894 ,  78.04673086,  78.1271724 ,\n",
       "        78.20755626,  78.28777302,  78.36784287,  78.44779671,\n",
       "        78.5276239 ,  78.60731016,  78.68684834,  78.76613171,\n",
       "        78.84537641,  78.92452383,  79.00353972,  79.08244066,\n",
       "        79.16132327,  79.2399563 ,  79.31848229,  79.39702143,\n",
       "        79.47550507,  79.55388283,  79.63210042,  79.71018489,\n",
       "        79.78820388,  79.86599731,  79.94364108,  80.02124506,\n",
       "        80.09865298,  80.17592196,  80.25310207,  80.33022177,\n",
       "        80.4071366 ,  80.48398537,  80.56075766,  80.63744392,\n",
       "        80.71405238,  80.7906112 ,  80.86698469,  80.94327051,\n",
       "        81.01944077,  81.09542578,  81.17133894,  81.24712829,\n",
       "        81.32289055,  81.39858735,  81.47400628,  81.5493512 ,\n",
       "        81.62457929,  81.69967564,  81.77468563,  81.84962824,\n",
       "        81.92446517,  81.99923182,  82.07386502,  82.14829386,\n",
       "        82.22263501,  82.29675555,  82.37082598,  82.44479696,\n",
       "        82.51855838,  82.59224802,  82.66584665,  82.73929881,\n",
       "        82.81264744,  82.88583575,  82.95883995,  83.03177987,\n",
       "        83.10463816,  83.17722102,  83.24977027,  83.3221585 ,\n",
       "        83.39454096,  83.46668375,  83.53877946,  83.61076153,\n",
       "        83.6826691 ,  83.75440773,  83.82593757,  83.89733361,\n",
       "        83.96864532,  84.03992964,  84.11103188,  84.18199045,\n",
       "        84.25292917,  84.32383009,  84.39448652,  84.46507241,\n",
       "        84.53555339,  84.60594041,  84.67627436,  84.74650107,\n",
       "        84.81664745,  84.88667374,  84.95652397,  85.02629296,\n",
       "        85.0958841 ,  85.16535623,  85.23469933,  85.3039244 ,\n",
       "        85.37307425,  85.44211927,  85.51098209,  85.57964614,\n",
       "        85.64828678,  85.71679044,  85.7852815 ,  85.85365667,\n",
       "        85.92196192,  85.99021236,  86.05832656,  86.12633354,\n",
       "        86.19422652,  86.26203786,  86.32966991,  86.39724316,\n",
       "        86.46473133,  86.53205433,  86.5993707 ,  86.66652899,\n",
       "        86.73356913,  86.8004699 ,  86.86726976,  86.93399356,\n",
       "        87.00047085,  87.06690696,  87.1332696 ,  87.19953186,\n",
       "        87.26573415,  87.33179311,  87.39766844,  87.46343073,\n",
       "        87.52914619,  87.59480808,  87.66030461,  87.72564863,\n",
       "        87.79089042,  87.85592277,  87.92080656,  87.98546961,\n",
       "        88.05001751,  88.11450949,  88.1788136 ,  88.24303411,\n",
       "        88.30720083,  88.37120689,  88.43503116,  88.49857964,\n",
       "        88.56199285,  88.62527986,  88.68843089,  88.75133334,\n",
       "        88.81426852,  88.8770588 ,  88.9395745 ,  89.00197613,\n",
       "        89.06428122,  89.12654768,  89.18841008,  89.2501547 ,\n",
       "        89.31169461,  89.37308948,  89.43441409,  89.49560069,\n",
       "        89.55657076,  89.61747165,  89.67825489,  89.7387304 ,\n",
       "        89.79911356,  89.85934076,  89.9193426 ,  89.97933541,\n",
       "        90.03919823,  90.09889792,  90.15858139,  90.21785885,\n",
       "        90.277072  ,  90.33603154,  90.39482103,  90.45348329,\n",
       "        90.51205962,  90.57047625,  90.6285994 ,  90.68661794,\n",
       "        90.74454591,  90.80221981,  90.85989094,  90.91734214,\n",
       "        90.97470066,  91.03195069,  91.08911504,  91.14597324,\n",
       "        91.20269394,  91.2593391 ,  91.3159065 ,  91.3722945 ,\n",
       "        91.42842525,  91.48449991,  91.54039519,  91.59614521,\n",
       "        91.65186853,  91.70739316,  91.76278306,  91.81811907,\n",
       "        91.87327732,  91.92825495,  91.9830552 ,  92.03765978,\n",
       "        92.09218053,  92.14662432,  92.20096692,  92.25523207,\n",
       "        92.30926919,  92.36312846,  92.41679073,  92.47026155,\n",
       "        92.52367014,  92.57694824,  92.63014126,  92.68323309,\n",
       "        92.73605895,  92.78876401,  92.84126114,  92.89356741,\n",
       "        92.9457212 ,  92.99771784,  93.04966421,  93.10136118,\n",
       "        93.15303625,  93.20456304,  93.2559101 ,  93.30692647,\n",
       "        93.35796378,  93.40890838,  93.45971642,  93.51011661,\n",
       "        93.56047023,  93.61069475,  93.66072519,  93.71069118,\n",
       "        93.76060759,  93.81015646,  93.85916188,  93.90799563,\n",
       "        93.95671051,  94.00523802,  94.05365014,  94.10185043,\n",
       "        94.1500115 ,  94.19798264,  94.24586212,  94.2937026 ,\n",
       "        94.34140886,  94.38886135,  94.4362481 ,  94.48341837,\n",
       "        94.53028266,  94.57707438,  94.62358391,  94.67000861,\n",
       "        94.71623272,  94.76220635,  94.80810621,  94.85378728,\n",
       "        94.89936766,  94.9447708 ,  94.99008193,  95.03508754,\n",
       "        95.0797529 ,  95.12429324,  95.16866604,  95.2128003 ,\n",
       "        95.25682187,  95.30067492,  95.34451719,  95.38786337,\n",
       "        95.43110964,  95.47396751,  95.51673161,  95.55930981,\n",
       "        95.60180475,  95.64422494,  95.68652838,  95.72868766,\n",
       "        95.77075271,  95.81258495,  95.85437455,  95.8958778 ,\n",
       "        95.9373261 ,  95.97866839,  96.01997318,  96.06121332,\n",
       "        96.10215957,  96.14304431,  96.1838514 ,  96.22443867,\n",
       "        96.26477719,  96.30505664,  96.34524274,  96.38530595,\n",
       "        96.42530492,  96.4651438 ,  96.50485902,  96.54440163,\n",
       "        96.58384187,  96.62321022,  96.66254246,  96.70170128,\n",
       "        96.7408376 ,  96.77977723,  96.81867387,  96.85742792,\n",
       "        96.8961112 ,  96.93461774,  96.97304952,  97.0113992 ,\n",
       "        97.04957249,  97.08762303,  97.12555654,  97.1632317 ,\n",
       "        97.20084656,  97.23836888,  97.27583291,  97.31307072,\n",
       "        97.35026733,  97.38718603,  97.42408359,  97.46084557,\n",
       "        97.49751985,  97.53397826,  97.57023209,  97.60642712,\n",
       "        97.64244553,  97.67833418,  97.7140223 ,  97.7494215 ,\n",
       "        97.78470319,  97.81978503,  97.85461883,  97.88945253,\n",
       "        97.92413811,  97.95872652,  97.99324786,  98.02764671,\n",
       "        98.06175884,  98.09580447,  98.12972731,  98.1635587 ,\n",
       "        98.19731687,  98.23075637,  98.26412994,  98.29748588,\n",
       "        98.33074624,  98.36388879,  98.39693169,  98.42988235,\n",
       "        98.46279352,  98.49564394,  98.52837801,  98.56100883,\n",
       "        98.59331798,  98.62546793,  98.65757576,  98.68963093,\n",
       "        98.72155841,  98.75321231,  98.78479051,  98.81625055,\n",
       "        98.84751365,  98.87856264,  98.90950252,  98.94007466,\n",
       "        98.9704036 ,  99.00058202,  99.03073945,  99.06076537,\n",
       "        99.09046686,  99.11982583,  99.14904235,  99.17823801,\n",
       "        99.20729294,  99.23574676,  99.26399582,  99.29214179,\n",
       "        99.32017767,  99.34810759,  99.37590666,  99.40325657,\n",
       "        99.43052084,  99.45767325,  99.48446441,  99.51104583,\n",
       "        99.53713264,  99.5624804 ,  99.58732841,  99.61198388,\n",
       "        99.63661876,  99.66103558,  99.68459083,  99.70798883,\n",
       "        99.73093063,  99.75312491,  99.77416217,  99.79414701,\n",
       "        99.81401271,  99.8338506 ,  99.85253184,  99.87114786,\n",
       "        99.88944536,  99.90759398,  99.9249447 ,  99.94029869,\n",
       "        99.95489453,  99.9680963 ,  99.97960166,  99.990319  ,\n",
       "        99.99994633, 100.        , 100.        , 100.        ,\n",
       "       100.        , 100.        , 100.        , 100.        ,\n",
       "       100.        , 100.        , 100.        , 100.        ,\n",
       "       100.        , 100.        , 100.        , 100.        ])"
      ]
     },
     "execution_count": 18,
     "metadata": {},
     "output_type": "execute_result"
    }
   ],
   "source": [
    "np.cumsum(dimReduction.explained_variance_ratio_ * 100)"
   ]
  },
  {
   "cell_type": "code",
   "execution_count": 18,
   "metadata": {},
   "outputs": [
    {
     "data": {
      "text/plain": [
       "Text(0, 0.5, 'Variancia explicada (%)')"
      ]
     },
     "execution_count": 18,
     "metadata": {},
     "output_type": "execute_result"
    },
    {
     "data": {
      "image/png": "[encoded data removed]",
      "text/plain": [
       "<Figure size 640x480 with 1 Axes>"
      ]
     },
     "metadata": {},
     "output_type": "display_data"
    }
   ],
   "source": [
    "plt.plot(np.cumsum(dimReduction.explained_variance_ratio_ * 100))\n",
    "plt.xlabel(\"Numero de componente\")\n",
    "plt.ylabel(\"Variancia explicada (%)\")"
   ]
  },
  {
   "cell_type": "code",
   "execution_count": 19,
   "metadata": {},
   "outputs": [
    {
     "name": "stdout",
     "output_type": "stream",
     "text": [
      "Variancia explicada por 2 componentes = 4.0691663214152305\n"
     ]
    }
   ],
   "source": [
    "# Creamos instancia de la clase TruncatedSVD\n",
    "dimReduction2 = TruncatedSVD(n_components = 2, random_state = 2)\n",
    "\n",
    "# Ajustamos la transfromacion con nuestros datos\n",
    "dimReduction2.fit(vectFitScaled)\n",
    "\n",
    "# Reducimos la dimensionalidad\n",
    "dataReduction2 = dimReduction2.transform(vectFitScaled)\n",
    "\n",
    "print(\"Variancia explicada por 2 componentes = \" \\\n",
    "        + str(sum(dimReduction2.explained_variance_ratio_ * 100)))"
   ]
  },
  {
   "cell_type": "code",
   "execution_count": 20,
   "metadata": {},
   "outputs": [
    {
     "data": {
      "text/plain": [
       "Text(0, 0.5, 'Segundo componente')"
      ]
     },
     "execution_count": 20,
     "metadata": {},
     "output_type": "execute_result"
    },
    {
     "data": {
      "image/png": "[encoded data removed]",
      "text/plain": [
       "<Figure size 1000x700 with 1 Axes>"
      ]
     },
     "metadata": {},
     "output_type": "display_data"
    }
   ],
   "source": [
    "plt.figure(figsize=(10,7))\n",
    "sns.scatterplot(x=dataReduction2[:,0], y=dataReduction2[:,1], s=70)\n",
    "plt.title(f\"Variancia explicada por 2 componentes = {round(sum(dimReduction2.explained_variance_ratio_ * 100),3)} % \")\n",
    "plt.xlabel(\"Primer componente\")\n",
    "plt.ylabel(\"Segundo componente\")"
   ]
  },
  {
   "attachments": {},
   "cell_type": "markdown",
   "metadata": {},
   "source": [
    "Estandarizamos la matriz para meterla al LDA"
   ]
  },
  {
   "cell_type": "code",
   "execution_count": 21,
   "metadata": {},
   "outputs": [],
   "source": [
    "scaler = MaxAbsScaler()\n",
    "scaler.fit(vectFit)\n",
    "vectFitStandardized = scaler.transform(vectFit)"
   ]
  },
  {
   "cell_type": "code",
   "execution_count": 22,
   "metadata": {},
   "outputs": [
    {
     "name": "stdout",
     "output_type": "stream",
     "text": [
      "  (0, 35090)\t1.0\n",
      "  (0, 14512)\t0.9362427513109797\n",
      "  (0, 26566)\t1.0\n",
      "  (0, 30655)\t0.1509002418998035\n",
      "  (0, 35260)\t1.0\n",
      "  (0, 29916)\t1.0\n",
      "  (0, 14250)\t0.17675582454257108\n",
      "  (0, 9017)\t0.28517217590782434\n",
      "  (0, 21466)\t1.0\n",
      "  (0, 28649)\t0.37990288793596116\n",
      "  (0, 12345)\t0.7956730632305906\n",
      "  (0, 26326)\t1.0\n",
      "  (0, 7231)\t0.7966353200343786\n",
      "  (0, 6556)\t1.0\n",
      "  (0, 35678)\t0.9790780323013342\n",
      "  (0, 13639)\t0.3740788270343755\n",
      "  (0, 11481)\t1.0\n",
      "  (0, 645)\t0.5154804858496752\n",
      "  (0, 2354)\t1.0\n",
      "  (0, 36824)\t1.0\n",
      "  (0, 25616)\t0.3880963272765422\n",
      "  (0, 11345)\t0.9304457231744585\n",
      "  (0, 2839)\t1.0\n",
      "  (0, 34555)\t1.0\n",
      "  (0, 4969)\t0.7819055969136574\n",
      "  :\t:\n",
      "  (0, 2811)\t0.2817825483168083\n",
      "  (0, 534)\t0.3184262981122551\n",
      "  (0, 808)\t0.16606032745740706\n",
      "  (0, 12668)\t0.3073483249249431\n",
      "  (0, 22650)\t0.3506526380513422\n",
      "  (0, 25121)\t0.15009703727596302\n",
      "  (0, 12199)\t0.167687441516377\n",
      "  (0, 3347)\t0.07381891773451725\n",
      "  (0, 31616)\t0.20947516086171122\n",
      "  (0, 35638)\t0.09865113269958233\n",
      "  (0, 28267)\t0.10444930583564965\n",
      "  (0, 20899)\t0.2987761020557672\n",
      "  (0, 24074)\t0.3637809043826718\n",
      "  (0, 23078)\t0.2039323946685773\n",
      "  (0, 9089)\t0.12810346097626146\n",
      "  (0, 17252)\t0.08471205208535397\n",
      "  (0, 22636)\t0.37721297795857234\n",
      "  (0, 3032)\t0.17372237074597346\n",
      "  (0, 21254)\t0.15542845098085595\n",
      "  (0, 31049)\t0.09443480180374109\n",
      "  (0, 31401)\t0.2372373307597422\n",
      "  (0, 12246)\t0.34909895377203354\n",
      "  (0, 11145)\t1.0\n",
      "  (0, 24588)\t0.11223395455519271\n",
      "  (0, 21652)\t0.1082159756363101\n"
     ]
    }
   ],
   "source": [
    "print(vectFitStandardized[1])"
   ]
  },
  {
   "cell_type": "code",
   "execution_count": null,
   "metadata": {},
   "outputs": [],
   "source": []
  }
 ],
 "metadata": {
  "kernelspec": {
   "display_name": "Python 3",
   "language": "python",
   "name": "python3"
  },
  "language_info": {
   "codemirror_mode": {
    "name": "ipython",
    "version": 3
   },
   "file_extension": ".py",
   "mimetype": "text/x-python",
   "name": "python",
   "nbconvert_exporter": "python",
   "pygments_lexer": "ipython3",
   "version": "3.9.7"
  },
  "orig_nbformat": 4
 },
 "nbformat": 4,
 "nbformat_minor": 2
}
