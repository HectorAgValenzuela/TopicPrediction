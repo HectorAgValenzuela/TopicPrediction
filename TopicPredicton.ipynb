{
 "cells": [
  {
   "attachments": {},
   "cell_type": "markdown",
   "metadata": {},
   "source": [
    "## Librerias"
   ]
  },
  {
   "cell_type": "code",
   "execution_count": 2,
   "metadata": {},
   "outputs": [],
   "source": [
    "import pandas as pd\n",
    "import numpy as np\n",
    "import re # expresiones regulares (regex)\n",
    "from nltk.corpus import stopwords\n",
    "from nltk.stem import SnowballStemmer\n",
    "import spacy\n",
    "from sklearn.feature_extraction.text import TfidfVectorizer\n",
    "from nltk.tokenize import TreebankWordTokenizer\n",
    "from sklearn.preprocessing import StandardScaler\n",
    "from sklearn.decomposition import TruncatedSVD\n",
    "import matplotlib.pyplot as plt\n",
    "import seaborn as sns\n",
    "from sklearn.preprocessing import MaxAbsScaler"
   ]
  },
  {
   "attachments": {},
   "cell_type": "markdown",
   "metadata": {},
   "source": [
    "# Preprocesamiento"
   ]
  },
  {
   "attachments": {},
   "cell_type": "markdown",
   "metadata": {},
   "source": [
    "* Eliminamos stopwords\n",
    "* lematizamos\n",
    "* Normalizamos el texto (quitamos mayúsculas y signos de puntuación)\n",
    "* Vectorizamos y hacemos n-gramas\n",
    "* Usamos SVD para ver cuantos topicos pueden tener los documentos"
   ]
  },
  {
   "cell_type": "code",
   "execution_count": 29,
   "metadata": {},
   "outputs": [
    {
     "name": "stdout",
     "output_type": "stream",
     "text": [
      "217\n"
     ]
    },
    {
     "data": {
      "text/html": [
       "<div>\n",
       "<style scoped>\n",
       "    .dataframe tbody tr th:only-of-type {\n",
       "        vertical-align: middle;\n",
       "    }\n",
       "\n",
       "    .dataframe tbody tr th {\n",
       "        vertical-align: top;\n",
       "    }\n",
       "\n",
       "    .dataframe thead th {\n",
       "        text-align: right;\n",
       "    }\n",
       "</style>\n",
       "<table border=\"1\" class=\"dataframe\">\n",
       "  <thead>\n",
       "    <tr style=\"text-align: right;\">\n",
       "      <th></th>\n",
       "      <th>description</th>\n",
       "    </tr>\n",
       "  </thead>\n",
       "  <tbody>\n",
       "    <tr>\n",
       "      <th>0</th>\n",
       "      <td>Conferencia de prensa en vivo desde Palacio Na...</td>\n",
       "    </tr>\n",
       "    <tr>\n",
       "      <th>1</th>\n",
       "      <td>Conferencia de prensa en vivo desde Palacio Na...</td>\n",
       "    </tr>\n",
       "    <tr>\n",
       "      <th>2</th>\n",
       "      <td>Conferencia de prensa en vivo desde Palacio Na...</td>\n",
       "    </tr>\n",
       "    <tr>\n",
       "      <th>3</th>\n",
       "      <td>Conferencia de prensa en vivo desde Palacio Na...</td>\n",
       "    </tr>\n",
       "    <tr>\n",
       "      <th>4</th>\n",
       "      <td>Conferencia de prensa matutina, desde Palacio ...</td>\n",
       "    </tr>\n",
       "    <tr>\n",
       "      <th>5</th>\n",
       "      <td>Conferencia de prensa matutina, desde Palacio ...</td>\n",
       "    </tr>\n",
       "    <tr>\n",
       "      <th>6</th>\n",
       "      <td>Conferencia de prensa matutina, desde Palacio ...</td>\n",
       "    </tr>\n",
       "    <tr>\n",
       "      <th>7</th>\n",
       "      <td>Conferencia de prensa matutina, desde Veracruz...</td>\n",
       "    </tr>\n",
       "    <tr>\n",
       "      <th>8</th>\n",
       "      <td>Conferencia de prensa matutina, desde Palacio ...</td>\n",
       "    </tr>\n",
       "    <tr>\n",
       "      <th>9</th>\n",
       "      <td>Conferencia de prensa matutina, desde Palacio ...</td>\n",
       "    </tr>\n",
       "  </tbody>\n",
       "</table>\n",
       "</div>"
      ],
      "text/plain": [
       "                                         description\n",
       "0  Conferencia de prensa en vivo desde Palacio Na...\n",
       "1  Conferencia de prensa en vivo desde Palacio Na...\n",
       "2  Conferencia de prensa en vivo desde Palacio Na...\n",
       "3  Conferencia de prensa en vivo desde Palacio Na...\n",
       "4  Conferencia de prensa matutina, desde Palacio ...\n",
       "5  Conferencia de prensa matutina, desde Palacio ...\n",
       "6  Conferencia de prensa matutina, desde Palacio ...\n",
       "7  Conferencia de prensa matutina, desde Veracruz...\n",
       "8  Conferencia de prensa matutina, desde Palacio ...\n",
       "9  Conferencia de prensa matutina, desde Palacio ..."
      ]
     },
     "execution_count": 29,
     "metadata": {},
     "output_type": "execute_result"
    }
   ],
   "source": [
    "# Leer archivo .csv \n",
    "df = pd.read_csv('mañaneras.csv')\n",
    "\n",
    "textoPrueba = df[['description']].copy() # Pongo .copy() porque cuando intentas \n",
    "                                  # quitar las stopwords sale un warning.\n",
    "# textoPrueba = textoPrueba.head(1000)\n",
    "\n",
    "print(textoPrueba.shape[0])\n",
    "textoPrueba.head(10)"
   ]
  },
  {
   "attachments": {},
   "cell_type": "markdown",
   "metadata": {},
   "source": [
    "Eliminamos stopwords"
   ]
  },
  {
   "cell_type": "code",
   "execution_count": 4,
   "metadata": {},
   "outputs": [],
   "source": [
    "# Función para eliminar stopwords en español\n",
    "\n",
    "def noStopwords(text):\n",
    "    \n",
    "    sw_es = set(stopwords.words('spanish'))\n",
    "\n",
    "    text = ' '.join([word for word in text.split() if word.lower() not in sw_es])\n",
    "    \n",
    "    return text\n"
   ]
  },
  {
   "cell_type": "code",
   "execution_count": 5,
   "metadata": {},
   "outputs": [
    {
     "data": {
      "text/html": [
       "<div>\n",
       "<style scoped>\n",
       "    .dataframe tbody tr th:only-of-type {\n",
       "        vertical-align: middle;\n",
       "    }\n",
       "\n",
       "    .dataframe tbody tr th {\n",
       "        vertical-align: top;\n",
       "    }\n",
       "\n",
       "    .dataframe thead th {\n",
       "        text-align: right;\n",
       "    }\n",
       "</style>\n",
       "<table border=\"1\" class=\"dataframe\">\n",
       "  <thead>\n",
       "    <tr style=\"text-align: right;\">\n",
       "      <th></th>\n",
       "      <th>description</th>\n",
       "    </tr>\n",
       "  </thead>\n",
       "  <tbody>\n",
       "    <tr>\n",
       "      <th>0</th>\n",
       "      <td>Conferencia prensa vivo Palacio Nacional. Vier...</td>\n",
       "    </tr>\n",
       "    <tr>\n",
       "      <th>1</th>\n",
       "      <td>Conferencia prensa vivo Palacio Nacional. Juev...</td>\n",
       "    </tr>\n",
       "    <tr>\n",
       "      <th>2</th>\n",
       "      <td>Conferencia prensa vivo Palacio Nacional. Lune...</td>\n",
       "    </tr>\n",
       "    <tr>\n",
       "      <th>3</th>\n",
       "      <td>Conferencia prensa vivo Palacio Nacional. Lune...</td>\n",
       "    </tr>\n",
       "    <tr>\n",
       "      <th>4</th>\n",
       "      <td>Conferencia prensa matutina, Palacio Nacional....</td>\n",
       "    </tr>\n",
       "  </tbody>\n",
       "</table>\n",
       "</div>"
      ],
      "text/plain": [
       "                                         description\n",
       "0  Conferencia prensa vivo Palacio Nacional. Vier...\n",
       "1  Conferencia prensa vivo Palacio Nacional. Juev...\n",
       "2  Conferencia prensa vivo Palacio Nacional. Lune...\n",
       "3  Conferencia prensa vivo Palacio Nacional. Lune...\n",
       "4  Conferencia prensa matutina, Palacio Nacional...."
      ]
     },
     "execution_count": 5,
     "metadata": {},
     "output_type": "execute_result"
    }
   ],
   "source": [
    "textoPrueba['description'] = textoPrueba['description'].apply(noStopwords)\n",
    "textoPrueba.head()"
   ]
  },
  {
   "attachments": {},
   "cell_type": "markdown",
   "metadata": {},
   "source": [
    "Aplicamos lematización"
   ]
  },
  {
   "cell_type": "code",
   "execution_count": 6,
   "metadata": {},
   "outputs": [],
   "source": [
    "# Función para lematizar al texto\n",
    "def lemmatize_text(text):\n",
    "\n",
    "    # Cargamos el módulo de español\n",
    "    nlp = spacy.load(\"es_core_news_sm\")\n",
    "\n",
    "    # nlp crea una pipeline que le adhiere metadata que la paquetería spacy usa\n",
    "    doc = nlp(text)\n",
    "\n",
    "    lemmatized_text = \" \".join([token.lemma_ for token in doc])\n",
    "    \n",
    "    return lemmatized_text"
   ]
  },
  {
   "cell_type": "code",
   "execution_count": 7,
   "metadata": {},
   "outputs": [
    {
     "data": {
      "text/html": [
       "<div>\n",
       "<style scoped>\n",
       "    .dataframe tbody tr th:only-of-type {\n",
       "        vertical-align: middle;\n",
       "    }\n",
       "\n",
       "    .dataframe tbody tr th {\n",
       "        vertical-align: top;\n",
       "    }\n",
       "\n",
       "    .dataframe thead th {\n",
       "        text-align: right;\n",
       "    }\n",
       "</style>\n",
       "<table border=\"1\" class=\"dataframe\">\n",
       "  <thead>\n",
       "    <tr style=\"text-align: right;\">\n",
       "      <th></th>\n",
       "      <th>description</th>\n",
       "    </tr>\n",
       "  </thead>\n",
       "  <tbody>\n",
       "    <tr>\n",
       "      <th>0</th>\n",
       "      <td>Conferencia prensa vivo Palacio Nacional . Vie...</td>\n",
       "    </tr>\n",
       "    <tr>\n",
       "      <th>1</th>\n",
       "      <td>Conferencia prensa vivo Palacio Nacional . jue...</td>\n",
       "    </tr>\n",
       "    <tr>\n",
       "      <th>2</th>\n",
       "      <td>Conferencia prensa vivo Palacio Nacional . lun...</td>\n",
       "    </tr>\n",
       "    <tr>\n",
       "      <th>3</th>\n",
       "      <td>Conferencia prensa vivo Palacio Nacional . lun...</td>\n",
       "    </tr>\n",
       "    <tr>\n",
       "      <th>4</th>\n",
       "      <td>Conferencia prensa matutino , Palacio Nacional...</td>\n",
       "    </tr>\n",
       "  </tbody>\n",
       "</table>\n",
       "</div>"
      ],
      "text/plain": [
       "                                         description\n",
       "0  Conferencia prensa vivo Palacio Nacional . Vie...\n",
       "1  Conferencia prensa vivo Palacio Nacional . jue...\n",
       "2  Conferencia prensa vivo Palacio Nacional . lun...\n",
       "3  Conferencia prensa vivo Palacio Nacional . lun...\n",
       "4  Conferencia prensa matutino , Palacio Nacional..."
      ]
     },
     "execution_count": 7,
     "metadata": {},
     "output_type": "execute_result"
    }
   ],
   "source": [
    "textoPrueba['description'] = textoPrueba['description'].apply(lemmatize_text)\n",
    "textoPrueba.head()"
   ]
  },
  {
   "attachments": {},
   "cell_type": "markdown",
   "metadata": {},
   "source": [
    "Normalizamos el texto, quitamos mayúsculas y signos de puntuación"
   ]
  },
  {
   "cell_type": "code",
   "execution_count": 8,
   "metadata": {},
   "outputs": [],
   "source": [
    "# Función para normalizar el texto\n",
    "\n",
    "def noPuntuacion(text):\n",
    "\n",
    "    text = text.lower()\n",
    "\n",
    "    text = re.sub('[áäàâ]', 'a', text)\n",
    "    text = re.sub('[éëèê]', 'e', text)\n",
    "    text = re.sub('[íïìî]', 'i', text)\n",
    "    text = re.sub('[óöòô]', 'o', text)\n",
    "    text = re.sub('[úüùû]', 'u', text)\n",
    "\n",
    "    return re.findall(r'[a-zñ]+', text)"
   ]
  },
  {
   "cell_type": "code",
   "execution_count": 9,
   "metadata": {},
   "outputs": [
    {
     "data": {
      "text/html": [
       "<div>\n",
       "<style scoped>\n",
       "    .dataframe tbody tr th:only-of-type {\n",
       "        vertical-align: middle;\n",
       "    }\n",
       "\n",
       "    .dataframe tbody tr th {\n",
       "        vertical-align: top;\n",
       "    }\n",
       "\n",
       "    .dataframe thead th {\n",
       "        text-align: right;\n",
       "    }\n",
       "</style>\n",
       "<table border=\"1\" class=\"dataframe\">\n",
       "  <thead>\n",
       "    <tr style=\"text-align: right;\">\n",
       "      <th></th>\n",
       "      <th>description</th>\n",
       "    </tr>\n",
       "  </thead>\n",
       "  <tbody>\n",
       "    <tr>\n",
       "      <th>0</th>\n",
       "      <td>conferencia prensa vivo palacio nacional viern...</td>\n",
       "    </tr>\n",
       "    <tr>\n",
       "      <th>1</th>\n",
       "      <td>conferencia prensa vivo palacio nacional jueve...</td>\n",
       "    </tr>\n",
       "    <tr>\n",
       "      <th>2</th>\n",
       "      <td>conferencia prensa vivo palacio nacional lunes...</td>\n",
       "    </tr>\n",
       "    <tr>\n",
       "      <th>3</th>\n",
       "      <td>conferencia prensa vivo palacio nacional lunes...</td>\n",
       "    </tr>\n",
       "    <tr>\n",
       "      <th>4</th>\n",
       "      <td>conferencia prensa matutino palacio nacional l...</td>\n",
       "    </tr>\n",
       "  </tbody>\n",
       "</table>\n",
       "</div>"
      ],
      "text/plain": [
       "                                         description\n",
       "0  conferencia prensa vivo palacio nacional viern...\n",
       "1  conferencia prensa vivo palacio nacional jueve...\n",
       "2  conferencia prensa vivo palacio nacional lunes...\n",
       "3  conferencia prensa vivo palacio nacional lunes...\n",
       "4  conferencia prensa matutino palacio nacional l..."
      ]
     },
     "execution_count": 9,
     "metadata": {},
     "output_type": "execute_result"
    }
   ],
   "source": [
    "textoPrueba['description'] = textoPrueba['description'].apply(noPuntuacion).apply(lambda x: \" \".join(x))\n",
    "textoPrueba.head()"
   ]
  },
  {
   "attachments": {},
   "cell_type": "markdown",
   "metadata": {},
   "source": [
    "Aplicamos stemming (Optamos por no ponerla)"
   ]
  },
  {
   "cell_type": "code",
   "execution_count": 10,
   "metadata": {},
   "outputs": [],
   "source": [
    "# # Función para aplicar stemming al texto\n",
    "\n",
    "# def stemmiar(text):\n",
    "\n",
    "#     stemmer = SnowballStemmer('spanish')\n",
    "\n",
    "#     return ' '.join([stemmer.stem(word) for word in text.split()])"
   ]
  },
  {
   "cell_type": "code",
   "execution_count": 11,
   "metadata": {},
   "outputs": [],
   "source": [
    "# textoPrueba['text'] = textoPrueba['text'].apply(stemmiar)\n",
    "# textoPrueba.head()"
   ]
  },
  {
   "attachments": {},
   "cell_type": "markdown",
   "metadata": {},
   "source": [
    "Vectorizamos y hacemos n-gramas"
   ]
  },
  {
   "cell_type": "code",
   "execution_count": 10,
   "metadata": {},
   "outputs": [
    {
     "data": {
      "text/html": [
       "<style>#sk-container-id-1 {color: black;background-color: white;}#sk-container-id-1 pre{padding: 0;}#sk-container-id-1 div.sk-toggleable {background-color: white;}#sk-container-id-1 label.sk-toggleable__label {cursor: pointer;display: block;width: 100%;margin-bottom: 0;padding: 0.3em;box-sizing: border-box;text-align: center;}#sk-container-id-1 label.sk-toggleable__label-arrow:before {content: \"▸\";float: left;margin-right: 0.25em;color: #696969;}#sk-container-id-1 label.sk-toggleable__label-arrow:hover:before {color: black;}#sk-container-id-1 div.sk-estimator:hover label.sk-toggleable__label-arrow:before {color: black;}#sk-container-id-1 div.sk-toggleable__content {max-height: 0;max-width: 0;overflow: hidden;text-align: left;background-color: #f0f8ff;}#sk-container-id-1 div.sk-toggleable__content pre {margin: 0.2em;color: black;border-radius: 0.25em;background-color: #f0f8ff;}#sk-container-id-1 input.sk-toggleable__control:checked~div.sk-toggleable__content {max-height: 200px;max-width: 100%;overflow: auto;}#sk-container-id-1 input.sk-toggleable__control:checked~label.sk-toggleable__label-arrow:before {content: \"▾\";}#sk-container-id-1 div.sk-estimator input.sk-toggleable__control:checked~label.sk-toggleable__label {background-color: #d4ebff;}#sk-container-id-1 div.sk-label input.sk-toggleable__control:checked~label.sk-toggleable__label {background-color: #d4ebff;}#sk-container-id-1 input.sk-hidden--visually {border: 0;clip: rect(1px 1px 1px 1px);clip: rect(1px, 1px, 1px, 1px);height: 1px;margin: -1px;overflow: hidden;padding: 0;position: absolute;width: 1px;}#sk-container-id-1 div.sk-estimator {font-family: monospace;background-color: #f0f8ff;border: 1px dotted black;border-radius: 0.25em;box-sizing: border-box;margin-bottom: 0.5em;}#sk-container-id-1 div.sk-estimator:hover {background-color: #d4ebff;}#sk-container-id-1 div.sk-parallel-item::after {content: \"\";width: 100%;border-bottom: 1px solid gray;flex-grow: 1;}#sk-container-id-1 div.sk-label:hover label.sk-toggleable__label {background-color: #d4ebff;}#sk-container-id-1 div.sk-serial::before {content: \"\";position: absolute;border-left: 1px solid gray;box-sizing: border-box;top: 0;bottom: 0;left: 50%;z-index: 0;}#sk-container-id-1 div.sk-serial {display: flex;flex-direction: column;align-items: center;background-color: white;padding-right: 0.2em;padding-left: 0.2em;position: relative;}#sk-container-id-1 div.sk-item {position: relative;z-index: 1;}#sk-container-id-1 div.sk-parallel {display: flex;align-items: stretch;justify-content: center;background-color: white;position: relative;}#sk-container-id-1 div.sk-item::before, #sk-container-id-1 div.sk-parallel-item::before {content: \"\";position: absolute;border-left: 1px solid gray;box-sizing: border-box;top: 0;bottom: 0;left: 50%;z-index: -1;}#sk-container-id-1 div.sk-parallel-item {display: flex;flex-direction: column;z-index: 1;position: relative;background-color: white;}#sk-container-id-1 div.sk-parallel-item:first-child::after {align-self: flex-end;width: 50%;}#sk-container-id-1 div.sk-parallel-item:last-child::after {align-self: flex-start;width: 50%;}#sk-container-id-1 div.sk-parallel-item:only-child::after {width: 0;}#sk-container-id-1 div.sk-dashed-wrapped {border: 1px dashed gray;margin: 0 0.4em 0.5em 0.4em;box-sizing: border-box;padding-bottom: 0.4em;background-color: white;}#sk-container-id-1 div.sk-label label {font-family: monospace;font-weight: bold;display: inline-block;line-height: 1.2em;}#sk-container-id-1 div.sk-label-container {text-align: center;}#sk-container-id-1 div.sk-container {/* jupyter's `normalize.less` sets `[hidden] { display: none; }` but bootstrap.min.css set `[hidden] { display: none !important; }` so we also need the `!important` here to be able to override the default hidden behavior on the sphinx rendered scikit-learn.org. See: https://github.com/scikit-learn/scikit-learn/issues/21755 */display: inline-block !important;position: relative;}#sk-container-id-1 div.sk-text-repr-fallback {display: none;}</style><div id=\"sk-container-id-1\" class=\"sk-top-container\"><div class=\"sk-text-repr-fallback\"><pre>TfidfVectorizer(max_df=0.7, min_df=2, ngram_range=(1, 2),\n",
       "                tokenizer=&lt;bound method TreebankWordTokenizer.tokenize of &lt;nltk.tokenize.treebank.TreebankWordTokenizer object at 0x00000245173B9A90&gt;&gt;)</pre><b>In a Jupyter environment, please rerun this cell to show the HTML representation or trust the notebook. <br />On GitHub, the HTML representation is unable to render, please try loading this page with nbviewer.org.</b></div><div class=\"sk-container\" hidden><div class=\"sk-item\"><div class=\"sk-estimator sk-toggleable\"><input class=\"sk-toggleable__control sk-hidden--visually\" id=\"sk-estimator-id-1\" type=\"checkbox\" checked><label for=\"sk-estimator-id-1\" class=\"sk-toggleable__label sk-toggleable__label-arrow\">TfidfVectorizer</label><div class=\"sk-toggleable__content\"><pre>TfidfVectorizer(max_df=0.7, min_df=2, ngram_range=(1, 2),\n",
       "                tokenizer=&lt;bound method TreebankWordTokenizer.tokenize of &lt;nltk.tokenize.treebank.TreebankWordTokenizer object at 0x00000245173B9A90&gt;&gt;)</pre></div></div></div></div></div>"
      ],
      "text/plain": [
       "TfidfVectorizer(max_df=0.7, min_df=2, ngram_range=(1, 2),\n",
       "                tokenizer=<bound method TreebankWordTokenizer.tokenize of <nltk.tokenize.treebank.TreebankWordTokenizer object at 0x00000245173B9A90>>)"
      ]
     },
     "execution_count": 10,
     "metadata": {},
     "output_type": "execute_result"
    }
   ],
   "source": [
    "# Creamos una instancia que hará la vectorización TF-IDF\n",
    "vect = TfidfVectorizer()\n",
    "\n",
    "# Tokenizamos como Penn Treebank\n",
    "tokenizer = TreebankWordTokenizer()\n",
    "vect.set_params(tokenizer=tokenizer.tokenize)\n",
    "\n",
    "# Incluimos 1-grams y 2-grams\n",
    "vect.set_params(ngram_range=(1, 2))\n",
    "\n",
    "# Ignoramos términos que aparecen en más del 70% de los documentos\n",
    "vect.set_params(max_df=0.7)\n",
    "\n",
    "# Solo mantenemos los términos que aparecen en al menos 2 documentos\n",
    "vect.set_params(min_df=2)"
   ]
  },
  {
   "cell_type": "code",
   "execution_count": 11,
   "metadata": {},
   "outputs": [
    {
     "name": "stderr",
     "output_type": "stream",
     "text": [
      "c:\\Users\\Victor Minjares\\AppData\\Local\\Programs\\Python\\Python39\\lib\\site-packages\\sklearn\\feature_extraction\\text.py:528: UserWarning: The parameter 'token_pattern' will not be used since 'tokenizer' is not None'\n",
      "  warnings.warn(\n"
     ]
    },
    {
     "data": {
      "text/plain": [
       "<217x26241 sparse matrix of type '<class 'numpy.float64'>'\n",
       "\twith 187691 stored elements in Compressed Sparse Row format>"
      ]
     },
     "execution_count": 11,
     "metadata": {},
     "output_type": "execute_result"
    }
   ],
   "source": [
    "# Lo aplicamos\n",
    "vectFit = vect.fit_transform(textoPrueba['description']) \n",
    "vectFit "
   ]
  },
  {
   "cell_type": "code",
   "execution_count": 12,
   "metadata": {},
   "outputs": [
    {
     "name": "stdout",
     "output_type": "stream",
     "text": [
      "  (0, 1162)\t0.02902993414914131\n",
      "  (0, 4906)\t0.03628318955417566\n",
      "  (0, 8384)\t0.043209421557117204\n",
      "  (0, 109)\t0.043209421557117204\n",
      "  (0, 7511)\t0.043209421557117204\n",
      "  (0, 1143)\t0.025248220547780094\n",
      "  (0, 23409)\t0.043209421557117204\n",
      "  (0, 16723)\t0.043209421557117204\n",
      "  (0, 4767)\t0.039033680122300275\n",
      "  (0, 6724)\t0.04085776593511727\n",
      "  (0, 5185)\t0.043209421557117204\n",
      "  (0, 21281)\t0.043209421557117204\n",
      "  (0, 8345)\t0.043209421557117204\n",
      "  (0, 319)\t0.043209421557117204\n",
      "  (0, 11443)\t0.03628318955417566\n",
      "  (0, 10973)\t0.043209421557117204\n",
      "  (0, 11405)\t0.04085776593511727\n",
      "  (0, 25923)\t0.043209421557117204\n",
      "  (0, 8131)\t0.04085776593511727\n",
      "  (0, 23969)\t0.04085776593511727\n",
      "  (0, 14198)\t0.043209421557117204\n",
      "  (0, 24344)\t0.043209421557117204\n",
      "  (0, 4728)\t0.04085776593511727\n",
      "  (0, 15376)\t0.03519163787178304\n",
      "  (0, 21577)\t0.04085776593511727\n",
      "  :\t:\n",
      "  (0, 21880)\t0.03213646446993721\n",
      "  (0, 18043)\t0.017344767325551385\n",
      "  (0, 19749)\t0.0237063805368087\n",
      "  (0, 5411)\t0.022244673153701437\n",
      "  (0, 13082)\t0.02279151308379404\n",
      "  (0, 21229)\t0.08568807896734323\n",
      "  (0, 5505)\t0.03690556650580301\n",
      "  (0, 22774)\t0.01215265580171027\n",
      "  (0, 6404)\t0.043272921972345745\n",
      "  (0, 20178)\t0.02382442429667441\n",
      "  (0, 5753)\t0.02430531160342054\n",
      "  (0, 8018)\t0.023943326564152687\n",
      "  (0, 5981)\t0.016471993059433376\n",
      "  (0, 12394)\t0.01872082349096324\n",
      "  (0, 2770)\t0.04568005376901457\n",
      "  (0, 13187)\t0.05561168288425359\n",
      "  (0, 6523)\t0.014545082056146309\n",
      "  (0, 7982)\t0.012275582852902152\n",
      "  (0, 8701)\t0.013331823487480559\n",
      "  (0, 3214)\t0.01150773767466355\n",
      "  (0, 1956)\t0.011176293834524382\n",
      "  (0, 13905)\t0.015406351049628923\n",
      "  (0, 13017)\t0.012337746611473886\n",
      "  (0, 14538)\t0.11530395141603364\n",
      "  (0, 26058)\t0.12193475777148739\n"
     ]
    }
   ],
   "source": [
    "print(vectFit[1])"
   ]
  },
  {
   "attachments": {},
   "cell_type": "markdown",
   "metadata": {},
   "source": [
    "Descomposicion por valores singulares (SVD)"
   ]
  },
  {
   "attachments": {},
   "cell_type": "markdown",
   "metadata": {},
   "source": [
    "Hacemos z-score normalizacion"
   ]
  },
  {
   "cell_type": "code",
   "execution_count": 60,
   "metadata": {},
   "outputs": [
    {
     "name": "stdout",
     "output_type": "stream",
     "text": [
      "  (0, 19423)\t0.10658905009130362\n",
      "  (0, 14631)\t3.9939943020657798\n",
      "  (0, 24392)\t3.1910699910357403\n",
      "  (0, 22464)\t2.7890238595916075\n",
      "  (0, 14637)\t6.34577637642733\n",
      "  (0, 1169)\t0.1816929145499968\n",
      "  (0, 7413)\t0.20094800635307847\n",
      "  (0, 25895)\t0.9048887732220058\n",
      "  (0, 10233)\t4.009467628477107\n",
      "  (0, 13955)\t2.62885120271344\n",
      "  (0, 20168)\t2.3635023555244494\n",
      "  (0, 10264)\t1.5636189465323356\n",
      "  (0, 14798)\t3.9453606763696714\n",
      "  (0, 7405)\t3.6065072585187283\n",
      "  (0, 15250)\t0.7916639672476847\n",
      "  (0, 5676)\t0.8625395865531453\n",
      "  (0, 14796)\t2.858172949593013\n",
      "  (0, 20482)\t1.2502457370158517\n",
      "  (0, 22225)\t1.6105325688625907\n",
      "  (0, 11129)\t1.6105325688625907\n",
      "  (0, 11370)\t2.6428532004842675\n",
      "  (0, 18917)\t0.8519610985126911\n",
      "  (0, 19652)\t3.864891839554164\n",
      "  (0, 1886)\t1.924089840890334\n",
      "  (0, 21861)\t1.5008615267504553\n",
      "  :\t:\n",
      "  (0, 14779)\t1.7867282459533598\n",
      "  (0, 13957)\t1.3749761929493054\n",
      "  (0, 14450)\t1.0020352493112252\n",
      "  (0, 20525)\t0.6064457485227343\n",
      "  (0, 14826)\t2.8115085426517386\n",
      "  (0, 19945)\t0.856910993124063\n",
      "  (0, 20883)\t1.5592709504781677\n",
      "  (0, 18576)\t0.9505674005158863\n",
      "  (0, 6735)\t1.031681680203262\n",
      "  (0, 3214)\t0.6604176024602133\n",
      "  (0, 1956)\t1.4702532075671133\n",
      "  (0, 14266)\t6.046465820459451\n",
      "  (0, 10181)\t0.8028776902790701\n",
      "  (0, 7215)\t3.843677734584078\n",
      "  (0, 16067)\t1.1876432193329136\n",
      "  (0, 11682)\t2.475840021108279\n",
      "  (0, 13905)\t1.2240000755644913\n",
      "  (0, 13017)\t0.585889552031163\n",
      "  (0, 25980)\t1.312156248879678\n",
      "  (0, 11939)\t0.9210495422240627\n",
      "  (0, 16043)\t1.2643404114569308\n",
      "  (0, 14103)\t0.6830093197492224\n",
      "  (0, 5025)\t1.7408434046419738\n",
      "  (0, 14538)\t0.7265183107028975\n",
      "  (0, 26058)\t1.0533107660617032\n"
     ]
    }
   ],
   "source": [
    "# Creamos la instancia \n",
    "scaler = StandardScaler(with_mean=False)\n",
    "# Calculamos el promedio y la desviacion estandar\n",
    "scaler.fit(vectFit)\n",
    "# Re escalamos\n",
    "vectFitScaled = scaler.transform(vectFit)\n",
    "\n",
    "print(vectFitScaled[0])"
   ]
  },
  {
   "cell_type": "code",
   "execution_count": 47,
   "metadata": {},
   "outputs": [
    {
     "data": {
      "text/plain": [
       "<26241x217 sparse matrix of type '<class 'numpy.float64'>'\n",
       "\twith 187691 stored elements in Compressed Sparse Column format>"
      ]
     },
     "execution_count": 47,
     "metadata": {},
     "output_type": "execute_result"
    }
   ],
   "source": [
    "# vectFitScaled = vectFitScaled.transpose()\n",
    "# vectFitScaled"
   ]
  },
  {
   "cell_type": "code",
   "execution_count": 61,
   "metadata": {},
   "outputs": [],
   "source": [
    "# Creamos instancia de la clase TruncatedSVD\n",
    "dimReduction = TruncatedSVD(n_components = textoPrueba.shape[0], random_state = 2)"
   ]
  },
  {
   "cell_type": "code",
   "execution_count": 62,
   "metadata": {},
   "outputs": [
    {
     "data": {
      "text/html": [
       "<style>#sk-container-id-7 {color: black;background-color: white;}#sk-container-id-7 pre{padding: 0;}#sk-container-id-7 div.sk-toggleable {background-color: white;}#sk-container-id-7 label.sk-toggleable__label {cursor: pointer;display: block;width: 100%;margin-bottom: 0;padding: 0.3em;box-sizing: border-box;text-align: center;}#sk-container-id-7 label.sk-toggleable__label-arrow:before {content: \"▸\";float: left;margin-right: 0.25em;color: #696969;}#sk-container-id-7 label.sk-toggleable__label-arrow:hover:before {color: black;}#sk-container-id-7 div.sk-estimator:hover label.sk-toggleable__label-arrow:before {color: black;}#sk-container-id-7 div.sk-toggleable__content {max-height: 0;max-width: 0;overflow: hidden;text-align: left;background-color: #f0f8ff;}#sk-container-id-7 div.sk-toggleable__content pre {margin: 0.2em;color: black;border-radius: 0.25em;background-color: #f0f8ff;}#sk-container-id-7 input.sk-toggleable__control:checked~div.sk-toggleable__content {max-height: 200px;max-width: 100%;overflow: auto;}#sk-container-id-7 input.sk-toggleable__control:checked~label.sk-toggleable__label-arrow:before {content: \"▾\";}#sk-container-id-7 div.sk-estimator input.sk-toggleable__control:checked~label.sk-toggleable__label {background-color: #d4ebff;}#sk-container-id-7 div.sk-label input.sk-toggleable__control:checked~label.sk-toggleable__label {background-color: #d4ebff;}#sk-container-id-7 input.sk-hidden--visually {border: 0;clip: rect(1px 1px 1px 1px);clip: rect(1px, 1px, 1px, 1px);height: 1px;margin: -1px;overflow: hidden;padding: 0;position: absolute;width: 1px;}#sk-container-id-7 div.sk-estimator {font-family: monospace;background-color: #f0f8ff;border: 1px dotted black;border-radius: 0.25em;box-sizing: border-box;margin-bottom: 0.5em;}#sk-container-id-7 div.sk-estimator:hover {background-color: #d4ebff;}#sk-container-id-7 div.sk-parallel-item::after {content: \"\";width: 100%;border-bottom: 1px solid gray;flex-grow: 1;}#sk-container-id-7 div.sk-label:hover label.sk-toggleable__label {background-color: #d4ebff;}#sk-container-id-7 div.sk-serial::before {content: \"\";position: absolute;border-left: 1px solid gray;box-sizing: border-box;top: 0;bottom: 0;left: 50%;z-index: 0;}#sk-container-id-7 div.sk-serial {display: flex;flex-direction: column;align-items: center;background-color: white;padding-right: 0.2em;padding-left: 0.2em;position: relative;}#sk-container-id-7 div.sk-item {position: relative;z-index: 1;}#sk-container-id-7 div.sk-parallel {display: flex;align-items: stretch;justify-content: center;background-color: white;position: relative;}#sk-container-id-7 div.sk-item::before, #sk-container-id-7 div.sk-parallel-item::before {content: \"\";position: absolute;border-left: 1px solid gray;box-sizing: border-box;top: 0;bottom: 0;left: 50%;z-index: -1;}#sk-container-id-7 div.sk-parallel-item {display: flex;flex-direction: column;z-index: 1;position: relative;background-color: white;}#sk-container-id-7 div.sk-parallel-item:first-child::after {align-self: flex-end;width: 50%;}#sk-container-id-7 div.sk-parallel-item:last-child::after {align-self: flex-start;width: 50%;}#sk-container-id-7 div.sk-parallel-item:only-child::after {width: 0;}#sk-container-id-7 div.sk-dashed-wrapped {border: 1px dashed gray;margin: 0 0.4em 0.5em 0.4em;box-sizing: border-box;padding-bottom: 0.4em;background-color: white;}#sk-container-id-7 div.sk-label label {font-family: monospace;font-weight: bold;display: inline-block;line-height: 1.2em;}#sk-container-id-7 div.sk-label-container {text-align: center;}#sk-container-id-7 div.sk-container {/* jupyter's `normalize.less` sets `[hidden] { display: none; }` but bootstrap.min.css set `[hidden] { display: none !important; }` so we also need the `!important` here to be able to override the default hidden behavior on the sphinx rendered scikit-learn.org. See: https://github.com/scikit-learn/scikit-learn/issues/21755 */display: inline-block !important;position: relative;}#sk-container-id-7 div.sk-text-repr-fallback {display: none;}</style><div id=\"sk-container-id-7\" class=\"sk-top-container\"><div class=\"sk-text-repr-fallback\"><pre>TruncatedSVD(n_components=217, random_state=2)</pre><b>In a Jupyter environment, please rerun this cell to show the HTML representation or trust the notebook. <br />On GitHub, the HTML representation is unable to render, please try loading this page with nbviewer.org.</b></div><div class=\"sk-container\" hidden><div class=\"sk-item\"><div class=\"sk-estimator sk-toggleable\"><input class=\"sk-toggleable__control sk-hidden--visually\" id=\"sk-estimator-id-7\" type=\"checkbox\" checked><label for=\"sk-estimator-id-7\" class=\"sk-toggleable__label sk-toggleable__label-arrow\">TruncatedSVD</label><div class=\"sk-toggleable__content\"><pre>TruncatedSVD(n_components=217, random_state=2)</pre></div></div></div></div></div>"
      ],
      "text/plain": [
       "TruncatedSVD(n_components=217, random_state=2)"
      ]
     },
     "execution_count": 62,
     "metadata": {},
     "output_type": "execute_result"
    }
   ],
   "source": [
    "# Ajustamos la transfromacion con nuestros datos\n",
    "dimReduction.fit(vectFitScaled)"
   ]
  },
  {
   "cell_type": "code",
   "execution_count": 63,
   "metadata": {},
   "outputs": [],
   "source": [
    "# Reducimos la dimensionalidad\n",
    "dataReduction = dimReduction.transform(vectFitScaled)"
   ]
  },
  {
   "cell_type": "code",
   "execution_count": 64,
   "metadata": {},
   "outputs": [
    {
     "name": "stdout",
     "output_type": "stream",
     "text": [
      "Variancia explicada por los 36,755 componentes = 100.00000000000003\n"
     ]
    }
   ],
   "source": [
    "print(\"Variancia explicada por los 36,755 componentes = \" \\\n",
    "        + str(sum(dimReduction.explained_variance_ratio_ * 100)))"
   ]
  },
  {
   "cell_type": "code",
   "execution_count": 65,
   "metadata": {},
   "outputs": [
    {
     "data": {
      "text/plain": [
       "array([0.13977068, 1.10428979, 0.89472461, 0.77305064, 0.71635826,\n",
       "       0.68507958, 0.67300333, 0.66212923, 0.65703556, 0.65308872,\n",
       "       0.64556059, 0.63682018, 0.63525626, 0.63121121, 0.62485309,\n",
       "       0.61903162, 0.6166262 , 0.61448975, 0.60996028, 0.6090335 ,\n",
       "       0.60657538, 0.60087981, 0.59687008, 0.5953861 , 0.59385978,\n",
       "       0.59256453, 0.58902014, 0.58774021, 0.57878167, 0.5780603 ,\n",
       "       0.5762358 , 0.57480605, 0.57414804, 0.56974727, 0.56716872,\n",
       "       0.56385763, 0.56132931, 0.5594749 , 0.55725351, 0.55691354,\n",
       "       0.55314586, 0.5522004 , 0.55087024, 0.54890443, 0.54682333,\n",
       "       0.54295113, 0.5413581 , 0.54076922, 0.53912647, 0.53733738,\n",
       "       0.53663786, 0.534837  , 0.53142649, 0.53059198, 0.52924002,\n",
       "       0.5271787 , 0.52697387, 0.52367861, 0.5222004 , 0.52013004,\n",
       "       0.5177419 , 0.51749416, 0.51698604, 0.51412316, 0.51296025,\n",
       "       0.51148682, 0.50982854, 0.50792936, 0.50633282, 0.50451081,\n",
       "       0.5035376 , 0.50331021, 0.50130085, 0.49948689, 0.4971332 ,\n",
       "       0.49649775, 0.49600776, 0.49502569, 0.49239853, 0.49181882,\n",
       "       0.49038003, 0.4880348 , 0.4876631 , 0.48672892, 0.48490924,\n",
       "       0.48150205, 0.4807404 , 0.47966769, 0.4786961 , 0.47514564,\n",
       "       0.47447854, 0.47378299, 0.47276953, 0.47100651, 0.46982005,\n",
       "       0.46714349, 0.46677659, 0.46576513, 0.46477761, 0.463156  ,\n",
       "       0.46264342, 0.4600011 , 0.45877086, 0.45790331, 0.45754489,\n",
       "       0.45613576, 0.45569194, 0.45366917, 0.45344994, 0.45158225,\n",
       "       0.45012594, 0.44971804, 0.44859309, 0.44819165, 0.44667972,\n",
       "       0.44606506, 0.44360381, 0.44329386, 0.44199718, 0.44101224,\n",
       "       0.43806227, 0.43786785, 0.43740723, 0.43594675, 0.43542179,\n",
       "       0.43424747, 0.43374097, 0.43300919, 0.43003539, 0.42975224,\n",
       "       0.42894021, 0.42705259, 0.42623065, 0.42474743, 0.4233461 ,\n",
       "       0.42241929, 0.4211583 , 0.42043242, 0.42004417, 0.41648647,\n",
       "       0.41587158, 0.41439584, 0.4139225 , 0.41249029, 0.41187116,\n",
       "       0.41126301, 0.40928997, 0.40913107, 0.40814781, 0.40624612,\n",
       "       0.40493983, 0.40434371, 0.40199282, 0.40028505, 0.39942791,\n",
       "       0.39913958, 0.39711268, 0.39584552, 0.39510845, 0.39351284,\n",
       "       0.39202936, 0.38986348, 0.38900023, 0.38731621, 0.38666625,\n",
       "       0.38594772, 0.38472012, 0.38427471, 0.38298546, 0.38123375,\n",
       "       0.38036376, 0.37940626, 0.37837295, 0.37751028, 0.37506499,\n",
       "       0.37361928, 0.37282533, 0.37235364, 0.3710174 , 0.36925176,\n",
       "       0.36828886, 0.36659333, 0.36521528, 0.3640704 , 0.36283414,\n",
       "       0.35942375, 0.35865466, 0.35736538, 0.35633773, 0.35342916,\n",
       "       0.35248553, 0.35131968, 0.34829878, 0.34766753, 0.34364366,\n",
       "       0.34338442, 0.33982422, 0.33599153, 0.33394124, 0.33136987,\n",
       "       0.32978716, 0.32797841, 0.3234843 , 0.32230587, 0.31525909,\n",
       "       0.31273607, 0.30913202, 0.30459008, 0.30271981, 0.29888364,\n",
       "       0.28863389, 0.28521085, 0.27344816, 0.21031628, 0.18965703,\n",
       "       0.08992435, 0.01732822])"
      ]
     },
     "execution_count": 65,
     "metadata": {},
     "output_type": "execute_result"
    }
   ],
   "source": [
    "dimReduction.explained_variance_ratio_ * 100"
   ]
  },
  {
   "cell_type": "code",
   "execution_count": 20,
   "metadata": {},
   "outputs": [
    {
     "data": {
      "text/plain": [
       "array([  0.13977068,   1.24406047,   2.13878508,   2.91183573,\n",
       "         3.62819399,   4.31327357,   4.9862769 ,   5.64840613,\n",
       "         6.30544168,   6.95853041,   7.60409099,   8.24091117,\n",
       "         8.87616743,   9.50737864,  10.13223173,  10.75126334,\n",
       "        11.36788954,  11.9823793 ,  12.59233958,  13.20137308,\n",
       "        13.80794846,  14.40882827,  15.00569835,  15.60108445,\n",
       "        16.19494423,  16.78750876,  17.3765289 ,  17.96426911,\n",
       "        18.54305079,  19.12111109,  19.69734688,  20.27215294,\n",
       "        20.84630098,  21.41604825,  21.98321697,  22.5470746 ,\n",
       "        23.10840391,  23.66787881,  24.22513232,  24.78204585,\n",
       "        25.33519171,  25.88739212,  26.43826235,  26.98716678,\n",
       "        27.53399011,  28.07694124,  28.61829934,  29.15906856,\n",
       "        29.69819503,  30.23553241,  30.77217027,  31.30700727,\n",
       "        31.83843376,  32.36902573,  32.89826575,  33.42544445,\n",
       "        33.95241832,  34.47609693,  34.99829733,  35.51842737,\n",
       "        36.03616928,  36.55366344,  37.07064948,  37.58477264,\n",
       "        38.09773289,  38.60921971,  39.11904825,  39.62697761,\n",
       "        40.13331043,  40.63782124,  41.14135885,  41.64466905,\n",
       "        42.1459699 ,  42.64545679,  43.14258999,  43.63908775,\n",
       "        44.13509551,  44.6301212 ,  45.12251973,  45.61433855,\n",
       "        46.10471858,  46.59275337,  47.08041647,  47.56714539,\n",
       "        48.05205463,  48.53355668,  49.01429708,  49.49396477,\n",
       "        49.97266087,  50.44780651,  50.92228506,  51.39606805,\n",
       "        51.86883758,  52.33984409,  52.80966414,  53.27680763,\n",
       "        53.74358422,  54.20934935,  54.67412696,  55.13728296,\n",
       "        55.59992637,  56.05992747,  56.51869833,  56.97660163,\n",
       "        57.43414653,  57.89028229,  58.34597423,  58.79964339,\n",
       "        59.25309333,  59.70467558,  60.15480152,  60.60451956,\n",
       "        61.05311265,  61.5013043 ,  61.94798403,  62.39404908,\n",
       "        62.8376529 ,  63.28094675,  63.72294393,  64.16395617,\n",
       "        64.60201844,  65.03988628,  65.47729351,  65.91324026,\n",
       "        66.34866205,  66.78290952,  67.21665049,  67.64965969,\n",
       "        68.07969507,  68.50944731,  68.93838752,  69.36544011,\n",
       "        69.79167076,  70.21641819,  70.63976429,  71.06218358,\n",
       "        71.48334188,  71.9037743 ,  72.32381847,  72.74030494,\n",
       "        73.15617652,  73.57057237,  73.98449487,  74.39698516,\n",
       "        74.80885631,  75.22011933,  75.6294093 ,  76.03854037,\n",
       "        76.44668818,  76.8529343 ,  77.25787413,  77.66221784,\n",
       "        78.06421066,  78.4644957 ,  78.86392361,  79.26306319,\n",
       "        79.66017587,  80.05602139,  80.45112984,  80.84464268,\n",
       "        81.23667203,  81.62653551,  82.01553574,  82.40285196,\n",
       "        82.7895182 ,  83.17546592,  83.56018604,  83.94446075,\n",
       "        84.32744622,  84.70867996,  85.08904372,  85.46844998,\n",
       "        85.84682293,  86.22433322,  86.5993982 ,  86.97301748,\n",
       "        87.34584281,  87.71819645,  88.08921386,  88.45846562,\n",
       "        88.82675448,  89.19334781,  89.55856309,  89.92263349,\n",
       "        90.28546763,  90.64489137,  91.00354603,  91.36091141,\n",
       "        91.71724915,  92.0706783 ,  92.42316383,  92.77448351,\n",
       "        93.12278229,  93.47044982,  93.81409348,  94.1574779 ,\n",
       "        94.49730212,  94.83329365,  95.16723489,  95.49860477,\n",
       "        95.82839193,  96.15637034,  96.47985465,  96.80216052,\n",
       "        97.1174196 ,  97.43015567,  97.73928769,  98.04387777,\n",
       "        98.34659758,  98.64548122,  98.93411511,  99.21932596,\n",
       "        99.49277412,  99.7030904 ,  99.89274743,  99.98267178,\n",
       "       100.        ])"
      ]
     },
     "execution_count": 20,
     "metadata": {},
     "output_type": "execute_result"
    }
   ],
   "source": [
    "np.cumsum(dimReduction.explained_variance_ratio_ * 100)"
   ]
  },
  {
   "cell_type": "code",
   "execution_count": 66,
   "metadata": {},
   "outputs": [
    {
     "data": {
      "text/plain": [
       "Text(0, 0.5, 'Variancia explicada (%)')"
      ]
     },
     "execution_count": 66,
     "metadata": {},
     "output_type": "execute_result"
    },
    {
     "data": {
      "image/png": "[encoded data removed]",
      "text/plain": [
       "<Figure size 640x480 with 1 Axes>"
      ]
     },
     "metadata": {},
     "output_type": "display_data"
    }
   ],
   "source": [
    "plt.plot(np.cumsum(dimReduction.explained_variance_ratio_ * 100))\n",
    "plt.xlabel(\"Numero de componente\")\n",
    "plt.ylabel(\"Variancia explicada (%)\")"
   ]
  },
  {
   "cell_type": "code",
   "execution_count": 67,
   "metadata": {},
   "outputs": [
    {
     "name": "stdout",
     "output_type": "stream",
     "text": [
      "Variancia explicada por 2 componentes = 1.2401515189078118\n"
     ]
    }
   ],
   "source": [
    "# Creamos instancia de la clase TruncatedSVD\n",
    "dimReduction2 = TruncatedSVD(n_components = 2, random_state = 2)\n",
    "\n",
    "# Ajustamos la transfromacion con nuestros datos\n",
    "dimReduction2.fit(vectFitScaled)\n",
    "\n",
    "# Reducimos la dimensionalidad\n",
    "dataReduction2 = dimReduction2.transform(vectFitScaled)\n",
    "\n",
    "print(\"Variancia explicada por 2 componentes = \" \\\n",
    "        + str(sum(dimReduction2.explained_variance_ratio_ * 100)))"
   ]
  },
  {
   "cell_type": "code",
   "execution_count": 68,
   "metadata": {},
   "outputs": [
    {
     "data": {
      "text/plain": [
       "Text(0, 0.5, 'Segundo componente')"
      ]
     },
     "execution_count": 68,
     "metadata": {},
     "output_type": "execute_result"
    },
    {
     "data": {
      "image/png": "[encoded data removed]",
      "text/plain": [
       "<Figure size 1000x700 with 1 Axes>"
      ]
     },
     "metadata": {},
     "output_type": "display_data"
    }
   ],
   "source": [
    "plt.figure(figsize=(10,7))\n",
    "sns.scatterplot(x=dataReduction2[:,0], y=dataReduction2[:,1], s=70)\n",
    "plt.title(f\"Variancia explicada por 2 componentes = {round(sum(dimReduction2.explained_variance_ratio_ * 100),3)} % \")\n",
    "plt.xlabel(\"Primer componente\")\n",
    "plt.ylabel(\"Segundo componente\")"
   ]
  },
  {
   "attachments": {},
   "cell_type": "markdown",
   "metadata": {},
   "source": [
    "Estandarizamos la matriz para meterla al LDA"
   ]
  },
  {
   "cell_type": "code",
   "execution_count": 24,
   "metadata": {},
   "outputs": [],
   "source": [
    "scaler = MaxAbsScaler()\n",
    "scaler.fit(vectFit)\n",
    "vectFitStandardized = scaler.transform(vectFit)"
   ]
  },
  {
   "cell_type": "code",
   "execution_count": 25,
   "metadata": {},
   "outputs": [
    {
     "name": "stdout",
     "output_type": "stream",
     "text": [
      "  (0, 1162)\t0.7257032911601133\n",
      "  (0, 4906)\t0.9639660328829345\n",
      "  (0, 8384)\t1.0\n",
      "  (0, 109)\t0.9509673042764306\n",
      "  (0, 7511)\t1.0\n",
      "  (0, 1143)\t0.5336872948137664\n",
      "  (0, 23409)\t1.0\n",
      "  (0, 16723)\t0.8839508809038084\n",
      "  (0, 4767)\t0.457044991474296\n",
      "  (0, 6724)\t0.9509673042764306\n",
      "  (0, 5185)\t1.0\n",
      "  (0, 21281)\t0.9586630066683984\n",
      "  (0, 8345)\t1.0\n",
      "  (0, 319)\t1.0\n",
      "  (0, 11443)\t0.9586630066683984\n",
      "  (0, 10973)\t1.0\n",
      "  (0, 11405)\t0.915684842033978\n",
      "  (0, 25923)\t1.0\n",
      "  (0, 8131)\t0.49358678257414174\n",
      "  (0, 23969)\t0.49358678257414174\n",
      "  (0, 14198)\t0.9871735651482837\n",
      "  (0, 24344)\t1.0\n",
      "  (0, 4728)\t0.9999999999999999\n",
      "  (0, 15376)\t0.799995305084235\n",
      "  (0, 21577)\t0.9543298165136803\n",
      "  :\t:\n",
      "  (0, 21880)\t0.684480756799551\n",
      "  (0, 18043)\t0.12818289687168716\n",
      "  (0, 19749)\t0.48124994330006676\n",
      "  (0, 5411)\t0.26652091424345564\n",
      "  (0, 13082)\t0.2792017439403079\n",
      "  (0, 21229)\t1.0\n",
      "  (0, 5505)\t0.31776598918151805\n",
      "  (0, 22774)\t0.13078034685309034\n",
      "  (0, 6404)\t0.7871211227290378\n",
      "  (0, 20178)\t0.3887000534472747\n",
      "  (0, 5753)\t0.23299069051916302\n",
      "  (0, 8018)\t0.29891387612725007\n",
      "  (0, 5981)\t0.29236286488716623\n",
      "  (0, 12394)\t0.1336012943641023\n",
      "  (0, 2770)\t0.5011934826637137\n",
      "  (0, 13187)\t0.6677599272303778\n",
      "  (0, 6523)\t0.28306850241210013\n",
      "  (0, 7982)\t0.1558681767581194\n",
      "  (0, 8701)\t0.20852187409519982\n",
      "  (0, 3214)\t0.18422492843626337\n",
      "  (0, 1956)\t0.17080792921557145\n",
      "  (0, 13905)\t0.3967511080093843\n",
      "  (0, 13017)\t0.1473896582398411\n",
      "  (0, 14538)\t0.6371027844652407\n",
      "  (0, 26058)\t0.9871735651482834\n"
     ]
    }
   ],
   "source": [
    "print(vectFitStandardized[1])"
   ]
  },
  {
   "attachments": {},
   "cell_type": "markdown",
   "metadata": {},
   "source": [
    "Obtención de palabras clave usando TF-IDF"
   ]
  },
  {
   "cell_type": "code",
   "execution_count": 26,
   "metadata": {},
   "outputs": [
    {
     "name": "stdout",
     "output_type": "stream",
     "text": [
      "['lopezobrador', 'telegram facebook', 'web telegram', 'lopezobrador instagram', 'twitter lopezobrador', 'combustible', 'ducto', 'robo combustible', 'audio', 'plan robo']\n"
     ]
    }
   ],
   "source": [
    "# Obtener el vocabulario de términos\n",
    "feature_names = vect.get_feature_names_out()\n",
    "\n",
    "# Obtener las frecuencias de términos en el primer documento\n",
    "doc_freqs = vectFit[0].toarray()[0]\n",
    "\n",
    "# Crear una lista de tuplas que contienen el término y su frecuencia en el primer documento\n",
    "doc_term_freqs = [(feature_names[i], doc_freqs[i]) for i in range(len(feature_names))]\n",
    "\n",
    "# Ordenar la lista de tuplas por la frecuencia descendente\n",
    "doc_term_freqs_sorted = sorted(doc_term_freqs, key=lambda x: x[1], reverse=True)\n",
    "\n",
    "# Obtener las 10 palabras clave más importantes para el primer documento\n",
    "doc_keywords = [term for term, freq in doc_term_freqs_sorted[:10]]\n",
    "\n",
    "print(doc_keywords)\n"
   ]
  },
  {
   "cell_type": "code",
   "execution_count": 27,
   "metadata": {},
   "outputs": [],
   "source": [
    "# Importar las bibliotecas necesarias\n",
    "import gensim\n",
    "from gensim import corpora\n",
    "from gensim.models import LdaModel\n",
    "import pandas as pd\n",
    "from nltk.tokenize import TreebankWordTokenizer"
   ]
  },
  {
   "cell_type": "code",
   "execution_count": 69,
   "metadata": {},
   "outputs": [
    {
     "name": "stdout",
     "output_type": "stream",
     "text": [
      "Tópico: 1 \n",
      "Palabras clave: 0.088*\"de\" + 0.033*\",\" + 0.027*\"la\" + 0.024*\"que\" + 0.022*\"y\" + 0.020*\"el\" + 0.020*\"a\" + 0.020*\":\" + 0.018*\"en\" + 0.014*\"del\"\n",
      "\n",
      "Tópico: 2 \n",
      "Palabras clave: 0.056*\"de\" + 0.029*\"la\" + 0.026*\",\" + 0.023*\"a\" + 0.022*\"que\" + 0.020*\"el\" + 0.019*\"y\" + 0.017*\"en\" + 0.014*\":\" + 0.011*\"los\"\n",
      "\n",
      "Tópico: 3 \n",
      "Palabras clave: 0.078*\"de\" + 0.044*\"la\" + 0.030*\",\" + 0.026*\":\" + 0.024*\"y\" + 0.021*\"que\" + 0.021*\"el\" + 0.020*\"a\" + 0.017*\"en\" + 0.014*\"del\"\n",
      "\n",
      "Tópico: 4 \n",
      "Palabras clave: 0.072*\"de\" + 0.030*\"la\" + 0.027*\",\" + 0.026*\"que\" + 0.024*\"el\" + 0.023*\"y\" + 0.022*\"a\" + 0.015*\":\" + 0.015*\"en\" + 0.013*\"los\"\n",
      "\n",
      "Tópico: 5 \n",
      "Palabras clave: 0.066*\"de\" + 0.035*\",\" + 0.031*\"la\" + 0.022*\"que\" + 0.022*\"el\" + 0.019*\"en\" + 0.018*\"a\" + 0.018*\":\" + 0.014*\"y\" + 0.012*\"del\"\n",
      "\n",
      "Tópico: 6 \n",
      "Palabras clave: 0.060*\"de\" + 0.030*\"la\" + 0.022*\",\" + 0.019*\"que\" + 0.018*\"en\" + 0.018*\":\" + 0.015*\"el\" + 0.015*\"del\" + 0.014*\"y\" + 0.013*\"a\"\n",
      "\n",
      "Tópico: 7 \n",
      "Palabras clave: 0.064*\"de\" + 0.028*\",\" + 0.025*\"la\" + 0.022*\"y\" + 0.022*\"a\" + 0.020*\"el\" + 0.018*\"en\" + 0.017*\":\" + 0.013*\"que\" + 0.012*\"del\"\n",
      "\n",
      "Tópico: 8 \n",
      "Palabras clave: 0.091*\"de\" + 0.042*\"la\" + 0.038*\",\" + 0.031*\"y\" + 0.025*\"en\" + 0.021*\"a\" + 0.021*\"el\" + 0.020*\":\" + 0.017*\"que\" + 0.016*\"del\"\n",
      "\n",
      "Tópico: 9 \n",
      "Palabras clave: 0.054*\"de\" + 0.044*\"la\" + 0.036*\",\" + 0.027*\"a\" + 0.023*\"el\" + 0.022*\"y\" + 0.020*\":\" + 0.016*\"que\" + 0.015*\"en\" + 0.013*\"los\"\n",
      "\n",
      "Tópico: 10 \n",
      "Palabras clave: 0.074*\"de\" + 0.045*\",\" + 0.035*\"la\" + 0.029*\"y\" + 0.027*\"el\" + 0.021*\"en\" + 0.021*\":\" + 0.016*\"del\" + 0.016*\"a\" + 0.014*\"las\"\n",
      "\n"
     ]
    }
   ],
   "source": [
    "# Tokenizar los documentos utilizando el tokenizador de Penn Treebank\n",
    "tokenizer = TreebankWordTokenizer()\n",
    "documentos = []\n",
    "for documento in textoPrueba['description'].tolist():\n",
    "    tokens = tokenizer.tokenize(documento)\n",
    "    documentos.append(tokens)\n",
    "\n",
    "# Crear un diccionario de términos a partir de los documentos\n",
    "dictionary = corpora.Dictionary(documentos)\n",
    "\n",
    "# Crear una representación de la bolsa de palabras de los documentos\n",
    "corpus = [dictionary.doc2bow(documento) for documento in documentos]\n",
    "\n",
    "# Entrenar un modelo LDA con 10 tópicos\n",
    "model_lda = LdaModel(corpus=corpus, num_topics=10, id2word=dictionary)\n",
    "\n",
    "# Imprimir los tópicos\n",
    "for idx, topic in model_lda.print_topics(num_topics=10):\n",
    "    print('Tópico: {} \\nPalabras clave: {}\\n'.format(idx+1, topic))\n"
   ]
  },
  {
   "cell_type": "code",
   "execution_count": null,
   "metadata": {},
   "outputs": [],
   "source": []
  }
 ],
 "metadata": {
  "kernelspec": {
   "display_name": "Python 3",
   "language": "python",
   "name": "python3"
  },
  "language_info": {
   "codemirror_mode": {
    "name": "ipython",
    "version": 3
   },
   "file_extension": ".py",
   "mimetype": "text/x-python",
   "name": "python",
   "nbconvert_exporter": "python",
   "pygments_lexer": "ipython3",
   "version": "3.9.7"
  },
  "orig_nbformat": 4
 },
 "nbformat": 4,
 "nbformat_minor": 2
}
