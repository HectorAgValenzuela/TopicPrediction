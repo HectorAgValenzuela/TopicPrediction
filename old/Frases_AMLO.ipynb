{
  "nbformat": 4,
  "nbformat_minor": 0,
  "metadata": {
    "colab": {
      "provenance": []
    },
    "kernelspec": {
      "name": "python3",
      "display_name": "Python 3"
    },
    "language_info": {
      "name": "python"
    }
  },
  "cells": [
    {
      "cell_type": "markdown",
      "source": [
        "# Aplicación n-gramas: generación de frases «mañaneras»\n"
      ],
      "metadata": {
        "id": "6mflnmopSrcI"
      }
    },
    {
      "cell_type": "markdown",
      "source": [
        "Equipo 4:\n",
        "\n",
        "ALONDRA KAROLINA MONTAÑO PRECIADO\n",
        "\n",
        "RUBEN RAMON ROMERO BELTRAN\n",
        "\n",
        "JORGE ANDRES RASCON ACUÑA\n"
      ],
      "metadata": {
        "id": "bZ3IkKN40Ccu"
      }
    },
    {
      "cell_type": "markdown",
      "source": [
        "Recursos utilizados en este proyecto:\n",
        "\n",
        "\"Conferencias Matutinas del Presidente Andres Manuel López Obrador ( Mañaneras AMLO )\" por NOSTRODATA obtenido de https://github.com/NOSTRODATA/conferencias_matutinas_amlo licenciado bajo CC BY-NC-SA 4.0\n",
        "\n",
        "Exploratory Data Analysis for Natural Language Processing: A Complete Guide to Python Tools https://neptune.ai/blog/exploratory-data-analysis-natural-language-processing-tools\n",
        "\n",
        "NLTK Documentation https://www.nltk.org/api/nltk.lm.html"
      ],
      "metadata": {
        "id": "nhfao-lLzP7N"
      }
    },
    {
      "cell_type": "markdown",
      "source": [
        "Usando la transcripción de multiples mañaneras del Presidente Andres Manuel López Obrador, formaremos un algoritmo que cree una frase nueva que parezca real o (al menos) coherente."
      ],
      "metadata": {
        "id": "x0NRi7J1zMdv"
      }
    },
    {
      "cell_type": "markdown",
      "source": [
        "## Libreta 1: Obtención de Datos"
      ],
      "metadata": {
        "id": "Kp1i3j7QZyRc"
      }
    },
    {
      "cell_type": "code",
      "source": [
        "# Utilerīa de Conexión a Google Drive\n",
        "from google.colab import drive\n",
        "\n",
        "# Montamos carpeta de Drive al entorno local\n",
        "drive.mount('/content/drive')"
      ],
      "metadata": {
        "id": "cF355YCCGbeV",
        "colab": {
          "base_uri": "https://localhost:8080/"
        },
        "outputId": "8ca126e4-f75b-4c0e-9fae-796619d425d9"
      },
      "execution_count": null,
      "outputs": [
        {
          "output_type": "stream",
          "name": "stdout",
          "text": [
            "Mounted at /content/drive\n"
          ]
        }
      ]
    },
    {
      "cell_type": "code",
      "source": [
        "# Utilerīa para descomprimir archivos\n",
        "import zipfile\n",
        "\n",
        "# Descomprimimos y extraemos todos los archivos del .zip\n",
        "#   a una nueva carpeta llamada conferencias\n",
        "archivo = \"drive/MyDrive/conferencias_matutinas_amlo-master.zip\"\n",
        "with zipfile.ZipFile(archivo, 'r') as zip_ref:\n",
        "    zip_ref.extractall(\"conferencias\")"
      ],
      "metadata": {
        "id": "wLot0NQVetPY"
      },
      "execution_count": null,
      "outputs": []
    },
    {
      "cell_type": "code",
      "source": [
        "# Módulo de sistema operativo\n",
        "import os\n",
        "\n",
        "archivos = []\n",
        "nombre_archivo = \"PRESIDENTE ANDRES MANUEL LOPEZ OBRADOR.csv\"\n",
        "# Atravesamos la carpeta conferencias buscando archivos con el nombre\n",
        "#   indicado en la variable 'nombre_archivo', guardamos las rutas a todos\n",
        "#   los archivos en el arreglo 'archivos'\n",
        "for root, dirs, files in os.walk(\"conferencias\"):\n",
        "  for file in files:\n",
        "    if file == nombre_archivo:\n",
        "      archivos.append(os.path.join(root, file))"
      ],
      "metadata": {
        "id": "LTISFzZPgXRj"
      },
      "execution_count": null,
      "outputs": []
    },
    {
      "cell_type": "code",
      "source": [
        "# Utilerīa para manipular archivos csv\n",
        "import csv\n",
        "\n",
        "lineas_csv = []\n",
        "# Por cada ruta de archivo encontrada, abrimos el archivo como csv y\n",
        "#   guardamos cada linea del csv en el arreglo 'lineas_csv'\n",
        "for ar in archivos:\n",
        "  with open(ar, mode ='r') as file:\n",
        "    csvFile = csv.reader(file)\n",
        "    for lines in csvFile:\n",
        "      lineas_csv.append(lines)"
      ],
      "metadata": {
        "id": "0yfa0taeiGPh"
      },
      "execution_count": null,
      "outputs": []
    },
    {
      "cell_type": "code",
      "source": [
        "# Utilerīa de expresiones regulares\n",
        "import re\n",
        "\n",
        "# Abrimos (se crea si no existe) el archivo corpus.txt en modo escritura.\n",
        "with open('corpus.txt','w') as file:\n",
        "  # Escribimos encabezado del archivo servirá para pandas\n",
        "  file.write(\"Enunciados\\n\")\n",
        "  # Iteramos todas las lineas guardadas en formato csv de todos\n",
        "  #   los archivos previamente leidos\n",
        "  for linea_csv in lineas_csv:\n",
        "    # Escribimos al archivo corpus.txt, todos los enunciados atribuidos\n",
        "    #   al nombre de etiqueta del presidente\n",
        "    etiqueta = 'PRESIDENTE ANDRES MANUEL LOPEZ OBRADOR'\n",
        "    if (linea_csv[0] == etiqueta):\n",
        "      # Regex para quitar los ':'\n",
        "      line = re.sub(r\": \", \"\", linea_csv[1]) + \"\\n\"\n",
        "      file.write(line)"
      ],
      "metadata": {
        "id": "VVVcODLeifns"
      },
      "execution_count": null,
      "outputs": []
    },
    {
      "cell_type": "code",
      "source": [
        "# Solo es para verificar el formato de corpus.txt\n",
        "\n",
        "# Abrimos y leemos las primeras 'n' lineas de corpus.txt\n",
        "with open('corpus.txt','r') as file:\n",
        "  for i in range(5):\n",
        "    print(file.readline())"
      ],
      "metadata": {
        "colab": {
          "base_uri": "https://localhost:8080/"
        },
        "id": "GGBod46bZy7r",
        "outputId": "f5709563-6823-4b06-f5bd-94e3f5d96433"
      },
      "execution_count": null,
      "outputs": [
        {
          "output_type": "stream",
          "name": "stdout",
          "text": [
            "Enunciados\n",
            "\n",
            " Buenos días.\n",
            "\n",
            "Bueno, vamos a informar sobre la salud, como lo hacemos todos los martes, y también vamos a informar sobre las acciones para erradicar la violencia contra las mujeres, como corresponde también de manera periódica, cada mes nos toca informar sobre este importante tema.\n",
            "\n",
            "Entonces, vamos con el doctor Jorge Alcocer. Empezamos.\n",
            "\n",
            "También, antes de iniciar, continuamos con las comparecencias de los candidatos a la secretaría general del sindicato de Pemex, corresponde a cinco candidatas y candidatos exponer a partir de las ocho y media. Pero antes de las ocho y media, si terminan las compañeras, los compañeros, tenemos un tiempo para preguntas y respuestas.\n",
            "\n"
          ]
        }
      ]
    },
    {
      "cell_type": "markdown",
      "source": [
        "## Libreta 2: Preparación de los datos para el entrenamiento"
      ],
      "metadata": {
        "id": "VeXX0J4Fl2AS"
      }
    },
    {
      "cell_type": "markdown",
      "source": [
        "Estadisticas del texto"
      ],
      "metadata": {
        "id": "7_wGZWZ4tEtd"
      }
    },
    {
      "cell_type": "code",
      "source": [
        "# Utilería para manejar datos\n",
        "import pandas as pd\n",
        "\n",
        "df = pd.read_table(\"corpus.txt\", delimiter=\"\\n\")\n",
        "df.dropna(inplace = True)\n",
        "\n",
        "enunciados_lst = df['Enunciados'].tolist()\n",
        "palabras_lst = ' '.join(enunciados_lst).split(' ')\n",
        "palabras_lst = list(filter(None, palabras_lst))\n",
        "corpus = pd.DataFrame(palabras_lst, columns=['Palabras'])\n",
        "\n",
        "corpus['Palabras'].str.len().hist()\n",
        "corpus['Palabras'].str.split().map(lambda x: len(x)).hist()\n"
      ],
      "metadata": {
        "colab": {
          "base_uri": "https://localhost:8080/",
          "height": 293
        },
        "id": "PBvLzN7Yl9t3",
        "outputId": "b78f5ae6-619d-49df-acf2-0b06c13eca62"
      },
      "execution_count": null,
      "outputs": [
        {
          "output_type": "execute_result",
          "data": {
            "text/plain": [
              "<AxesSubplot:>"
            ]
          },
          "metadata": {},
          "execution_count": 55
        },
        {
          "output_type": "display_data",
          "data": {
            "text/plain": [
              "<Figure size 432x288 with 1 Axes>"
            ],
            "image/png": "[encoded data removed]"
          },
          "metadata": {
            "needs_background": "light"
          }
        }
      ]
    },
    {
      "cell_type": "code",
      "source": [
        "# Utilería para procesamiento de lenguaje natural\n",
        "import nltk\n",
        "from nltk.corpus import stopwords\n",
        "\n",
        "# Descargamos diccionario de stopwords\n",
        "#   y setteamos el idioma a español\n",
        "nltk.download('stopwords')\n",
        "stop = set(stopwords.words('spanish'))"
      ],
      "metadata": {
        "colab": {
          "base_uri": "https://localhost:8080/"
        },
        "id": "aaKned0yrHc9",
        "outputId": "378c4680-cd7d-43ef-e9be-aa7d9ba3d173"
      },
      "execution_count": null,
      "outputs": [
        {
          "output_type": "stream",
          "name": "stderr",
          "text": [
            "[nltk_data] Downloading package stopwords to /root/nltk_data...\n",
            "[nltk_data]   Package stopwords is already up-to-date!\n"
          ]
        }
      ]
    },
    {
      "cell_type": "code",
      "source": [
        "# Utilería para graficar datos\n",
        "import matplotlib.pyplot as plt\n",
        "# Utilería para estructurar diccionarios\n",
        "from collections import defaultdict\n",
        "\n",
        "# corpus = []\n",
        "dic = defaultdict(int)\n",
        "new = corpus['Palabras'].str.split()\n",
        "new = new.values.tolist()\n",
        "corpus_list = [word for i in new for word in i]\n",
        "\n",
        "for word in corpus_list:\n",
        "    if word in stop:\n",
        "        dic[word] += 1\n",
        "\n",
        "top = sorted(dic.items(), key = lambda x: x[1], reverse = True)[:10] \n",
        "x, y = zip(*top)\n",
        "plt.bar(x, y)"
      ],
      "metadata": {
        "colab": {
          "base_uri": "https://localhost:8080/",
          "height": 282
        },
        "id": "2iCGc5Lsrt_Q",
        "outputId": "14058d86-ac8c-4fb3-d7fa-8880e3dddc8b"
      },
      "execution_count": null,
      "outputs": [
        {
          "output_type": "execute_result",
          "data": {
            "text/plain": [
              "<BarContainer object of 10 artists>"
            ]
          },
          "metadata": {},
          "execution_count": 57
        },
        {
          "output_type": "display_data",
          "data": {
            "text/plain": [
              "<Figure size 432x288 with 1 Axes>"
            ],
            "image/png": "[encoded data removed]"
          },
          "metadata": {
            "needs_background": "light"
          }
        }
      ]
    },
    {
      "cell_type": "code",
      "source": [
        "# Utilería para estructurar contador de la coleccion\n",
        "from collections import Counter\n",
        "# Utilería para graficar\n",
        "import seaborn as sns\n",
        "\n",
        "counter = Counter(corpus_list)\n",
        "most = counter.most_common()\n",
        "\n",
        "x, y = [], []\n",
        "for word,count in most[:40]:\n",
        "    if (word not in stop):\n",
        "        x.append(word)\n",
        "        y.append(count)\n",
        "\n",
        "sns.barplot(x = y, y = x)"
      ],
      "metadata": {
        "colab": {
          "base_uri": "https://localhost:8080/",
          "height": 282
        },
        "id": "E_d9KZXwsrUm",
        "outputId": "9c2ddf87-1f21-40c0-aa66-3e9ffb255f2b"
      },
      "execution_count": null,
      "outputs": [
        {
          "output_type": "execute_result",
          "data": {
            "text/plain": [
              "<AxesSubplot:>"
            ]
          },
          "metadata": {},
          "execution_count": 58
        },
        {
          "output_type": "display_data",
          "data": {
            "text/plain": [
              "<Figure size 432x288 with 1 Axes>"
            ],
            "image/png": "[encoded data removed]"
          },
          "metadata": {
            "needs_background": "light"
          }
        }
      ]
    },
    {
      "cell_type": "markdown",
      "source": [
        "Exploración de ngramas"
      ],
      "metadata": {
        "id": "BiCOXcQGtJFe"
      }
    },
    {
      "cell_type": "code",
      "source": [
        "# Utilería para contar elementos vectorizados\n",
        "from sklearn.feature_extraction.text import CountVectorizer\n",
        "\n",
        "def calcular_ngramas(n):\n",
        "  vec = CountVectorizer(ngram_range=(n, n)).fit(corpus_list)\n",
        "  bag_of_words = vec.transform(corpus_list)\n",
        "  sum_words = bag_of_words.sum(axis=0)\n",
        "  words_freq = [(word, sum_words[0, idx]) for word, idx in vec.vocabulary_.items()]\n",
        "  words_freq = sorted(words_freq, key = lambda x: x[1], reverse = True)\n",
        "  return words_freq[:10]\n",
        "\n",
        "unigram_results = calcular_ngramas(1);\n",
        "bigram_results = calcular_ngramas(2);\n",
        "\n",
        "x,y = map(list,zip(*unigram_results))\n",
        "sns.barplot(x = y,y = x)\n",
        "\n",
        "x,y = map(list,zip(*bigram_results))\n",
        "sns.barplot(x = y,y = x)"
      ],
      "metadata": {
        "id": "Gk8TqI1mtVJu"
      },
      "execution_count": null,
      "outputs": []
    },
    {
      "cell_type": "markdown",
      "source": [
        "## Libreta 3: Entrenamiento de modelos"
      ],
      "metadata": {
        "id": "mqY_Co2JmeXu"
      }
    },
    {
      "cell_type": "code",
      "source": [
        "print(unigram_results[:5])\n",
        "print(bigram_results[:5])"
      ],
      "metadata": {
        "colab": {
          "base_uri": "https://localhost:8080/"
        },
        "id": "_KePLMcRo5lH",
        "outputId": "c2c947c9-ad93-48d1-8ff0-a23db53bb595"
      },
      "execution_count": null,
      "outputs": [
        {
          "output_type": "stream",
          "name": "stdout",
          "text": [
            "[('de', 248374), ('que', 231425), ('la', 161964), ('el', 136409), ('en', 115915)]\n",
            "[('lópez gatell', 316), ('imss bienestar', 182), ('dn iii', 107), ('lópez dóriga', 96), ('dicen no', 88)]\n"
          ]
        }
      ]
    },
    {
      "cell_type": "code",
      "source": [
        "import nltk\n",
        "from nltk.probability import FreqDist, ConditionalFreqDist\n",
        "import random\n",
        "from collections import Counter\n",
        "\n",
        "bigrams = nltk.bigrams(corpus_list)\n",
        "cfd = ConditionalFreqDist(bigrams)\n",
        "seed_text = random.choice(corpus_list)\n",
        "generated_text = seed_text\n",
        "\n",
        "# Generador de texto por frecuencia distribuida condicional\n",
        "for i in range(10):\n",
        "    next_word = cfd[seed_text].max()\n",
        "    generated_text += \" \" + next_word\n",
        "    seed_text = next_word\n",
        "print(generated_text + \".\")"
      ],
      "metadata": {
        "id": "DxSmPl6_nzSl",
        "colab": {
          "base_uri": "https://localhost:8080/"
        },
        "outputId": "c23fcf78-8047-4e72-e53d-b33820010961"
      },
      "execution_count": null,
      "outputs": [
        {
          "output_type": "stream",
          "name": "stdout",
          "text": [
            "Le voy a la gente que se va a la gente.\n"
          ]
        }
      ]
    },
    {
      "cell_type": "code",
      "source": [
        "# vectoriza el texto a tuplas de 3 elementos\n",
        "def markov_triples(words):\n",
        "  for i in range(len(words) - 2):\n",
        "        yield (words[i], words[i+1], words[i+2])\n",
        "\n",
        "cache = {}\n",
        "word_size = len(corpus_list)\n",
        "\n",
        "# recorremos las tuplas y vectorizamos en una nueva llave\n",
        "# los primeros dos elementos, para crear efecto de recorrimiento\n",
        "for w1, w2, w3 in markov_triples(corpus_list):\n",
        "      key = (w1, w2)\n",
        "      if key in cache:\n",
        "        cache[key].append(w3)\n",
        "      else:\n",
        "        cache[key] = [w3]\n",
        "\n",
        "# funcion de generacion de texto por medio de markov\n",
        "def generate_markov_text(size = 10):\n",
        "    seed = random.randint(0, word_size - 3)\n",
        "    seed_word, next_word = corpus_list[seed], corpus_list[seed + 1]\n",
        "    w1, w2 = seed_word, next_word\n",
        "    gen_words = []\n",
        "    for i in range(size):\n",
        "      gen_words.append(w1)\n",
        "      w1, w2 = w2, random.choice(cache[(w1, w2)])\n",
        "    gen_words.append(w2)\n",
        "    return ' '.join(gen_words)"
      ],
      "metadata": {
        "colab": {
          "base_uri": "https://localhost:8080/"
        },
        "id": "odbNRH61tGKR",
        "outputId": "4ec7a6a3-8741-4af4-e29b-a22c3ddbc855"
      },
      "execution_count": null,
      "outputs": [
        {
          "output_type": "stream",
          "name": "stdout",
          "text": [
            "somos independientes y no por gusto. Pero fíjense, qué bien me\n"
          ]
        }
      ]
    },
    {
      "cell_type": "code",
      "source": [
        "print(generate_markov_text(8))\n",
        "print(generate_markov_text(16))\n",
        "print(generate_markov_text(20))"
      ],
      "metadata": {
        "colab": {
          "base_uri": "https://localhost:8080/"
        },
        "id": "Hmlnp403vojh",
        "outputId": "fd7fd567-05ae-44b4-adf0-a6670a379124"
      },
      "execution_count": null,
      "outputs": [
        {
          "output_type": "stream",
          "name": "stdout",
          "text": [
            "posibilidad de expresarnos. Cuando yo termine -si me iban\n",
            "Mira la importancia que tienen los contenidos, porque también ahí está la política si no iba ser\n",
            "de gente muy esperanzada. Y no sé si tienes, porque se va a haber 21 sucursales, son muy buenos, ¿eh?, muy\n"
          ]
        }
      ]
    },
    {
      "cell_type": "code",
      "source": [
        "%%shell\n",
        "jupyter nbconvert --to html /content/Frases_AMLO.ipynb"
      ],
      "metadata": {
        "colab": {
          "base_uri": "https://localhost:8080/"
        },
        "id": "BMcry61DzZq9",
        "outputId": "fba4d5bb-093e-4d76-883e-0c9194ab2845"
      },
      "execution_count": null,
      "outputs": [
        {
          "output_type": "stream",
          "name": "stdout",
          "text": [
            "[NbConvertApp] Converting notebook /content/Frases_AMLO.ipynb to html\n",
            "[NbConvertApp] Writing 639613 bytes to /content/Frases_AMLO.html\n"
          ]
        },
        {
          "output_type": "execute_result",
          "data": {
            "text/plain": []
          },
          "metadata": {},
          "execution_count": 86
        }
      ]
    }
  ]
}